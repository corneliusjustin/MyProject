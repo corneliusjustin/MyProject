{
  "nbformat": 4,
  "nbformat_minor": 0,
  "metadata": {
    "colab": {
      "name": "Cornelius Justin Satryo Hadi_2006529796_B_Tugas2PrakSainsData",
      "provenance": [],
      "toc_visible": true,
      "collapsed_sections": [
        "FuZBb_EJbQkA",
        "1GKNpAuNdZUx",
        "TN41YITJeJWj",
        "Z5tfCUjCjhJK",
        "UZmNhXbbkY9R",
        "y0ni3OvBk_5j"
      ]
    },
    "kernelspec": {
      "name": "python3",
      "display_name": "Python 3"
    },
    "language_info": {
      "name": "python"
    }
  },
  "cells": [
    {
      "cell_type": "code",
      "execution_count": null,
      "metadata": {
        "id": "YWQmsLQoK41j"
      },
      "outputs": [],
      "source": [
        "import numpy as np\n",
        "import pandas as pd\n",
        "import matplotlib.pyplot as plt\n",
        "import seaborn as sns\n",
        "from sklearn.model_selection import train_test_split\n",
        "from sklearn.model_selection import RandomizedSearchCV\n",
        "from sklearn.model_selection import cross_val_score\n",
        "from sklearn.metrics import classification_report\n",
        "from sklearn.preprocessing import OrdinalEncoder\n",
        "from sklearn.preprocessing import StandardScaler\n",
        "from sklearn.inspection import permutation_importance\n",
        "from tensorflow import keras\n",
        "from keras.wrappers.scikit_learn import KerasClassifier"
      ]
    },
    {
      "cell_type": "markdown",
      "source": [
        "Import package yang dibutuhkan"
      ],
      "metadata": {
        "id": "oJ7akVRy3Coc"
      }
    },
    {
      "cell_type": "code",
      "source": [
        "# Package untuk mengabaikan warning\n",
        "import warnings\n",
        "warnings.filterwarnings(\"ignore\", category=DeprecationWarning)\n",
        "warnings.filterwarnings(\"ignore\", category=FutureWarning)"
      ],
      "metadata": {
        "id": "WTGuf4v2Lpen"
      },
      "execution_count": null,
      "outputs": []
    },
    {
      "cell_type": "markdown",
      "source": [
        "# No 1"
      ],
      "metadata": {
        "id": "Mp3IZZLtdyzV"
      }
    },
    {
      "cell_type": "markdown",
      "source": [
        "## Data Exploration"
      ],
      "metadata": {
        "id": "Er6gqypl3IFZ"
      }
    },
    {
      "cell_type": "code",
      "source": [
        "# Membaca .txt tentang kolom - kolom dataset yang diberikan pada soal\n",
        "with open('/content/about dataset.txt', 'r') as f:\n",
        "  print(f.read())"
      ],
      "metadata": {
        "colab": {
          "base_uri": "https://localhost:8080/"
        },
        "id": "Sv1FTbz-Lh_r",
        "outputId": "5a3cf225-12c9-4d83-b1ff-7459baa88d79"
      },
      "execution_count": null,
      "outputs": [
        {
          "output_type": "stream",
          "name": "stdout",
          "text": [
            "About datasets\n",
            "1. age - age in years \n",
            "2. sex - sex (1 = male; 0 = female) \n",
            "3. cp - chest pain type (1 = typical angina; 2 = atypical angina; 3 = non-anginal pain; 0 = asymptomatic) \n",
            "4. trestbps - resting blood pressure (in mm Hg on admission to the hospital) \n",
            "5. chol - serum cholestoral in mg/dl \n",
            "6. fbs - fasting blood sugar > 120 mg/dl (1 = true; 0 = false) \n",
            "7. restecg - resting electrocardiographic results (1 = normal; 2 = having ST-T wave abnormality; 0 = hypertrophy) \n",
            "8. thalach - maximum heart rate achieved \n",
            "9. exang - exercise induced angina (1 = yes; 0 = no) \n",
            "10. oldpeak - ST depression induced by exercise relative to rest \n",
            "11. slope - the slope of the peak exercise ST segment (2 = upsloping; 1 = flat; 0 = downsloping) \n",
            "12. ca - number of major vessels (0-3) colored by flourosopy \n",
            "13. thal - 2 = normal; 1 = fixed defect; 3 = reversable defect \n",
            "14. output - the predicted attribute - diagnosis of heart disease (0 = less chance of heart attack, 1 = higher chance of heart attack)\n",
            "\n"
          ]
        }
      ]
    },
    {
      "cell_type": "code",
      "source": [
        "heart_data = pd.read_csv('/content/heart.csv')  # inisiasi data heart.csv pada variabel heart_data\n",
        "heart_data.head()                               # melihat 5 baris awal heart_data"
      ],
      "metadata": {
        "colab": {
          "base_uri": "https://localhost:8080/",
          "height": 206
        },
        "id": "aRy5bgiSMBXR",
        "outputId": "6a58f10f-1e0a-43e0-822e-523c4a7f8138"
      },
      "execution_count": null,
      "outputs": [
        {
          "output_type": "execute_result",
          "data": {
            "text/plain": [
              "   age  sex  cp  trtbps  chol  fbs  restecg  thalachh  exng  oldpeak  slp  \\\n",
              "0   63    1   3     145   233    1        0       150     0      2.3    0   \n",
              "1   37    1   2     130   250    0        1       187     0      3.5    0   \n",
              "2   41    0   1     130   204    0        0       172     0      1.4    2   \n",
              "3   56    1   1     120   236    0        1       178     0      0.8    2   \n",
              "4   57    0   0     120   354    0        1       163     1      0.6    2   \n",
              "\n",
              "   caa  thall  output  \n",
              "0    0      1       1  \n",
              "1    0      2       1  \n",
              "2    0      2       1  \n",
              "3    0      2       1  \n",
              "4    0      2       1  "
            ],
            "text/html": [
              "\n",
              "  <div id=\"df-5419901a-acfe-486d-b97c-4de6ecba875a\">\n",
              "    <div class=\"colab-df-container\">\n",
              "      <div>\n",
              "<style scoped>\n",
              "    .dataframe tbody tr th:only-of-type {\n",
              "        vertical-align: middle;\n",
              "    }\n",
              "\n",
              "    .dataframe tbody tr th {\n",
              "        vertical-align: top;\n",
              "    }\n",
              "\n",
              "    .dataframe thead th {\n",
              "        text-align: right;\n",
              "    }\n",
              "</style>\n",
              "<table border=\"1\" class=\"dataframe\">\n",
              "  <thead>\n",
              "    <tr style=\"text-align: right;\">\n",
              "      <th></th>\n",
              "      <th>age</th>\n",
              "      <th>sex</th>\n",
              "      <th>cp</th>\n",
              "      <th>trtbps</th>\n",
              "      <th>chol</th>\n",
              "      <th>fbs</th>\n",
              "      <th>restecg</th>\n",
              "      <th>thalachh</th>\n",
              "      <th>exng</th>\n",
              "      <th>oldpeak</th>\n",
              "      <th>slp</th>\n",
              "      <th>caa</th>\n",
              "      <th>thall</th>\n",
              "      <th>output</th>\n",
              "    </tr>\n",
              "  </thead>\n",
              "  <tbody>\n",
              "    <tr>\n",
              "      <th>0</th>\n",
              "      <td>63</td>\n",
              "      <td>1</td>\n",
              "      <td>3</td>\n",
              "      <td>145</td>\n",
              "      <td>233</td>\n",
              "      <td>1</td>\n",
              "      <td>0</td>\n",
              "      <td>150</td>\n",
              "      <td>0</td>\n",
              "      <td>2.3</td>\n",
              "      <td>0</td>\n",
              "      <td>0</td>\n",
              "      <td>1</td>\n",
              "      <td>1</td>\n",
              "    </tr>\n",
              "    <tr>\n",
              "      <th>1</th>\n",
              "      <td>37</td>\n",
              "      <td>1</td>\n",
              "      <td>2</td>\n",
              "      <td>130</td>\n",
              "      <td>250</td>\n",
              "      <td>0</td>\n",
              "      <td>1</td>\n",
              "      <td>187</td>\n",
              "      <td>0</td>\n",
              "      <td>3.5</td>\n",
              "      <td>0</td>\n",
              "      <td>0</td>\n",
              "      <td>2</td>\n",
              "      <td>1</td>\n",
              "    </tr>\n",
              "    <tr>\n",
              "      <th>2</th>\n",
              "      <td>41</td>\n",
              "      <td>0</td>\n",
              "      <td>1</td>\n",
              "      <td>130</td>\n",
              "      <td>204</td>\n",
              "      <td>0</td>\n",
              "      <td>0</td>\n",
              "      <td>172</td>\n",
              "      <td>0</td>\n",
              "      <td>1.4</td>\n",
              "      <td>2</td>\n",
              "      <td>0</td>\n",
              "      <td>2</td>\n",
              "      <td>1</td>\n",
              "    </tr>\n",
              "    <tr>\n",
              "      <th>3</th>\n",
              "      <td>56</td>\n",
              "      <td>1</td>\n",
              "      <td>1</td>\n",
              "      <td>120</td>\n",
              "      <td>236</td>\n",
              "      <td>0</td>\n",
              "      <td>1</td>\n",
              "      <td>178</td>\n",
              "      <td>0</td>\n",
              "      <td>0.8</td>\n",
              "      <td>2</td>\n",
              "      <td>0</td>\n",
              "      <td>2</td>\n",
              "      <td>1</td>\n",
              "    </tr>\n",
              "    <tr>\n",
              "      <th>4</th>\n",
              "      <td>57</td>\n",
              "      <td>0</td>\n",
              "      <td>0</td>\n",
              "      <td>120</td>\n",
              "      <td>354</td>\n",
              "      <td>0</td>\n",
              "      <td>1</td>\n",
              "      <td>163</td>\n",
              "      <td>1</td>\n",
              "      <td>0.6</td>\n",
              "      <td>2</td>\n",
              "      <td>0</td>\n",
              "      <td>2</td>\n",
              "      <td>1</td>\n",
              "    </tr>\n",
              "  </tbody>\n",
              "</table>\n",
              "</div>\n",
              "      <button class=\"colab-df-convert\" onclick=\"convertToInteractive('df-5419901a-acfe-486d-b97c-4de6ecba875a')\"\n",
              "              title=\"Convert this dataframe to an interactive table.\"\n",
              "              style=\"display:none;\">\n",
              "        \n",
              "  <svg xmlns=\"http://www.w3.org/2000/svg\" height=\"24px\"viewBox=\"0 0 24 24\"\n",
              "       width=\"24px\">\n",
              "    <path d=\"M0 0h24v24H0V0z\" fill=\"none\"/>\n",
              "    <path d=\"M18.56 5.44l.94 2.06.94-2.06 2.06-.94-2.06-.94-.94-2.06-.94 2.06-2.06.94zm-11 1L8.5 8.5l.94-2.06 2.06-.94-2.06-.94L8.5 2.5l-.94 2.06-2.06.94zm10 10l.94 2.06.94-2.06 2.06-.94-2.06-.94-.94-2.06-.94 2.06-2.06.94z\"/><path d=\"M17.41 7.96l-1.37-1.37c-.4-.4-.92-.59-1.43-.59-.52 0-1.04.2-1.43.59L10.3 9.45l-7.72 7.72c-.78.78-.78 2.05 0 2.83L4 21.41c.39.39.9.59 1.41.59.51 0 1.02-.2 1.41-.59l7.78-7.78 2.81-2.81c.8-.78.8-2.07 0-2.86zM5.41 20L4 18.59l7.72-7.72 1.47 1.35L5.41 20z\"/>\n",
              "  </svg>\n",
              "      </button>\n",
              "      \n",
              "  <style>\n",
              "    .colab-df-container {\n",
              "      display:flex;\n",
              "      flex-wrap:wrap;\n",
              "      gap: 12px;\n",
              "    }\n",
              "\n",
              "    .colab-df-convert {\n",
              "      background-color: #E8F0FE;\n",
              "      border: none;\n",
              "      border-radius: 50%;\n",
              "      cursor: pointer;\n",
              "      display: none;\n",
              "      fill: #1967D2;\n",
              "      height: 32px;\n",
              "      padding: 0 0 0 0;\n",
              "      width: 32px;\n",
              "    }\n",
              "\n",
              "    .colab-df-convert:hover {\n",
              "      background-color: #E2EBFA;\n",
              "      box-shadow: 0px 1px 2px rgba(60, 64, 67, 0.3), 0px 1px 3px 1px rgba(60, 64, 67, 0.15);\n",
              "      fill: #174EA6;\n",
              "    }\n",
              "\n",
              "    [theme=dark] .colab-df-convert {\n",
              "      background-color: #3B4455;\n",
              "      fill: #D2E3FC;\n",
              "    }\n",
              "\n",
              "    [theme=dark] .colab-df-convert:hover {\n",
              "      background-color: #434B5C;\n",
              "      box-shadow: 0px 1px 3px 1px rgba(0, 0, 0, 0.15);\n",
              "      filter: drop-shadow(0px 1px 2px rgba(0, 0, 0, 0.3));\n",
              "      fill: #FFFFFF;\n",
              "    }\n",
              "  </style>\n",
              "\n",
              "      <script>\n",
              "        const buttonEl =\n",
              "          document.querySelector('#df-5419901a-acfe-486d-b97c-4de6ecba875a button.colab-df-convert');\n",
              "        buttonEl.style.display =\n",
              "          google.colab.kernel.accessAllowed ? 'block' : 'none';\n",
              "\n",
              "        async function convertToInteractive(key) {\n",
              "          const element = document.querySelector('#df-5419901a-acfe-486d-b97c-4de6ecba875a');\n",
              "          const dataTable =\n",
              "            await google.colab.kernel.invokeFunction('convertToInteractive',\n",
              "                                                     [key], {});\n",
              "          if (!dataTable) return;\n",
              "\n",
              "          const docLinkHtml = 'Like what you see? Visit the ' +\n",
              "            '<a target=\"_blank\" href=https://colab.research.google.com/notebooks/data_table.ipynb>data table notebook</a>'\n",
              "            + ' to learn more about interactive tables.';\n",
              "          element.innerHTML = '';\n",
              "          dataTable['output_type'] = 'display_data';\n",
              "          await google.colab.output.renderOutput(dataTable, element);\n",
              "          const docLink = document.createElement('div');\n",
              "          docLink.innerHTML = docLinkHtml;\n",
              "          element.appendChild(docLink);\n",
              "        }\n",
              "      </script>\n",
              "    </div>\n",
              "  </div>\n",
              "  "
            ]
          },
          "metadata": {},
          "execution_count": 6
        }
      ]
    },
    {
      "cell_type": "code",
      "source": [
        "heart_data.info() # cek jumlah baris, kolom, tipe data, dan null values"
      ],
      "metadata": {
        "colab": {
          "base_uri": "https://localhost:8080/"
        },
        "id": "VVyC-s1pMFR1",
        "outputId": "821e22a8-9e9c-4af3-81f5-4d7811bf28d3"
      },
      "execution_count": null,
      "outputs": [
        {
          "output_type": "stream",
          "name": "stdout",
          "text": [
            "<class 'pandas.core.frame.DataFrame'>\n",
            "RangeIndex: 303 entries, 0 to 302\n",
            "Data columns (total 14 columns):\n",
            " #   Column    Non-Null Count  Dtype  \n",
            "---  ------    --------------  -----  \n",
            " 0   age       303 non-null    int64  \n",
            " 1   sex       303 non-null    int64  \n",
            " 2   cp        303 non-null    int64  \n",
            " 3   trtbps    303 non-null    int64  \n",
            " 4   chol      303 non-null    int64  \n",
            " 5   fbs       303 non-null    int64  \n",
            " 6   restecg   303 non-null    int64  \n",
            " 7   thalachh  303 non-null    int64  \n",
            " 8   exng      303 non-null    int64  \n",
            " 9   oldpeak   303 non-null    float64\n",
            " 10  slp       303 non-null    int64  \n",
            " 11  caa       303 non-null    int64  \n",
            " 12  thall     303 non-null    int64  \n",
            " 13  output    303 non-null    int64  \n",
            "dtypes: float64(1), int64(13)\n",
            "memory usage: 33.3 KB\n"
          ]
        }
      ]
    },
    {
      "cell_type": "markdown",
      "source": [
        "Didapatkan bahwa heart_data memiliki 303 baris dan 14 kolom, dimana tiap kolomnya adalah bertipe numerik, serta tidak terdapat null values pada data"
      ],
      "metadata": {
        "id": "KDOcJ9XUMPiT"
      }
    },
    {
      "cell_type": "code",
      "source": [
        "heart_data.output.unique()  # melihat banyaknya class dan apa saja class pada heart_data "
      ],
      "metadata": {
        "colab": {
          "base_uri": "https://localhost:8080/"
        },
        "id": "X3hVMqxhtU1l",
        "outputId": "e4f554ee-fe3c-4579-e3f0-bdfbd14d04ec"
      },
      "execution_count": null,
      "outputs": [
        {
          "output_type": "execute_result",
          "data": {
            "text/plain": [
              "array([1, 0])"
            ]
          },
          "metadata": {},
          "execution_count": 8
        }
      ]
    },
    {
      "cell_type": "code",
      "source": [
        "heart_data.output.value_counts()  # cek apakah data balanced atau tidak"
      ],
      "metadata": {
        "colab": {
          "base_uri": "https://localhost:8080/"
        },
        "id": "a8z4wX8KEUG7",
        "outputId": "1ff7571c-14ec-4cd7-8cbf-1f88ed35d3c9"
      },
      "execution_count": null,
      "outputs": [
        {
          "output_type": "execute_result",
          "data": {
            "text/plain": [
              "1    165\n",
              "0    138\n",
              "Name: output, dtype: int64"
            ]
          },
          "metadata": {},
          "execution_count": 9
        }
      ]
    },
    {
      "cell_type": "markdown",
      "source": [
        "Karena perbedaan data dengan value 1 dan data dengan value 0 tidak terlalu besar (cukup seimbang), maka saya menyimpulkan dataset heart_data cukup balanced "
      ],
      "metadata": {
        "id": "hkGWFj3TMuNL"
      }
    },
    {
      "cell_type": "code",
      "source": [
        "pd.plotting.scatter_matrix(heart_data[['age', 'trtbps', 'chol', 'thalachh', 'oldpeak']], figsize=(15,12)) # plot data yang numerik dan kontinu\n",
        "plt.show()"
      ],
      "metadata": {
        "colab": {
          "base_uri": "https://localhost:8080/",
          "height": 719
        },
        "id": "mWlSdChROaU-",
        "outputId": "af0aca40-ef6d-48ab-bc18-2e5c715a0f6b"
      },
      "execution_count": null,
      "outputs": [
        {
          "output_type": "display_data",
          "data": {
            "text/plain": [
              "<Figure size 1080x864 with 25 Axes>"
            ],
            "image/png": "[encoded data removed]"
          },
          "metadata": {
            "needs_background": "light"
          }
        }
      ]
    },
    {
      "cell_type": "markdown",
      "source": [
        "Plot diatas saya ingin melihat korelasi antara fitur - fitur yang numerik dan kontinu, melalui scatter plot, serta range nilai datanya melalui histogramnya.\n",
        "\n",
        "Melalui scatter plot dapat kita lihat bahwa kita belum bisa menyimpulkan  korelasi antara fitur - fitur, karena persebarannya sebagian besar sangat acak. Melalui histogram dapat dilihat bahwa range nilainya cukup berjauhan (oldpeak 0 sampai 6, sedangkan chol 100 sampai 500+), sehingga perlu dilakukan standarisasi pada data numerik nantinya dengan StandardScaler"
      ],
      "metadata": {
        "id": "FIW2guCIOhTC"
      }
    },
    {
      "cell_type": "markdown",
      "source": [
        "## Split train dan test set"
      ],
      "metadata": {
        "id": "2l-nj-yy3VAi"
      }
    },
    {
      "cell_type": "code",
      "source": [
        "X = heart_data.drop('output', axis=1).values # menyimpan predictor variable pada X dalam bentuk numpy array\n",
        "y = heart_data['output'].values              # menyimpan target variable pada y dalam bentuk numpy array"
      ],
      "metadata": {
        "id": "QHjPPSsZKdlO"
      },
      "execution_count": null,
      "outputs": []
    },
    {
      "cell_type": "code",
      "source": [
        "X_train, X_test, y_train, y_test = train_test_split(X, y, test_size=0.2)  # split train dan test set, dengan test size sebesar 20% dari banyak data aslinya\n",
        "X_train.shape, X_test.shape, y_train.shape, y_test.shape                  # cek banyaknya train dan test set"
      ],
      "metadata": {
        "colab": {
          "base_uri": "https://localhost:8080/"
        },
        "id": "YsnK7j1VLdBp",
        "outputId": "6f090425-63fd-4953-f345-583595ef60f5"
      },
      "execution_count": null,
      "outputs": [
        {
          "output_type": "execute_result",
          "data": {
            "text/plain": [
              "((242, 13), (61, 13), (242,), (61,))"
            ]
          },
          "metadata": {},
          "execution_count": 49
        }
      ]
    },
    {
      "cell_type": "markdown",
      "source": [
        "Data displit dengan perbandingan 80(train):20(test). Diperoleh 242 training set dan 61 test set. Karena pada training set jumlah sample cukup sedikit (hanya 242) maka saya tidak mesplit lagi menjadi validation set. Namun, nantinya akan digunakan metode cross validation"
      ],
      "metadata": {
        "id": "pZdJyVH6XlmL"
      }
    },
    {
      "cell_type": "markdown",
      "source": [
        "## Data preprocessing"
      ],
      "metadata": {
        "id": "pBVeWnSF3TVQ"
      }
    },
    {
      "cell_type": "code",
      "source": [
        "std_scale = StandardScaler()\n",
        "X_train_prepared = std_scale.fit_transform(X_train) # standarisasi X_train dan disimpan pada variabel X_train_prepared"
      ],
      "metadata": {
        "id": "0GLo85GVO6Ej"
      },
      "execution_count": null,
      "outputs": []
    },
    {
      "cell_type": "markdown",
      "source": [
        "Karena pada visualisasi sebelumnya, range nilai antara predictor variabel cukup berbeda, maka perlu dilakukan standarisasi.\n",
        "\n",
        "Standarisasi diatas saya lakukan terpisah antara X_train dan X_test, karena X_test saya anggap sebagai data baru yang belum pernah dilihat sebelumnya. Sehingga std_scale nantinya hanya mentransform (tidak memfit) X_test, dan fit hanya dilakukan pada X_train"
      ],
      "metadata": {
        "id": "dZ4f2SxzZkir"
      }
    },
    {
      "cell_type": "markdown",
      "source": [
        "## Modelling"
      ],
      "metadata": {
        "id": "OhtGUKNeOl6-"
      }
    },
    {
      "cell_type": "code",
      "source": [
        "# Function untuk membuat model\n",
        "def build_model(n_neurons=(10,10), learning_rate=1e-3, activation_hidden='sigmoid'):\n",
        "  model = keras.models.Sequential()                                                     # inisiasi arsitektur model\n",
        "  model.add(keras.layers.InputLayer(input_shape=[13]))                                  # input layer\n",
        "  for i in range(len(n_neurons)):                                                       # hidden layer\n",
        "    model.add(keras.layers.Dense(n_neurons[i], activation=activation_hidden))\n",
        "  model.add(keras.layers.Dense(1, activation='sigmoid'))                                # output layer\n",
        "  optimizer = keras.optimizers.Adam(learning_rate=learning_rate)                        # optimizer yang akan digunakan\n",
        "  model.compile(loss='binary_crossentropy', optimizer=optimizer,                        # compiling model\n",
        "                metrics='accuracy')\n",
        "  return model"
      ],
      "metadata": {
        "id": "9t7PP311OmrZ"
      },
      "execution_count": null,
      "outputs": []
    },
    {
      "cell_type": "markdown",
      "source": [
        "Didefinisikan function build_model untuk membuat model, yang mengambil 3 argumen, yaitu n_neurons (jumlah hidden layer dan jumlah neuron pada masing - masing hidden layer, berbentuk tuple, dimana length dari tuple adalah banyaknya hidden layer dan nilai-nilai pada tuple adalah neurons pada hidden layer ke-index yang bersesuaian), learning_rate (learning rate saat proses learning algorithm), dan activation_hidden (fungsi aktivasi di hidden layer)\n",
        "\n",
        "Pada function dibuat arsitektur model Sequential dengan input layer yang memiliki 13 neurons (karena terdapat 13 fitur pada predictor variable), hidden layer sebanyak yang didefinisikan user, dan output layer yang memiliki 1 neuron dengan fungsi aktivasi sigmoid. Model menggunakan cost function binary cross entropy/log loss, optimizer adam, dan metrik evaluasinya adalah akurasi.\n",
        "\n",
        "Inisiasi awal model menggunakan 2 hidden layer dengan 10 neurons pada masing - masing hidden layer, learning rate = 0.001, fungsi aktivasi di hidden layer = sigmoid."
      ],
      "metadata": {
        "id": "MDwczIeCYV81"
      }
    },
    {
      "cell_type": "code",
      "source": [
        "# Wrapper model agar dapat dilakukan hyperparameter tuning dengan library scikit-learn\n",
        "model = KerasClassifier(build_model, epochs=50, verbose=0)"
      ],
      "metadata": {
        "id": "L2nCTUpvQ649"
      },
      "execution_count": null,
      "outputs": []
    },
    {
      "cell_type": "markdown",
      "source": [
        "Untuk tuning hyperparameter saya menggunakan library dari scikit-learn, yaitu RandomizedSearchCV (metode hyperparameter tuning randomized search), karena menurut saya lebih mudah digunakan, tetapi kelemahannya model perlu di-wrap terlebih dahulu dengan KerasClassifier (atau KerasRegressor untuk model regresi) sehingga nantinya dapat dituning dengan RandomizedSearchCV."
      ],
      "metadata": {
        "id": "5z-9oor3ZqqM"
      }
    },
    {
      "cell_type": "code",
      "source": [
        "# Cross validation untuk melihat akurasi yang didapat dari model dengan hyperparameter sebelum dituning\n",
        "cv_mean_accuracy = cross_val_score(model, X_train_prepared, y_train, cv=5, scoring='accuracy').mean()\n",
        "cv_mean_accuracy"
      ],
      "metadata": {
        "colab": {
          "base_uri": "https://localhost:8080/"
        },
        "id": "7v5a41mEQ8c2",
        "outputId": "358de901-ab08-4556-9d0c-72990520686d"
      },
      "execution_count": null,
      "outputs": [
        {
          "output_type": "execute_result",
          "data": {
            "text/plain": [
              "0.8183673469387756"
            ]
          },
          "metadata": {},
          "execution_count": 66
        }
      ]
    },
    {
      "cell_type": "markdown",
      "source": [
        "Dengan 2 hidden layer dimana terdapat 10 neurons pada masing - masing hidden layer, learning rate 0.001, fungsi aktivasi di hidden layer = sigmoid, dan epochs = 50, diperoleh akurasi sebesar 81,83%"
      ],
      "metadata": {
        "id": "MQjvACgobBiN"
      }
    },
    {
      "cell_type": "markdown",
      "source": [
        "### Hyperparameter Tuning"
      ],
      "metadata": {
        "id": "FuZBb_EJbQkA"
      }
    },
    {
      "cell_type": "code",
      "source": [
        "# tuning hyperparameter dengan randomized search\n",
        "params = {'n_neurons':[(10,), (10,10), (15,), (15,10), (20,), (20,15),      # list parameter yang akan ditune\n",
        "                       (30,), (30,20), (50,), (50,30), (70,), (70,50), \n",
        "                       (100,), (100,70)],\n",
        "          'learning_rate':[1e-4, 1e-3, 1e-2],\n",
        "          'activation_hidden':['relu','sigmoid','tanh'],\n",
        "          'epochs':[50, 100, 150],\n",
        "          'batch_size':[32, 48, 64]}\n",
        "\n",
        "rand_search = RandomizedSearchCV(model, params, cv=5, scoring='accuracy',   # inisiasi randomized search dengan cross validation (cv) 5-folds dan jumlah iterasi (n_iter) = 100\n",
        "                                 n_iter=100, verbose=2)                     #n_iter adalah jumlah berapa banyak hyperparameter yang akan dituning (secara random)\n",
        "rand_search.fit(X_train_prepared, y_train, verbose=0)                       # proses tuning"
      ],
      "metadata": {
        "colab": {
          "base_uri": "https://localhost:8080/"
        },
        "collapsed": true,
        "id": "XaOejvKiUWft",
        "outputId": "9a6c316a-e2b9-4b6f-a6ae-d91b3e288b18"
      },
      "execution_count": null,
      "outputs": [
        {
          "output_type": "stream",
          "name": "stdout",
          "text": [
            "Fitting 5 folds for each of 100 candidates, totalling 500 fits\n",
            "[CV] END activation_hidden=tanh, batch_size=64, epochs=150, learning_rate=0.01, n_neurons=(10,); total time=   1.9s\n",
            "[CV] END activation_hidden=tanh, batch_size=64, epochs=150, learning_rate=0.01, n_neurons=(10,); total time=   1.6s\n",
            "[CV] END activation_hidden=tanh, batch_size=64, epochs=150, learning_rate=0.01, n_neurons=(10,); total time=   3.1s\n",
            "[CV] END activation_hidden=tanh, batch_size=64, epochs=150, learning_rate=0.01, n_neurons=(10,); total time=   1.7s\n",
            "[CV] END activation_hidden=tanh, batch_size=64, epochs=150, learning_rate=0.01, n_neurons=(10,); total time=   1.9s\n",
            "[CV] END activation_hidden=relu, batch_size=32, epochs=150, learning_rate=0.01, n_neurons=(10,); total time=   3.7s\n",
            "[CV] END activation_hidden=relu, batch_size=32, epochs=150, learning_rate=0.01, n_neurons=(10,); total time=   3.2s\n",
            "[CV] END activation_hidden=relu, batch_size=32, epochs=150, learning_rate=0.01, n_neurons=(10,); total time=   2.1s\n",
            "[CV] END activation_hidden=relu, batch_size=32, epochs=150, learning_rate=0.01, n_neurons=(10,); total time=   2.1s\n",
            "[CV] END activation_hidden=relu, batch_size=32, epochs=150, learning_rate=0.01, n_neurons=(10,); total time=   2.1s\n",
            "[CV] END activation_hidden=tanh, batch_size=48, epochs=150, learning_rate=0.001, n_neurons=(20, 15); total time=   1.8s\n",
            "[CV] END activation_hidden=tanh, batch_size=48, epochs=150, learning_rate=0.001, n_neurons=(20, 15); total time=   1.9s\n",
            "[CV] END activation_hidden=tanh, batch_size=48, epochs=150, learning_rate=0.001, n_neurons=(20, 15); total time=   2.0s\n",
            "[CV] END activation_hidden=tanh, batch_size=48, epochs=150, learning_rate=0.001, n_neurons=(20, 15); total time=   1.9s\n",
            "[CV] END activation_hidden=tanh, batch_size=48, epochs=150, learning_rate=0.001, n_neurons=(20, 15); total time=   1.9s\n",
            "[CV] END activation_hidden=relu, batch_size=32, epochs=50, learning_rate=0.0001, n_neurons=(50, 30); total time=   1.2s\n",
            "[CV] END activation_hidden=relu, batch_size=32, epochs=50, learning_rate=0.0001, n_neurons=(50, 30); total time=   1.2s\n",
            "[CV] END activation_hidden=relu, batch_size=32, epochs=50, learning_rate=0.0001, n_neurons=(50, 30); total time=   1.2s\n",
            "[CV] END activation_hidden=relu, batch_size=32, epochs=50, learning_rate=0.0001, n_neurons=(50, 30); total time=   1.2s\n",
            "[CV] END activation_hidden=relu, batch_size=32, epochs=50, learning_rate=0.0001, n_neurons=(50, 30); total time=   1.3s\n",
            "[CV] END activation_hidden=sigmoid, batch_size=32, epochs=150, learning_rate=0.0001, n_neurons=(10,); total time=   3.7s\n",
            "[CV] END activation_hidden=sigmoid, batch_size=32, epochs=150, learning_rate=0.0001, n_neurons=(10,); total time=   3.2s\n",
            "[CV] END activation_hidden=sigmoid, batch_size=32, epochs=150, learning_rate=0.0001, n_neurons=(10,); total time=   2.1s\n",
            "[CV] END activation_hidden=sigmoid, batch_size=32, epochs=150, learning_rate=0.0001, n_neurons=(10,); total time=   2.2s\n",
            "[CV] END activation_hidden=sigmoid, batch_size=32, epochs=150, learning_rate=0.0001, n_neurons=(10,); total time=   3.2s\n",
            "[CV] END activation_hidden=relu, batch_size=48, epochs=100, learning_rate=0.01, n_neurons=(100,); total time=   1.9s\n",
            "[CV] END activation_hidden=relu, batch_size=48, epochs=100, learning_rate=0.01, n_neurons=(100,); total time=   1.4s\n",
            "[CV] END activation_hidden=relu, batch_size=48, epochs=100, learning_rate=0.01, n_neurons=(100,); total time=   1.4s\n",
            "[CV] END activation_hidden=relu, batch_size=48, epochs=100, learning_rate=0.01, n_neurons=(100,); total time=   1.4s\n",
            "[CV] END activation_hidden=relu, batch_size=48, epochs=100, learning_rate=0.01, n_neurons=(100,); total time=   1.4s\n",
            "[CV] END activation_hidden=sigmoid, batch_size=64, epochs=50, learning_rate=0.001, n_neurons=(10, 10); total time=   1.3s\n",
            "[CV] END activation_hidden=sigmoid, batch_size=64, epochs=50, learning_rate=0.001, n_neurons=(10, 10); total time=   1.3s\n",
            "[CV] END activation_hidden=sigmoid, batch_size=64, epochs=50, learning_rate=0.001, n_neurons=(10, 10); total time=   1.3s\n",
            "[CV] END activation_hidden=sigmoid, batch_size=64, epochs=50, learning_rate=0.001, n_neurons=(10, 10); total time=   1.0s\n",
            "[CV] END activation_hidden=sigmoid, batch_size=64, epochs=50, learning_rate=0.001, n_neurons=(10, 10); total time=   1.3s\n",
            "[CV] END activation_hidden=sigmoid, batch_size=48, epochs=50, learning_rate=0.001, n_neurons=(10,); total time=   1.0s\n",
            "[CV] END activation_hidden=sigmoid, batch_size=48, epochs=50, learning_rate=0.001, n_neurons=(10,); total time=   1.9s\n",
            "[CV] END activation_hidden=sigmoid, batch_size=48, epochs=50, learning_rate=0.001, n_neurons=(10,); total time=   1.2s\n",
            "[CV] END activation_hidden=sigmoid, batch_size=48, epochs=50, learning_rate=0.001, n_neurons=(10,); total time=   1.3s\n",
            "[CV] END activation_hidden=sigmoid, batch_size=48, epochs=50, learning_rate=0.001, n_neurons=(10,); total time=   1.8s\n",
            "[CV] END activation_hidden=tanh, batch_size=32, epochs=150, learning_rate=0.01, n_neurons=(20, 15); total time=   3.3s\n",
            "[CV] END activation_hidden=tanh, batch_size=32, epochs=150, learning_rate=0.01, n_neurons=(20, 15); total time=   3.3s\n",
            "[CV] END activation_hidden=tanh, batch_size=32, epochs=150, learning_rate=0.01, n_neurons=(20, 15); total time=   3.3s\n",
            "[CV] END activation_hidden=tanh, batch_size=32, epochs=150, learning_rate=0.01, n_neurons=(20, 15); total time=   3.3s\n",
            "[CV] END activation_hidden=tanh, batch_size=32, epochs=150, learning_rate=0.01, n_neurons=(20, 15); total time=   3.6s\n",
            "[CV] END activation_hidden=relu, batch_size=48, epochs=50, learning_rate=0.0001, n_neurons=(50,); total time=   1.5s\n",
            "[CV] END activation_hidden=relu, batch_size=48, epochs=50, learning_rate=0.0001, n_neurons=(50,); total time=   1.3s\n",
            "[CV] END activation_hidden=relu, batch_size=48, epochs=50, learning_rate=0.0001, n_neurons=(50,); total time=   1.9s\n",
            "[CV] END activation_hidden=relu, batch_size=48, epochs=50, learning_rate=0.0001, n_neurons=(50,); total time=   2.1s\n",
            "[CV] END activation_hidden=relu, batch_size=48, epochs=50, learning_rate=0.0001, n_neurons=(50,); total time=   1.7s\n",
            "[CV] END activation_hidden=relu, batch_size=48, epochs=150, learning_rate=0.0001, n_neurons=(30, 20); total time=   5.0s\n",
            "[CV] END activation_hidden=relu, batch_size=48, epochs=150, learning_rate=0.0001, n_neurons=(30, 20); total time=   4.4s\n",
            "[CV] END activation_hidden=relu, batch_size=48, epochs=150, learning_rate=0.0001, n_neurons=(30, 20); total time=   3.4s\n",
            "[CV] END activation_hidden=relu, batch_size=48, epochs=150, learning_rate=0.0001, n_neurons=(30, 20); total time=   3.3s\n",
            "[CV] END activation_hidden=relu, batch_size=48, epochs=150, learning_rate=0.0001, n_neurons=(30, 20); total time=   3.5s\n",
            "[CV] END activation_hidden=sigmoid, batch_size=48, epochs=150, learning_rate=0.001, n_neurons=(70,); total time=   2.4s\n",
            "[CV] END activation_hidden=sigmoid, batch_size=48, epochs=150, learning_rate=0.001, n_neurons=(70,); total time=   3.7s\n",
            "[CV] END activation_hidden=sigmoid, batch_size=48, epochs=150, learning_rate=0.001, n_neurons=(70,); total time=   2.3s\n",
            "[CV] END activation_hidden=sigmoid, batch_size=48, epochs=150, learning_rate=0.001, n_neurons=(70,); total time=   1.9s\n",
            "[CV] END activation_hidden=sigmoid, batch_size=48, epochs=150, learning_rate=0.001, n_neurons=(70,); total time=   3.1s\n",
            "[CV] END activation_hidden=sigmoid, batch_size=64, epochs=50, learning_rate=0.001, n_neurons=(70, 50); total time=   1.6s\n",
            "[CV] END activation_hidden=sigmoid, batch_size=64, epochs=50, learning_rate=0.001, n_neurons=(70, 50); total time=   1.5s\n",
            "[CV] END activation_hidden=sigmoid, batch_size=64, epochs=50, learning_rate=0.001, n_neurons=(70, 50); total time=   1.5s\n",
            "[CV] END activation_hidden=sigmoid, batch_size=64, epochs=50, learning_rate=0.001, n_neurons=(70, 50); total time=   1.8s\n",
            "[CV] END activation_hidden=sigmoid, batch_size=64, epochs=50, learning_rate=0.001, n_neurons=(70, 50); total time=   1.3s\n",
            "[CV] END activation_hidden=relu, batch_size=64, epochs=50, learning_rate=0.0001, n_neurons=(10,); total time=   1.1s\n",
            "[CV] END activation_hidden=relu, batch_size=64, epochs=50, learning_rate=0.0001, n_neurons=(10,); total time=   1.3s\n",
            "[CV] END activation_hidden=relu, batch_size=64, epochs=50, learning_rate=0.0001, n_neurons=(10,); total time=   2.5s\n",
            "[CV] END activation_hidden=relu, batch_size=64, epochs=50, learning_rate=0.0001, n_neurons=(10,); total time=   1.1s\n",
            "[CV] END activation_hidden=relu, batch_size=64, epochs=50, learning_rate=0.0001, n_neurons=(10,); total time=   1.6s\n",
            "[CV] END activation_hidden=relu, batch_size=32, epochs=150, learning_rate=0.01, n_neurons=(50,); total time=   3.5s\n",
            "[CV] END activation_hidden=relu, batch_size=32, epochs=150, learning_rate=0.01, n_neurons=(50,); total time=   3.5s\n",
            "[CV] END activation_hidden=relu, batch_size=32, epochs=150, learning_rate=0.01, n_neurons=(50,); total time=   3.5s\n",
            "[CV] END activation_hidden=relu, batch_size=32, epochs=150, learning_rate=0.01, n_neurons=(50,); total time=   3.6s\n",
            "[CV] END activation_hidden=relu, batch_size=32, epochs=150, learning_rate=0.01, n_neurons=(50,); total time=   4.6s\n",
            "[CV] END activation_hidden=sigmoid, batch_size=48, epochs=50, learning_rate=0.0001, n_neurons=(50, 30); total time=   1.1s\n",
            "[CV] END activation_hidden=sigmoid, batch_size=48, epochs=50, learning_rate=0.0001, n_neurons=(50, 30); total time=   1.3s\n",
            "[CV] END activation_hidden=sigmoid, batch_size=48, epochs=50, learning_rate=0.0001, n_neurons=(50, 30); total time=   1.5s\n",
            "[CV] END activation_hidden=sigmoid, batch_size=48, epochs=50, learning_rate=0.0001, n_neurons=(50, 30); total time=   2.7s\n",
            "[CV] END activation_hidden=sigmoid, batch_size=48, epochs=50, learning_rate=0.0001, n_neurons=(50, 30); total time=   3.0s\n",
            "[CV] END activation_hidden=relu, batch_size=64, epochs=50, learning_rate=0.001, n_neurons=(50,); total time=   1.2s\n",
            "[CV] END activation_hidden=relu, batch_size=64, epochs=50, learning_rate=0.001, n_neurons=(50,); total time=   0.9s\n",
            "[CV] END activation_hidden=relu, batch_size=64, epochs=50, learning_rate=0.001, n_neurons=(50,); total time=   1.9s\n",
            "[CV] END activation_hidden=relu, batch_size=64, epochs=50, learning_rate=0.001, n_neurons=(50,); total time=   1.0s\n",
            "[CV] END activation_hidden=relu, batch_size=64, epochs=50, learning_rate=0.001, n_neurons=(50,); total time=   1.2s\n",
            "[CV] END activation_hidden=relu, batch_size=32, epochs=150, learning_rate=0.01, n_neurons=(100, 70); total time=   2.3s\n",
            "[CV] END activation_hidden=relu, batch_size=32, epochs=150, learning_rate=0.01, n_neurons=(100, 70); total time=   2.4s\n",
            "[CV] END activation_hidden=relu, batch_size=32, epochs=150, learning_rate=0.01, n_neurons=(100, 70); total time=   3.7s\n",
            "[CV] END activation_hidden=relu, batch_size=32, epochs=150, learning_rate=0.01, n_neurons=(100, 70); total time=   3.5s\n",
            "[CV] END activation_hidden=relu, batch_size=32, epochs=150, learning_rate=0.01, n_neurons=(100, 70); total time=   2.4s\n",
            "[CV] END activation_hidden=relu, batch_size=64, epochs=50, learning_rate=0.001, n_neurons=(50, 30); total time=   1.3s\n",
            "[CV] END activation_hidden=relu, batch_size=64, epochs=50, learning_rate=0.001, n_neurons=(50, 30); total time=   1.3s\n",
            "[CV] END activation_hidden=relu, batch_size=64, epochs=50, learning_rate=0.001, n_neurons=(50, 30); total time=   1.0s\n",
            "[CV] END activation_hidden=relu, batch_size=64, epochs=50, learning_rate=0.001, n_neurons=(50, 30); total time=   1.3s\n",
            "[CV] END activation_hidden=relu, batch_size=64, epochs=50, learning_rate=0.001, n_neurons=(50, 30); total time=   1.0s\n",
            "[CV] END activation_hidden=tanh, batch_size=64, epochs=100, learning_rate=0.0001, n_neurons=(15, 10); total time=   1.4s\n",
            "[CV] END activation_hidden=tanh, batch_size=64, epochs=100, learning_rate=0.0001, n_neurons=(15, 10); total time=   1.4s\n",
            "[CV] END activation_hidden=tanh, batch_size=64, epochs=100, learning_rate=0.0001, n_neurons=(15, 10); total time=   2.6s\n",
            "[CV] END activation_hidden=tanh, batch_size=64, epochs=100, learning_rate=0.0001, n_neurons=(15, 10); total time=   1.3s\n",
            "[CV] END activation_hidden=tanh, batch_size=64, epochs=100, learning_rate=0.0001, n_neurons=(15, 10); total time=   1.4s\n",
            "[CV] END activation_hidden=tanh, batch_size=64, epochs=150, learning_rate=0.001, n_neurons=(30,); total time=   1.9s\n",
            "[CV] END activation_hidden=tanh, batch_size=64, epochs=150, learning_rate=0.001, n_neurons=(30,); total time=   1.9s\n",
            "[CV] END activation_hidden=tanh, batch_size=64, epochs=150, learning_rate=0.001, n_neurons=(30,); total time=   1.6s\n",
            "[CV] END activation_hidden=tanh, batch_size=64, epochs=150, learning_rate=0.001, n_neurons=(30,); total time=   1.9s\n",
            "[CV] END activation_hidden=tanh, batch_size=64, epochs=150, learning_rate=0.001, n_neurons=(30,); total time=   1.9s\n",
            "[CV] END activation_hidden=sigmoid, batch_size=48, epochs=150, learning_rate=0.01, n_neurons=(20, 15); total time=   1.9s\n",
            "[CV] END activation_hidden=sigmoid, batch_size=48, epochs=150, learning_rate=0.01, n_neurons=(20, 15); total time=   1.9s\n",
            "[CV] END activation_hidden=sigmoid, batch_size=48, epochs=150, learning_rate=0.01, n_neurons=(20, 15); total time=   1.8s\n",
            "[CV] END activation_hidden=sigmoid, batch_size=48, epochs=150, learning_rate=0.01, n_neurons=(20, 15); total time=   2.0s\n",
            "[CV] END activation_hidden=sigmoid, batch_size=48, epochs=150, learning_rate=0.01, n_neurons=(20, 15); total time=   1.9s\n",
            "[CV] END activation_hidden=tanh, batch_size=32, epochs=50, learning_rate=0.01, n_neurons=(20,); total time=   1.2s\n",
            "[CV] END activation_hidden=tanh, batch_size=32, epochs=50, learning_rate=0.01, n_neurons=(20,); total time=   1.1s\n",
            "[CV] END activation_hidden=tanh, batch_size=32, epochs=50, learning_rate=0.01, n_neurons=(20,); total time=   1.8s\n",
            "[CV] END activation_hidden=tanh, batch_size=32, epochs=50, learning_rate=0.01, n_neurons=(20,); total time=   1.2s\n",
            "[CV] END activation_hidden=tanh, batch_size=32, epochs=50, learning_rate=0.01, n_neurons=(20,); total time=   1.3s\n",
            "[CV] END activation_hidden=sigmoid, batch_size=32, epochs=50, learning_rate=0.01, n_neurons=(70,); total time=   1.3s\n",
            "[CV] END activation_hidden=sigmoid, batch_size=32, epochs=50, learning_rate=0.01, n_neurons=(70,); total time=   1.2s\n",
            "[CV] END activation_hidden=sigmoid, batch_size=32, epochs=50, learning_rate=0.01, n_neurons=(70,); total time=   1.2s\n",
            "[CV] END activation_hidden=sigmoid, batch_size=32, epochs=50, learning_rate=0.01, n_neurons=(70,); total time=   1.2s\n",
            "[CV] END activation_hidden=sigmoid, batch_size=32, epochs=50, learning_rate=0.01, n_neurons=(70,); total time=   1.2s\n",
            "[CV] END activation_hidden=sigmoid, batch_size=48, epochs=100, learning_rate=0.01, n_neurons=(20,); total time=   1.9s\n",
            "[CV] END activation_hidden=sigmoid, batch_size=48, epochs=100, learning_rate=0.01, n_neurons=(20,); total time=   1.4s\n",
            "[CV] END activation_hidden=sigmoid, batch_size=48, epochs=100, learning_rate=0.01, n_neurons=(20,); total time=   1.9s\n",
            "[CV] END activation_hidden=sigmoid, batch_size=48, epochs=100, learning_rate=0.01, n_neurons=(20,); total time=   1.4s\n",
            "[CV] END activation_hidden=sigmoid, batch_size=48, epochs=100, learning_rate=0.01, n_neurons=(20,); total time=   1.9s\n",
            "[CV] END activation_hidden=relu, batch_size=48, epochs=100, learning_rate=0.001, n_neurons=(70,); total time=   1.9s\n",
            "[CV] END activation_hidden=relu, batch_size=48, epochs=100, learning_rate=0.001, n_neurons=(70,); total time=   1.9s\n",
            "[CV] END activation_hidden=relu, batch_size=48, epochs=100, learning_rate=0.001, n_neurons=(70,); total time=   1.4s\n",
            "[CV] END activation_hidden=relu, batch_size=48, epochs=100, learning_rate=0.001, n_neurons=(70,); total time=   2.1s\n",
            "[CV] END activation_hidden=relu, batch_size=48, epochs=100, learning_rate=0.001, n_neurons=(70,); total time=   1.9s\n",
            "[CV] END activation_hidden=tanh, batch_size=48, epochs=50, learning_rate=0.01, n_neurons=(50, 30); total time=   1.3s\n",
            "[CV] END activation_hidden=tanh, batch_size=48, epochs=50, learning_rate=0.01, n_neurons=(50, 30); total time=   1.1s\n",
            "[CV] END activation_hidden=tanh, batch_size=48, epochs=50, learning_rate=0.01, n_neurons=(50, 30); total time=   1.1s\n",
            "[CV] END activation_hidden=tanh, batch_size=48, epochs=50, learning_rate=0.01, n_neurons=(50, 30); total time=   1.3s\n",
            "[CV] END activation_hidden=tanh, batch_size=48, epochs=50, learning_rate=0.01, n_neurons=(50, 30); total time=   1.3s\n",
            "[CV] END activation_hidden=relu, batch_size=48, epochs=100, learning_rate=0.0001, n_neurons=(30, 20); total time=   1.4s\n",
            "[CV] END activation_hidden=relu, batch_size=48, epochs=100, learning_rate=0.0001, n_neurons=(30, 20); total time=   2.0s\n",
            "[CV] END activation_hidden=relu, batch_size=48, epochs=100, learning_rate=0.0001, n_neurons=(30, 20); total time=   1.5s\n",
            "[CV] END activation_hidden=relu, batch_size=48, epochs=100, learning_rate=0.0001, n_neurons=(30, 20); total time=   1.6s\n",
            "[CV] END activation_hidden=relu, batch_size=48, epochs=100, learning_rate=0.0001, n_neurons=(30, 20); total time=   2.0s\n",
            "[CV] END activation_hidden=relu, batch_size=48, epochs=100, learning_rate=0.01, n_neurons=(50,); total time=   1.5s\n",
            "[CV] END activation_hidden=relu, batch_size=48, epochs=100, learning_rate=0.01, n_neurons=(50,); total time=   1.4s\n",
            "[CV] END activation_hidden=relu, batch_size=48, epochs=100, learning_rate=0.01, n_neurons=(50,); total time=   1.5s\n",
            "[CV] END activation_hidden=relu, batch_size=48, epochs=100, learning_rate=0.01, n_neurons=(50,); total time=   1.9s\n",
            "[CV] END activation_hidden=relu, batch_size=48, epochs=100, learning_rate=0.01, n_neurons=(50,); total time=   2.0s\n",
            "[CV] END activation_hidden=tanh, batch_size=64, epochs=150, learning_rate=0.01, n_neurons=(50, 30); total time=   2.0s\n",
            "[CV] END activation_hidden=tanh, batch_size=64, epochs=150, learning_rate=0.01, n_neurons=(50, 30); total time=   1.9s\n",
            "[CV] END activation_hidden=tanh, batch_size=64, epochs=150, learning_rate=0.01, n_neurons=(50, 30); total time=   1.9s\n",
            "[CV] END activation_hidden=tanh, batch_size=64, epochs=150, learning_rate=0.01, n_neurons=(50, 30); total time=   1.7s\n",
            "[CV] END activation_hidden=tanh, batch_size=64, epochs=150, learning_rate=0.01, n_neurons=(50, 30); total time=   1.7s\n",
            "[CV] END activation_hidden=relu, batch_size=32, epochs=100, learning_rate=0.01, n_neurons=(100,); total time=   1.6s\n",
            "[CV] END activation_hidden=relu, batch_size=32, epochs=100, learning_rate=0.01, n_neurons=(100,); total time=   1.9s\n",
            "[CV] END activation_hidden=relu, batch_size=32, epochs=100, learning_rate=0.01, n_neurons=(100,); total time=   1.7s\n",
            "[CV] END activation_hidden=relu, batch_size=32, epochs=100, learning_rate=0.01, n_neurons=(100,); total time=   1.6s\n",
            "[CV] END activation_hidden=relu, batch_size=32, epochs=100, learning_rate=0.01, n_neurons=(100,); total time=   1.7s\n",
            "[CV] END activation_hidden=sigmoid, batch_size=48, epochs=50, learning_rate=0.0001, n_neurons=(15,); total time=   1.3s\n",
            "[CV] END activation_hidden=sigmoid, batch_size=48, epochs=50, learning_rate=0.0001, n_neurons=(15,); total time=   1.2s\n",
            "[CV] END activation_hidden=sigmoid, batch_size=48, epochs=50, learning_rate=0.0001, n_neurons=(15,); total time=   1.0s\n",
            "[CV] END activation_hidden=sigmoid, batch_size=48, epochs=50, learning_rate=0.0001, n_neurons=(15,); total time=   1.0s\n",
            "[CV] END activation_hidden=sigmoid, batch_size=48, epochs=50, learning_rate=0.0001, n_neurons=(15,); total time=   1.4s\n",
            "[CV] END activation_hidden=relu, batch_size=32, epochs=100, learning_rate=0.0001, n_neurons=(10,); total time=   1.9s\n",
            "[CV] END activation_hidden=relu, batch_size=32, epochs=100, learning_rate=0.0001, n_neurons=(10,); total time=   1.7s\n",
            "[CV] END activation_hidden=relu, batch_size=32, epochs=100, learning_rate=0.0001, n_neurons=(10,); total time=   1.7s\n",
            "[CV] END activation_hidden=relu, batch_size=32, epochs=100, learning_rate=0.0001, n_neurons=(10,); total time=   1.7s\n",
            "[CV] END activation_hidden=relu, batch_size=32, epochs=100, learning_rate=0.0001, n_neurons=(10,); total time=   1.7s\n",
            "[CV] END activation_hidden=sigmoid, batch_size=64, epochs=100, learning_rate=0.0001, n_neurons=(70, 50); total time=   2.0s\n",
            "[CV] END activation_hidden=sigmoid, batch_size=64, epochs=100, learning_rate=0.0001, n_neurons=(70, 50); total time=   1.4s\n",
            "[CV] END activation_hidden=sigmoid, batch_size=64, epochs=100, learning_rate=0.0001, n_neurons=(70, 50); total time=   1.4s\n",
            "[CV] END activation_hidden=sigmoid, batch_size=64, epochs=100, learning_rate=0.0001, n_neurons=(70, 50); total time=   1.4s\n",
            "[CV] END activation_hidden=sigmoid, batch_size=64, epochs=100, learning_rate=0.0001, n_neurons=(70, 50); total time=   2.0s\n",
            "[CV] END activation_hidden=sigmoid, batch_size=64, epochs=100, learning_rate=0.001, n_neurons=(15, 10); total time=   2.0s\n",
            "[CV] END activation_hidden=sigmoid, batch_size=64, epochs=100, learning_rate=0.001, n_neurons=(15, 10); total time=   2.0s\n",
            "[CV] END activation_hidden=sigmoid, batch_size=64, epochs=100, learning_rate=0.001, n_neurons=(15, 10); total time=   2.0s\n",
            "[CV] END activation_hidden=sigmoid, batch_size=64, epochs=100, learning_rate=0.001, n_neurons=(15, 10); total time=   1.4s\n",
            "[CV] END activation_hidden=sigmoid, batch_size=64, epochs=100, learning_rate=0.001, n_neurons=(15, 10); total time=   2.6s\n",
            "[CV] END activation_hidden=sigmoid, batch_size=48, epochs=100, learning_rate=0.0001, n_neurons=(70,); total time=   2.0s\n",
            "[CV] END activation_hidden=sigmoid, batch_size=48, epochs=100, learning_rate=0.0001, n_neurons=(70,); total time=   2.0s\n",
            "[CV] END activation_hidden=sigmoid, batch_size=48, epochs=100, learning_rate=0.0001, n_neurons=(70,); total time=   1.5s\n",
            "[CV] END activation_hidden=sigmoid, batch_size=48, epochs=100, learning_rate=0.0001, n_neurons=(70,); total time=   1.6s\n",
            "[CV] END activation_hidden=sigmoid, batch_size=48, epochs=100, learning_rate=0.0001, n_neurons=(70,); total time=   1.6s\n",
            "[CV] END activation_hidden=tanh, batch_size=48, epochs=100, learning_rate=0.0001, n_neurons=(10,); total time=   1.5s\n",
            "[CV] END activation_hidden=tanh, batch_size=48, epochs=100, learning_rate=0.0001, n_neurons=(10,); total time=   1.9s\n",
            "[CV] END activation_hidden=tanh, batch_size=48, epochs=100, learning_rate=0.0001, n_neurons=(10,); total time=   1.5s\n",
            "[CV] END activation_hidden=tanh, batch_size=48, epochs=100, learning_rate=0.0001, n_neurons=(10,); total time=   1.4s\n",
            "[CV] END activation_hidden=tanh, batch_size=48, epochs=100, learning_rate=0.0001, n_neurons=(10,); total time=   1.9s\n",
            "[CV] END activation_hidden=tanh, batch_size=32, epochs=150, learning_rate=0.001, n_neurons=(10,); total time=   3.3s\n",
            "[CV] END activation_hidden=tanh, batch_size=32, epochs=150, learning_rate=0.001, n_neurons=(10,); total time=   3.3s\n",
            "[CV] END activation_hidden=tanh, batch_size=32, epochs=150, learning_rate=0.001, n_neurons=(10,); total time=   3.3s\n",
            "[CV] END activation_hidden=tanh, batch_size=32, epochs=150, learning_rate=0.001, n_neurons=(10,); total time=   2.3s\n",
            "[CV] END activation_hidden=tanh, batch_size=32, epochs=150, learning_rate=0.001, n_neurons=(10,); total time=   2.3s\n",
            "[CV] END activation_hidden=sigmoid, batch_size=64, epochs=150, learning_rate=0.01, n_neurons=(70,); total time=   2.5s\n",
            "[CV] END activation_hidden=sigmoid, batch_size=64, epochs=150, learning_rate=0.01, n_neurons=(70,); total time=   1.6s\n",
            "[CV] END activation_hidden=sigmoid, batch_size=64, epochs=150, learning_rate=0.01, n_neurons=(70,); total time=   1.8s\n",
            "[CV] END activation_hidden=sigmoid, batch_size=64, epochs=150, learning_rate=0.01, n_neurons=(70,); total time=   1.9s\n",
            "[CV] END activation_hidden=sigmoid, batch_size=64, epochs=150, learning_rate=0.01, n_neurons=(70,); total time=   1.8s\n",
            "[CV] END activation_hidden=relu, batch_size=48, epochs=100, learning_rate=0.01, n_neurons=(20,); total time=   1.5s\n",
            "[CV] END activation_hidden=relu, batch_size=48, epochs=100, learning_rate=0.01, n_neurons=(20,); total time=   1.5s\n",
            "[CV] END activation_hidden=relu, batch_size=48, epochs=100, learning_rate=0.01, n_neurons=(20,); total time=   2.0s\n",
            "[CV] END activation_hidden=relu, batch_size=48, epochs=100, learning_rate=0.01, n_neurons=(20,); total time=   1.6s\n",
            "[CV] END activation_hidden=relu, batch_size=48, epochs=100, learning_rate=0.01, n_neurons=(20,); total time=   1.6s\n",
            "[CV] END activation_hidden=relu, batch_size=64, epochs=150, learning_rate=0.0001, n_neurons=(10,); total time=   3.3s\n",
            "[CV] END activation_hidden=relu, batch_size=64, epochs=150, learning_rate=0.0001, n_neurons=(10,); total time=   1.9s\n",
            "[CV] END activation_hidden=relu, batch_size=64, epochs=150, learning_rate=0.0001, n_neurons=(10,); total time=   2.0s\n",
            "[CV] END activation_hidden=relu, batch_size=64, epochs=150, learning_rate=0.0001, n_neurons=(10,); total time=   1.7s\n",
            "[CV] END activation_hidden=relu, batch_size=64, epochs=150, learning_rate=0.0001, n_neurons=(10,); total time=   1.9s\n",
            "[CV] END activation_hidden=relu, batch_size=32, epochs=100, learning_rate=0.01, n_neurons=(20, 15); total time=   1.8s\n",
            "[CV] END activation_hidden=relu, batch_size=32, epochs=100, learning_rate=0.01, n_neurons=(20, 15); total time=   2.6s\n",
            "[CV] END activation_hidden=relu, batch_size=32, epochs=100, learning_rate=0.01, n_neurons=(20, 15); total time=   2.0s\n",
            "[CV] END activation_hidden=relu, batch_size=32, epochs=100, learning_rate=0.01, n_neurons=(20, 15); total time=   1.9s\n",
            "[CV] END activation_hidden=relu, batch_size=32, epochs=100, learning_rate=0.01, n_neurons=(20, 15); total time=   1.9s\n",
            "[CV] END activation_hidden=tanh, batch_size=32, epochs=100, learning_rate=0.0001, n_neurons=(100, 70); total time=   2.0s\n",
            "[CV] END activation_hidden=tanh, batch_size=32, epochs=100, learning_rate=0.0001, n_neurons=(100, 70); total time=   1.9s\n",
            "[CV] END activation_hidden=tanh, batch_size=32, epochs=100, learning_rate=0.0001, n_neurons=(100, 70); total time=   1.9s\n",
            "[CV] END activation_hidden=tanh, batch_size=32, epochs=100, learning_rate=0.0001, n_neurons=(100, 70); total time=   1.9s\n",
            "[CV] END activation_hidden=tanh, batch_size=32, epochs=100, learning_rate=0.0001, n_neurons=(100, 70); total time=   1.9s\n",
            "[CV] END activation_hidden=relu, batch_size=48, epochs=150, learning_rate=0.001, n_neurons=(10, 10); total time=   2.0s\n",
            "[CV] END activation_hidden=relu, batch_size=48, epochs=150, learning_rate=0.001, n_neurons=(10, 10); total time=   2.0s\n",
            "[CV] END activation_hidden=relu, batch_size=48, epochs=150, learning_rate=0.001, n_neurons=(10, 10); total time=   3.2s\n",
            "[CV] END activation_hidden=relu, batch_size=48, epochs=150, learning_rate=0.001, n_neurons=(10, 10); total time=   1.9s\n",
            "[CV] END activation_hidden=relu, batch_size=48, epochs=150, learning_rate=0.001, n_neurons=(10, 10); total time=   3.2s\n",
            "[CV] END activation_hidden=relu, batch_size=48, epochs=100, learning_rate=0.01, n_neurons=(20, 15); total time=   2.0s\n",
            "[CV] END activation_hidden=relu, batch_size=48, epochs=100, learning_rate=0.01, n_neurons=(20, 15); total time=   2.9s\n",
            "[CV] END activation_hidden=relu, batch_size=48, epochs=100, learning_rate=0.01, n_neurons=(20, 15); total time=   1.9s\n",
            "[CV] END activation_hidden=relu, batch_size=48, epochs=100, learning_rate=0.01, n_neurons=(20, 15); total time=   1.5s\n",
            "[CV] END activation_hidden=relu, batch_size=48, epochs=100, learning_rate=0.01, n_neurons=(20, 15); total time=   2.0s\n",
            "[CV] END activation_hidden=relu, batch_size=32, epochs=50, learning_rate=0.01, n_neurons=(70, 50); total time=   1.3s\n",
            "[CV] END activation_hidden=relu, batch_size=32, epochs=50, learning_rate=0.01, n_neurons=(70, 50); total time=   1.3s\n",
            "[CV] END activation_hidden=relu, batch_size=32, epochs=50, learning_rate=0.01, n_neurons=(70, 50); total time=   1.2s\n",
            "[CV] END activation_hidden=relu, batch_size=32, epochs=50, learning_rate=0.01, n_neurons=(70, 50); total time=   1.2s\n",
            "[CV] END activation_hidden=relu, batch_size=32, epochs=50, learning_rate=0.01, n_neurons=(70, 50); total time=   1.2s\n",
            "[CV] END activation_hidden=sigmoid, batch_size=48, epochs=150, learning_rate=0.0001, n_neurons=(30, 20); total time=   2.0s\n",
            "[CV] END activation_hidden=sigmoid, batch_size=48, epochs=150, learning_rate=0.0001, n_neurons=(30, 20); total time=   1.9s\n",
            "[CV] END activation_hidden=sigmoid, batch_size=48, epochs=150, learning_rate=0.0001, n_neurons=(30, 20); total time=   2.0s\n",
            "[CV] END activation_hidden=sigmoid, batch_size=48, epochs=150, learning_rate=0.0001, n_neurons=(30, 20); total time=   1.9s\n",
            "[CV] END activation_hidden=sigmoid, batch_size=48, epochs=150, learning_rate=0.0001, n_neurons=(30, 20); total time=   1.9s\n",
            "[CV] END activation_hidden=relu, batch_size=32, epochs=100, learning_rate=0.0001, n_neurons=(20, 15); total time=   2.0s\n",
            "[CV] END activation_hidden=relu, batch_size=32, epochs=100, learning_rate=0.0001, n_neurons=(20, 15); total time=   2.6s\n",
            "[CV] END activation_hidden=relu, batch_size=32, epochs=100, learning_rate=0.0001, n_neurons=(20, 15); total time=   2.0s\n",
            "[CV] END activation_hidden=relu, batch_size=32, epochs=100, learning_rate=0.0001, n_neurons=(20, 15); total time=   2.0s\n",
            "[CV] END activation_hidden=relu, batch_size=32, epochs=100, learning_rate=0.0001, n_neurons=(20, 15); total time=   1.8s\n",
            "[CV] END activation_hidden=sigmoid, batch_size=64, epochs=150, learning_rate=0.01, n_neurons=(50, 30); total time=   2.0s\n",
            "[CV] END activation_hidden=sigmoid, batch_size=64, epochs=150, learning_rate=0.01, n_neurons=(50, 30); total time=   2.0s\n",
            "[CV] END activation_hidden=sigmoid, batch_size=64, epochs=150, learning_rate=0.01, n_neurons=(50, 30); total time=   1.9s\n",
            "[CV] END activation_hidden=sigmoid, batch_size=64, epochs=150, learning_rate=0.01, n_neurons=(50, 30); total time=   1.9s\n",
            "[CV] END activation_hidden=sigmoid, batch_size=64, epochs=150, learning_rate=0.01, n_neurons=(50, 30); total time=   2.0s\n",
            "[CV] END activation_hidden=relu, batch_size=48, epochs=50, learning_rate=0.01, n_neurons=(20, 15); total time=   1.3s\n",
            "[CV] END activation_hidden=relu, batch_size=48, epochs=50, learning_rate=0.01, n_neurons=(20, 15); total time=   1.2s\n",
            "[CV] END activation_hidden=relu, batch_size=48, epochs=50, learning_rate=0.01, n_neurons=(20, 15); total time=   1.4s\n",
            "[CV] END activation_hidden=relu, batch_size=48, epochs=50, learning_rate=0.01, n_neurons=(20, 15); total time=   1.1s\n",
            "[CV] END activation_hidden=relu, batch_size=48, epochs=50, learning_rate=0.01, n_neurons=(20, 15); total time=   1.3s\n",
            "[CV] END activation_hidden=relu, batch_size=48, epochs=150, learning_rate=0.0001, n_neurons=(50,); total time=   1.8s\n",
            "[CV] END activation_hidden=relu, batch_size=48, epochs=150, learning_rate=0.0001, n_neurons=(50,); total time=   2.6s\n",
            "[CV] END activation_hidden=relu, batch_size=48, epochs=150, learning_rate=0.0001, n_neurons=(50,); total time=   3.2s\n",
            "[CV] END activation_hidden=relu, batch_size=48, epochs=150, learning_rate=0.0001, n_neurons=(50,); total time=   1.8s\n",
            "[CV] END activation_hidden=relu, batch_size=48, epochs=150, learning_rate=0.0001, n_neurons=(50,); total time=   1.8s\n",
            "[CV] END activation_hidden=sigmoid, batch_size=48, epochs=100, learning_rate=0.01, n_neurons=(15,); total time=   1.9s\n",
            "[CV] END activation_hidden=sigmoid, batch_size=48, epochs=100, learning_rate=0.01, n_neurons=(15,); total time=   1.5s\n",
            "[CV] END activation_hidden=sigmoid, batch_size=48, epochs=100, learning_rate=0.01, n_neurons=(15,); total time=   1.9s\n",
            "[CV] END activation_hidden=sigmoid, batch_size=48, epochs=100, learning_rate=0.01, n_neurons=(15,); total time=   1.9s\n",
            "[CV] END activation_hidden=sigmoid, batch_size=48, epochs=100, learning_rate=0.01, n_neurons=(15,); total time=   1.9s\n",
            "[CV] END activation_hidden=sigmoid, batch_size=48, epochs=100, learning_rate=0.0001, n_neurons=(70, 50); total time=   1.5s\n",
            "[CV] END activation_hidden=sigmoid, batch_size=48, epochs=100, learning_rate=0.0001, n_neurons=(70, 50); total time=   2.0s\n",
            "[CV] END activation_hidden=sigmoid, batch_size=48, epochs=100, learning_rate=0.0001, n_neurons=(70, 50); total time=   1.9s\n",
            "[CV] END activation_hidden=sigmoid, batch_size=48, epochs=100, learning_rate=0.0001, n_neurons=(70, 50); total time=   1.9s\n",
            "[CV] END activation_hidden=sigmoid, batch_size=48, epochs=100, learning_rate=0.0001, n_neurons=(70, 50); total time=   2.0s\n",
            "[CV] END activation_hidden=sigmoid, batch_size=48, epochs=50, learning_rate=0.0001, n_neurons=(15, 10); total time=   1.3s\n",
            "[CV] END activation_hidden=sigmoid, batch_size=48, epochs=50, learning_rate=0.0001, n_neurons=(15, 10); total time=   1.8s\n",
            "[CV] END activation_hidden=sigmoid, batch_size=48, epochs=50, learning_rate=0.0001, n_neurons=(15, 10); total time=   1.4s\n",
            "[CV] END activation_hidden=sigmoid, batch_size=48, epochs=50, learning_rate=0.0001, n_neurons=(15, 10); total time=   1.2s\n",
            "[CV] END activation_hidden=sigmoid, batch_size=48, epochs=50, learning_rate=0.0001, n_neurons=(15, 10); total time=   1.3s\n",
            "[CV] END activation_hidden=tanh, batch_size=48, epochs=50, learning_rate=0.01, n_neurons=(20,); total time=   1.3s\n",
            "[CV] END activation_hidden=tanh, batch_size=48, epochs=50, learning_rate=0.01, n_neurons=(20,); total time=   1.3s\n",
            "[CV] END activation_hidden=tanh, batch_size=48, epochs=50, learning_rate=0.01, n_neurons=(20,); total time=   1.0s\n",
            "[CV] END activation_hidden=tanh, batch_size=48, epochs=50, learning_rate=0.01, n_neurons=(20,); total time=   1.1s\n",
            "[CV] END activation_hidden=tanh, batch_size=48, epochs=50, learning_rate=0.01, n_neurons=(20,); total time=   1.1s\n",
            "[CV] END activation_hidden=tanh, batch_size=32, epochs=100, learning_rate=0.001, n_neurons=(20,); total time=   1.9s\n",
            "[CV] END activation_hidden=tanh, batch_size=32, epochs=100, learning_rate=0.001, n_neurons=(20,); total time=   1.7s\n",
            "[CV] END activation_hidden=tanh, batch_size=32, epochs=100, learning_rate=0.001, n_neurons=(20,); total time=   1.7s\n",
            "[CV] END activation_hidden=tanh, batch_size=32, epochs=100, learning_rate=0.001, n_neurons=(20,); total time=   1.7s\n",
            "[CV] END activation_hidden=tanh, batch_size=32, epochs=100, learning_rate=0.001, n_neurons=(20,); total time=   1.8s\n",
            "[CV] END activation_hidden=tanh, batch_size=32, epochs=100, learning_rate=0.01, n_neurons=(30,); total time=   1.9s\n",
            "[CV] END activation_hidden=tanh, batch_size=32, epochs=100, learning_rate=0.01, n_neurons=(30,); total time=   1.7s\n",
            "[CV] END activation_hidden=tanh, batch_size=32, epochs=100, learning_rate=0.01, n_neurons=(30,); total time=   2.2s\n",
            "[CV] END activation_hidden=tanh, batch_size=32, epochs=100, learning_rate=0.01, n_neurons=(30,); total time=   1.7s\n",
            "[CV] END activation_hidden=tanh, batch_size=32, epochs=100, learning_rate=0.01, n_neurons=(30,); total time=   1.7s\n",
            "[CV] END activation_hidden=tanh, batch_size=48, epochs=100, learning_rate=0.01, n_neurons=(30, 20); total time=   2.0s\n",
            "[CV] END activation_hidden=tanh, batch_size=48, epochs=100, learning_rate=0.01, n_neurons=(30, 20); total time=   2.0s\n",
            "[CV] END activation_hidden=tanh, batch_size=48, epochs=100, learning_rate=0.01, n_neurons=(30, 20); total time=   1.9s\n",
            "[CV] END activation_hidden=tanh, batch_size=48, epochs=100, learning_rate=0.01, n_neurons=(30, 20); total time=   1.5s\n",
            "[CV] END activation_hidden=tanh, batch_size=48, epochs=100, learning_rate=0.01, n_neurons=(30, 20); total time=   1.9s\n",
            "[CV] END activation_hidden=sigmoid, batch_size=64, epochs=150, learning_rate=0.01, n_neurons=(20, 15); total time=   1.7s\n",
            "[CV] END activation_hidden=sigmoid, batch_size=64, epochs=150, learning_rate=0.01, n_neurons=(20, 15); total time=   2.0s\n",
            "[CV] END activation_hidden=sigmoid, batch_size=64, epochs=150, learning_rate=0.01, n_neurons=(20, 15); total time=   1.9s\n",
            "[CV] END activation_hidden=sigmoid, batch_size=64, epochs=150, learning_rate=0.01, n_neurons=(20, 15); total time=   1.9s\n",
            "[CV] END activation_hidden=sigmoid, batch_size=64, epochs=150, learning_rate=0.01, n_neurons=(20, 15); total time=   1.7s\n",
            "[CV] END activation_hidden=sigmoid, batch_size=64, epochs=50, learning_rate=0.01, n_neurons=(10,); total time=   0.9s\n",
            "[CV] END activation_hidden=sigmoid, batch_size=64, epochs=50, learning_rate=0.01, n_neurons=(10,); total time=   0.9s\n",
            "[CV] END activation_hidden=sigmoid, batch_size=64, epochs=50, learning_rate=0.01, n_neurons=(10,); total time=   1.6s\n",
            "[CV] END activation_hidden=sigmoid, batch_size=64, epochs=50, learning_rate=0.01, n_neurons=(10,); total time=   1.3s\n",
            "[CV] END activation_hidden=sigmoid, batch_size=64, epochs=50, learning_rate=0.01, n_neurons=(10,); total time=   1.3s\n",
            "[CV] END activation_hidden=sigmoid, batch_size=48, epochs=100, learning_rate=0.0001, n_neurons=(30,); total time=   1.5s\n",
            "[CV] END activation_hidden=sigmoid, batch_size=48, epochs=100, learning_rate=0.0001, n_neurons=(30,); total time=   1.9s\n",
            "[CV] END activation_hidden=sigmoid, batch_size=48, epochs=100, learning_rate=0.0001, n_neurons=(30,); total time=   1.4s\n",
            "[CV] END activation_hidden=sigmoid, batch_size=48, epochs=100, learning_rate=0.0001, n_neurons=(30,); total time=   1.4s\n",
            "[CV] END activation_hidden=sigmoid, batch_size=48, epochs=100, learning_rate=0.0001, n_neurons=(30,); total time=   1.4s\n",
            "[CV] END activation_hidden=relu, batch_size=32, epochs=100, learning_rate=0.001, n_neurons=(70, 50); total time=   1.8s\n",
            "[CV] END activation_hidden=relu, batch_size=32, epochs=100, learning_rate=0.001, n_neurons=(70, 50); total time=   1.8s\n",
            "[CV] END activation_hidden=relu, batch_size=32, epochs=100, learning_rate=0.001, n_neurons=(70, 50); total time=   2.0s\n",
            "[CV] END activation_hidden=relu, batch_size=32, epochs=100, learning_rate=0.001, n_neurons=(70, 50); total time=   2.0s\n",
            "[CV] END activation_hidden=relu, batch_size=32, epochs=100, learning_rate=0.001, n_neurons=(70, 50); total time=   2.0s\n",
            "[CV] END activation_hidden=relu, batch_size=64, epochs=50, learning_rate=0.0001, n_neurons=(100,); total time=   1.0s\n",
            "[CV] END activation_hidden=relu, batch_size=64, epochs=50, learning_rate=0.0001, n_neurons=(100,); total time=   1.3s\n",
            "[CV] END activation_hidden=relu, batch_size=64, epochs=50, learning_rate=0.0001, n_neurons=(100,); total time=   1.0s\n",
            "[CV] END activation_hidden=relu, batch_size=64, epochs=50, learning_rate=0.0001, n_neurons=(100,); total time=   1.8s\n",
            "[CV] END activation_hidden=relu, batch_size=64, epochs=50, learning_rate=0.0001, n_neurons=(100,); total time=   1.3s\n",
            "[CV] END activation_hidden=tanh, batch_size=32, epochs=150, learning_rate=0.0001, n_neurons=(50, 30); total time=   3.2s\n",
            "[CV] END activation_hidden=tanh, batch_size=32, epochs=150, learning_rate=0.0001, n_neurons=(50, 30); total time=   2.4s\n",
            "[CV] END activation_hidden=tanh, batch_size=32, epochs=150, learning_rate=0.0001, n_neurons=(50, 30); total time=   3.3s\n",
            "[CV] END activation_hidden=tanh, batch_size=32, epochs=150, learning_rate=0.0001, n_neurons=(50, 30); total time=   2.4s\n",
            "[CV] END activation_hidden=tanh, batch_size=32, epochs=150, learning_rate=0.0001, n_neurons=(50, 30); total time=   3.2s\n",
            "[CV] END activation_hidden=tanh, batch_size=32, epochs=50, learning_rate=0.01, n_neurons=(20, 15); total time=   1.3s\n",
            "[CV] END activation_hidden=tanh, batch_size=32, epochs=50, learning_rate=0.01, n_neurons=(20, 15); total time=   1.3s\n",
            "[CV] END activation_hidden=tanh, batch_size=32, epochs=50, learning_rate=0.01, n_neurons=(20, 15); total time=   1.2s\n",
            "[CV] END activation_hidden=tanh, batch_size=32, epochs=50, learning_rate=0.01, n_neurons=(20, 15); total time=   1.3s\n",
            "[CV] END activation_hidden=tanh, batch_size=32, epochs=50, learning_rate=0.01, n_neurons=(20, 15); total time=   1.2s\n",
            "[CV] END activation_hidden=relu, batch_size=32, epochs=100, learning_rate=0.01, n_neurons=(10, 10); total time=   1.7s\n",
            "[CV] END activation_hidden=relu, batch_size=32, epochs=100, learning_rate=0.01, n_neurons=(10, 10); total time=   1.8s\n",
            "[CV] END activation_hidden=relu, batch_size=32, epochs=100, learning_rate=0.01, n_neurons=(10, 10); total time=   2.5s\n",
            "[CV] END activation_hidden=relu, batch_size=32, epochs=100, learning_rate=0.01, n_neurons=(10, 10); total time=   2.0s\n",
            "[CV] END activation_hidden=relu, batch_size=32, epochs=100, learning_rate=0.01, n_neurons=(10, 10); total time=   1.8s\n",
            "[CV] END activation_hidden=sigmoid, batch_size=32, epochs=100, learning_rate=0.0001, n_neurons=(100, 70); total time=   1.8s\n",
            "[CV] END activation_hidden=sigmoid, batch_size=32, epochs=100, learning_rate=0.0001, n_neurons=(100, 70); total time=   1.8s\n",
            "[CV] END activation_hidden=sigmoid, batch_size=32, epochs=100, learning_rate=0.0001, n_neurons=(100, 70); total time=   1.9s\n",
            "[CV] END activation_hidden=sigmoid, batch_size=32, epochs=100, learning_rate=0.0001, n_neurons=(100, 70); total time=   2.0s\n",
            "[CV] END activation_hidden=sigmoid, batch_size=32, epochs=100, learning_rate=0.0001, n_neurons=(100, 70); total time=   1.8s\n",
            "[CV] END activation_hidden=tanh, batch_size=48, epochs=100, learning_rate=0.001, n_neurons=(50,); total time=   1.4s\n",
            "[CV] END activation_hidden=tanh, batch_size=48, epochs=100, learning_rate=0.001, n_neurons=(50,); total time=   1.9s\n",
            "[CV] END activation_hidden=tanh, batch_size=48, epochs=100, learning_rate=0.001, n_neurons=(50,); total time=   1.9s\n",
            "[CV] END activation_hidden=tanh, batch_size=48, epochs=100, learning_rate=0.001, n_neurons=(50,); total time=   1.5s\n",
            "[CV] END activation_hidden=tanh, batch_size=48, epochs=100, learning_rate=0.001, n_neurons=(50,); total time=   1.4s\n",
            "[CV] END activation_hidden=sigmoid, batch_size=64, epochs=100, learning_rate=0.0001, n_neurons=(15, 10); total time=   1.4s\n",
            "[CV] END activation_hidden=sigmoid, batch_size=64, epochs=100, learning_rate=0.0001, n_neurons=(15, 10); total time=   2.0s\n",
            "[CV] END activation_hidden=sigmoid, batch_size=64, epochs=100, learning_rate=0.0001, n_neurons=(15, 10); total time=   1.4s\n",
            "[CV] END activation_hidden=sigmoid, batch_size=64, epochs=100, learning_rate=0.0001, n_neurons=(15, 10); total time=   1.9s\n",
            "[CV] END activation_hidden=sigmoid, batch_size=64, epochs=100, learning_rate=0.0001, n_neurons=(15, 10); total time=   1.9s\n",
            "[CV] END activation_hidden=tanh, batch_size=48, epochs=150, learning_rate=0.001, n_neurons=(20,); total time=   1.8s\n",
            "[CV] END activation_hidden=tanh, batch_size=48, epochs=150, learning_rate=0.001, n_neurons=(20,); total time=   1.9s\n",
            "[CV] END activation_hidden=tanh, batch_size=48, epochs=150, learning_rate=0.001, n_neurons=(20,); total time=   1.9s\n",
            "[CV] END activation_hidden=tanh, batch_size=48, epochs=150, learning_rate=0.001, n_neurons=(20,); total time=   1.8s\n",
            "[CV] END activation_hidden=tanh, batch_size=48, epochs=150, learning_rate=0.001, n_neurons=(20,); total time=   1.9s\n",
            "[CV] END activation_hidden=relu, batch_size=64, epochs=50, learning_rate=0.0001, n_neurons=(30, 20); total time=   1.3s\n",
            "[CV] END activation_hidden=relu, batch_size=64, epochs=50, learning_rate=0.0001, n_neurons=(30, 20); total time=   1.3s\n",
            "[CV] END activation_hidden=relu, batch_size=64, epochs=50, learning_rate=0.0001, n_neurons=(30, 20); total time=   1.1s\n",
            "[CV] END activation_hidden=relu, batch_size=64, epochs=50, learning_rate=0.0001, n_neurons=(30, 20); total time=   1.3s\n",
            "[CV] END activation_hidden=relu, batch_size=64, epochs=50, learning_rate=0.0001, n_neurons=(30, 20); total time=   1.3s\n",
            "[CV] END activation_hidden=tanh, batch_size=48, epochs=150, learning_rate=0.0001, n_neurons=(30,); total time=   1.9s\n",
            "[CV] END activation_hidden=tanh, batch_size=48, epochs=150, learning_rate=0.0001, n_neurons=(30,); total time=   1.9s\n",
            "[CV] END activation_hidden=tanh, batch_size=48, epochs=150, learning_rate=0.0001, n_neurons=(30,); total time=   1.8s\n",
            "[CV] END activation_hidden=tanh, batch_size=48, epochs=150, learning_rate=0.0001, n_neurons=(30,); total time=   2.6s\n",
            "[CV] END activation_hidden=tanh, batch_size=48, epochs=150, learning_rate=0.0001, n_neurons=(30,); total time=   1.8s\n",
            "[CV] END activation_hidden=sigmoid, batch_size=64, epochs=100, learning_rate=0.01, n_neurons=(30,); total time=   1.3s\n",
            "[CV] END activation_hidden=sigmoid, batch_size=64, epochs=100, learning_rate=0.01, n_neurons=(30,); total time=   1.9s\n",
            "[CV] END activation_hidden=sigmoid, batch_size=64, epochs=100, learning_rate=0.01, n_neurons=(30,); total time=   1.9s\n",
            "[CV] END activation_hidden=sigmoid, batch_size=64, epochs=100, learning_rate=0.01, n_neurons=(30,); total time=   1.2s\n",
            "[CV] END activation_hidden=sigmoid, batch_size=64, epochs=100, learning_rate=0.01, n_neurons=(30,); total time=   1.9s\n",
            "[CV] END activation_hidden=tanh, batch_size=48, epochs=100, learning_rate=0.01, n_neurons=(100, 70); total time=   1.5s\n",
            "[CV] END activation_hidden=tanh, batch_size=48, epochs=100, learning_rate=0.01, n_neurons=(100, 70); total time=   1.6s\n",
            "[CV] END activation_hidden=tanh, batch_size=48, epochs=100, learning_rate=0.01, n_neurons=(100, 70); total time=   1.5s\n",
            "[CV] END activation_hidden=tanh, batch_size=48, epochs=100, learning_rate=0.01, n_neurons=(100, 70); total time=   1.6s\n",
            "[CV] END activation_hidden=tanh, batch_size=48, epochs=100, learning_rate=0.01, n_neurons=(100, 70); total time=   2.0s\n",
            "[CV] END activation_hidden=sigmoid, batch_size=48, epochs=100, learning_rate=0.001, n_neurons=(100,); total time=   1.8s\n",
            "[CV] END activation_hidden=sigmoid, batch_size=48, epochs=100, learning_rate=0.001, n_neurons=(100,); total time=   1.4s\n",
            "[CV] END activation_hidden=sigmoid, batch_size=48, epochs=100, learning_rate=0.001, n_neurons=(100,); total time=   1.9s\n",
            "[CV] END activation_hidden=sigmoid, batch_size=48, epochs=100, learning_rate=0.001, n_neurons=(100,); total time=   1.9s\n",
            "[CV] END activation_hidden=sigmoid, batch_size=48, epochs=100, learning_rate=0.001, n_neurons=(100,); total time=   2.5s\n",
            "[CV] END activation_hidden=tanh, batch_size=48, epochs=50, learning_rate=0.001, n_neurons=(15,); total time=   1.1s\n",
            "[CV] END activation_hidden=tanh, batch_size=48, epochs=50, learning_rate=0.001, n_neurons=(15,); total time=   1.2s\n",
            "[CV] END activation_hidden=tanh, batch_size=48, epochs=50, learning_rate=0.001, n_neurons=(15,); total time=   1.2s\n",
            "[CV] END activation_hidden=tanh, batch_size=48, epochs=50, learning_rate=0.001, n_neurons=(15,); total time=   1.2s\n",
            "[CV] END activation_hidden=tanh, batch_size=48, epochs=50, learning_rate=0.001, n_neurons=(15,); total time=   1.2s\n",
            "[CV] END activation_hidden=tanh, batch_size=32, epochs=50, learning_rate=0.001, n_neurons=(15,); total time=   1.2s\n",
            "[CV] END activation_hidden=tanh, batch_size=32, epochs=50, learning_rate=0.001, n_neurons=(15,); total time=   1.1s\n",
            "[CV] END activation_hidden=tanh, batch_size=32, epochs=50, learning_rate=0.001, n_neurons=(15,); total time=   1.1s\n",
            "[CV] END activation_hidden=tanh, batch_size=32, epochs=50, learning_rate=0.001, n_neurons=(15,); total time=   1.3s\n",
            "[CV] END activation_hidden=tanh, batch_size=32, epochs=50, learning_rate=0.001, n_neurons=(15,); total time=   1.3s\n",
            "[CV] END activation_hidden=relu, batch_size=48, epochs=150, learning_rate=0.001, n_neurons=(50, 30); total time=   1.9s\n",
            "[CV] END activation_hidden=relu, batch_size=48, epochs=150, learning_rate=0.001, n_neurons=(50, 30); total time=   1.9s\n",
            "[CV] END activation_hidden=relu, batch_size=48, epochs=150, learning_rate=0.001, n_neurons=(50, 30); total time=   1.9s\n",
            "[CV] END activation_hidden=relu, batch_size=48, epochs=150, learning_rate=0.001, n_neurons=(50, 30); total time=   1.9s\n",
            "[CV] END activation_hidden=relu, batch_size=48, epochs=150, learning_rate=0.001, n_neurons=(50, 30); total time=   1.9s\n",
            "[CV] END activation_hidden=sigmoid, batch_size=48, epochs=100, learning_rate=0.0001, n_neurons=(50, 30); total time=   2.5s\n",
            "[CV] END activation_hidden=sigmoid, batch_size=48, epochs=100, learning_rate=0.0001, n_neurons=(50, 30); total time=   2.0s\n",
            "[CV] END activation_hidden=sigmoid, batch_size=48, epochs=100, learning_rate=0.0001, n_neurons=(50, 30); total time=   1.5s\n",
            "[CV] END activation_hidden=sigmoid, batch_size=48, epochs=100, learning_rate=0.0001, n_neurons=(50, 30); total time=   1.9s\n",
            "[CV] END activation_hidden=sigmoid, batch_size=48, epochs=100, learning_rate=0.0001, n_neurons=(50, 30); total time=   1.5s\n",
            "[CV] END activation_hidden=tanh, batch_size=48, epochs=150, learning_rate=0.01, n_neurons=(15, 10); total time=   2.0s\n",
            "[CV] END activation_hidden=tanh, batch_size=48, epochs=150, learning_rate=0.01, n_neurons=(15, 10); total time=   1.9s\n",
            "[CV] END activation_hidden=tanh, batch_size=48, epochs=150, learning_rate=0.01, n_neurons=(15, 10); total time=   1.9s\n",
            "[CV] END activation_hidden=tanh, batch_size=48, epochs=150, learning_rate=0.01, n_neurons=(15, 10); total time=   2.0s\n",
            "[CV] END activation_hidden=tanh, batch_size=48, epochs=150, learning_rate=0.01, n_neurons=(15, 10); total time=   1.9s\n",
            "[CV] END activation_hidden=tanh, batch_size=48, epochs=150, learning_rate=0.0001, n_neurons=(20,); total time=   1.9s\n",
            "[CV] END activation_hidden=tanh, batch_size=48, epochs=150, learning_rate=0.0001, n_neurons=(20,); total time=   1.9s\n",
            "[CV] END activation_hidden=tanh, batch_size=48, epochs=150, learning_rate=0.0001, n_neurons=(20,); total time=   1.7s\n",
            "[CV] END activation_hidden=tanh, batch_size=48, epochs=150, learning_rate=0.0001, n_neurons=(20,); total time=   1.9s\n",
            "[CV] END activation_hidden=tanh, batch_size=48, epochs=150, learning_rate=0.0001, n_neurons=(20,); total time=   1.8s\n",
            "[CV] END activation_hidden=tanh, batch_size=48, epochs=50, learning_rate=0.0001, n_neurons=(70,); total time=   1.5s\n",
            "[CV] END activation_hidden=tanh, batch_size=48, epochs=50, learning_rate=0.0001, n_neurons=(70,); total time=   1.0s\n",
            "[CV] END activation_hidden=tanh, batch_size=48, epochs=50, learning_rate=0.0001, n_neurons=(70,); total time=   1.2s\n",
            "[CV] END activation_hidden=tanh, batch_size=48, epochs=50, learning_rate=0.0001, n_neurons=(70,); total time=   1.2s\n",
            "[CV] END activation_hidden=tanh, batch_size=48, epochs=50, learning_rate=0.0001, n_neurons=(70,); total time=   1.2s\n",
            "[CV] END activation_hidden=sigmoid, batch_size=64, epochs=150, learning_rate=0.001, n_neurons=(15, 10); total time=   1.9s\n",
            "[CV] END activation_hidden=sigmoid, batch_size=64, epochs=150, learning_rate=0.001, n_neurons=(15, 10); total time=   1.7s\n",
            "[CV] END activation_hidden=sigmoid, batch_size=64, epochs=150, learning_rate=0.001, n_neurons=(15, 10); total time=   2.5s\n",
            "[CV] END activation_hidden=sigmoid, batch_size=64, epochs=150, learning_rate=0.001, n_neurons=(15, 10); total time=   1.9s\n",
            "[CV] END activation_hidden=sigmoid, batch_size=64, epochs=150, learning_rate=0.001, n_neurons=(15, 10); total time=   1.6s\n",
            "[CV] END activation_hidden=tanh, batch_size=32, epochs=100, learning_rate=0.0001, n_neurons=(70, 50); total time=   1.9s\n",
            "[CV] END activation_hidden=tanh, batch_size=32, epochs=100, learning_rate=0.0001, n_neurons=(70, 50); total time=   1.7s\n",
            "[CV] END activation_hidden=tanh, batch_size=32, epochs=100, learning_rate=0.0001, n_neurons=(70, 50); total time=   1.9s\n",
            "[CV] END activation_hidden=tanh, batch_size=32, epochs=100, learning_rate=0.0001, n_neurons=(70, 50); total time=   1.7s\n",
            "[CV] END activation_hidden=tanh, batch_size=32, epochs=100, learning_rate=0.0001, n_neurons=(70, 50); total time=   1.7s\n",
            "[CV] END activation_hidden=tanh, batch_size=32, epochs=150, learning_rate=0.01, n_neurons=(10, 10); total time=   3.0s\n",
            "[CV] END activation_hidden=tanh, batch_size=32, epochs=150, learning_rate=0.01, n_neurons=(10, 10); total time=   2.3s\n",
            "[CV] END activation_hidden=tanh, batch_size=32, epochs=150, learning_rate=0.01, n_neurons=(10, 10); total time=   2.2s\n",
            "[CV] END activation_hidden=tanh, batch_size=32, epochs=150, learning_rate=0.01, n_neurons=(10, 10); total time=   2.2s\n",
            "[CV] END activation_hidden=tanh, batch_size=32, epochs=150, learning_rate=0.01, n_neurons=(10, 10); total time=   3.3s\n",
            "[CV] END activation_hidden=tanh, batch_size=64, epochs=50, learning_rate=0.001, n_neurons=(20, 15); total time=   1.3s\n",
            "[CV] END activation_hidden=tanh, batch_size=64, epochs=50, learning_rate=0.001, n_neurons=(20, 15); total time=   1.0s\n",
            "[CV] END activation_hidden=tanh, batch_size=64, epochs=50, learning_rate=0.001, n_neurons=(20, 15); total time=   1.3s\n",
            "[CV] END activation_hidden=tanh, batch_size=64, epochs=50, learning_rate=0.001, n_neurons=(20, 15); total time=   1.0s\n",
            "[CV] END activation_hidden=tanh, batch_size=64, epochs=50, learning_rate=0.001, n_neurons=(20, 15); total time=   1.0s\n",
            "[CV] END activation_hidden=sigmoid, batch_size=32, epochs=150, learning_rate=0.001, n_neurons=(10,); total time=   2.1s\n",
            "[CV] END activation_hidden=sigmoid, batch_size=32, epochs=150, learning_rate=0.001, n_neurons=(10,); total time=   2.1s\n",
            "[CV] END activation_hidden=sigmoid, batch_size=32, epochs=150, learning_rate=0.001, n_neurons=(10,); total time=   2.1s\n",
            "[CV] END activation_hidden=sigmoid, batch_size=32, epochs=150, learning_rate=0.001, n_neurons=(10,); total time=   2.1s\n",
            "[CV] END activation_hidden=sigmoid, batch_size=32, epochs=150, learning_rate=0.001, n_neurons=(10,); total time=   3.2s\n",
            "[CV] END activation_hidden=relu, batch_size=48, epochs=100, learning_rate=0.01, n_neurons=(30, 20); total time=   1.9s\n",
            "[CV] END activation_hidden=relu, batch_size=48, epochs=100, learning_rate=0.01, n_neurons=(30, 20); total time=   2.1s\n",
            "[CV] END activation_hidden=relu, batch_size=48, epochs=100, learning_rate=0.01, n_neurons=(30, 20); total time=   2.0s\n",
            "[CV] END activation_hidden=relu, batch_size=48, epochs=100, learning_rate=0.01, n_neurons=(30, 20); total time=   1.5s\n",
            "[CV] END activation_hidden=relu, batch_size=48, epochs=100, learning_rate=0.01, n_neurons=(30, 20); total time=   1.5s\n",
            "[CV] END activation_hidden=tanh, batch_size=64, epochs=100, learning_rate=0.0001, n_neurons=(50, 30); total time=   1.9s\n",
            "[CV] END activation_hidden=tanh, batch_size=64, epochs=100, learning_rate=0.0001, n_neurons=(50, 30); total time=   1.4s\n",
            "[CV] END activation_hidden=tanh, batch_size=64, epochs=100, learning_rate=0.0001, n_neurons=(50, 30); total time=   2.0s\n",
            "[CV] END activation_hidden=tanh, batch_size=64, epochs=100, learning_rate=0.0001, n_neurons=(50, 30); total time=   2.0s\n",
            "[CV] END activation_hidden=tanh, batch_size=64, epochs=100, learning_rate=0.0001, n_neurons=(50, 30); total time=   1.9s\n",
            "[CV] END activation_hidden=sigmoid, batch_size=64, epochs=50, learning_rate=0.0001, n_neurons=(70,); total time=   1.2s\n",
            "[CV] END activation_hidden=sigmoid, batch_size=64, epochs=50, learning_rate=0.0001, n_neurons=(70,); total time=   1.0s\n",
            "[CV] END activation_hidden=sigmoid, batch_size=64, epochs=50, learning_rate=0.0001, n_neurons=(70,); total time=   1.2s\n",
            "[CV] END activation_hidden=sigmoid, batch_size=64, epochs=50, learning_rate=0.0001, n_neurons=(70,); total time=   1.0s\n",
            "[CV] END activation_hidden=sigmoid, batch_size=64, epochs=50, learning_rate=0.0001, n_neurons=(70,); total time=   0.9s\n",
            "[CV] END activation_hidden=relu, batch_size=32, epochs=50, learning_rate=0.001, n_neurons=(15,); total time=   1.1s\n",
            "[CV] END activation_hidden=relu, batch_size=32, epochs=50, learning_rate=0.001, n_neurons=(15,); total time=   1.2s\n",
            "[CV] END activation_hidden=relu, batch_size=32, epochs=50, learning_rate=0.001, n_neurons=(15,); total time=   1.7s\n",
            "[CV] END activation_hidden=relu, batch_size=32, epochs=50, learning_rate=0.001, n_neurons=(15,); total time=   1.2s\n",
            "[CV] END activation_hidden=relu, batch_size=32, epochs=50, learning_rate=0.001, n_neurons=(15,); total time=   1.2s\n",
            "[CV] END activation_hidden=relu, batch_size=48, epochs=150, learning_rate=0.0001, n_neurons=(50, 30); total time=   1.9s\n",
            "[CV] END activation_hidden=relu, batch_size=48, epochs=150, learning_rate=0.0001, n_neurons=(50, 30); total time=   1.9s\n",
            "[CV] END activation_hidden=relu, batch_size=48, epochs=150, learning_rate=0.0001, n_neurons=(50, 30); total time=   1.9s\n",
            "[CV] END activation_hidden=relu, batch_size=48, epochs=150, learning_rate=0.0001, n_neurons=(50, 30); total time=   1.9s\n",
            "[CV] END activation_hidden=relu, batch_size=48, epochs=150, learning_rate=0.0001, n_neurons=(50, 30); total time=   1.9s\n",
            "[CV] END activation_hidden=relu, batch_size=64, epochs=150, learning_rate=0.001, n_neurons=(10,); total time=   1.9s\n",
            "[CV] END activation_hidden=relu, batch_size=64, epochs=150, learning_rate=0.001, n_neurons=(10,); total time=   1.6s\n",
            "[CV] END activation_hidden=relu, batch_size=64, epochs=150, learning_rate=0.001, n_neurons=(10,); total time=   1.6s\n",
            "[CV] END activation_hidden=relu, batch_size=64, epochs=150, learning_rate=0.001, n_neurons=(10,); total time=   1.6s\n",
            "[CV] END activation_hidden=relu, batch_size=64, epochs=150, learning_rate=0.001, n_neurons=(10,); total time=   1.6s\n",
            "[CV] END activation_hidden=sigmoid, batch_size=64, epochs=100, learning_rate=0.0001, n_neurons=(10,); total time=   1.3s\n",
            "[CV] END activation_hidden=sigmoid, batch_size=64, epochs=100, learning_rate=0.0001, n_neurons=(10,); total time=   1.2s\n",
            "[CV] END activation_hidden=sigmoid, batch_size=64, epochs=100, learning_rate=0.0001, n_neurons=(10,); total time=   1.2s\n",
            "[CV] END activation_hidden=sigmoid, batch_size=64, epochs=100, learning_rate=0.0001, n_neurons=(10,); total time=   1.9s\n",
            "[CV] END activation_hidden=sigmoid, batch_size=64, epochs=100, learning_rate=0.0001, n_neurons=(10,); total time=   1.9s\n",
            "[CV] END activation_hidden=relu, batch_size=48, epochs=50, learning_rate=0.01, n_neurons=(30, 20); total time=   1.3s\n",
            "[CV] END activation_hidden=relu, batch_size=48, epochs=50, learning_rate=0.01, n_neurons=(30, 20); total time=   1.3s\n",
            "[CV] END activation_hidden=relu, batch_size=48, epochs=50, learning_rate=0.01, n_neurons=(30, 20); total time=   1.3s\n",
            "[CV] END activation_hidden=relu, batch_size=48, epochs=50, learning_rate=0.01, n_neurons=(30, 20); total time=   1.3s\n",
            "[CV] END activation_hidden=relu, batch_size=48, epochs=50, learning_rate=0.01, n_neurons=(30, 20); total time=   1.3s\n",
            "[CV] END activation_hidden=sigmoid, batch_size=32, epochs=50, learning_rate=0.001, n_neurons=(50,); total time=   1.1s\n",
            "[CV] END activation_hidden=sigmoid, batch_size=32, epochs=50, learning_rate=0.001, n_neurons=(50,); total time=   1.2s\n",
            "[CV] END activation_hidden=sigmoid, batch_size=32, epochs=50, learning_rate=0.001, n_neurons=(50,); total time=   1.1s\n",
            "[CV] END activation_hidden=sigmoid, batch_size=32, epochs=50, learning_rate=0.001, n_neurons=(50,); total time=   1.3s\n",
            "[CV] END activation_hidden=sigmoid, batch_size=32, epochs=50, learning_rate=0.001, n_neurons=(50,); total time=   1.3s\n",
            "[CV] END activation_hidden=sigmoid, batch_size=48, epochs=150, learning_rate=0.001, n_neurons=(30, 20); total time=   1.9s\n",
            "[CV] END activation_hidden=sigmoid, batch_size=48, epochs=150, learning_rate=0.001, n_neurons=(30, 20); total time=   1.9s\n",
            "[CV] END activation_hidden=sigmoid, batch_size=48, epochs=150, learning_rate=0.001, n_neurons=(30, 20); total time=   1.9s\n",
            "[CV] END activation_hidden=sigmoid, batch_size=48, epochs=150, learning_rate=0.001, n_neurons=(30, 20); total time=   2.6s\n",
            "[CV] END activation_hidden=sigmoid, batch_size=48, epochs=150, learning_rate=0.001, n_neurons=(30, 20); total time=   2.0s\n",
            "[CV] END activation_hidden=relu, batch_size=48, epochs=50, learning_rate=0.01, n_neurons=(70, 50); total time=   1.1s\n",
            "[CV] END activation_hidden=relu, batch_size=48, epochs=50, learning_rate=0.01, n_neurons=(70, 50); total time=   1.3s\n",
            "[CV] END activation_hidden=relu, batch_size=48, epochs=50, learning_rate=0.01, n_neurons=(70, 50); total time=   1.3s\n",
            "[CV] END activation_hidden=relu, batch_size=48, epochs=50, learning_rate=0.01, n_neurons=(70, 50); total time=   1.1s\n",
            "[CV] END activation_hidden=relu, batch_size=48, epochs=50, learning_rate=0.01, n_neurons=(70, 50); total time=   1.3s\n",
            "[CV] END activation_hidden=relu, batch_size=32, epochs=150, learning_rate=0.0001, n_neurons=(15, 10); total time=   2.3s\n",
            "[CV] END activation_hidden=relu, batch_size=32, epochs=150, learning_rate=0.0001, n_neurons=(15, 10); total time=   3.2s\n",
            "[CV] END activation_hidden=relu, batch_size=32, epochs=150, learning_rate=0.0001, n_neurons=(15, 10); total time=   2.3s\n",
            "[CV] END activation_hidden=relu, batch_size=32, epochs=150, learning_rate=0.0001, n_neurons=(15, 10); total time=   3.2s\n",
            "[CV] END activation_hidden=relu, batch_size=32, epochs=150, learning_rate=0.0001, n_neurons=(15, 10); total time=   3.2s\n",
            "[CV] END activation_hidden=sigmoid, batch_size=32, epochs=50, learning_rate=0.0001, n_neurons=(100, 70); total time=   1.3s\n",
            "[CV] END activation_hidden=sigmoid, batch_size=32, epochs=50, learning_rate=0.0001, n_neurons=(100, 70); total time=   1.3s\n",
            "[CV] END activation_hidden=sigmoid, batch_size=32, epochs=50, learning_rate=0.0001, n_neurons=(100, 70); total time=   1.3s\n",
            "[CV] END activation_hidden=sigmoid, batch_size=32, epochs=50, learning_rate=0.0001, n_neurons=(100, 70); total time=   1.3s\n",
            "[CV] END activation_hidden=sigmoid, batch_size=32, epochs=50, learning_rate=0.0001, n_neurons=(100, 70); total time=   1.9s\n"
          ]
        },
        {
          "output_type": "execute_result",
          "data": {
            "text/plain": [
              "RandomizedSearchCV(cv=5,\n",
              "                   estimator=<keras.wrappers.scikit_learn.KerasClassifier object at 0x7ff929f086d0>,\n",
              "                   n_iter=100,\n",
              "                   param_distributions={'activation_hidden': ['relu', 'sigmoid',\n",
              "                                                              'tanh'],\n",
              "                                        'batch_size': [32, 48, 64],\n",
              "                                        'epochs': [50, 100, 150],\n",
              "                                        'learning_rate': [0.0001, 0.001, 0.01],\n",
              "                                        'n_neurons': [(10,), (10, 10), (15,),\n",
              "                                                      (15, 10), (20,), (20, 15),\n",
              "                                                      (30,), (30, 20), (50,),\n",
              "                                                      (50, 30), (70,), (70, 50),\n",
              "                                                      (100,), (100, 70)]},\n",
              "                   scoring='accuracy', verbose=2)"
            ]
          },
          "metadata": {},
          "execution_count": 69
        }
      ]
    },
    {
      "cell_type": "markdown",
      "source": [
        "Hyperparameter yang dilakukan tuning adalah jumlah hidden layer, jumlah neuron di masing - masing hidden layer, learning rate, fungsi aktivasi di hidden layer, epochs, dan batch size"
      ],
      "metadata": {
        "id": "wQeI5BHlcEXt"
      }
    },
    {
      "cell_type": "code",
      "source": [
        "# melihat hasil hyperparameter tuning\n",
        "rs_result = pd.DataFrame(rand_search.cv_results_)\n",
        "rs_result_df = rs_result.sort_values('rank_test_score')[['param_n_neurons', \n",
        "                                                         'param_learning_rate', \n",
        "                                                         'param_activation_hidden', \n",
        "                                                         'param_epochs', \n",
        "                                                         'param_batch_size', \n",
        "                                                         'mean_test_score', \n",
        "                                                         'rank_test_score']]\n",
        "rs_result_df.head()"
      ],
      "metadata": {
        "colab": {
          "base_uri": "https://localhost:8080/",
          "height": 206
        },
        "id": "REqKQcESV3IS",
        "outputId": "a26e448c-a97e-4668-9d37-32e1061a2e21"
      },
      "execution_count": null,
      "outputs": [
        {
          "output_type": "execute_result",
          "data": {
            "text/plain": [
              "   param_n_neurons param_learning_rate param_activation_hidden param_epochs  \\\n",
              "54           (20,)                0.01                    tanh           50   \n",
              "75           (15,)               0.001                    tanh           50   \n",
              "55           (20,)               0.001                    tanh          100   \n",
              "0            (10,)                0.01                    tanh          150   \n",
              "25           (70,)               0.001                    relu          100   \n",
              "\n",
              "   param_batch_size  mean_test_score  rank_test_score  \n",
              "54               48         0.843112                1  \n",
              "75               48         0.834864                2  \n",
              "55               32         0.830867                3  \n",
              "0                64         0.826956                4  \n",
              "25               48         0.826786                5  "
            ],
            "text/html": [
              "\n",
              "  <div id=\"df-e053652f-b971-4433-b3ec-8ab0d68b3607\">\n",
              "    <div class=\"colab-df-container\">\n",
              "      <div>\n",
              "<style scoped>\n",
              "    .dataframe tbody tr th:only-of-type {\n",
              "        vertical-align: middle;\n",
              "    }\n",
              "\n",
              "    .dataframe tbody tr th {\n",
              "        vertical-align: top;\n",
              "    }\n",
              "\n",
              "    .dataframe thead th {\n",
              "        text-align: right;\n",
              "    }\n",
              "</style>\n",
              "<table border=\"1\" class=\"dataframe\">\n",
              "  <thead>\n",
              "    <tr style=\"text-align: right;\">\n",
              "      <th></th>\n",
              "      <th>param_n_neurons</th>\n",
              "      <th>param_learning_rate</th>\n",
              "      <th>param_activation_hidden</th>\n",
              "      <th>param_epochs</th>\n",
              "      <th>param_batch_size</th>\n",
              "      <th>mean_test_score</th>\n",
              "      <th>rank_test_score</th>\n",
              "    </tr>\n",
              "  </thead>\n",
              "  <tbody>\n",
              "    <tr>\n",
              "      <th>54</th>\n",
              "      <td>(20,)</td>\n",
              "      <td>0.01</td>\n",
              "      <td>tanh</td>\n",
              "      <td>50</td>\n",
              "      <td>48</td>\n",
              "      <td>0.843112</td>\n",
              "      <td>1</td>\n",
              "    </tr>\n",
              "    <tr>\n",
              "      <th>75</th>\n",
              "      <td>(15,)</td>\n",
              "      <td>0.001</td>\n",
              "      <td>tanh</td>\n",
              "      <td>50</td>\n",
              "      <td>48</td>\n",
              "      <td>0.834864</td>\n",
              "      <td>2</td>\n",
              "    </tr>\n",
              "    <tr>\n",
              "      <th>55</th>\n",
              "      <td>(20,)</td>\n",
              "      <td>0.001</td>\n",
              "      <td>tanh</td>\n",
              "      <td>100</td>\n",
              "      <td>32</td>\n",
              "      <td>0.830867</td>\n",
              "      <td>3</td>\n",
              "    </tr>\n",
              "    <tr>\n",
              "      <th>0</th>\n",
              "      <td>(10,)</td>\n",
              "      <td>0.01</td>\n",
              "      <td>tanh</td>\n",
              "      <td>150</td>\n",
              "      <td>64</td>\n",
              "      <td>0.826956</td>\n",
              "      <td>4</td>\n",
              "    </tr>\n",
              "    <tr>\n",
              "      <th>25</th>\n",
              "      <td>(70,)</td>\n",
              "      <td>0.001</td>\n",
              "      <td>relu</td>\n",
              "      <td>100</td>\n",
              "      <td>48</td>\n",
              "      <td>0.826786</td>\n",
              "      <td>5</td>\n",
              "    </tr>\n",
              "  </tbody>\n",
              "</table>\n",
              "</div>\n",
              "      <button class=\"colab-df-convert\" onclick=\"convertToInteractive('df-e053652f-b971-4433-b3ec-8ab0d68b3607')\"\n",
              "              title=\"Convert this dataframe to an interactive table.\"\n",
              "              style=\"display:none;\">\n",
              "        \n",
              "  <svg xmlns=\"http://www.w3.org/2000/svg\" height=\"24px\"viewBox=\"0 0 24 24\"\n",
              "       width=\"24px\">\n",
              "    <path d=\"M0 0h24v24H0V0z\" fill=\"none\"/>\n",
              "    <path d=\"M18.56 5.44l.94 2.06.94-2.06 2.06-.94-2.06-.94-.94-2.06-.94 2.06-2.06.94zm-11 1L8.5 8.5l.94-2.06 2.06-.94-2.06-.94L8.5 2.5l-.94 2.06-2.06.94zm10 10l.94 2.06.94-2.06 2.06-.94-2.06-.94-.94-2.06-.94 2.06-2.06.94z\"/><path d=\"M17.41 7.96l-1.37-1.37c-.4-.4-.92-.59-1.43-.59-.52 0-1.04.2-1.43.59L10.3 9.45l-7.72 7.72c-.78.78-.78 2.05 0 2.83L4 21.41c.39.39.9.59 1.41.59.51 0 1.02-.2 1.41-.59l7.78-7.78 2.81-2.81c.8-.78.8-2.07 0-2.86zM5.41 20L4 18.59l7.72-7.72 1.47 1.35L5.41 20z\"/>\n",
              "  </svg>\n",
              "      </button>\n",
              "      \n",
              "  <style>\n",
              "    .colab-df-container {\n",
              "      display:flex;\n",
              "      flex-wrap:wrap;\n",
              "      gap: 12px;\n",
              "    }\n",
              "\n",
              "    .colab-df-convert {\n",
              "      background-color: #E8F0FE;\n",
              "      border: none;\n",
              "      border-radius: 50%;\n",
              "      cursor: pointer;\n",
              "      display: none;\n",
              "      fill: #1967D2;\n",
              "      height: 32px;\n",
              "      padding: 0 0 0 0;\n",
              "      width: 32px;\n",
              "    }\n",
              "\n",
              "    .colab-df-convert:hover {\n",
              "      background-color: #E2EBFA;\n",
              "      box-shadow: 0px 1px 2px rgba(60, 64, 67, 0.3), 0px 1px 3px 1px rgba(60, 64, 67, 0.15);\n",
              "      fill: #174EA6;\n",
              "    }\n",
              "\n",
              "    [theme=dark] .colab-df-convert {\n",
              "      background-color: #3B4455;\n",
              "      fill: #D2E3FC;\n",
              "    }\n",
              "\n",
              "    [theme=dark] .colab-df-convert:hover {\n",
              "      background-color: #434B5C;\n",
              "      box-shadow: 0px 1px 3px 1px rgba(0, 0, 0, 0.15);\n",
              "      filter: drop-shadow(0px 1px 2px rgba(0, 0, 0, 0.3));\n",
              "      fill: #FFFFFF;\n",
              "    }\n",
              "  </style>\n",
              "\n",
              "      <script>\n",
              "        const buttonEl =\n",
              "          document.querySelector('#df-e053652f-b971-4433-b3ec-8ab0d68b3607 button.colab-df-convert');\n",
              "        buttonEl.style.display =\n",
              "          google.colab.kernel.accessAllowed ? 'block' : 'none';\n",
              "\n",
              "        async function convertToInteractive(key) {\n",
              "          const element = document.querySelector('#df-e053652f-b971-4433-b3ec-8ab0d68b3607');\n",
              "          const dataTable =\n",
              "            await google.colab.kernel.invokeFunction('convertToInteractive',\n",
              "                                                     [key], {});\n",
              "          if (!dataTable) return;\n",
              "\n",
              "          const docLinkHtml = 'Like what you see? Visit the ' +\n",
              "            '<a target=\"_blank\" href=https://colab.research.google.com/notebooks/data_table.ipynb>data table notebook</a>'\n",
              "            + ' to learn more about interactive tables.';\n",
              "          element.innerHTML = '';\n",
              "          dataTable['output_type'] = 'display_data';\n",
              "          await google.colab.output.renderOutput(dataTable, element);\n",
              "          const docLink = document.createElement('div');\n",
              "          docLink.innerHTML = docLinkHtml;\n",
              "          element.appendChild(docLink);\n",
              "        }\n",
              "      </script>\n",
              "    </div>\n",
              "  </div>\n",
              "  "
            ]
          },
          "metadata": {},
          "execution_count": 72
        }
      ]
    },
    {
      "cell_type": "markdown",
      "source": [
        "Berdasarkan hyperparameter tuning, dapat kita lihat pada tabel diatas bahwa jumlah hidden layer 1 dengan 20 neuron, learning rate 0.01, fungsi aktivasi di hidden layer = tanh, jumlah epochs 50, dan jumlah batch size = 48, mendapatkan ranking 1 (yaitu, memiliki mean_test_score terbesar, mean_test_score adalah rata - rata akurasi pada data validasi di cross validation).\n",
        "\n",
        "Sehingga akan digunakan model tersebut"
      ],
      "metadata": {
        "id": "CryIAsUWbq1Z"
      }
    },
    {
      "cell_type": "markdown",
      "source": [
        "### Training model"
      ],
      "metadata": {
        "id": "1GKNpAuNdZUx"
      }
    },
    {
      "cell_type": "code",
      "source": [
        "# Training model hasil hyperparameter tuning\n",
        "stop_early = keras.callbacks.EarlyStopping(monitor=\"loss\", patience=4, verbose=1)   # inisiasi early stopping\n",
        "                                                                                    #monitor yang digunakan loss karena tidak ada validation set\n",
        "final_model = build_model(n_neurons=(20,), learning_rate=0.01,                      # membuat model final dengan hyperparameter hasil tuning\n",
        "                          activation_hidden='tanh')\n",
        "history = final_model.fit(X_train_prepared, y_train, epochs=50, batch_size=48,      # proses training model\n",
        "                          callbacks=[stop_early])"
      ],
      "metadata": {
        "colab": {
          "base_uri": "https://localhost:8080/"
        },
        "collapsed": true,
        "id": "kdBKFFe_aSXs",
        "outputId": "9d8682bb-efb5-496a-a3a5-fb4eef4bfe7d"
      },
      "execution_count": null,
      "outputs": [
        {
          "output_type": "stream",
          "name": "stdout",
          "text": [
            "Epoch 1/50\n",
            "6/6 [==============================] - 1s 4ms/step - loss: 0.5880 - accuracy: 0.6901\n",
            "Epoch 2/50\n",
            "6/6 [==============================] - 0s 4ms/step - loss: 0.4336 - accuracy: 0.7769\n",
            "Epoch 3/50\n",
            "6/6 [==============================] - 0s 6ms/step - loss: 0.3889 - accuracy: 0.8306\n",
            "Epoch 4/50\n",
            "6/6 [==============================] - 0s 4ms/step - loss: 0.3711 - accuracy: 0.8430\n",
            "Epoch 5/50\n",
            "6/6 [==============================] - 0s 4ms/step - loss: 0.3635 - accuracy: 0.8388\n",
            "Epoch 6/50\n",
            "6/6 [==============================] - 0s 4ms/step - loss: 0.3536 - accuracy: 0.8471\n",
            "Epoch 7/50\n",
            "6/6 [==============================] - 0s 4ms/step - loss: 0.3477 - accuracy: 0.8595\n",
            "Epoch 8/50\n",
            "6/6 [==============================] - 0s 4ms/step - loss: 0.3402 - accuracy: 0.8636\n",
            "Epoch 9/50\n",
            "6/6 [==============================] - 0s 6ms/step - loss: 0.3365 - accuracy: 0.8554\n",
            "Epoch 10/50\n",
            "6/6 [==============================] - 0s 6ms/step - loss: 0.3357 - accuracy: 0.8595\n",
            "Epoch 11/50\n",
            "6/6 [==============================] - 0s 4ms/step - loss: 0.3351 - accuracy: 0.8471\n",
            "Epoch 12/50\n",
            "6/6 [==============================] - 0s 9ms/step - loss: 0.3283 - accuracy: 0.8636\n",
            "Epoch 13/50\n",
            "6/6 [==============================] - 0s 9ms/step - loss: 0.3259 - accuracy: 0.8636\n",
            "Epoch 14/50\n",
            "6/6 [==============================] - 0s 8ms/step - loss: 0.3292 - accuracy: 0.8760\n",
            "Epoch 15/50\n",
            "6/6 [==============================] - 0s 8ms/step - loss: 0.3194 - accuracy: 0.8843\n",
            "Epoch 16/50\n",
            "6/6 [==============================] - 0s 9ms/step - loss: 0.3177 - accuracy: 0.8802\n",
            "Epoch 17/50\n",
            "6/6 [==============================] - 0s 9ms/step - loss: 0.3209 - accuracy: 0.8719\n",
            "Epoch 18/50\n",
            "6/6 [==============================] - 0s 8ms/step - loss: 0.3289 - accuracy: 0.8760\n",
            "Epoch 19/50\n",
            "6/6 [==============================] - 0s 8ms/step - loss: 0.3356 - accuracy: 0.8636\n",
            "Epoch 20/50\n",
            "6/6 [==============================] - 0s 11ms/step - loss: 0.3310 - accuracy: 0.8636\n",
            "Epoch 20: early stopping\n"
          ]
        }
      ]
    },
    {
      "cell_type": "markdown",
      "source": [
        "Pada epochs ke 20 proses training berhenti karena digunakan early stopping dengan patience 4"
      ],
      "metadata": {
        "id": "GOAZrsycduGa"
      }
    },
    {
      "cell_type": "code",
      "source": [
        "# Rangkuman model\n",
        "final_model.summary()"
      ],
      "metadata": {
        "colab": {
          "base_uri": "https://localhost:8080/"
        },
        "id": "Gw5Dy8nHdMoR",
        "outputId": "80c56b7a-d232-4f34-9d68-7ee1d177344a"
      },
      "execution_count": null,
      "outputs": [
        {
          "output_type": "stream",
          "name": "stdout",
          "text": [
            "Model: \"sequential_548\"\n",
            "_________________________________________________________________\n",
            " Layer (type)                Output Shape              Param #   \n",
            "=================================================================\n",
            " dense_1384 (Dense)          (None, 20)                280       \n",
            "                                                                 \n",
            " dense_1385 (Dense)          (None, 1)                 21        \n",
            "                                                                 \n",
            "=================================================================\n",
            "Total params: 301\n",
            "Trainable params: 301\n",
            "Non-trainable params: 0\n",
            "_________________________________________________________________\n"
          ]
        }
      ]
    },
    {
      "cell_type": "markdown",
      "source": [
        "Model memiliki total 301 parameter (yaitu weight dan bias di semua neuronnya). "
      ],
      "metadata": {
        "id": "fGQOdzJzd3aR"
      }
    },
    {
      "cell_type": "code",
      "source": [
        "# Plot learning curve dari model\n",
        "pd.DataFrame(history.history).plot()\n",
        "plt.title('Final Model Learning Curve')\n",
        "plt.show()"
      ],
      "metadata": {
        "colab": {
          "base_uri": "https://localhost:8080/",
          "height": 281
        },
        "id": "H1TNuPdHdPJr",
        "outputId": "e5b40e07-1653-451b-8071-37bed9faae28"
      },
      "execution_count": null,
      "outputs": [
        {
          "output_type": "display_data",
          "data": {
            "text/plain": [
              "<Figure size 432x288 with 1 Axes>"
            ],
            "image/png": "[encoded data removed]"
          },
          "metadata": {
            "needs_background": "light"
          }
        }
      ]
    },
    {
      "cell_type": "markdown",
      "source": [
        "### Predict test set"
      ],
      "metadata": {
        "id": "TN41YITJeJWj"
      }
    },
    {
      "cell_type": "code",
      "source": [
        "# Standarisasi test set (scaling)\n",
        "X_test_prepared = std_scale.transform(X_test)"
      ],
      "metadata": {
        "id": "D8jPZyOkboek"
      },
      "execution_count": null,
      "outputs": []
    },
    {
      "cell_type": "code",
      "source": [
        "# Prediksi test set menggunakan model yang sudah di-train sebelumnya \n",
        "y_pred_proba = final_model.predict(X_test_prepared)\n",
        "y_pred_proba[:5]"
      ],
      "metadata": {
        "colab": {
          "base_uri": "https://localhost:8080/"
        },
        "id": "Hp6X-AwvbvUj",
        "outputId": "a6de642b-ffaa-4313-b1a6-ccbee5792849"
      },
      "execution_count": null,
      "outputs": [
        {
          "output_type": "execute_result",
          "data": {
            "text/plain": [
              "array([[0.85921645],\n",
              "       [0.97251976],\n",
              "       [0.03224513],\n",
              "       [0.8476062 ],\n",
              "       [0.9903429 ]], dtype=float32)"
            ]
          },
          "metadata": {},
          "execution_count": 101
        }
      ]
    },
    {
      "cell_type": "markdown",
      "source": [
        "Output dari prediksi model berbentuk probabilitas, sehingga diperlukan threshold untuk menentukan apakah prediksi bernilai 0 atau 1"
      ],
      "metadata": {
        "id": "wMvBT93aeYTZ"
      }
    },
    {
      "cell_type": "code",
      "source": [
        "# Ubah prediksi probabilitas menjadi nilai yang biner\n",
        "y_pred = (y_pred_proba >= 0.5).astype(np.int)\n",
        "y_pred[:5]"
      ],
      "metadata": {
        "colab": {
          "base_uri": "https://localhost:8080/"
        },
        "id": "Y18Vk2vOb7Mx",
        "outputId": "81e3eee8-da81-4ea0-e4ec-a983c421629f"
      },
      "execution_count": null,
      "outputs": [
        {
          "output_type": "execute_result",
          "data": {
            "text/plain": [
              "array([[1],\n",
              "       [1],\n",
              "       [0],\n",
              "       [1],\n",
              "       [1]])"
            ]
          },
          "metadata": {},
          "execution_count": 102
        }
      ]
    },
    {
      "cell_type": "markdown",
      "source": [
        "Prediksi probabilitas diubah menjadi bernilai 0 dan 1 dengan threshold 0.5"
      ],
      "metadata": {
        "id": "O46S4CCFeiQv"
      }
    },
    {
      "cell_type": "code",
      "source": [
        "# Print hasil evaluasi model pada test set \n",
        "print(classification_report(y_test, y_pred))"
      ],
      "metadata": {
        "colab": {
          "base_uri": "https://localhost:8080/"
        },
        "id": "6pvwrhdTcE82",
        "outputId": "06eebfc7-47a5-4822-dd5d-5f4dbbb40b65"
      },
      "execution_count": null,
      "outputs": [
        {
          "output_type": "stream",
          "name": "stdout",
          "text": [
            "              precision    recall  f1-score   support\n",
            "\n",
            "           0       0.93      0.85      0.89        33\n",
            "           1       0.84      0.93      0.88        28\n",
            "\n",
            "    accuracy                           0.89        61\n",
            "   macro avg       0.89      0.89      0.89        61\n",
            "weighted avg       0.89      0.89      0.89        61\n",
            "\n"
          ]
        }
      ]
    },
    {
      "cell_type": "markdown",
      "source": [
        "Pada classification report diperoleh nilai precision, recall, f1-score, dan akurasi yang baik, yaitu: \n",
        "\n",
        "- Precision pada class 0 = 0.93\n",
        "- Precision pada class 1 = 0.84\n",
        "- Recall pada class 0 = 0.85\n",
        "- Recall pada class 1 = 0.93\n",
        "- F1-score pada class 0 = 0.89\n",
        "- F1-score pada class 1 = 0.88\n",
        "- Rata - rata precision dari kedua class = 0.89\n",
        "- Rata - rata recall dari kedua class = 0.89\n",
        "- Rata - rata f1-score dari kedua class = 0.89\n",
        "- Akurasi = 0.89"
      ],
      "metadata": {
        "id": "VKRnL5F6e2du"
      }
    },
    {
      "cell_type": "markdown",
      "source": [
        "# No 2"
      ],
      "metadata": {
        "id": "1NwWf0zMd2XD"
      }
    },
    {
      "cell_type": "markdown",
      "source": [
        "## Data Exploration"
      ],
      "metadata": {
        "id": "rMZ66wK6y2p4"
      }
    },
    {
      "cell_type": "code",
      "source": [
        "# Membaca .txt tentang kolom - kolom dataset yang diberikan pada soal\n",
        "with open('/content/readme.txt', 'r') as f:\n",
        "  print(f.read())"
      ],
      "metadata": {
        "colab": {
          "base_uri": "https://localhost:8080/"
        },
        "id": "9tBYbrEWcIXg",
        "outputId": "8de2c059-2fec-47e2-b946-ef9f46705746"
      },
      "execution_count": null,
      "outputs": [
        {
          "output_type": "stream",
          "name": "stdout",
          "text": [
            "About this file\n",
            "Attribute Information: (classes: edible=e, poisonous=p)\n",
            "\n",
            "cap-shape: bell=b,conical=c,convex=x,flat=f, knobbed=k,sunken=s\n",
            "\n",
            "cap-surface: fibrous=f,grooves=g,scaly=y,smooth=s\n",
            "\n",
            "cap-color: brown=n,buff=b,cinnamon=c,gray=g,green=r,pink=p,purple=u,red=e,white=w,yellow=y\n",
            "\n",
            "bruises: bruises=t,no=f\n",
            "\n",
            "odor: almond=a,anise=l,creosote=c,fishy=y,foul=f,musty=m,none=n,pungent=p,spicy=s\n",
            "\n",
            "gill-attachment: attached=a,descending=d,free=f,notched=n\n",
            "\n",
            "gill-spacing: close=c,crowded=w,distant=d\n",
            "\n",
            "gill-size: broad=b,narrow=n\n",
            "\n",
            "gill-color: black=k,brown=n,buff=b,chocolate=h,gray=g, green=r,orange=o,pink=p,purple=u,red=e,white=w,yellow=y\n",
            "\n",
            "stalk-shape: enlarging=e,tapering=t\n",
            "\n",
            "stalk-root: bulbous=b,club=c,cup=u,equal=e,rhizomorphs=z,rooted=r,missing=?\n",
            "\n",
            "stalk-surface-above-ring: fibrous=f,scaly=y,silky=k,smooth=s\n",
            "\n",
            "stalk-surface-below-ring: fibrous=f,scaly=y,silky=k,smooth=s\n",
            "\n",
            "stalk-color-above-ring: brown=n,buff=b,cinnamon=c,gray=g,orange=o,pink=p,red=e,white=w,yellow=y\n",
            "\n",
            "stalk-color-below-ring: brown=n,buff=b,cinnamon=c,gray=g,orange=o,pink=p,red=e,white=w,yellow=y\n",
            "\n",
            "veil-type: partial=p,universal=u\n",
            "\n",
            "veil-color: brown=n,orange=o,white=w,yellow=y\n",
            "\n",
            "ring-number: none=n,one=o,two=t\n",
            "\n",
            "ring-type: cobwebby=c,evanescent=e,flaring=f,large=l,none=n,pendant=p,sheathing=s,zone=z\n",
            "\n",
            "spore-print-color: black=k,brown=n,buff=b,chocolate=h,green=r,orange=o,purple=u,white=w,yellow=y\n",
            "\n",
            "population: abundant=a,clustered=c,numerous=n,scattered=s,several=v,solitary=y\n",
            "\n",
            "habitat: grasses=g,leaves=l,meadows=m,paths=p,urban=u,waste=w,woods=d\n"
          ]
        }
      ]
    },
    {
      "cell_type": "code",
      "source": [
        "jamur_df = pd.read_csv('/content/Jamur.csv')  # inisiasi data Jamur.csv pada variabel jamur_df\n",
        "jamur_df.head()                               # melihat 5 baris awal jamur_df"
      ],
      "metadata": {
        "colab": {
          "base_uri": "https://localhost:8080/",
          "height": 352
        },
        "id": "7VzY1x0zeJuC",
        "outputId": "b98f4a56-634e-429f-9dd5-7feaabe4acd9"
      },
      "execution_count": null,
      "outputs": [
        {
          "output_type": "execute_result",
          "data": {
            "text/plain": [
              "  class cap-shape cap-surface cap-color bruises odor gill-attachment  \\\n",
              "0     p         x           s         n       t    p               f   \n",
              "1     e         x           s         y       t    a               f   \n",
              "2     e         b           s         w       t    l               f   \n",
              "3     p         x           y         w       t    p               f   \n",
              "4     e         x           s         g       f    n               f   \n",
              "\n",
              "  gill-spacing gill-size gill-color  ... stalk-surface-below-ring  \\\n",
              "0            c         n          k  ...                        s   \n",
              "1            c         b          k  ...                        s   \n",
              "2            c         b          n  ...                        s   \n",
              "3            c         n          n  ...                        s   \n",
              "4            w         b          k  ...                        s   \n",
              "\n",
              "  stalk-color-above-ring stalk-color-below-ring veil-type veil-color  \\\n",
              "0                      w                      w         p          w   \n",
              "1                      w                      w         p          w   \n",
              "2                      w                      w         p          w   \n",
              "3                      w                      w         p          w   \n",
              "4                      w                      w         p          w   \n",
              "\n",
              "  ring-number ring-type spore-print-color population habitat  \n",
              "0           o         p                 k          s       u  \n",
              "1           o         p                 n          n       g  \n",
              "2           o         p                 n          n       m  \n",
              "3           o         p                 k          s       u  \n",
              "4           o         e                 n          a       g  \n",
              "\n",
              "[5 rows x 23 columns]"
            ],
            "text/html": [
              "\n",
              "  <div id=\"df-e3a0b6ae-21dd-4a70-92d3-86a677daa370\">\n",
              "    <div class=\"colab-df-container\">\n",
              "      <div>\n",
              "<style scoped>\n",
              "    .dataframe tbody tr th:only-of-type {\n",
              "        vertical-align: middle;\n",
              "    }\n",
              "\n",
              "    .dataframe tbody tr th {\n",
              "        vertical-align: top;\n",
              "    }\n",
              "\n",
              "    .dataframe thead th {\n",
              "        text-align: right;\n",
              "    }\n",
              "</style>\n",
              "<table border=\"1\" class=\"dataframe\">\n",
              "  <thead>\n",
              "    <tr style=\"text-align: right;\">\n",
              "      <th></th>\n",
              "      <th>class</th>\n",
              "      <th>cap-shape</th>\n",
              "      <th>cap-surface</th>\n",
              "      <th>cap-color</th>\n",
              "      <th>bruises</th>\n",
              "      <th>odor</th>\n",
              "      <th>gill-attachment</th>\n",
              "      <th>gill-spacing</th>\n",
              "      <th>gill-size</th>\n",
              "      <th>gill-color</th>\n",
              "      <th>...</th>\n",
              "      <th>stalk-surface-below-ring</th>\n",
              "      <th>stalk-color-above-ring</th>\n",
              "      <th>stalk-color-below-ring</th>\n",
              "      <th>veil-type</th>\n",
              "      <th>veil-color</th>\n",
              "      <th>ring-number</th>\n",
              "      <th>ring-type</th>\n",
              "      <th>spore-print-color</th>\n",
              "      <th>population</th>\n",
              "      <th>habitat</th>\n",
              "    </tr>\n",
              "  </thead>\n",
              "  <tbody>\n",
              "    <tr>\n",
              "      <th>0</th>\n",
              "      <td>p</td>\n",
              "      <td>x</td>\n",
              "      <td>s</td>\n",
              "      <td>n</td>\n",
              "      <td>t</td>\n",
              "      <td>p</td>\n",
              "      <td>f</td>\n",
              "      <td>c</td>\n",
              "      <td>n</td>\n",
              "      <td>k</td>\n",
              "      <td>...</td>\n",
              "      <td>s</td>\n",
              "      <td>w</td>\n",
              "      <td>w</td>\n",
              "      <td>p</td>\n",
              "      <td>w</td>\n",
              "      <td>o</td>\n",
              "      <td>p</td>\n",
              "      <td>k</td>\n",
              "      <td>s</td>\n",
              "      <td>u</td>\n",
              "    </tr>\n",
              "    <tr>\n",
              "      <th>1</th>\n",
              "      <td>e</td>\n",
              "      <td>x</td>\n",
              "      <td>s</td>\n",
              "      <td>y</td>\n",
              "      <td>t</td>\n",
              "      <td>a</td>\n",
              "      <td>f</td>\n",
              "      <td>c</td>\n",
              "      <td>b</td>\n",
              "      <td>k</td>\n",
              "      <td>...</td>\n",
              "      <td>s</td>\n",
              "      <td>w</td>\n",
              "      <td>w</td>\n",
              "      <td>p</td>\n",
              "      <td>w</td>\n",
              "      <td>o</td>\n",
              "      <td>p</td>\n",
              "      <td>n</td>\n",
              "      <td>n</td>\n",
              "      <td>g</td>\n",
              "    </tr>\n",
              "    <tr>\n",
              "      <th>2</th>\n",
              "      <td>e</td>\n",
              "      <td>b</td>\n",
              "      <td>s</td>\n",
              "      <td>w</td>\n",
              "      <td>t</td>\n",
              "      <td>l</td>\n",
              "      <td>f</td>\n",
              "      <td>c</td>\n",
              "      <td>b</td>\n",
              "      <td>n</td>\n",
              "      <td>...</td>\n",
              "      <td>s</td>\n",
              "      <td>w</td>\n",
              "      <td>w</td>\n",
              "      <td>p</td>\n",
              "      <td>w</td>\n",
              "      <td>o</td>\n",
              "      <td>p</td>\n",
              "      <td>n</td>\n",
              "      <td>n</td>\n",
              "      <td>m</td>\n",
              "    </tr>\n",
              "    <tr>\n",
              "      <th>3</th>\n",
              "      <td>p</td>\n",
              "      <td>x</td>\n",
              "      <td>y</td>\n",
              "      <td>w</td>\n",
              "      <td>t</td>\n",
              "      <td>p</td>\n",
              "      <td>f</td>\n",
              "      <td>c</td>\n",
              "      <td>n</td>\n",
              "      <td>n</td>\n",
              "      <td>...</td>\n",
              "      <td>s</td>\n",
              "      <td>w</td>\n",
              "      <td>w</td>\n",
              "      <td>p</td>\n",
              "      <td>w</td>\n",
              "      <td>o</td>\n",
              "      <td>p</td>\n",
              "      <td>k</td>\n",
              "      <td>s</td>\n",
              "      <td>u</td>\n",
              "    </tr>\n",
              "    <tr>\n",
              "      <th>4</th>\n",
              "      <td>e</td>\n",
              "      <td>x</td>\n",
              "      <td>s</td>\n",
              "      <td>g</td>\n",
              "      <td>f</td>\n",
              "      <td>n</td>\n",
              "      <td>f</td>\n",
              "      <td>w</td>\n",
              "      <td>b</td>\n",
              "      <td>k</td>\n",
              "      <td>...</td>\n",
              "      <td>s</td>\n",
              "      <td>w</td>\n",
              "      <td>w</td>\n",
              "      <td>p</td>\n",
              "      <td>w</td>\n",
              "      <td>o</td>\n",
              "      <td>e</td>\n",
              "      <td>n</td>\n",
              "      <td>a</td>\n",
              "      <td>g</td>\n",
              "    </tr>\n",
              "  </tbody>\n",
              "</table>\n",
              "<p>5 rows × 23 columns</p>\n",
              "</div>\n",
              "      <button class=\"colab-df-convert\" onclick=\"convertToInteractive('df-e3a0b6ae-21dd-4a70-92d3-86a677daa370')\"\n",
              "              title=\"Convert this dataframe to an interactive table.\"\n",
              "              style=\"display:none;\">\n",
              "        \n",
              "  <svg xmlns=\"http://www.w3.org/2000/svg\" height=\"24px\"viewBox=\"0 0 24 24\"\n",
              "       width=\"24px\">\n",
              "    <path d=\"M0 0h24v24H0V0z\" fill=\"none\"/>\n",
              "    <path d=\"M18.56 5.44l.94 2.06.94-2.06 2.06-.94-2.06-.94-.94-2.06-.94 2.06-2.06.94zm-11 1L8.5 8.5l.94-2.06 2.06-.94-2.06-.94L8.5 2.5l-.94 2.06-2.06.94zm10 10l.94 2.06.94-2.06 2.06-.94-2.06-.94-.94-2.06-.94 2.06-2.06.94z\"/><path d=\"M17.41 7.96l-1.37-1.37c-.4-.4-.92-.59-1.43-.59-.52 0-1.04.2-1.43.59L10.3 9.45l-7.72 7.72c-.78.78-.78 2.05 0 2.83L4 21.41c.39.39.9.59 1.41.59.51 0 1.02-.2 1.41-.59l7.78-7.78 2.81-2.81c.8-.78.8-2.07 0-2.86zM5.41 20L4 18.59l7.72-7.72 1.47 1.35L5.41 20z\"/>\n",
              "  </svg>\n",
              "      </button>\n",
              "      \n",
              "  <style>\n",
              "    .colab-df-container {\n",
              "      display:flex;\n",
              "      flex-wrap:wrap;\n",
              "      gap: 12px;\n",
              "    }\n",
              "\n",
              "    .colab-df-convert {\n",
              "      background-color: #E8F0FE;\n",
              "      border: none;\n",
              "      border-radius: 50%;\n",
              "      cursor: pointer;\n",
              "      display: none;\n",
              "      fill: #1967D2;\n",
              "      height: 32px;\n",
              "      padding: 0 0 0 0;\n",
              "      width: 32px;\n",
              "    }\n",
              "\n",
              "    .colab-df-convert:hover {\n",
              "      background-color: #E2EBFA;\n",
              "      box-shadow: 0px 1px 2px rgba(60, 64, 67, 0.3), 0px 1px 3px 1px rgba(60, 64, 67, 0.15);\n",
              "      fill: #174EA6;\n",
              "    }\n",
              "\n",
              "    [theme=dark] .colab-df-convert {\n",
              "      background-color: #3B4455;\n",
              "      fill: #D2E3FC;\n",
              "    }\n",
              "\n",
              "    [theme=dark] .colab-df-convert:hover {\n",
              "      background-color: #434B5C;\n",
              "      box-shadow: 0px 1px 3px 1px rgba(0, 0, 0, 0.15);\n",
              "      filter: drop-shadow(0px 1px 2px rgba(0, 0, 0, 0.3));\n",
              "      fill: #FFFFFF;\n",
              "    }\n",
              "  </style>\n",
              "\n",
              "      <script>\n",
              "        const buttonEl =\n",
              "          document.querySelector('#df-e3a0b6ae-21dd-4a70-92d3-86a677daa370 button.colab-df-convert');\n",
              "        buttonEl.style.display =\n",
              "          google.colab.kernel.accessAllowed ? 'block' : 'none';\n",
              "\n",
              "        async function convertToInteractive(key) {\n",
              "          const element = document.querySelector('#df-e3a0b6ae-21dd-4a70-92d3-86a677daa370');\n",
              "          const dataTable =\n",
              "            await google.colab.kernel.invokeFunction('convertToInteractive',\n",
              "                                                     [key], {});\n",
              "          if (!dataTable) return;\n",
              "\n",
              "          const docLinkHtml = 'Like what you see? Visit the ' +\n",
              "            '<a target=\"_blank\" href=https://colab.research.google.com/notebooks/data_table.ipynb>data table notebook</a>'\n",
              "            + ' to learn more about interactive tables.';\n",
              "          element.innerHTML = '';\n",
              "          dataTable['output_type'] = 'display_data';\n",
              "          await google.colab.output.renderOutput(dataTable, element);\n",
              "          const docLink = document.createElement('div');\n",
              "          docLink.innerHTML = docLinkHtml;\n",
              "          element.appendChild(docLink);\n",
              "        }\n",
              "      </script>\n",
              "    </div>\n",
              "  </div>\n",
              "  "
            ]
          },
          "metadata": {},
          "execution_count": 110
        }
      ]
    },
    {
      "cell_type": "code",
      "source": [
        "jamur_df.info() # cek jumlah baris, kolom, tipe data, dan null values"
      ],
      "metadata": {
        "colab": {
          "base_uri": "https://localhost:8080/"
        },
        "id": "aJEYn0TmeUvS",
        "outputId": "c6ef3801-86a5-4e81-af03-37add23f4508"
      },
      "execution_count": null,
      "outputs": [
        {
          "output_type": "stream",
          "name": "stdout",
          "text": [
            "<class 'pandas.core.frame.DataFrame'>\n",
            "RangeIndex: 8124 entries, 0 to 8123\n",
            "Data columns (total 23 columns):\n",
            " #   Column                    Non-Null Count  Dtype \n",
            "---  ------                    --------------  ----- \n",
            " 0   class                     8124 non-null   object\n",
            " 1   cap-shape                 8124 non-null   object\n",
            " 2   cap-surface               8124 non-null   object\n",
            " 3   cap-color                 8124 non-null   object\n",
            " 4   bruises                   8124 non-null   object\n",
            " 5   odor                      8124 non-null   object\n",
            " 6   gill-attachment           8124 non-null   object\n",
            " 7   gill-spacing              8124 non-null   object\n",
            " 8   gill-size                 8124 non-null   object\n",
            " 9   gill-color                8124 non-null   object\n",
            " 10  stalk-shape               8124 non-null   object\n",
            " 11  stalk-root                8124 non-null   object\n",
            " 12  stalk-surface-above-ring  8124 non-null   object\n",
            " 13  stalk-surface-below-ring  8124 non-null   object\n",
            " 14  stalk-color-above-ring    8124 non-null   object\n",
            " 15  stalk-color-below-ring    8124 non-null   object\n",
            " 16  veil-type                 8124 non-null   object\n",
            " 17  veil-color                8124 non-null   object\n",
            " 18  ring-number               8124 non-null   object\n",
            " 19  ring-type                 8124 non-null   object\n",
            " 20  spore-print-color         8124 non-null   object\n",
            " 21  population                8124 non-null   object\n",
            " 22  habitat                   8124 non-null   object\n",
            "dtypes: object(23)\n",
            "memory usage: 1.4+ MB\n"
          ]
        }
      ]
    },
    {
      "cell_type": "markdown",
      "source": [
        "Didapatkan bahwa jamur_df memiliki 8124 baris dan 23 kolom, dimana semua kolomnya adalah bertipe kategorik, serta tidak terdapat null values pada data.\n",
        "\n",
        "Karena semua kolom bertipe kategorik (termasuk target variablenya) sehingga perlu dilakukan encoding pada data preprocessing"
      ],
      "metadata": {
        "id": "6SCUzzr3geU5"
      }
    },
    {
      "cell_type": "markdown",
      "source": [
        "## Data preprocessing"
      ],
      "metadata": {
        "id": "D0cWqK1_y5K8"
      }
    },
    {
      "cell_type": "code",
      "source": [
        "# Encoding data\n",
        "oe = OrdinalEncoder()                                   # insiasi ordinal encoder\n",
        "\n",
        "jamur_df_encoded = jamur_df.copy()                      # jamur_df_encoded digunakan untuk menyimpan dataframe hasil encoding\n",
        "jamur_df_encoded.loc[:,:] = oe.fit_transform(jamur_df)  # proses encoding data dan disimpan ke jamur_df_encoded\n",
        "jamur_df_encoded = jamur_df_encoded.astype(np.int)      # mengubah hasil encoding menjadi integer (karena hasil fit_transform adalah float)\n",
        "jamur_df_encoded.head()                                 # print 5 baris awal dari data hasil encoding"
      ],
      "metadata": {
        "colab": {
          "base_uri": "https://localhost:8080/",
          "height": 352
        },
        "id": "JAqoadbZef8L",
        "outputId": "d38993b6-47e7-4b48-e68d-f79f151d4231"
      },
      "execution_count": null,
      "outputs": [
        {
          "output_type": "execute_result",
          "data": {
            "text/plain": [
              "   class  cap-shape  cap-surface  cap-color  bruises  odor  gill-attachment  \\\n",
              "0      1          5            2          4        1     6                1   \n",
              "1      0          5            2          9        1     0                1   \n",
              "2      0          0            2          8        1     3                1   \n",
              "3      1          5            3          8        1     6                1   \n",
              "4      0          5            2          3        0     5                1   \n",
              "\n",
              "   gill-spacing  gill-size  gill-color  ...  stalk-surface-below-ring  \\\n",
              "0             0          1           4  ...                         2   \n",
              "1             0          0           4  ...                         2   \n",
              "2             0          0           5  ...                         2   \n",
              "3             0          1           5  ...                         2   \n",
              "4             1          0           4  ...                         2   \n",
              "\n",
              "   stalk-color-above-ring  stalk-color-below-ring  veil-type  veil-color  \\\n",
              "0                       7                       7          0           2   \n",
              "1                       7                       7          0           2   \n",
              "2                       7                       7          0           2   \n",
              "3                       7                       7          0           2   \n",
              "4                       7                       7          0           2   \n",
              "\n",
              "   ring-number  ring-type  spore-print-color  population  habitat  \n",
              "0            1          4                  2           3        5  \n",
              "1            1          4                  3           2        1  \n",
              "2            1          4                  3           2        3  \n",
              "3            1          4                  2           3        5  \n",
              "4            1          0                  3           0        1  \n",
              "\n",
              "[5 rows x 23 columns]"
            ],
            "text/html": [
              "\n",
              "  <div id=\"df-8a48473c-3fc1-4bb0-aa74-ff1ff50204d2\">\n",
              "    <div class=\"colab-df-container\">\n",
              "      <div>\n",
              "<style scoped>\n",
              "    .dataframe tbody tr th:only-of-type {\n",
              "        vertical-align: middle;\n",
              "    }\n",
              "\n",
              "    .dataframe tbody tr th {\n",
              "        vertical-align: top;\n",
              "    }\n",
              "\n",
              "    .dataframe thead th {\n",
              "        text-align: right;\n",
              "    }\n",
              "</style>\n",
              "<table border=\"1\" class=\"dataframe\">\n",
              "  <thead>\n",
              "    <tr style=\"text-align: right;\">\n",
              "      <th></th>\n",
              "      <th>class</th>\n",
              "      <th>cap-shape</th>\n",
              "      <th>cap-surface</th>\n",
              "      <th>cap-color</th>\n",
              "      <th>bruises</th>\n",
              "      <th>odor</th>\n",
              "      <th>gill-attachment</th>\n",
              "      <th>gill-spacing</th>\n",
              "      <th>gill-size</th>\n",
              "      <th>gill-color</th>\n",
              "      <th>...</th>\n",
              "      <th>stalk-surface-below-ring</th>\n",
              "      <th>stalk-color-above-ring</th>\n",
              "      <th>stalk-color-below-ring</th>\n",
              "      <th>veil-type</th>\n",
              "      <th>veil-color</th>\n",
              "      <th>ring-number</th>\n",
              "      <th>ring-type</th>\n",
              "      <th>spore-print-color</th>\n",
              "      <th>population</th>\n",
              "      <th>habitat</th>\n",
              "    </tr>\n",
              "  </thead>\n",
              "  <tbody>\n",
              "    <tr>\n",
              "      <th>0</th>\n",
              "      <td>1</td>\n",
              "      <td>5</td>\n",
              "      <td>2</td>\n",
              "      <td>4</td>\n",
              "      <td>1</td>\n",
              "      <td>6</td>\n",
              "      <td>1</td>\n",
              "      <td>0</td>\n",
              "      <td>1</td>\n",
              "      <td>4</td>\n",
              "      <td>...</td>\n",
              "      <td>2</td>\n",
              "      <td>7</td>\n",
              "      <td>7</td>\n",
              "      <td>0</td>\n",
              "      <td>2</td>\n",
              "      <td>1</td>\n",
              "      <td>4</td>\n",
              "      <td>2</td>\n",
              "      <td>3</td>\n",
              "      <td>5</td>\n",
              "    </tr>\n",
              "    <tr>\n",
              "      <th>1</th>\n",
              "      <td>0</td>\n",
              "      <td>5</td>\n",
              "      <td>2</td>\n",
              "      <td>9</td>\n",
              "      <td>1</td>\n",
              "      <td>0</td>\n",
              "      <td>1</td>\n",
              "      <td>0</td>\n",
              "      <td>0</td>\n",
              "      <td>4</td>\n",
              "      <td>...</td>\n",
              "      <td>2</td>\n",
              "      <td>7</td>\n",
              "      <td>7</td>\n",
              "      <td>0</td>\n",
              "      <td>2</td>\n",
              "      <td>1</td>\n",
              "      <td>4</td>\n",
              "      <td>3</td>\n",
              "      <td>2</td>\n",
              "      <td>1</td>\n",
              "    </tr>\n",
              "    <tr>\n",
              "      <th>2</th>\n",
              "      <td>0</td>\n",
              "      <td>0</td>\n",
              "      <td>2</td>\n",
              "      <td>8</td>\n",
              "      <td>1</td>\n",
              "      <td>3</td>\n",
              "      <td>1</td>\n",
              "      <td>0</td>\n",
              "      <td>0</td>\n",
              "      <td>5</td>\n",
              "      <td>...</td>\n",
              "      <td>2</td>\n",
              "      <td>7</td>\n",
              "      <td>7</td>\n",
              "      <td>0</td>\n",
              "      <td>2</td>\n",
              "      <td>1</td>\n",
              "      <td>4</td>\n",
              "      <td>3</td>\n",
              "      <td>2</td>\n",
              "      <td>3</td>\n",
              "    </tr>\n",
              "    <tr>\n",
              "      <th>3</th>\n",
              "      <td>1</td>\n",
              "      <td>5</td>\n",
              "      <td>3</td>\n",
              "      <td>8</td>\n",
              "      <td>1</td>\n",
              "      <td>6</td>\n",
              "      <td>1</td>\n",
              "      <td>0</td>\n",
              "      <td>1</td>\n",
              "      <td>5</td>\n",
              "      <td>...</td>\n",
              "      <td>2</td>\n",
              "      <td>7</td>\n",
              "      <td>7</td>\n",
              "      <td>0</td>\n",
              "      <td>2</td>\n",
              "      <td>1</td>\n",
              "      <td>4</td>\n",
              "      <td>2</td>\n",
              "      <td>3</td>\n",
              "      <td>5</td>\n",
              "    </tr>\n",
              "    <tr>\n",
              "      <th>4</th>\n",
              "      <td>0</td>\n",
              "      <td>5</td>\n",
              "      <td>2</td>\n",
              "      <td>3</td>\n",
              "      <td>0</td>\n",
              "      <td>5</td>\n",
              "      <td>1</td>\n",
              "      <td>1</td>\n",
              "      <td>0</td>\n",
              "      <td>4</td>\n",
              "      <td>...</td>\n",
              "      <td>2</td>\n",
              "      <td>7</td>\n",
              "      <td>7</td>\n",
              "      <td>0</td>\n",
              "      <td>2</td>\n",
              "      <td>1</td>\n",
              "      <td>0</td>\n",
              "      <td>3</td>\n",
              "      <td>0</td>\n",
              "      <td>1</td>\n",
              "    </tr>\n",
              "  </tbody>\n",
              "</table>\n",
              "<p>5 rows × 23 columns</p>\n",
              "</div>\n",
              "      <button class=\"colab-df-convert\" onclick=\"convertToInteractive('df-8a48473c-3fc1-4bb0-aa74-ff1ff50204d2')\"\n",
              "              title=\"Convert this dataframe to an interactive table.\"\n",
              "              style=\"display:none;\">\n",
              "        \n",
              "  <svg xmlns=\"http://www.w3.org/2000/svg\" height=\"24px\"viewBox=\"0 0 24 24\"\n",
              "       width=\"24px\">\n",
              "    <path d=\"M0 0h24v24H0V0z\" fill=\"none\"/>\n",
              "    <path d=\"M18.56 5.44l.94 2.06.94-2.06 2.06-.94-2.06-.94-.94-2.06-.94 2.06-2.06.94zm-11 1L8.5 8.5l.94-2.06 2.06-.94-2.06-.94L8.5 2.5l-.94 2.06-2.06.94zm10 10l.94 2.06.94-2.06 2.06-.94-2.06-.94-.94-2.06-.94 2.06-2.06.94z\"/><path d=\"M17.41 7.96l-1.37-1.37c-.4-.4-.92-.59-1.43-.59-.52 0-1.04.2-1.43.59L10.3 9.45l-7.72 7.72c-.78.78-.78 2.05 0 2.83L4 21.41c.39.39.9.59 1.41.59.51 0 1.02-.2 1.41-.59l7.78-7.78 2.81-2.81c.8-.78.8-2.07 0-2.86zM5.41 20L4 18.59l7.72-7.72 1.47 1.35L5.41 20z\"/>\n",
              "  </svg>\n",
              "      </button>\n",
              "      \n",
              "  <style>\n",
              "    .colab-df-container {\n",
              "      display:flex;\n",
              "      flex-wrap:wrap;\n",
              "      gap: 12px;\n",
              "    }\n",
              "\n",
              "    .colab-df-convert {\n",
              "      background-color: #E8F0FE;\n",
              "      border: none;\n",
              "      border-radius: 50%;\n",
              "      cursor: pointer;\n",
              "      display: none;\n",
              "      fill: #1967D2;\n",
              "      height: 32px;\n",
              "      padding: 0 0 0 0;\n",
              "      width: 32px;\n",
              "    }\n",
              "\n",
              "    .colab-df-convert:hover {\n",
              "      background-color: #E2EBFA;\n",
              "      box-shadow: 0px 1px 2px rgba(60, 64, 67, 0.3), 0px 1px 3px 1px rgba(60, 64, 67, 0.15);\n",
              "      fill: #174EA6;\n",
              "    }\n",
              "\n",
              "    [theme=dark] .colab-df-convert {\n",
              "      background-color: #3B4455;\n",
              "      fill: #D2E3FC;\n",
              "    }\n",
              "\n",
              "    [theme=dark] .colab-df-convert:hover {\n",
              "      background-color: #434B5C;\n",
              "      box-shadow: 0px 1px 3px 1px rgba(0, 0, 0, 0.15);\n",
              "      filter: drop-shadow(0px 1px 2px rgba(0, 0, 0, 0.3));\n",
              "      fill: #FFFFFF;\n",
              "    }\n",
              "  </style>\n",
              "\n",
              "      <script>\n",
              "        const buttonEl =\n",
              "          document.querySelector('#df-8a48473c-3fc1-4bb0-aa74-ff1ff50204d2 button.colab-df-convert');\n",
              "        buttonEl.style.display =\n",
              "          google.colab.kernel.accessAllowed ? 'block' : 'none';\n",
              "\n",
              "        async function convertToInteractive(key) {\n",
              "          const element = document.querySelector('#df-8a48473c-3fc1-4bb0-aa74-ff1ff50204d2');\n",
              "          const dataTable =\n",
              "            await google.colab.kernel.invokeFunction('convertToInteractive',\n",
              "                                                     [key], {});\n",
              "          if (!dataTable) return;\n",
              "\n",
              "          const docLinkHtml = 'Like what you see? Visit the ' +\n",
              "            '<a target=\"_blank\" href=https://colab.research.google.com/notebooks/data_table.ipynb>data table notebook</a>'\n",
              "            + ' to learn more about interactive tables.';\n",
              "          element.innerHTML = '';\n",
              "          dataTable['output_type'] = 'display_data';\n",
              "          await google.colab.output.renderOutput(dataTable, element);\n",
              "          const docLink = document.createElement('div');\n",
              "          docLink.innerHTML = docLinkHtml;\n",
              "          element.appendChild(docLink);\n",
              "        }\n",
              "      </script>\n",
              "    </div>\n",
              "  </div>\n",
              "  "
            ]
          },
          "metadata": {},
          "execution_count": 247
        }
      ]
    },
    {
      "cell_type": "code",
      "source": [
        "# melihat class hasil encoding\n",
        "for i,j in zip([0,1],oe.categories_[0]):\n",
        "  print('index {0} adalah class: {1}'.format(i,j))"
      ],
      "metadata": {
        "colab": {
          "base_uri": "https://localhost:8080/"
        },
        "id": "b6SwSrmhtpun",
        "outputId": "ab517a03-48e6-4eec-c09e-1dd67167578e"
      },
      "execution_count": null,
      "outputs": [
        {
          "output_type": "stream",
          "name": "stdout",
          "text": [
            "index 0 adalah class: e\n",
            "index 1 adalah class: p\n"
          ]
        }
      ]
    },
    {
      "cell_type": "markdown",
      "source": [
        "Diperoleh bahwa class dengan index 0 adalah e (edible/dapat dimakan) dan class dengan index 1 adalah p (poisonous/beracun)"
      ],
      "metadata": {
        "id": "4EONkiqRh3Ti"
      }
    },
    {
      "cell_type": "code",
      "source": [
        "# melihat info data hasil encoding\n",
        "jamur_df_encoded.info()"
      ],
      "metadata": {
        "colab": {
          "base_uri": "https://localhost:8080/"
        },
        "id": "oZiYWsjNhFoE",
        "outputId": "c8eac6d0-00e3-4783-c0ea-e7cac8592777"
      },
      "execution_count": null,
      "outputs": [
        {
          "output_type": "stream",
          "name": "stdout",
          "text": [
            "<class 'pandas.core.frame.DataFrame'>\n",
            "RangeIndex: 8124 entries, 0 to 8123\n",
            "Data columns (total 23 columns):\n",
            " #   Column                    Non-Null Count  Dtype\n",
            "---  ------                    --------------  -----\n",
            " 0   class                     8124 non-null   int64\n",
            " 1   cap-shape                 8124 non-null   int64\n",
            " 2   cap-surface               8124 non-null   int64\n",
            " 3   cap-color                 8124 non-null   int64\n",
            " 4   bruises                   8124 non-null   int64\n",
            " 5   odor                      8124 non-null   int64\n",
            " 6   gill-attachment           8124 non-null   int64\n",
            " 7   gill-spacing              8124 non-null   int64\n",
            " 8   gill-size                 8124 non-null   int64\n",
            " 9   gill-color                8124 non-null   int64\n",
            " 10  stalk-shape               8124 non-null   int64\n",
            " 11  stalk-root                8124 non-null   int64\n",
            " 12  stalk-surface-above-ring  8124 non-null   int64\n",
            " 13  stalk-surface-below-ring  8124 non-null   int64\n",
            " 14  stalk-color-above-ring    8124 non-null   int64\n",
            " 15  stalk-color-below-ring    8124 non-null   int64\n",
            " 16  veil-type                 8124 non-null   int64\n",
            " 17  veil-color                8124 non-null   int64\n",
            " 18  ring-number               8124 non-null   int64\n",
            " 19  ring-type                 8124 non-null   int64\n",
            " 20  spore-print-color         8124 non-null   int64\n",
            " 21  population                8124 non-null   int64\n",
            " 22  habitat                   8124 non-null   int64\n",
            "dtypes: int64(23)\n",
            "memory usage: 1.4 MB\n"
          ]
        }
      ]
    },
    {
      "cell_type": "markdown",
      "source": [
        "Terlihat bahwa sekarang semua data sudah bertipe integer, sehingga dapat dilakukan modelling "
      ],
      "metadata": {
        "id": "TQqyyjATiHqS"
      }
    },
    {
      "cell_type": "code",
      "source": [
        "X = jamur_df_encoded.drop('class', axis=1).values   # menyimpan predictor variable pada X\n",
        "y = jamur_df_encoded['class'].values                # menyimpan target variable pada y"
      ],
      "metadata": {
        "id": "-ylFE6_qfX4W"
      },
      "execution_count": null,
      "outputs": []
    },
    {
      "cell_type": "markdown",
      "source": [
        "## Split train, validation, dan test set"
      ],
      "metadata": {
        "id": "L9Hite-ty8OT"
      }
    },
    {
      "cell_type": "code",
      "source": [
        "# split data menjadi full training set dan test set\n",
        "X_train_full, X_test, y_train_full, y_test = train_test_split(X, y, test_size=0.2)\n",
        "X_train_full.shape, X_test.shape, y_train_full.shape, y_test.shape"
      ],
      "metadata": {
        "colab": {
          "base_uri": "https://localhost:8080/"
        },
        "id": "CsK_46zNfj7Z",
        "outputId": "ba886b4f-58cf-4cce-f0bf-9fca34b8ab34"
      },
      "execution_count": null,
      "outputs": [
        {
          "output_type": "execute_result",
          "data": {
            "text/plain": [
              "((6499, 22), (1625, 22), (6499,), (1625,))"
            ]
          },
          "metadata": {},
          "execution_count": 148
        }
      ]
    },
    {
      "cell_type": "code",
      "source": [
        "# split full training set menjadi training set dan validation set\n",
        "X_train, X_val, y_train, y_val = train_test_split(X_train_full, y_train_full, test_size=0.05)\n",
        "X_train.shape, X_val.shape, y_train.shape, y_val.shape"
      ],
      "metadata": {
        "colab": {
          "base_uri": "https://localhost:8080/"
        },
        "id": "1wOb-yquf3Tb",
        "outputId": "e02cdb2c-4cff-440a-ec47-9078dfdae351"
      },
      "execution_count": null,
      "outputs": [
        {
          "output_type": "execute_result",
          "data": {
            "text/plain": [
              "((6174, 22), (325, 22), (6174,), (325,))"
            ]
          },
          "metadata": {},
          "execution_count": 149
        }
      ]
    },
    {
      "cell_type": "markdown",
      "source": [
        "Diperoleh training set sejumlah 6174 sample, validation set 325 sample, dan test set sejumlah 1625 sample"
      ],
      "metadata": {
        "id": "yUtb6u5vihUh"
      }
    },
    {
      "cell_type": "markdown",
      "source": [
        "## Modelling"
      ],
      "metadata": {
        "id": "8aFRxAx7zAVg"
      }
    },
    {
      "cell_type": "code",
      "source": [
        "# Function untuk membuat model\n",
        "def build_model(n_neurons=(20,), learning_rate=1e-3, activation_hidden='sigmoid'):\n",
        "  model = keras.models.Sequential()                                                     # inisiasi arsitektur model\n",
        "  model.add(keras.layers.InputLayer(input_shape=[22]))                                  # input layer\n",
        "  for i in range(len(n_neurons)):                                                       # hidden layer\n",
        "    model.add(keras.layers.Dense(n_neurons[i], activation=activation_hidden))\n",
        "  model.add(keras.layers.Dense(1, activation='sigmoid'))                                # output layer\n",
        "  optimizer = keras.optimizers.Adam(learning_rate=learning_rate)                        # optimizer yang akan digunakan\n",
        "  model.compile(loss='binary_crossentropy', optimizer=optimizer,                        # compiling model\n",
        "                metrics='accuracy')\n",
        "  return model"
      ],
      "metadata": {
        "id": "PDx5oVdHgFN3"
      },
      "execution_count": null,
      "outputs": []
    },
    {
      "cell_type": "markdown",
      "source": [
        "Didefinisikan function build_model untuk membuat model, yang mengambil 3 argumen, yaitu n_neurons (jumlah hidden layer dan jumlah neuron pada masing - masing hidden layer, berbentuk tuple, dimana length dari tuple adalah banyaknya hidden layer dan nilai-nilai pada tuple adalah neurons pada hidden layer ke-index yang bersesuaian), learning_rate (learning rate saat proses learning algorithm), dan activation_hidden (fungsi aktivasi di hidden layer)\n",
        "\n",
        "Pada function dibuat arsitektur model Sequential dengan input layer yang memiliki 22 neurons (karena terdapat 22 fitur pada predictor variable), hidden layer sebanyak yang didefinisikan user, dan output layer yang memiliki 1 neuron dengan fungsi aktivasi sigmoid. Model menggunakan cost function binary cross entropy/log loss, optimizer adam, dan metrik evaluasinya adalah akurasi.\n",
        "\n",
        "Inisiasi awal model menggunakan 1 hidden layer dengan 20 neurons, learning rate = 0.001, fungsi aktivasi di hidden layer = sigmoid."
      ],
      "metadata": {
        "id": "v8WVwtbJjC_e"
      }
    },
    {
      "cell_type": "markdown",
      "source": [
        "### Hyperparameter tuning"
      ],
      "metadata": {
        "id": "Z5tfCUjCjhJK"
      }
    },
    {
      "cell_type": "code",
      "source": [
        "# Wrapper model agar dapat dilakukan hyperparameter tuning dengan library scikit-learn\n",
        "model = KerasClassifier(build_model, epochs=50, batch_size=64)\n",
        "\n",
        "# tuning hyperparameter dengan randomized search\n",
        "params = {'n_neurons':[(20,), (20,15), (30,), (30,20), (50,), (50,30), \n",
        "                       (70,), (70,50), (100,), (100,70)],\n",
        "          'learning_rate':[1e-4, 1e-3, 1e-2],\n",
        "          'activation_hidden':['relu','sigmoid','tanh'],\n",
        "          'epochs':[50, 100, 150],\n",
        "          'batch_size':[32, 64, 128, 256]}\n",
        "\n",
        "rand_search = RandomizedSearchCV(model, params, cv=3, scoring='accuracy', \n",
        "                                 n_iter=20, verbose=2)\n",
        "rand_search.fit(X_train, y_train, verbose=0)"
      ],
      "metadata": {
        "colab": {
          "base_uri": "https://localhost:8080/"
        },
        "collapsed": true,
        "id": "fM8co9x5ge94",
        "outputId": "b69314f3-cc3f-45fa-f1c0-33a76fe4760a"
      },
      "execution_count": null,
      "outputs": [
        {
          "output_type": "stream",
          "name": "stdout",
          "text": [
            "Fitting 3 folds for each of 20 candidates, totalling 60 fits\n",
            "[CV] END activation_hidden=relu, batch_size=32, epochs=50, learning_rate=0.0001, n_neurons=(30, 20); total time=  21.6s\n",
            "[CV] END activation_hidden=relu, batch_size=32, epochs=50, learning_rate=0.0001, n_neurons=(30, 20); total time=   9.5s\n",
            "[CV] END activation_hidden=relu, batch_size=32, epochs=50, learning_rate=0.0001, n_neurons=(30, 20); total time=  11.0s\n",
            "[CV] END activation_hidden=relu, batch_size=256, epochs=150, learning_rate=0.0001, n_neurons=(50, 30); total time=   4.8s\n",
            "[CV] END activation_hidden=relu, batch_size=256, epochs=150, learning_rate=0.0001, n_neurons=(50, 30); total time=   4.9s\n",
            "[CV] END activation_hidden=relu, batch_size=256, epochs=150, learning_rate=0.0001, n_neurons=(50, 30); total time=   5.9s\n",
            "[CV] END activation_hidden=sigmoid, batch_size=256, epochs=100, learning_rate=0.01, n_neurons=(100,); total time=   3.3s\n",
            "[CV] END activation_hidden=sigmoid, batch_size=256, epochs=100, learning_rate=0.01, n_neurons=(100,); total time=   5.8s\n",
            "[CV] END activation_hidden=sigmoid, batch_size=256, epochs=100, learning_rate=0.01, n_neurons=(100,); total time=   3.4s\n",
            "[CV] END activation_hidden=tanh, batch_size=256, epochs=150, learning_rate=0.001, n_neurons=(20,); total time=   4.7s\n",
            "[CV] END activation_hidden=tanh, batch_size=256, epochs=150, learning_rate=0.001, n_neurons=(20,); total time=   4.3s\n",
            "[CV] END activation_hidden=tanh, batch_size=256, epochs=150, learning_rate=0.001, n_neurons=(20,); total time=   5.8s\n",
            "[CV] END activation_hidden=tanh, batch_size=256, epochs=50, learning_rate=0.0001, n_neurons=(50,); total time=   3.3s\n",
            "[CV] END activation_hidden=tanh, batch_size=256, epochs=50, learning_rate=0.0001, n_neurons=(50,); total time=   3.2s\n",
            "[CV] END activation_hidden=tanh, batch_size=256, epochs=50, learning_rate=0.0001, n_neurons=(50,); total time=   2.0s\n",
            "[CV] END activation_hidden=sigmoid, batch_size=256, epochs=100, learning_rate=0.0001, n_neurons=(100,); total time=   3.4s\n",
            "[CV] END activation_hidden=sigmoid, batch_size=256, epochs=100, learning_rate=0.0001, n_neurons=(100,); total time=   3.4s\n",
            "[CV] END activation_hidden=sigmoid, batch_size=256, epochs=100, learning_rate=0.0001, n_neurons=(100,); total time=   3.5s\n",
            "[CV] END activation_hidden=relu, batch_size=32, epochs=50, learning_rate=0.0001, n_neurons=(100, 70); total time=  10.2s\n",
            "[CV] END activation_hidden=relu, batch_size=32, epochs=50, learning_rate=0.0001, n_neurons=(100, 70); total time=  10.2s\n",
            "[CV] END activation_hidden=relu, batch_size=32, epochs=50, learning_rate=0.0001, n_neurons=(100, 70); total time=  10.4s\n",
            "[CV] END activation_hidden=relu, batch_size=128, epochs=150, learning_rate=0.0001, n_neurons=(100, 70); total time=  11.0s\n",
            "[CV] END activation_hidden=relu, batch_size=128, epochs=150, learning_rate=0.0001, n_neurons=(100, 70); total time=   9.7s\n",
            "[CV] END activation_hidden=relu, batch_size=128, epochs=150, learning_rate=0.0001, n_neurons=(100, 70); total time=  11.1s\n",
            "[CV] END activation_hidden=relu, batch_size=64, epochs=150, learning_rate=0.001, n_neurons=(30,); total time=  13.3s\n",
            "[CV] END activation_hidden=relu, batch_size=64, epochs=150, learning_rate=0.001, n_neurons=(30,); total time=  14.8s\n",
            "[CV] END activation_hidden=relu, batch_size=64, epochs=150, learning_rate=0.001, n_neurons=(30,); total time=  13.6s\n",
            "[CV] END activation_hidden=relu, batch_size=64, epochs=100, learning_rate=0.001, n_neurons=(50,); total time=   9.7s\n",
            "[CV] END activation_hidden=relu, batch_size=64, epochs=100, learning_rate=0.001, n_neurons=(50,); total time=  11.0s\n",
            "[CV] END activation_hidden=relu, batch_size=64, epochs=100, learning_rate=0.001, n_neurons=(50,); total time=  11.0s\n",
            "[CV] END activation_hidden=sigmoid, batch_size=32, epochs=50, learning_rate=0.001, n_neurons=(50,); total time=  11.0s\n",
            "[CV] END activation_hidden=sigmoid, batch_size=32, epochs=50, learning_rate=0.001, n_neurons=(50,); total time=  11.0s\n",
            "[CV] END activation_hidden=sigmoid, batch_size=32, epochs=50, learning_rate=0.001, n_neurons=(50,); total time=  11.0s\n",
            "[CV] END activation_hidden=sigmoid, batch_size=32, epochs=50, learning_rate=0.0001, n_neurons=(30, 20); total time=  11.0s\n",
            "[CV] END activation_hidden=sigmoid, batch_size=32, epochs=50, learning_rate=0.0001, n_neurons=(30, 20); total time=   9.9s\n",
            "[CV] END activation_hidden=sigmoid, batch_size=32, epochs=50, learning_rate=0.0001, n_neurons=(30, 20); total time=  10.0s\n",
            "[CV] END activation_hidden=tanh, batch_size=64, epochs=150, learning_rate=0.01, n_neurons=(50, 30); total time=  21.2s\n",
            "[CV] END activation_hidden=tanh, batch_size=64, epochs=150, learning_rate=0.01, n_neurons=(50, 30); total time=  14.9s\n",
            "[CV] END activation_hidden=tanh, batch_size=64, epochs=150, learning_rate=0.01, n_neurons=(50, 30); total time=  14.8s\n",
            "[CV] END activation_hidden=relu, batch_size=32, epochs=50, learning_rate=0.01, n_neurons=(100,); total time=  11.0s\n",
            "[CV] END activation_hidden=relu, batch_size=32, epochs=50, learning_rate=0.01, n_neurons=(100,); total time=  11.0s\n",
            "[CV] END activation_hidden=relu, batch_size=32, epochs=50, learning_rate=0.01, n_neurons=(100,); total time=  11.0s\n",
            "[CV] END activation_hidden=sigmoid, batch_size=32, epochs=100, learning_rate=0.01, n_neurons=(100, 70); total time=  19.9s\n",
            "[CV] END activation_hidden=sigmoid, batch_size=32, epochs=100, learning_rate=0.01, n_neurons=(100, 70); total time=  21.3s\n",
            "[CV] END activation_hidden=sigmoid, batch_size=32, epochs=100, learning_rate=0.01, n_neurons=(100, 70); total time=  22.1s\n",
            "[CV] END activation_hidden=sigmoid, batch_size=256, epochs=100, learning_rate=0.0001, n_neurons=(30,); total time=   3.3s\n",
            "[CV] END activation_hidden=sigmoid, batch_size=256, epochs=100, learning_rate=0.0001, n_neurons=(30,); total time=   3.3s\n",
            "[CV] END activation_hidden=sigmoid, batch_size=256, epochs=100, learning_rate=0.0001, n_neurons=(30,); total time=   3.1s\n",
            "[CV] END activation_hidden=relu, batch_size=256, epochs=150, learning_rate=0.01, n_neurons=(20,); total time=   4.1s\n",
            "[CV] END activation_hidden=relu, batch_size=256, epochs=150, learning_rate=0.01, n_neurons=(20,); total time=   4.3s\n",
            "[CV] END activation_hidden=relu, batch_size=256, epochs=150, learning_rate=0.01, n_neurons=(20,); total time=   5.9s\n",
            "[CV] END activation_hidden=relu, batch_size=128, epochs=50, learning_rate=0.0001, n_neurons=(100,); total time=   3.3s\n",
            "[CV] END activation_hidden=relu, batch_size=128, epochs=50, learning_rate=0.0001, n_neurons=(100,); total time=   3.2s\n",
            "[CV] END activation_hidden=relu, batch_size=128, epochs=50, learning_rate=0.0001, n_neurons=(100,); total time=   3.2s\n",
            "[CV] END activation_hidden=tanh, batch_size=64, epochs=150, learning_rate=0.0001, n_neurons=(100, 70); total time=  21.2s\n",
            "[CV] END activation_hidden=tanh, batch_size=64, epochs=150, learning_rate=0.0001, n_neurons=(100, 70); total time=  21.3s\n",
            "[CV] END activation_hidden=tanh, batch_size=64, epochs=150, learning_rate=0.0001, n_neurons=(100, 70); total time=  16.5s\n",
            "[CV] END activation_hidden=tanh, batch_size=256, epochs=50, learning_rate=0.001, n_neurons=(30,); total time=   3.4s\n",
            "[CV] END activation_hidden=tanh, batch_size=256, epochs=50, learning_rate=0.001, n_neurons=(30,); total time=   2.0s\n",
            "[CV] END activation_hidden=tanh, batch_size=256, epochs=50, learning_rate=0.001, n_neurons=(30,); total time=   3.3s\n"
          ]
        },
        {
          "output_type": "execute_result",
          "data": {
            "text/plain": [
              "RandomizedSearchCV(cv=3,\n",
              "                   estimator=<keras.wrappers.scikit_learn.KerasClassifier object at 0x7ff929e135d0>,\n",
              "                   n_iter=20,\n",
              "                   param_distributions={'activation_hidden': ['relu', 'sigmoid',\n",
              "                                                              'tanh'],\n",
              "                                        'batch_size': [32, 64, 128, 256],\n",
              "                                        'epochs': [50, 100, 150],\n",
              "                                        'learning_rate': [0.0001, 0.001, 0.01],\n",
              "                                        'n_neurons': [(20,), (20, 15), (30,),\n",
              "                                                      (30, 20), (50,), (50, 30),\n",
              "                                                      (70,), (70, 50), (100,),\n",
              "                                                      (100, 70)]},\n",
              "                   scoring='accuracy', verbose=2)"
            ]
          },
          "metadata": {},
          "execution_count": 161
        }
      ]
    },
    {
      "cell_type": "markdown",
      "source": [
        "Hyperparameter yang dilakukan tuning adalah jumlah hidden layer, jumlah neuron di masing - masing hidden layer, learning rate, fungsi aktivasi di hidden layer, epochs, dan batch size"
      ],
      "metadata": {
        "id": "EI3-yT4Kjvzl"
      }
    },
    {
      "cell_type": "code",
      "source": [
        "# melihat hasil hyperparameter tuning\n",
        "rs_result = pd.DataFrame(rand_search.cv_results_)\n",
        "rs_result_df = rs_result.sort_values(['rank_test_score', 'mean_fit_time', 'mean_score_time'])[['param_n_neurons', \n",
        "                                                                                               'param_learning_rate', \n",
        "                                                                                               'param_activation_hidden', \n",
        "                                                                                               'param_epochs', \n",
        "                                                                                               'param_batch_size', \n",
        "                                                                                               'mean_test_score',\n",
        "                                                                                               'mean_fit_time',\n",
        "                                                                                               'mean_score_time', \n",
        "                                                                                               'rank_test_score']]\n",
        "rs_result_df.head(10)"
      ],
      "metadata": {
        "colab": {
          "base_uri": "https://localhost:8080/",
          "height": 427
        },
        "id": "ZD-jkkOShAeb",
        "outputId": "95d087b6-15b3-490c-edd6-1452e16c18c4"
      },
      "execution_count": null,
      "outputs": [
        {
          "output_type": "execute_result",
          "data": {
            "text/plain": [
              "   param_n_neurons param_learning_rate param_activation_hidden param_epochs  \\\n",
              "2           (100,)                0.01                 sigmoid          100   \n",
              "16           (20,)                0.01                    relu          150   \n",
              "9            (50,)               0.001                    relu          100   \n",
              "13          (100,)                0.01                    relu           50   \n",
              "8            (30,)               0.001                    relu          150   \n",
              "12        (50, 30)                0.01                    tanh          150   \n",
              "18       (100, 70)              0.0001                    tanh          150   \n",
              "14       (100, 70)                0.01                 sigmoid          100   \n",
              "7        (100, 70)              0.0001                    relu          150   \n",
              "10           (50,)               0.001                 sigmoid           50   \n",
              "\n",
              "   param_batch_size  mean_test_score  mean_fit_time  mean_score_time  \\\n",
              "2               256         1.000000       4.011176         0.137887   \n",
              "16              256         1.000000       4.585356         0.172863   \n",
              "9                64         1.000000      10.411503         0.144772   \n",
              "13               32         1.000000      10.832330         0.154494   \n",
              "8                64         1.000000      13.722685         0.138830   \n",
              "12               64         1.000000      16.800249         0.154467   \n",
              "18               64         1.000000      19.509196         0.160561   \n",
              "14               32         0.999838      20.915982         0.182006   \n",
              "7               128         0.999676      10.414967         0.173884   \n",
              "10               32         0.999352      10.837521         0.154345   \n",
              "\n",
              "    rank_test_score  \n",
              "2                 1  \n",
              "16                1  \n",
              "9                 1  \n",
              "13                1  \n",
              "8                 1  \n",
              "12                1  \n",
              "18                1  \n",
              "14                8  \n",
              "7                 9  \n",
              "10               10  "
            ],
            "text/html": [
              "\n",
              "  <div id=\"df-7489a703-a920-4ef3-a4dd-6c980086f80d\">\n",
              "    <div class=\"colab-df-container\">\n",
              "      <div>\n",
              "<style scoped>\n",
              "    .dataframe tbody tr th:only-of-type {\n",
              "        vertical-align: middle;\n",
              "    }\n",
              "\n",
              "    .dataframe tbody tr th {\n",
              "        vertical-align: top;\n",
              "    }\n",
              "\n",
              "    .dataframe thead th {\n",
              "        text-align: right;\n",
              "    }\n",
              "</style>\n",
              "<table border=\"1\" class=\"dataframe\">\n",
              "  <thead>\n",
              "    <tr style=\"text-align: right;\">\n",
              "      <th></th>\n",
              "      <th>param_n_neurons</th>\n",
              "      <th>param_learning_rate</th>\n",
              "      <th>param_activation_hidden</th>\n",
              "      <th>param_epochs</th>\n",
              "      <th>param_batch_size</th>\n",
              "      <th>mean_test_score</th>\n",
              "      <th>mean_fit_time</th>\n",
              "      <th>mean_score_time</th>\n",
              "      <th>rank_test_score</th>\n",
              "    </tr>\n",
              "  </thead>\n",
              "  <tbody>\n",
              "    <tr>\n",
              "      <th>2</th>\n",
              "      <td>(100,)</td>\n",
              "      <td>0.01</td>\n",
              "      <td>sigmoid</td>\n",
              "      <td>100</td>\n",
              "      <td>256</td>\n",
              "      <td>1.000000</td>\n",
              "      <td>4.011176</td>\n",
              "      <td>0.137887</td>\n",
              "      <td>1</td>\n",
              "    </tr>\n",
              "    <tr>\n",
              "      <th>16</th>\n",
              "      <td>(20,)</td>\n",
              "      <td>0.01</td>\n",
              "      <td>relu</td>\n",
              "      <td>150</td>\n",
              "      <td>256</td>\n",
              "      <td>1.000000</td>\n",
              "      <td>4.585356</td>\n",
              "      <td>0.172863</td>\n",
              "      <td>1</td>\n",
              "    </tr>\n",
              "    <tr>\n",
              "      <th>9</th>\n",
              "      <td>(50,)</td>\n",
              "      <td>0.001</td>\n",
              "      <td>relu</td>\n",
              "      <td>100</td>\n",
              "      <td>64</td>\n",
              "      <td>1.000000</td>\n",
              "      <td>10.411503</td>\n",
              "      <td>0.144772</td>\n",
              "      <td>1</td>\n",
              "    </tr>\n",
              "    <tr>\n",
              "      <th>13</th>\n",
              "      <td>(100,)</td>\n",
              "      <td>0.01</td>\n",
              "      <td>relu</td>\n",
              "      <td>50</td>\n",
              "      <td>32</td>\n",
              "      <td>1.000000</td>\n",
              "      <td>10.832330</td>\n",
              "      <td>0.154494</td>\n",
              "      <td>1</td>\n",
              "    </tr>\n",
              "    <tr>\n",
              "      <th>8</th>\n",
              "      <td>(30,)</td>\n",
              "      <td>0.001</td>\n",
              "      <td>relu</td>\n",
              "      <td>150</td>\n",
              "      <td>64</td>\n",
              "      <td>1.000000</td>\n",
              "      <td>13.722685</td>\n",
              "      <td>0.138830</td>\n",
              "      <td>1</td>\n",
              "    </tr>\n",
              "    <tr>\n",
              "      <th>12</th>\n",
              "      <td>(50, 30)</td>\n",
              "      <td>0.01</td>\n",
              "      <td>tanh</td>\n",
              "      <td>150</td>\n",
              "      <td>64</td>\n",
              "      <td>1.000000</td>\n",
              "      <td>16.800249</td>\n",
              "      <td>0.154467</td>\n",
              "      <td>1</td>\n",
              "    </tr>\n",
              "    <tr>\n",
              "      <th>18</th>\n",
              "      <td>(100, 70)</td>\n",
              "      <td>0.0001</td>\n",
              "      <td>tanh</td>\n",
              "      <td>150</td>\n",
              "      <td>64</td>\n",
              "      <td>1.000000</td>\n",
              "      <td>19.509196</td>\n",
              "      <td>0.160561</td>\n",
              "      <td>1</td>\n",
              "    </tr>\n",
              "    <tr>\n",
              "      <th>14</th>\n",
              "      <td>(100, 70)</td>\n",
              "      <td>0.01</td>\n",
              "      <td>sigmoid</td>\n",
              "      <td>100</td>\n",
              "      <td>32</td>\n",
              "      <td>0.999838</td>\n",
              "      <td>20.915982</td>\n",
              "      <td>0.182006</td>\n",
              "      <td>8</td>\n",
              "    </tr>\n",
              "    <tr>\n",
              "      <th>7</th>\n",
              "      <td>(100, 70)</td>\n",
              "      <td>0.0001</td>\n",
              "      <td>relu</td>\n",
              "      <td>150</td>\n",
              "      <td>128</td>\n",
              "      <td>0.999676</td>\n",
              "      <td>10.414967</td>\n",
              "      <td>0.173884</td>\n",
              "      <td>9</td>\n",
              "    </tr>\n",
              "    <tr>\n",
              "      <th>10</th>\n",
              "      <td>(50,)</td>\n",
              "      <td>0.001</td>\n",
              "      <td>sigmoid</td>\n",
              "      <td>50</td>\n",
              "      <td>32</td>\n",
              "      <td>0.999352</td>\n",
              "      <td>10.837521</td>\n",
              "      <td>0.154345</td>\n",
              "      <td>10</td>\n",
              "    </tr>\n",
              "  </tbody>\n",
              "</table>\n",
              "</div>\n",
              "      <button class=\"colab-df-convert\" onclick=\"convertToInteractive('df-7489a703-a920-4ef3-a4dd-6c980086f80d')\"\n",
              "              title=\"Convert this dataframe to an interactive table.\"\n",
              "              style=\"display:none;\">\n",
              "        \n",
              "  <svg xmlns=\"http://www.w3.org/2000/svg\" height=\"24px\"viewBox=\"0 0 24 24\"\n",
              "       width=\"24px\">\n",
              "    <path d=\"M0 0h24v24H0V0z\" fill=\"none\"/>\n",
              "    <path d=\"M18.56 5.44l.94 2.06.94-2.06 2.06-.94-2.06-.94-.94-2.06-.94 2.06-2.06.94zm-11 1L8.5 8.5l.94-2.06 2.06-.94-2.06-.94L8.5 2.5l-.94 2.06-2.06.94zm10 10l.94 2.06.94-2.06 2.06-.94-2.06-.94-.94-2.06-.94 2.06-2.06.94z\"/><path d=\"M17.41 7.96l-1.37-1.37c-.4-.4-.92-.59-1.43-.59-.52 0-1.04.2-1.43.59L10.3 9.45l-7.72 7.72c-.78.78-.78 2.05 0 2.83L4 21.41c.39.39.9.59 1.41.59.51 0 1.02-.2 1.41-.59l7.78-7.78 2.81-2.81c.8-.78.8-2.07 0-2.86zM5.41 20L4 18.59l7.72-7.72 1.47 1.35L5.41 20z\"/>\n",
              "  </svg>\n",
              "      </button>\n",
              "      \n",
              "  <style>\n",
              "    .colab-df-container {\n",
              "      display:flex;\n",
              "      flex-wrap:wrap;\n",
              "      gap: 12px;\n",
              "    }\n",
              "\n",
              "    .colab-df-convert {\n",
              "      background-color: #E8F0FE;\n",
              "      border: none;\n",
              "      border-radius: 50%;\n",
              "      cursor: pointer;\n",
              "      display: none;\n",
              "      fill: #1967D2;\n",
              "      height: 32px;\n",
              "      padding: 0 0 0 0;\n",
              "      width: 32px;\n",
              "    }\n",
              "\n",
              "    .colab-df-convert:hover {\n",
              "      background-color: #E2EBFA;\n",
              "      box-shadow: 0px 1px 2px rgba(60, 64, 67, 0.3), 0px 1px 3px 1px rgba(60, 64, 67, 0.15);\n",
              "      fill: #174EA6;\n",
              "    }\n",
              "\n",
              "    [theme=dark] .colab-df-convert {\n",
              "      background-color: #3B4455;\n",
              "      fill: #D2E3FC;\n",
              "    }\n",
              "\n",
              "    [theme=dark] .colab-df-convert:hover {\n",
              "      background-color: #434B5C;\n",
              "      box-shadow: 0px 1px 3px 1px rgba(0, 0, 0, 0.15);\n",
              "      filter: drop-shadow(0px 1px 2px rgba(0, 0, 0, 0.3));\n",
              "      fill: #FFFFFF;\n",
              "    }\n",
              "  </style>\n",
              "\n",
              "      <script>\n",
              "        const buttonEl =\n",
              "          document.querySelector('#df-7489a703-a920-4ef3-a4dd-6c980086f80d button.colab-df-convert');\n",
              "        buttonEl.style.display =\n",
              "          google.colab.kernel.accessAllowed ? 'block' : 'none';\n",
              "\n",
              "        async function convertToInteractive(key) {\n",
              "          const element = document.querySelector('#df-7489a703-a920-4ef3-a4dd-6c980086f80d');\n",
              "          const dataTable =\n",
              "            await google.colab.kernel.invokeFunction('convertToInteractive',\n",
              "                                                     [key], {});\n",
              "          if (!dataTable) return;\n",
              "\n",
              "          const docLinkHtml = 'Like what you see? Visit the ' +\n",
              "            '<a target=\"_blank\" href=https://colab.research.google.com/notebooks/data_table.ipynb>data table notebook</a>'\n",
              "            + ' to learn more about interactive tables.';\n",
              "          element.innerHTML = '';\n",
              "          dataTable['output_type'] = 'display_data';\n",
              "          await google.colab.output.renderOutput(dataTable, element);\n",
              "          const docLink = document.createElement('div');\n",
              "          docLink.innerHTML = docLinkHtml;\n",
              "          element.appendChild(docLink);\n",
              "        }\n",
              "      </script>\n",
              "    </div>\n",
              "  </div>\n",
              "  "
            ]
          },
          "metadata": {},
          "execution_count": 275
        }
      ]
    },
    {
      "cell_type": "markdown",
      "source": [
        "Berdasarkan hyperparameter tuning, dapat kita lihat pada tabel diatas bahwa terdapat banyak kombinasi hyperparameter yang mendapatkan mean_test_score = 1. Sehingga saya akan menggunakan yang memiliki mean_fit_time dan mean_score_time terkecil (yaitu waktu training dan waktu prediksi model), yaitu model dengan 1 hidden layer dengan 100 neuron di hidden layernya, learning rate = 0.01, fungsi aktivasi di hidden layer = sigmoid, epochs = 100, dan batch size = 256\n",
        "\n",
        "Sehingga akan digunakan model tersebut"
      ],
      "metadata": {
        "id": "rLA0d1Ewj3tn"
      }
    },
    {
      "cell_type": "markdown",
      "source": [
        "### Training Model"
      ],
      "metadata": {
        "id": "UZmNhXbbkY9R"
      }
    },
    {
      "cell_type": "markdown",
      "source": [
        "Pada proses training model ini saya menggunakan wrapper pada model , karena nantinya saya akan menggunakan metode permutation importance untuk mencari fitur yang paling penting bagi model, yang dimana metode permutation importance dimiliki oleh library scikit-learn, sehingga harus digunakan wrapper pada model"
      ],
      "metadata": {
        "id": "Im41WxtTlX1v"
      }
    },
    {
      "cell_type": "code",
      "source": [
        "# Training model hasil hyperparameter tuning\n",
        "stop_early = keras.callbacks.EarlyStopping(monitor=\"val_loss\", patience=4, verbose=1) # inisiasi early stopping\n",
        "                                                                                      \n",
        "final_model = KerasClassifier(build_model, n_neurons=(100,), learning_rate=0.01,      # membuat model final dengan hyperparameter hasil tuning\n",
        "                              activation_hidden='sigmoid')\n",
        "history = final_model.fit(X_train, y_train, epochs=100, batch_size=256,               # proses training\n",
        "                          validation_data=(X_val, y_val), callbacks=[stop_early])"
      ],
      "metadata": {
        "colab": {
          "base_uri": "https://localhost:8080/"
        },
        "collapsed": true,
        "id": "TQlpF6HXijya",
        "outputId": "f8ceb252-5bfb-450d-a68d-4da06e71f377"
      },
      "execution_count": null,
      "outputs": [
        {
          "output_type": "stream",
          "name": "stdout",
          "text": [
            "Epoch 1/100\n",
            "25/25 [==============================] - 1s 9ms/step - loss: 0.5061 - accuracy: 0.7430 - val_loss: 0.3414 - val_accuracy: 0.8585\n",
            "Epoch 2/100\n",
            "25/25 [==============================] - 0s 3ms/step - loss: 0.3276 - accuracy: 0.8722 - val_loss: 0.2605 - val_accuracy: 0.8923\n",
            "Epoch 3/100\n",
            "25/25 [==============================] - 0s 3ms/step - loss: 0.2605 - accuracy: 0.9035 - val_loss: 0.2134 - val_accuracy: 0.9292\n",
            "Epoch 4/100\n",
            "25/25 [==============================] - 0s 3ms/step - loss: 0.2105 - accuracy: 0.9226 - val_loss: 0.1744 - val_accuracy: 0.9323\n",
            "Epoch 5/100\n",
            "25/25 [==============================] - 0s 4ms/step - loss: 0.1792 - accuracy: 0.9359 - val_loss: 0.1429 - val_accuracy: 0.9415\n",
            "Epoch 6/100\n",
            "25/25 [==============================] - 0s 4ms/step - loss: 0.1510 - accuracy: 0.9490 - val_loss: 0.1217 - val_accuracy: 0.9662\n",
            "Epoch 7/100\n",
            "25/25 [==============================] - 0s 4ms/step - loss: 0.1172 - accuracy: 0.9674 - val_loss: 0.0902 - val_accuracy: 0.9815\n",
            "Epoch 8/100\n",
            "25/25 [==============================] - 0s 4ms/step - loss: 0.0938 - accuracy: 0.9742 - val_loss: 0.0739 - val_accuracy: 0.9938\n",
            "Epoch 9/100\n",
            "25/25 [==============================] - 0s 3ms/step - loss: 0.0734 - accuracy: 0.9789 - val_loss: 0.0555 - val_accuracy: 0.9938\n",
            "Epoch 10/100\n",
            "25/25 [==============================] - 0s 3ms/step - loss: 0.0585 - accuracy: 0.9832 - val_loss: 0.0423 - val_accuracy: 0.9969\n",
            "Epoch 11/100\n",
            "25/25 [==============================] - 0s 3ms/step - loss: 0.0455 - accuracy: 0.9885 - val_loss: 0.0300 - val_accuracy: 0.9969\n",
            "Epoch 12/100\n",
            "25/25 [==============================] - 0s 3ms/step - loss: 0.0389 - accuracy: 0.9911 - val_loss: 0.0240 - val_accuracy: 0.9969\n",
            "Epoch 13/100\n",
            "25/25 [==============================] - 0s 3ms/step - loss: 0.0305 - accuracy: 0.9924 - val_loss: 0.0210 - val_accuracy: 0.9969\n",
            "Epoch 14/100\n",
            "25/25 [==============================] - 0s 3ms/step - loss: 0.0258 - accuracy: 0.9953 - val_loss: 0.0212 - val_accuracy: 0.9969\n",
            "Epoch 15/100\n",
            "25/25 [==============================] - 0s 3ms/step - loss: 0.0222 - accuracy: 0.9972 - val_loss: 0.0131 - val_accuracy: 1.0000\n",
            "Epoch 16/100\n",
            "25/25 [==============================] - 0s 4ms/step - loss: 0.0190 - accuracy: 0.9972 - val_loss: 0.0118 - val_accuracy: 1.0000\n",
            "Epoch 17/100\n",
            "25/25 [==============================] - 0s 4ms/step - loss: 0.0162 - accuracy: 0.9985 - val_loss: 0.0105 - val_accuracy: 1.0000\n",
            "Epoch 18/100\n",
            "25/25 [==============================] - 0s 4ms/step - loss: 0.0136 - accuracy: 0.9989 - val_loss: 0.0088 - val_accuracy: 1.0000\n",
            "Epoch 19/100\n",
            "25/25 [==============================] - 0s 4ms/step - loss: 0.0120 - accuracy: 0.9997 - val_loss: 0.0101 - val_accuracy: 1.0000\n",
            "Epoch 20/100\n",
            "25/25 [==============================] - 0s 3ms/step - loss: 0.0108 - accuracy: 0.9997 - val_loss: 0.0066 - val_accuracy: 1.0000\n",
            "Epoch 21/100\n",
            "25/25 [==============================] - 0s 4ms/step - loss: 0.0096 - accuracy: 0.9998 - val_loss: 0.0056 - val_accuracy: 1.0000\n",
            "Epoch 22/100\n",
            "25/25 [==============================] - 0s 4ms/step - loss: 0.0096 - accuracy: 0.9997 - val_loss: 0.0054 - val_accuracy: 1.0000\n",
            "Epoch 23/100\n",
            "25/25 [==============================] - 0s 3ms/step - loss: 0.0079 - accuracy: 0.9998 - val_loss: 0.0052 - val_accuracy: 1.0000\n",
            "Epoch 24/100\n",
            "25/25 [==============================] - 0s 3ms/step - loss: 0.0070 - accuracy: 0.9997 - val_loss: 0.0041 - val_accuracy: 1.0000\n",
            "Epoch 25/100\n",
            "25/25 [==============================] - 0s 4ms/step - loss: 0.0068 - accuracy: 0.9997 - val_loss: 0.0057 - val_accuracy: 1.0000\n",
            "Epoch 26/100\n",
            "25/25 [==============================] - 0s 3ms/step - loss: 0.0057 - accuracy: 1.0000 - val_loss: 0.0034 - val_accuracy: 1.0000\n",
            "Epoch 27/100\n",
            "25/25 [==============================] - 0s 3ms/step - loss: 0.0054 - accuracy: 1.0000 - val_loss: 0.0038 - val_accuracy: 1.0000\n",
            "Epoch 28/100\n",
            "25/25 [==============================] - 0s 3ms/step - loss: 0.0051 - accuracy: 1.0000 - val_loss: 0.0034 - val_accuracy: 1.0000\n",
            "Epoch 29/100\n",
            "25/25 [==============================] - 0s 3ms/step - loss: 0.0044 - accuracy: 1.0000 - val_loss: 0.0037 - val_accuracy: 1.0000\n",
            "Epoch 30/100\n",
            "25/25 [==============================] - 0s 3ms/step - loss: 0.0041 - accuracy: 1.0000 - val_loss: 0.0026 - val_accuracy: 1.0000\n",
            "Epoch 31/100\n",
            "25/25 [==============================] - 0s 3ms/step - loss: 0.0037 - accuracy: 1.0000 - val_loss: 0.0024 - val_accuracy: 1.0000\n",
            "Epoch 32/100\n",
            "25/25 [==============================] - 0s 3ms/step - loss: 0.0037 - accuracy: 1.0000 - val_loss: 0.0023 - val_accuracy: 1.0000\n",
            "Epoch 33/100\n",
            "25/25 [==============================] - 0s 4ms/step - loss: 0.0033 - accuracy: 1.0000 - val_loss: 0.0024 - val_accuracy: 1.0000\n",
            "Epoch 34/100\n",
            "25/25 [==============================] - 0s 3ms/step - loss: 0.0031 - accuracy: 1.0000 - val_loss: 0.0021 - val_accuracy: 1.0000\n",
            "Epoch 35/100\n",
            "25/25 [==============================] - 0s 3ms/step - loss: 0.0028 - accuracy: 1.0000 - val_loss: 0.0021 - val_accuracy: 1.0000\n",
            "Epoch 36/100\n",
            "25/25 [==============================] - 0s 3ms/step - loss: 0.0027 - accuracy: 1.0000 - val_loss: 0.0022 - val_accuracy: 1.0000\n",
            "Epoch 37/100\n",
            "25/25 [==============================] - 0s 4ms/step - loss: 0.0025 - accuracy: 1.0000 - val_loss: 0.0017 - val_accuracy: 1.0000\n",
            "Epoch 38/100\n",
            "25/25 [==============================] - 0s 4ms/step - loss: 0.0023 - accuracy: 1.0000 - val_loss: 0.0016 - val_accuracy: 1.0000\n",
            "Epoch 39/100\n",
            "25/25 [==============================] - 0s 4ms/step - loss: 0.0023 - accuracy: 1.0000 - val_loss: 0.0014 - val_accuracy: 1.0000\n",
            "Epoch 40/100\n",
            "25/25 [==============================] - 0s 3ms/step - loss: 0.0021 - accuracy: 1.0000 - val_loss: 0.0014 - val_accuracy: 1.0000\n",
            "Epoch 41/100\n",
            "25/25 [==============================] - 0s 4ms/step - loss: 0.0020 - accuracy: 1.0000 - val_loss: 0.0014 - val_accuracy: 1.0000\n",
            "Epoch 42/100\n",
            "25/25 [==============================] - 0s 3ms/step - loss: 0.0019 - accuracy: 1.0000 - val_loss: 0.0013 - val_accuracy: 1.0000\n",
            "Epoch 43/100\n",
            "25/25 [==============================] - 0s 3ms/step - loss: 0.0019 - accuracy: 1.0000 - val_loss: 0.0013 - val_accuracy: 1.0000\n",
            "Epoch 44/100\n",
            "25/25 [==============================] - 0s 4ms/step - loss: 0.0017 - accuracy: 1.0000 - val_loss: 0.0013 - val_accuracy: 1.0000\n",
            "Epoch 45/100\n",
            "25/25 [==============================] - 0s 3ms/step - loss: 0.0016 - accuracy: 1.0000 - val_loss: 0.0011 - val_accuracy: 1.0000\n",
            "Epoch 46/100\n",
            "25/25 [==============================] - 0s 4ms/step - loss: 0.0015 - accuracy: 1.0000 - val_loss: 0.0012 - val_accuracy: 1.0000\n",
            "Epoch 47/100\n",
            "25/25 [==============================] - 0s 4ms/step - loss: 0.0015 - accuracy: 1.0000 - val_loss: 9.8051e-04 - val_accuracy: 1.0000\n",
            "Epoch 48/100\n",
            "25/25 [==============================] - 0s 3ms/step - loss: 0.0014 - accuracy: 1.0000 - val_loss: 9.9329e-04 - val_accuracy: 1.0000\n",
            "Epoch 49/100\n",
            "25/25 [==============================] - 0s 3ms/step - loss: 0.0013 - accuracy: 1.0000 - val_loss: 9.1501e-04 - val_accuracy: 1.0000\n",
            "Epoch 50/100\n",
            "25/25 [==============================] - 0s 3ms/step - loss: 0.0013 - accuracy: 1.0000 - val_loss: 8.5271e-04 - val_accuracy: 1.0000\n",
            "Epoch 51/100\n",
            "25/25 [==============================] - 0s 3ms/step - loss: 0.0012 - accuracy: 1.0000 - val_loss: 0.0010 - val_accuracy: 1.0000\n",
            "Epoch 52/100\n",
            "25/25 [==============================] - 0s 3ms/step - loss: 0.0012 - accuracy: 1.0000 - val_loss: 8.6809e-04 - val_accuracy: 1.0000\n",
            "Epoch 53/100\n",
            "25/25 [==============================] - 0s 3ms/step - loss: 0.0011 - accuracy: 1.0000 - val_loss: 9.4171e-04 - val_accuracy: 1.0000\n",
            "Epoch 54/100\n",
            "25/25 [==============================] - 0s 3ms/step - loss: 0.0011 - accuracy: 1.0000 - val_loss: 8.5031e-04 - val_accuracy: 1.0000\n",
            "Epoch 55/100\n",
            "25/25 [==============================] - 0s 4ms/step - loss: 0.0010 - accuracy: 1.0000 - val_loss: 7.8460e-04 - val_accuracy: 1.0000\n",
            "Epoch 56/100\n",
            "25/25 [==============================] - 0s 3ms/step - loss: 9.9814e-04 - accuracy: 1.0000 - val_loss: 6.8604e-04 - val_accuracy: 1.0000\n",
            "Epoch 57/100\n",
            "25/25 [==============================] - 0s 4ms/step - loss: 9.7094e-04 - accuracy: 1.0000 - val_loss: 6.7974e-04 - val_accuracy: 1.0000\n",
            "Epoch 58/100\n",
            "25/25 [==============================] - 0s 4ms/step - loss: 9.0992e-04 - accuracy: 1.0000 - val_loss: 6.6571e-04 - val_accuracy: 1.0000\n",
            "Epoch 59/100\n",
            "25/25 [==============================] - 0s 3ms/step - loss: 8.6641e-04 - accuracy: 1.0000 - val_loss: 6.6363e-04 - val_accuracy: 1.0000\n",
            "Epoch 60/100\n",
            "25/25 [==============================] - 0s 3ms/step - loss: 8.3705e-04 - accuracy: 1.0000 - val_loss: 6.1685e-04 - val_accuracy: 1.0000\n",
            "Epoch 61/100\n",
            "25/25 [==============================] - 0s 3ms/step - loss: 8.5401e-04 - accuracy: 1.0000 - val_loss: 6.4976e-04 - val_accuracy: 1.0000\n",
            "Epoch 62/100\n",
            "25/25 [==============================] - 0s 3ms/step - loss: 8.0348e-04 - accuracy: 1.0000 - val_loss: 6.6488e-04 - val_accuracy: 1.0000\n",
            "Epoch 63/100\n",
            "25/25 [==============================] - 0s 3ms/step - loss: 7.5891e-04 - accuracy: 1.0000 - val_loss: 5.6540e-04 - val_accuracy: 1.0000\n",
            "Epoch 64/100\n",
            "25/25 [==============================] - 0s 3ms/step - loss: 7.2355e-04 - accuracy: 1.0000 - val_loss: 5.5788e-04 - val_accuracy: 1.0000\n",
            "Epoch 65/100\n",
            "25/25 [==============================] - 0s 3ms/step - loss: 7.5406e-04 - accuracy: 1.0000 - val_loss: 5.4272e-04 - val_accuracy: 1.0000\n",
            "Epoch 66/100\n",
            "25/25 [==============================] - 0s 4ms/step - loss: 6.7286e-04 - accuracy: 1.0000 - val_loss: 5.2573e-04 - val_accuracy: 1.0000\n",
            "Epoch 67/100\n",
            "25/25 [==============================] - 0s 3ms/step - loss: 6.5893e-04 - accuracy: 1.0000 - val_loss: 5.0251e-04 - val_accuracy: 1.0000\n",
            "Epoch 68/100\n",
            "25/25 [==============================] - 0s 3ms/step - loss: 6.4093e-04 - accuracy: 1.0000 - val_loss: 4.9276e-04 - val_accuracy: 1.0000\n",
            "Epoch 69/100\n",
            "25/25 [==============================] - 0s 3ms/step - loss: 6.3914e-04 - accuracy: 1.0000 - val_loss: 4.5597e-04 - val_accuracy: 1.0000\n",
            "Epoch 70/100\n",
            "25/25 [==============================] - 0s 4ms/step - loss: 5.9218e-04 - accuracy: 1.0000 - val_loss: 4.8810e-04 - val_accuracy: 1.0000\n",
            "Epoch 71/100\n",
            "25/25 [==============================] - 0s 3ms/step - loss: 5.8111e-04 - accuracy: 1.0000 - val_loss: 4.2935e-04 - val_accuracy: 1.0000\n",
            "Epoch 72/100\n",
            "25/25 [==============================] - 0s 4ms/step - loss: 5.5922e-04 - accuracy: 1.0000 - val_loss: 4.1202e-04 - val_accuracy: 1.0000\n",
            "Epoch 73/100\n",
            "25/25 [==============================] - 0s 4ms/step - loss: 5.3597e-04 - accuracy: 1.0000 - val_loss: 3.9502e-04 - val_accuracy: 1.0000\n",
            "Epoch 74/100\n",
            "25/25 [==============================] - 0s 4ms/step - loss: 5.2050e-04 - accuracy: 1.0000 - val_loss: 4.4467e-04 - val_accuracy: 1.0000\n",
            "Epoch 75/100\n",
            "25/25 [==============================] - 0s 5ms/step - loss: 5.1304e-04 - accuracy: 1.0000 - val_loss: 3.9902e-04 - val_accuracy: 1.0000\n",
            "Epoch 76/100\n",
            "25/25 [==============================] - 0s 4ms/step - loss: 4.9538e-04 - accuracy: 1.0000 - val_loss: 4.1266e-04 - val_accuracy: 1.0000\n",
            "Epoch 77/100\n",
            "25/25 [==============================] - 0s 4ms/step - loss: 4.8148e-04 - accuracy: 1.0000 - val_loss: 3.7981e-04 - val_accuracy: 1.0000\n",
            "Epoch 78/100\n",
            "25/25 [==============================] - 0s 4ms/step - loss: 4.6606e-04 - accuracy: 1.0000 - val_loss: 3.3782e-04 - val_accuracy: 1.0000\n",
            "Epoch 79/100\n",
            "25/25 [==============================] - 0s 4ms/step - loss: 4.5386e-04 - accuracy: 1.0000 - val_loss: 3.4375e-04 - val_accuracy: 1.0000\n",
            "Epoch 80/100\n",
            "25/25 [==============================] - 0s 4ms/step - loss: 4.4585e-04 - accuracy: 1.0000 - val_loss: 3.4068e-04 - val_accuracy: 1.0000\n",
            "Epoch 81/100\n",
            "25/25 [==============================] - 0s 4ms/step - loss: 4.2442e-04 - accuracy: 1.0000 - val_loss: 3.0417e-04 - val_accuracy: 1.0000\n",
            "Epoch 82/100\n",
            "25/25 [==============================] - 0s 5ms/step - loss: 4.2162e-04 - accuracy: 1.0000 - val_loss: 2.9653e-04 - val_accuracy: 1.0000\n",
            "Epoch 83/100\n",
            "25/25 [==============================] - 0s 4ms/step - loss: 4.0028e-04 - accuracy: 1.0000 - val_loss: 3.0889e-04 - val_accuracy: 1.0000\n",
            "Epoch 84/100\n",
            "25/25 [==============================] - 0s 4ms/step - loss: 3.8886e-04 - accuracy: 1.0000 - val_loss: 2.9278e-04 - val_accuracy: 1.0000\n",
            "Epoch 85/100\n",
            "25/25 [==============================] - 0s 4ms/step - loss: 3.8196e-04 - accuracy: 1.0000 - val_loss: 3.3157e-04 - val_accuracy: 1.0000\n",
            "Epoch 86/100\n",
            "25/25 [==============================] - 0s 4ms/step - loss: 3.7752e-04 - accuracy: 1.0000 - val_loss: 3.2296e-04 - val_accuracy: 1.0000\n",
            "Epoch 87/100\n",
            "25/25 [==============================] - 0s 4ms/step - loss: 3.6562e-04 - accuracy: 1.0000 - val_loss: 2.6876e-04 - val_accuracy: 1.0000\n",
            "Epoch 88/100\n",
            "25/25 [==============================] - 0s 3ms/step - loss: 3.4789e-04 - accuracy: 1.0000 - val_loss: 3.0612e-04 - val_accuracy: 1.0000\n",
            "Epoch 89/100\n",
            "25/25 [==============================] - 0s 3ms/step - loss: 3.5878e-04 - accuracy: 1.0000 - val_loss: 3.1388e-04 - val_accuracy: 1.0000\n",
            "Epoch 90/100\n",
            "25/25 [==============================] - 0s 3ms/step - loss: 3.3937e-04 - accuracy: 1.0000 - val_loss: 2.6999e-04 - val_accuracy: 1.0000\n",
            "Epoch 91/100\n",
            "25/25 [==============================] - 0s 3ms/step - loss: 3.2477e-04 - accuracy: 1.0000 - val_loss: 2.5204e-04 - val_accuracy: 1.0000\n",
            "Epoch 92/100\n",
            "25/25 [==============================] - 0s 3ms/step - loss: 3.1952e-04 - accuracy: 1.0000 - val_loss: 2.4473e-04 - val_accuracy: 1.0000\n",
            "Epoch 93/100\n",
            "25/25 [==============================] - 0s 3ms/step - loss: 3.1352e-04 - accuracy: 1.0000 - val_loss: 2.2648e-04 - val_accuracy: 1.0000\n",
            "Epoch 94/100\n",
            "25/25 [==============================] - 0s 3ms/step - loss: 3.0235e-04 - accuracy: 1.0000 - val_loss: 2.4469e-04 - val_accuracy: 1.0000\n",
            "Epoch 95/100\n",
            "25/25 [==============================] - 0s 3ms/step - loss: 2.9609e-04 - accuracy: 1.0000 - val_loss: 2.2340e-04 - val_accuracy: 1.0000\n",
            "Epoch 96/100\n",
            "25/25 [==============================] - 0s 4ms/step - loss: 2.8461e-04 - accuracy: 1.0000 - val_loss: 2.0632e-04 - val_accuracy: 1.0000\n",
            "Epoch 97/100\n",
            "25/25 [==============================] - 0s 3ms/step - loss: 2.8167e-04 - accuracy: 1.0000 - val_loss: 1.9917e-04 - val_accuracy: 1.0000\n",
            "Epoch 98/100\n",
            "25/25 [==============================] - 0s 3ms/step - loss: 2.7622e-04 - accuracy: 1.0000 - val_loss: 1.9714e-04 - val_accuracy: 1.0000\n",
            "Epoch 99/100\n",
            "25/25 [==============================] - 0s 3ms/step - loss: 2.6819e-04 - accuracy: 1.0000 - val_loss: 1.9068e-04 - val_accuracy: 1.0000\n",
            "Epoch 100/100\n",
            "25/25 [==============================] - 0s 4ms/step - loss: 2.6155e-04 - accuracy: 1.0000 - val_loss: 1.9932e-04 - val_accuracy: 1.0000\n"
          ]
        }
      ]
    },
    {
      "cell_type": "markdown",
      "source": [
        "Proses training berjalan hingga epochs terakhir (yaitu 100), sehingga early stopping tidak aktif karena val_loss terus mengalami penurunan hingga epochs terakhir"
      ],
      "metadata": {
        "id": "FzOWJ1itkxqX"
      }
    },
    {
      "cell_type": "code",
      "source": [
        "# Plot learning curve proses training model\n",
        "pd.DataFrame(history.history).plot()\n",
        "plt.title('Final Model Learning Curve')\n",
        "plt.show()"
      ],
      "metadata": {
        "colab": {
          "base_uri": "https://localhost:8080/",
          "height": 281
        },
        "id": "V_SXD3mV0k9C",
        "outputId": "35482360-9eb1-44c7-92cb-5ee955dad26b"
      },
      "execution_count": null,
      "outputs": [
        {
          "output_type": "display_data",
          "data": {
            "text/plain": [
              "<Figure size 432x288 with 1 Axes>"
            ],
            "image/png": "[encoded data removed]"
          },
          "metadata": {
            "needs_background": "light"
          }
        }
      ]
    },
    {
      "cell_type": "markdown",
      "source": [
        "### Predict test set"
      ],
      "metadata": {
        "id": "y0ni3OvBk_5j"
      }
    },
    {
      "cell_type": "code",
      "source": [
        "# prediksi test set dengan model hasil training\n",
        "y_pred = final_model.predict(X_test)\n",
        "y_pred[:5]"
      ],
      "metadata": {
        "colab": {
          "base_uri": "https://localhost:8080/"
        },
        "id": "IfCwskHGqzXN",
        "outputId": "8854782a-285b-40c8-ca2f-8a1aa373c991"
      },
      "execution_count": null,
      "outputs": [
        {
          "output_type": "execute_result",
          "data": {
            "text/plain": [
              "array([[0],\n",
              "       [1],\n",
              "       [0],\n",
              "       [1],\n",
              "       [0]])"
            ]
          },
          "metadata": {},
          "execution_count": 266
        }
      ]
    },
    {
      "cell_type": "markdown",
      "source": [
        "Hasil prediksi sudah langsung berbentuk bilangan biner (tidak berbentuk probabilitas) karena model final menggunakan wrapper"
      ],
      "metadata": {
        "id": "cu1z-LEjlHHs"
      }
    },
    {
      "cell_type": "code",
      "source": [
        "# print hasil evaluasi pada test set\n",
        "print(classification_report(y_test, y_pred))"
      ],
      "metadata": {
        "colab": {
          "base_uri": "https://localhost:8080/"
        },
        "id": "MSq3GvEqq36W",
        "outputId": "29b71894-231a-4082-a506-646795411780"
      },
      "execution_count": null,
      "outputs": [
        {
          "output_type": "stream",
          "name": "stdout",
          "text": [
            "              precision    recall  f1-score   support\n",
            "\n",
            "           0       1.00      1.00      1.00       869\n",
            "           1       1.00      1.00      1.00       756\n",
            "\n",
            "    accuracy                           1.00      1625\n",
            "   macro avg       1.00      1.00      1.00      1625\n",
            "weighted avg       1.00      1.00      1.00      1625\n",
            "\n"
          ]
        }
      ]
    },
    {
      "cell_type": "markdown",
      "source": [
        "Pada classification report diperoleh nilai precision, recall, f1-score, dan akurasi yang sempurna, yaitu semuanya bernilai 1 (100%)"
      ],
      "metadata": {
        "id": "UvAEGi9altkW"
      }
    },
    {
      "cell_type": "markdown",
      "source": [
        "## Cek kepentingan fitur bagi prediksi model"
      ],
      "metadata": {
        "id": "nhx84SIMl4Yd"
      }
    },
    {
      "cell_type": "markdown",
      "source": [
        "Disini saya menggunakan metode permutation importance, yaitu metode untuk mengukur kepentingan fitur dengan menghitung peningkatan kesalahan prediksi model setelah mengubah fitur tersebut. Sebuah fitur “penting” jika mengacak nilainya meningkatkan kesalahan model, karena dalam hal ini model mengandalkan fitur untuk prediksi. Sebuah fitur dikatakan “tidak penting” jika mengacak nilainya membuat kesalahan model tidak berubah, karena dalam kasus ini model mengabaikan fitur untuk prediksi."
      ],
      "metadata": {
        "id": "jwxZ1c55l-e8"
      }
    },
    {
      "cell_type": "code",
      "source": [
        "# proses permutation importance\n",
        "result = permutation_importance(final_model, X_val, y_val, n_repeats=10,  # permutation importance dilakukan pada data validasi\n",
        "                                scoring='accuracy', random_state=42)"
      ],
      "metadata": {
        "id": "3j2KsO1nq7fv"
      },
      "execution_count": null,
      "outputs": []
    },
    {
      "cell_type": "code",
      "source": [
        "# print hasil permutation importance\n",
        "for i in result.importances_mean.argsort()[::-1]:\n",
        "  print(f\"{jamur_df.drop('class', axis=1).columns.values[i]:<30}\"\n",
        "        f\"{result.importances_mean[i]:.3f}\"\n",
        "        f\" +/- {result.importances_std[i]:.3f}\")"
      ],
      "metadata": {
        "colab": {
          "base_uri": "https://localhost:8080/"
        },
        "id": "P5fKmci1tkUU",
        "outputId": "86a623f3-bbce-4c68-b66b-017c1bcdbe26"
      },
      "execution_count": null,
      "outputs": [
        {
          "output_type": "stream",
          "name": "stdout",
          "text": [
            "odor                          0.066 +/- 0.011\n",
            "gill-size                     0.064 +/- 0.007\n",
            "spore-print-color             0.055 +/- 0.012\n",
            "stalk-root                    0.048 +/- 0.012\n",
            "gill-spacing                  0.048 +/- 0.009\n",
            "habitat                       0.043 +/- 0.007\n",
            "gill-color                    0.010 +/- 0.005\n",
            "stalk-surface-above-ring      0.007 +/- 0.004\n",
            "cap-surface                   0.007 +/- 0.005\n",
            "stalk-shape                   0.003 +/- 0.002\n",
            "veil-color                    0.003 +/- 0.003\n",
            "stalk-color-above-ring        0.001 +/- 0.002\n",
            "cap-color                     0.001 +/- 0.001\n",
            "veil-type                     0.000 +/- 0.000\n",
            "stalk-color-below-ring        0.000 +/- 0.000\n",
            "stalk-surface-below-ring      0.000 +/- 0.000\n",
            "population                    0.000 +/- 0.000\n",
            "ring-number                   0.000 +/- 0.000\n",
            "gill-attachment               0.000 +/- 0.000\n",
            "ring-type                     0.000 +/- 0.000\n",
            "bruises                       0.000 +/- 0.000\n",
            "cap-shape                     0.000 +/- 0.000\n"
          ]
        }
      ]
    },
    {
      "cell_type": "markdown",
      "source": [
        "Pada output diatas, diprint nilai kepentingan dan standard deviasinya dari masing - masing fitur (nilai sebelum tanda +/- adalah nilai kepentingan dan setelah +/- adalah standard deviasinya). Semakin besar nilai kepentingan, maka semakin penting fitur tersebut bagi akurasi model dalam memprediksi.\n",
        "\n",
        "Sehingga dari hasil diatas dapat diambil kesimpulan bahwa fitur yang diduga kuat berkaitan dengan beracun atau tidaknya suatu jamur adalah odor, gill-size, spore-print-color, stalk-root, gill-spacing, dan habitat. Fitur setelah habitat memiliki nilai kepentingan yang berbeda cukup besar dengan fitur - fitur diatasnya, sehingga fitur - fitur setelahnya dapat dianggap tidak terlalu berpengaruh pada proses prediksi model."
      ],
      "metadata": {
        "id": "OQ29S8pXmW0Z"
      }
    },
    {
      "cell_type": "code",
      "source": [
        "# plot hasil permutation importance dengan bar plot\n",
        "result_sorted = []\n",
        "columns_sorted = []\n",
        "\n",
        "for res, col in sorted(zip(result.importances_mean, jamur_df.drop('class', axis=1).columns.values), reverse=True):\n",
        "  result_sorted.append(res)\n",
        "  columns_sorted.append(col)\n",
        "\n",
        "fig, ax = plt.subplots(figsize=(15,8))\n",
        "sns.barplot(result_sorted, columns_sorted, ax=ax)\n",
        "plt.show()"
      ],
      "metadata": {
        "colab": {
          "base_uri": "https://localhost:8080/",
          "height": 483
        },
        "id": "UAI_HpbPuQNy",
        "outputId": "bf4eb7f0-789a-483d-ba9e-2860bbb7ae60"
      },
      "execution_count": null,
      "outputs": [
        {
          "output_type": "display_data",
          "data": {
            "text/plain": [
              "<Figure size 1080x576 with 1 Axes>"
            ],
            "image/png": "[encoded data removed]"
          },
          "metadata": {
            "needs_background": "light"
          }
        }
      ]
    }
  ]
}