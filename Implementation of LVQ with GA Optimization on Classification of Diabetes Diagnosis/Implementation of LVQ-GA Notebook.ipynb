{
  "cells": [
    {
      "cell_type": "code",
      "execution_count": null,
      "metadata": {
        "id": "570e2741"
      },
      "outputs": [],
      "source": [
        "import pandas as pd\n",
        "import numpy as np\n",
        "import matplotlib.pyplot as plt\n",
        "import seaborn as sns\n",
        "import copy\n",
        "import random\n",
        "from tqdm import tqdm\n",
        "\n",
        "from sklearn.preprocessing import StandardScaler\n",
        "from sklearn.metrics import classification_report, accuracy_score, f1_score, euclidean_distances\n",
        "from sklearn.base import BaseEstimator, ClassifierMixin\n",
        "from sklearn.utils.validation import check_X_y, check_array, check_is_fitted\n",
        "from sklearn.model_selection import RandomizedSearchCV\n",
        "from skopt.space import Real, Integer\n",
        "\n",
        "import warnings\n",
        "warnings.filterwarnings('ignore')"
      ],
      "id": "570e2741"
    },
    {
      "cell_type": "markdown",
      "metadata": {
        "id": "da57f320"
      },
      "source": [
        "# Data Preparation"
      ],
      "id": "da57f320"
    },
    {
      "cell_type": "code",
      "execution_count": null,
      "metadata": {
        "id": "fafac8a1"
      },
      "outputs": [],
      "source": [
        "df = pd.read_csv('diabetes_klasifikasi.csv')"
      ],
      "id": "fafac8a1"
    },
    {
      "cell_type": "code",
      "execution_count": null,
      "metadata": {
        "id": "6cb2a168"
      },
      "outputs": [],
      "source": [
        "df"
      ],
      "id": "6cb2a168"
    },
    {
      "cell_type": "code",
      "execution_count": null,
      "metadata": {
        "id": "ba38e3ec"
      },
      "outputs": [],
      "source": [
        "df.info()"
      ],
      "id": "ba38e3ec"
    },
    {
      "cell_type": "markdown",
      "metadata": {
        "id": "7f05b344"
      },
      "source": [
        "# Exploratory Data Analysis"
      ],
      "id": "7f05b344"
    },
    {
      "cell_type": "code",
      "execution_count": null,
      "metadata": {
        "id": "40602ab4"
      },
      "outputs": [],
      "source": [
        "df.describe()"
      ],
      "id": "40602ab4"
    },
    {
      "cell_type": "code",
      "execution_count": null,
      "metadata": {
        "id": "e0e0d4d8"
      },
      "outputs": [],
      "source": [
        "def plot_null(df):\n",
        "  plt.figure(figsize=(20,5))\n",
        "  ax = sns.barplot(x=df.isna().sum().sort_values().index, \n",
        "                   y=df.isna().sum().sort_values().values)\n",
        "  ax.set_xticklabels(ax.get_xticklabels(), rotation=45)\n",
        "  ax.bar_label(ax.containers[0])\n",
        "  plt.show()"
      ],
      "id": "e0e0d4d8"
    },
    {
      "cell_type": "code",
      "execution_count": null,
      "metadata": {
        "id": "GgOWiuJ77iGM"
      },
      "outputs": [],
      "source": [
        "plot_null(df)"
      ],
      "id": "GgOWiuJ77iGM"
    },
    {
      "cell_type": "code",
      "execution_count": null,
      "metadata": {
        "id": "76eac407"
      },
      "outputs": [],
      "source": [
        "df.duplicated().sum()"
      ],
      "id": "76eac407"
    },
    {
      "cell_type": "code",
      "execution_count": null,
      "metadata": {
        "id": "f72eb16d"
      },
      "outputs": [],
      "source": [
        "df.iloc[:,:-1].duplicated().sum()"
      ],
      "id": "f72eb16d"
    },
    {
      "cell_type": "code",
      "execution_count": null,
      "metadata": {
        "id": "ae22ad0d"
      },
      "outputs": [],
      "source": [
        "sns.heatmap(df.corr(), vmin=-1, center=0, vmax=1, annot=True)\n",
        "plt.show()"
      ],
      "id": "ae22ad0d"
    },
    {
      "cell_type": "markdown",
      "metadata": {
        "id": "5282453e"
      },
      "source": [
        "## Unique and Count Values"
      ],
      "id": "5282453e"
    },
    {
      "cell_type": "code",
      "execution_count": null,
      "metadata": {
        "id": "5a35eaf6"
      },
      "outputs": [],
      "source": [
        "for i in df.columns:\n",
        "    print(df.loc[:,i].value_counts())\n",
        "    print('============================ \\n')"
      ],
      "id": "5a35eaf6"
    },
    {
      "cell_type": "code",
      "execution_count": null,
      "metadata": {
        "id": "4c5a56e7",
        "scrolled": true
      },
      "outputs": [],
      "source": [
        "df.columns"
      ],
      "id": "4c5a56e7"
    },
    {
      "cell_type": "markdown",
      "metadata": {
        "id": "75d9ad6b"
      },
      "source": [
        "## Univariate Analysis"
      ],
      "id": "75d9ad6b"
    },
    {
      "cell_type": "code",
      "execution_count": null,
      "metadata": {
        "id": "990bf535"
      },
      "outputs": [],
      "source": [
        "plt.pie(x=df['Outcome'].value_counts().values, labels=df['Outcome'].value_counts().index, \n",
        "        explode=(0,0.1), autopct='%1.2f%%', textprops={'fontsize':15})\n",
        "plt.title('Ratio Between Two Class In Dependent Variable')\n",
        "plt.legend(loc='upper right')\n",
        "plt.show()"
      ],
      "id": "990bf535"
    },
    {
      "cell_type": "code",
      "execution_count": null,
      "metadata": {
        "id": "8e5d5cbf"
      },
      "outputs": [],
      "source": [
        "fig, ax = plt.subplots(8,1, figsize=(15,50))\n",
        "columns = df.iloc[:,:-1].columns\n",
        "\n",
        "for i, ax in zip(range(len(columns)), ax.flat):\n",
        "    df[columns[i]].value_counts().plot(kind='bar', ax=ax)\n",
        "    ax.set_title(columns[i])\n",
        "    \n",
        "plt.tight_layout()\n",
        "plt.show()"
      ],
      "id": "8e5d5cbf"
    },
    {
      "cell_type": "code",
      "execution_count": null,
      "metadata": {
        "id": "93fe6d2b",
        "scrolled": true
      },
      "outputs": [],
      "source": [
        "fig, ax = plt.subplots(2,4, figsize=(15,10))\n",
        "columns = df.iloc[:,:-1].columns\n",
        "\n",
        "for i,ax in zip(range(len(columns)), ax.flat):\n",
        "    df[columns[i]].value_counts().plot(kind='box', ax=ax)\n",
        "    \n",
        "plt.tight_layout()\n",
        "plt.show()"
      ],
      "id": "93fe6d2b"
    },
    {
      "cell_type": "markdown",
      "metadata": {
        "id": "02eec3f4"
      },
      "source": [
        "## Multivariate Analysis"
      ],
      "id": "02eec3f4"
    },
    {
      "cell_type": "code",
      "execution_count": null,
      "metadata": {
        "collapsed": true,
        "id": "7iQk15H4Tq2c"
      },
      "outputs": [],
      "source": [
        "fig, axs = plt.subplots(8,1, figsize=(10,50))\n",
        "columns = df.iloc[:,:-1].columns\n",
        "\n",
        "for i, ax in zip(range(len(columns)), axs.flat):\n",
        "    sns.boxplot(x='Outcome', y=columns[i], data=df, ax=ax)\n",
        "    ax.set_title(columns[i])\n",
        "    \n",
        "plt.tight_layout()\n",
        "plt.show()"
      ],
      "id": "7iQk15H4Tq2c"
    },
    {
      "cell_type": "markdown",
      "metadata": {
        "id": "1670a546"
      },
      "source": [
        "# Data Cleaning"
      ],
      "id": "1670a546"
    },
    {
      "cell_type": "markdown",
      "metadata": {
        "id": "6297469e"
      },
      "source": [
        "## Handle Data Outlier"
      ],
      "id": "6297469e"
    },
    {
      "cell_type": "code",
      "execution_count": null,
      "metadata": {
        "id": "DXQJXIJDVqYV"
      },
      "outputs": [],
      "source": [
        "df.describe()"
      ],
      "id": "DXQJXIJDVqYV"
    },
    {
      "cell_type": "code",
      "execution_count": null,
      "metadata": {
        "id": "137d4a69"
      },
      "outputs": [],
      "source": [
        "columns = df.iloc[:,:-1].columns\n",
        "for col in columns:\n",
        "    iqr = df.loc[:, col].quantile(.75) - df.loc[:, col].quantile(.25)\n",
        "    upper_bound = df.loc[:, col].quantile(.75) + 1.5*iqr\n",
        "\n",
        "    df.loc[df[col]>upper_bound, col] = upper_bound"
      ],
      "id": "137d4a69"
    },
    {
      "cell_type": "code",
      "execution_count": null,
      "metadata": {
        "id": "85f97904"
      },
      "outputs": [],
      "source": [
        "df.describe()"
      ],
      "id": "85f97904"
    },
    {
      "cell_type": "code",
      "execution_count": null,
      "metadata": {
        "id": "98af6bb3"
      },
      "outputs": [],
      "source": [
        "fig, ax = plt.subplots(2,4, figsize=(15,10))\n",
        "columns = df.iloc[:,:-1].columns\n",
        "\n",
        "for i,ax in zip(range(len(columns)), ax.flat):\n",
        "    df[columns[i]].value_counts().plot(kind='box', ax=ax)\n",
        "    \n",
        "plt.tight_layout()\n",
        "plt.show()"
      ],
      "id": "98af6bb3"
    },
    {
      "cell_type": "markdown",
      "metadata": {
        "id": "a873121f"
      },
      "source": [
        "# Data Preprocessing"
      ],
      "id": "a873121f"
    },
    {
      "cell_type": "code",
      "execution_count": null,
      "metadata": {
        "id": "8lpM1obDWnzj"
      },
      "outputs": [],
      "source": [
        "from sklearn.model_selection import train_test_split"
      ],
      "id": "8lpM1obDWnzj"
    },
    {
      "cell_type": "code",
      "execution_count": null,
      "metadata": {
        "id": "Pwmx96gYa2fu"
      },
      "outputs": [],
      "source": [
        "X = df.drop('Outcome', axis=1).values\n",
        "y = df['Outcome'].values\n",
        "\n",
        "X_train, X_test, y_train, y_test = train_test_split(X, y, test_size=.2, \n",
        "                                                    random_state=42)\n",
        "\n",
        "X_train.shape, X_test.shape, y_train.shape, y_test.shape"
      ],
      "id": "Pwmx96gYa2fu"
    },
    {
      "cell_type": "code",
      "execution_count": null,
      "metadata": {
        "id": "10e50154",
        "scrolled": true
      },
      "outputs": [],
      "source": [
        "sc = StandardScaler()\n",
        "X_train_scaled = sc.fit_transform(X_train)\n",
        "X_test_scaled = sc.transform(X_test)\n",
        "\n",
        "X_train_scaled"
      ],
      "id": "10e50154"
    },
    {
      "cell_type": "markdown",
      "metadata": {
        "id": "09bc1024"
      },
      "source": [
        "# LVQ"
      ],
      "id": "09bc1024"
    },
    {
      "cell_type": "markdown",
      "source": [
        "## Implementasi algoritma LVQ dalam class"
      ],
      "metadata": {
        "id": "wFoH4F3Z53do"
      },
      "id": "wFoH4F3Z53do"
    },
    {
      "cell_type": "code",
      "execution_count": null,
      "metadata": {
        "id": "d688b4e6"
      },
      "outputs": [],
      "source": [
        "class LVQ(BaseEstimator, ClassifierMixin):\n",
        "\n",
        "    def __init__(self, alpha=1e-1, dec_alpha=.5, min_alpha=1e-25, input_size=8, \n",
        "                 n_classes=2, epochs=20):\n",
        "        self.min_alpha = min_alpha\n",
        "        self.weights_ = np.array([])\n",
        "        self.input_size_ = input_size\n",
        "        self.n_classes_ = n_classes\n",
        "        self.alpha = alpha\n",
        "        self.dec_alpha = dec_alpha\n",
        "        self.epochs = epochs\n",
        "        \n",
        "        if self.alpha < self.min_alpha:\n",
        "            raise Exception('alpha harus > min_alpha !')\n",
        "    \n",
        "    def get_params(self, deep=True):\n",
        "        return {'alpha': self.alpha, \n",
        "                'dec_alpha': self.dec_alpha,\n",
        "                'min_alpha': self.min_alpha,\n",
        "                'input_size': self.input_size_,\n",
        "                'n_classes': self.n_classes_,\n",
        "                'epochs': self.epochs}\n",
        "    \n",
        "    def set_params(self, **parameters):\n",
        "        for parameter, value in parameters.items():\n",
        "            setattr(self, parameter, value)\n",
        "        return self\n",
        "    \n",
        "    def winner(self, sample):\n",
        "        distance0 = euclidean_distances(sample.reshape(1,-1), self.weights_[0:1])\n",
        "        distance1 = euclidean_distances(sample.reshape(1,-1), self.weights_[1:])\n",
        "\n",
        "        if distance0[0,0] < distance1[0,0]:\n",
        "            return 0\n",
        "        else:\n",
        "            return 1\n",
        "\n",
        "    def fit(self, X, y, verbose=1):\n",
        "\n",
        "        X, y = check_X_y(X, y)\n",
        "\n",
        "        if self.weights_.size == 0:\n",
        "            idx = np.random.randint(len(X), size=self.n_classes_)\n",
        "            self.weights_ = X[idx]\n",
        "        else:\n",
        "            None\n",
        "\n",
        "        for epoch in (tqdm(range(self.epochs)) if verbose == 1 else range(self.epochs)):\n",
        "            if verbose == 2:\n",
        "                print('Start Epoch {}'.format(epoch+1))\n",
        "                print('=============================')\n",
        "    \n",
        "            elif verbose == 3:\n",
        "                print('Start Epoch {}'.format(epoch+1))\n",
        "                print('Weights on start epoch {0}: {1}'.format(epoch+1, self.weights_))\n",
        "                print('=============================')\n",
        "            else:\n",
        "                None\n",
        "\n",
        "            for i in range(len(X)):\n",
        "                pred = self.winner(X[i])\n",
        "                actual = y[i]\n",
        "                if actual == pred:\n",
        "                    for j in range(self.input_size_):\n",
        "                        self.weights_[pred, j] = self.weights_[pred, j] + self.alpha * (X[i, j] - self.weights_[pred, j])\n",
        "                else:\n",
        "                    for j in range(self.input_size_):\n",
        "                        self.weights_[pred, j] = self.weights_[pred, j] - self.alpha * (X[i, j] - self.weights_[pred, j])\n",
        "\n",
        "            if self.alpha >= self.min_alpha:\n",
        "                update_alpha = self.alpha * self.dec_alpha\n",
        "                if self.min_alpha < update_alpha:\n",
        "                    self.alpha = update_alpha \n",
        "                else:\n",
        "                    if verbose > 0:\n",
        "                        print('=======================')\n",
        "                        print('Alpha minimal tercapai!')\n",
        "                        print('=======================')\n",
        "                    \n",
        "                    return self\n",
        "                \n",
        "        return self\n",
        "    \n",
        "    def predict(self, X):\n",
        "\n",
        "        check_is_fitted(self)\n",
        "        X = check_array(X)\n",
        "\n",
        "        prediction = np.array([])\n",
        "        for sample in X:\n",
        "            prediction = np.append(prediction, self.winner(sample))\n",
        "        return prediction"
      ],
      "id": "d688b4e6"
    },
    {
      "cell_type": "markdown",
      "source": [
        "## Hyperparameter Tuning LVQ"
      ],
      "metadata": {
        "id": "YhmR1lBo4wYE"
      },
      "id": "YhmR1lBo4wYE"
    },
    {
      "cell_type": "code",
      "source": [
        "params = {'alpha': Real(1e-3, 1),\n",
        "          'dec_alpha': Real(1e-1, 9e-1),\n",
        "          'min_alpha': Real(1e-100, 1e-4),\n",
        "          'epochs': Integer(50, 200)}\n",
        "rs = RandomizedSearchCV(LVQ(), params, n_iter=200, cv=5, scoring='accuracy', \n",
        "                        verbose=0, n_jobs=2)\n",
        "rs.fit(X_train_scaled, y_train, verbose=0)"
      ],
      "metadata": {
        "id": "hJBgLkh54yA3"
      },
      "id": "hJBgLkh54yA3",
      "execution_count": null,
      "outputs": []
    },
    {
      "cell_type": "code",
      "execution_count": null,
      "metadata": {
        "id": "33d8451f"
      },
      "outputs": [],
      "source": [
        "results = pd.DataFrame(rs.cv_results_).sort_values('rank_test_score')\n",
        "results[['param_alpha', 'param_dec_alpha', 'param_min_alpha', 'param_epochs', 'mean_test_score', \n",
        "          'std_test_score', 'rank_test_score']].head(10)"
      ],
      "id": "33d8451f"
    },
    {
      "cell_type": "markdown",
      "source": [
        "## Training LVQ"
      ],
      "metadata": {
        "id": "bq7AxOV65tV_"
      },
      "id": "bq7AxOV65tV_"
    },
    {
      "cell_type": "code",
      "execution_count": null,
      "metadata": {
        "id": "825b0e41"
      },
      "outputs": [],
      "source": [
        "lvq = LVQ(alpha=.07459, dec_alpha=.1, epochs=200, min_alpha=1e-70)\n",
        "lvq.fit(X_train_scaled, y_train)"
      ],
      "id": "825b0e41"
    },
    {
      "cell_type": "markdown",
      "source": [
        "## Testing LVQ"
      ],
      "metadata": {
        "id": "TRlxu8Qh5umq"
      },
      "id": "TRlxu8Qh5umq"
    },
    {
      "cell_type": "code",
      "execution_count": null,
      "metadata": {
        "id": "6d97dfce"
      },
      "outputs": [],
      "source": [
        "from sklearn.metrics import classification_report, accuracy_score, f1_score\n",
        "\n",
        "y_pred = lvq.predict(X_test_scaled)\n",
        "print(classification_report(y_test, y_pred))\n",
        "accuracy_score(y_test, y_pred), f1_score(y_test, y_pred)"
      ],
      "id": "6d97dfce"
    },
    {
      "cell_type": "markdown",
      "metadata": {
        "id": "9c52d9dd"
      },
      "source": [
        "# LVQ - GA"
      ],
      "id": "9c52d9dd"
    },
    {
      "cell_type": "markdown",
      "source": [
        "## Implementasi algoritma LVQ-GA dalam class"
      ],
      "metadata": {
        "id": "vrohhJSk56cF"
      },
      "id": "vrohhJSk56cF"
    },
    {
      "cell_type": "code",
      "execution_count": null,
      "metadata": {
        "id": "oSGL4I7smuSM"
      },
      "outputs": [],
      "source": [
        "class LVQ_GA(LVQ, BaseEstimator, ClassifierMixin):\n",
        "    def __init__(self, alpha=1e-1, dec_alpha=.5, min_alpha=1e-25, input_size=8, \n",
        "                 n_classes=2, lvq_epochs=20, num_generations=50, sol_per_pop=100,\n",
        "                 cr=.9, pc=.9, pm=.5):\n",
        "        self.num_generations = num_generations\n",
        "        self.sol_per_pop = sol_per_pop\n",
        "        self.cr = cr\n",
        "        self.pc = pc\n",
        "        self.pm = pm\n",
        "        self.population = np.array([])\n",
        "        self.fitness = np.array([])\n",
        "        self.reset_alpha = alpha\n",
        "        LVQ.__init__(self, alpha, dec_alpha, min_alpha, input_size, n_classes,\n",
        "                     lvq_epochs)\n",
        "    \n",
        "    def get_params(self, deep=False):\n",
        "        params = LVQ.get_params(self)\n",
        "        params['num_generations'] = self.num_generations\n",
        "        params['sol_per_pop'] = self.sol_per_pop\n",
        "        params['cr'] = self.cr\n",
        "        params['pc'] = self.pc\n",
        "        params['pm'] = self.pm\n",
        "        params['population'] = self.population\n",
        "\n",
        "        return params\n",
        "    \n",
        "    def set_params(self, **parameters):\n",
        "        for parameter, value in parameters.items():\n",
        "            setattr(self, parameter, value)\n",
        "        return self\n",
        "    \n",
        "    def create_pop(self, X, y):\n",
        "        data_0 = X[y == 0]\n",
        "        data_1 = X[y == 1]\n",
        "        idx_0 = np.random.randint(0, len(data_0), self.sol_per_pop)\n",
        "        idx_1 = np.random.randint(0, len(data_1), self.sol_per_pop)\n",
        "        pop = []\n",
        "        for i in range(self.sol_per_pop):\n",
        "            pop.append([data_0[idx_0[i]],data_1[idx_1[i]]])\n",
        "        \n",
        "        self.population = np.array(pop)\n",
        "        \n",
        "        return self\n",
        "\n",
        "    def parent_random_selection(self):\n",
        "        position = np.random.permutation(self.population.shape[0])\n",
        "        parents = copy.deepcopy(self.population[position[:2]])\n",
        "\n",
        "        return parents\n",
        "\n",
        "    def parent_tour_selection(self, K):\n",
        "        parents = []\n",
        "        for i in range(2):\n",
        "            position = np.random.permutation(self.sol_per_pop)[:K]\n",
        "            max_fitness = self.fitness[position].max()\n",
        "            parent_idx = np.where(self.fitness == max_fitness)[0][0]\n",
        "            parent = copy.deepcopy(self.population[parent_idx])\n",
        "            parents.append(parent)\n",
        "\n",
        "        return parents\n",
        "    \n",
        "    def crossover_2_point(self, p1, p2):\n",
        "        ps = random.sample(range(1, p1.shape[1] - 1), 2)\n",
        "        ps.append(0)\n",
        "        ps.append(p1.shape[1])\n",
        "        ps = sorted(ps)\n",
        "        c1, c2 = copy.deepcopy(p1), copy.deepcopy(p2)\n",
        "        \n",
        "        for i in range(0, 3):\n",
        "            if i % 2 == 0:\n",
        "                continue\n",
        "            c1[:,ps[i]:ps[i + 1]] = p2[:,ps[i]:ps[i + 1]]\n",
        "            c2[:,ps[i]:ps[i + 1]] = p1[:,ps[i]:ps[i + 1]]\n",
        "\n",
        "        return c1, c2\n",
        "    \n",
        "    def random_mutation(self, ind):\n",
        "        mut = copy.deepcopy(ind)\n",
        "\n",
        "        for i in range(len(mut)):\n",
        "            mut[i] = mut[i] + random.uniform(-1,1)*(max(mut[i]) - min(mut[i]))\n",
        "        \n",
        "        mut = np.array(mut)\n",
        "\n",
        "        return mut\n",
        "    \n",
        "    def run_crossover_mutation(self, parents, generation):\n",
        "\n",
        "        crossed_offspring = []\n",
        "        ind1, ind2 = copy.deepcopy(parents[0]), copy.deepcopy(parents[1])\n",
        "        if random.random() < self.pc:\n",
        "            # Applying crossover to pair of individuals\n",
        "            children = self.crossover_2_point(ind1, ind2)\n",
        "            crossed_offspring.append(children[0])\n",
        "            crossed_offspring.append(children[1])\n",
        "        else:\n",
        "            # Passing individuals further without crossover\n",
        "            crossed_offspring.append(ind1)\n",
        "            crossed_offspring.append(ind2)\n",
        "\n",
        "        crossed_offspring = np.array(crossed_offspring)\n",
        "\n",
        "        # MUTATION\n",
        "        mutated = []\n",
        "        for ind in crossed_offspring:\n",
        "            if random.random() < self.pm:\n",
        "                # Applying mutation to an individual\n",
        "                mutated.append(self.random_mutation(ind))\n",
        "            else:\n",
        "                # Passing individual further without mutation\n",
        "                mutated.append(ind)\n",
        "            \n",
        "        mutated = np.array(mutated)\n",
        "        if generation == 0:\n",
        "            self.population = np.append(self.population, mutated)\\\n",
        "                                        .reshape(-1, self.n_classes_, \n",
        "                                                self.input_size_)\n",
        "        else:\n",
        "            self.mutated = np.append(self.mutated, mutated)\\\n",
        "                                     .reshape(-1, self.n_classes_, \n",
        "                                              self.input_size_)\n",
        "            self.population = np.append(self.population, mutated)\\\n",
        "                                        .reshape(-1, self.n_classes_, \n",
        "                                                self.input_size_)\n",
        "\n",
        "        return self\n",
        "    \n",
        "    def run_lvq(self, X, y, weights, verbose):\n",
        "        self.weights_ = copy.deepcopy(weights)\n",
        "        self.alpha = self.reset_alpha\n",
        "        LVQ.fit(self, X, y, verbose)\n",
        "        return self\n",
        "    \n",
        "    def eval_fitness(self, y_true, y_pred):\n",
        "        fitness = accuracy_score(y_true, y_pred)\n",
        "        return fitness\n",
        "\n",
        "    def elitism_selection(self, fitness_list, n_child):\n",
        "        if self.fitness.size == 0:\n",
        "            self.fitness = copy.deepcopy(fitness_list)\n",
        "        else:\n",
        "            self.fitness = np.append(self.fitness, fitness_list)\n",
        "        idxpop_fitness_zip = list(zip(range(self.sol_per_pop+n_child), self.fitness))\n",
        "        idxpop_fitness_zip = sorted(idxpop_fitness_zip, key=lambda x: x[1], reverse=True)\n",
        "        self.idxpop_fitness_zip = np.array(idxpop_fitness_zip)\n",
        "\n",
        "        idxpop_selected = self.idxpop_fitness_zip[:self.sol_per_pop, 0].astype(int)\n",
        "        self.fitness = self.idxpop_fitness_zip[:self.sol_per_pop, 1]\n",
        "        self.population = self.population[idxpop_selected]\n",
        "\n",
        "        return self        \n",
        "\n",
        "    def fit(self, X, y, val_data, lvq_verbose=1, ga_verbose=1): # ini belom\n",
        "        self.create_pop(X, y)\n",
        "\n",
        "        if val_data != None:\n",
        "            X_train, X_val, y_train, y_val = X, val_data[0], y, val_data[1]\n",
        "        else:\n",
        "            X_train, X_val, y_train, y_val = X.copy(), X.copy(), y.copy(), y.copy()\n",
        "\n",
        "        n_child = int(self.cr * self.sol_per_pop)\n",
        "        self.best_fitness_ = 0\n",
        "        self.best_weights_ = 0\n",
        "\n",
        "        for generation in range(self.num_generations):    \n",
        "            \n",
        "            generation_best_fitness = 0\n",
        "            \n",
        "            self.mutated = np.array([])\n",
        "            for i in range(int(np.floor(n_child/2))):\n",
        "                if generation == 0:\n",
        "                    parents = self.parent_random_selection()\n",
        "                else:\n",
        "                    parents = self.parent_tour_selection(5)\n",
        "                self.run_crossover_mutation(parents, generation)\n",
        "\n",
        "            fitness_list = []\n",
        "\n",
        "            print('Generation {} Start...'.format(generation+1))\n",
        "            for ind in tqdm(self.population if generation==0 else self.mutated):\n",
        "                self.run_lvq(X_train, y_train, ind, lvq_verbose)\n",
        "                predictions = LVQ.predict(self, X_val)\n",
        "                fitness = self.eval_fitness(y_val, predictions)\n",
        "\n",
        "                if fitness > generation_best_fitness:\n",
        "                    generation_best_fitness = copy.deepcopy(fitness)\n",
        "                    \n",
        "                    if fitness > self.best_fitness_:\n",
        "                        self.best_fitness_ = copy.deepcopy(fitness)\n",
        "                        self.best_weights_ = copy.deepcopy(self.weights_)\n",
        "\n",
        "                fitness_list.append(fitness)\n",
        "            \n",
        "            print('Best generation fitness:', generation_best_fitness)\n",
        "            self.elitism_selection(fitness_list, n_child)\n",
        "        \n",
        "        print('Best fitness:', self.best_fitness_)\n",
        "        self.weights_ = copy.deepcopy(self.best_weights_)\n",
        "\n",
        "        return self\n",
        "    \n",
        "    def predict(self, X):\n",
        "        pred = LVQ.predict(self, X)\n",
        "        return pred"
      ],
      "id": "oSGL4I7smuSM"
    },
    {
      "cell_type": "markdown",
      "source": [
        "## Training LVQ-GA 1\n",
        "Training LVQ-GA dilakukan sebanyak 3 kali, dengan kombinasi hyperparameter yang berbeda-beda"
      ],
      "metadata": {
        "id": "kUQ8NPms6vUR"
      },
      "id": "kUQ8NPms6vUR"
    },
    {
      "cell_type": "code",
      "execution_count": null,
      "metadata": {
        "id": "36061d7f"
      },
      "outputs": [],
      "source": [
        "lvq_ga = LVQ_GA(alpha=.07459, dec_alpha=.1, lvq_epochs=200, \n",
        "                min_alpha=1e-70, sol_per_pop=50, \n",
        "                num_generations=100, cr=.5, pc=.9, pm=.5)\n",
        "lvq_ga.fit(X_train_scaled, y_train, \n",
        "           val_data=(X_test_scaled, y_test), \n",
        "           lvq_verbose=0)"
      ],
      "id": "36061d7f"
    },
    {
      "cell_type": "markdown",
      "source": [
        "## Testing LVQ-GA 1"
      ],
      "metadata": {
        "id": "u0HI8_Qc7Evy"
      },
      "id": "u0HI8_Qc7Evy"
    },
    {
      "cell_type": "code",
      "execution_count": null,
      "metadata": {
        "id": "d41e0946",
        "outputId": "3153669b-b283-418d-c22b-fa84962845de"
      },
      "outputs": [
        {
          "name": "stdout",
          "output_type": "stream",
          "text": [
            "              precision    recall  f1-score   support\n",
            "\n",
            "           0       0.74      0.95      0.83        76\n",
            "           1       0.79      0.38      0.51        40\n",
            "\n",
            "    accuracy                           0.75       116\n",
            "   macro avg       0.77      0.66      0.67       116\n",
            "weighted avg       0.76      0.75      0.72       116\n",
            "\n"
          ]
        },
        {
          "data": {
            "text/plain": [
              "(0.75, 0.5084745762711864, 0.7894736842105263, 0.375)"
            ]
          },
          "execution_count": 47,
          "metadata": {},
          "output_type": "execute_result"
        }
      ],
      "source": [
        "from sklearn.metrics import classification_report, accuracy_score, f1_score, precision_score, recall_score\n",
        "\n",
        "y_pred = lvq_ga.predict(X_test_scaled)\n",
        "print(classification_report(y_test, lvq_ga.predict(X_test_scaled)))\n",
        "accuracy_score(y_test, y_pred), f1_score(y_test, y_pred), precision_score(y_test, y_pred), recall_score(y_test, y_pred)"
      ],
      "id": "d41e0946"
    },
    {
      "cell_type": "markdown",
      "source": [
        "## Training LVQ-GA 2"
      ],
      "metadata": {
        "id": "L-ERx9zj7JDo"
      },
      "id": "L-ERx9zj7JDo"
    },
    {
      "cell_type": "code",
      "execution_count": null,
      "metadata": {
        "colab": {
          "background_save": true,
          "base_uri": "https://localhost:8080/"
        },
        "outputId": "5ccfa1e1-b410-413b-856a-b89341167c49",
        "scrolled": true,
        "id": "qTS8GTcj1gf3"
      },
      "outputs": [
        {
          "name": "stdout",
          "output_type": "stream",
          "text": [
            "Generation 1 Start...\n"
          ]
        },
        {
          "name": "stderr",
          "output_type": "stream",
          "text": [
            "100%|██████████████████████████████████████████████████████████████████████████████████| 56/56 [11:01<00:00, 11.81s/it]\n"
          ]
        },
        {
          "name": "stdout",
          "output_type": "stream",
          "text": [
            "Best generation fitness: 0.7597402597402597\n",
            "Generation 2 Start...\n"
          ]
        },
        {
          "name": "stderr",
          "output_type": "stream",
          "text": [
            "100%|██████████████████████████████████████████████████████████████████████████████████| 26/26 [05:04<00:00, 11.71s/it]\n"
          ]
        },
        {
          "name": "stdout",
          "output_type": "stream",
          "text": [
            "Best generation fitness: 0.7597402597402597\n",
            "Generation 3 Start...\n"
          ]
        },
        {
          "name": "stderr",
          "output_type": "stream",
          "text": [
            "100%|██████████████████████████████████████████████████████████████████████████████████| 26/26 [06:08<00:00, 14.16s/it]\n"
          ]
        },
        {
          "name": "stdout",
          "output_type": "stream",
          "text": [
            "Best generation fitness: 0.7597402597402597\n",
            "Generation 4 Start...\n"
          ]
        },
        {
          "name": "stderr",
          "output_type": "stream",
          "text": [
            "100%|██████████████████████████████████████████████████████████████████████████████████| 26/26 [05:45<00:00, 13.30s/it]\n"
          ]
        },
        {
          "name": "stdout",
          "output_type": "stream",
          "text": [
            "Best generation fitness: 0.7597402597402597\n",
            "Generation 5 Start...\n"
          ]
        },
        {
          "name": "stderr",
          "output_type": "stream",
          "text": [
            "100%|██████████████████████████████████████████████████████████████████████████████████| 26/26 [06:10<00:00, 14.24s/it]\n"
          ]
        },
        {
          "name": "stdout",
          "output_type": "stream",
          "text": [
            "Best generation fitness: 0.7597402597402597\n",
            "Generation 6 Start...\n"
          ]
        },
        {
          "name": "stderr",
          "output_type": "stream",
          "text": [
            "100%|██████████████████████████████████████████████████████████████████████████████████| 26/26 [05:37<00:00, 13.00s/it]\n"
          ]
        },
        {
          "name": "stdout",
          "output_type": "stream",
          "text": [
            "Best generation fitness: 0.7597402597402597\n",
            "Generation 7 Start...\n"
          ]
        },
        {
          "name": "stderr",
          "output_type": "stream",
          "text": [
            "100%|██████████████████████████████████████████████████████████████████████████████████| 26/26 [05:34<00:00, 12.85s/it]\n"
          ]
        },
        {
          "name": "stdout",
          "output_type": "stream",
          "text": [
            "Best generation fitness: 0.7597402597402597\n",
            "Generation 8 Start...\n"
          ]
        },
        {
          "name": "stderr",
          "output_type": "stream",
          "text": [
            "100%|██████████████████████████████████████████████████████████████████████████████████| 26/26 [04:51<00:00, 11.19s/it]\n"
          ]
        },
        {
          "name": "stdout",
          "output_type": "stream",
          "text": [
            "Best generation fitness: 0.7597402597402597\n",
            "Generation 9 Start...\n"
          ]
        },
        {
          "name": "stderr",
          "output_type": "stream",
          "text": [
            "100%|██████████████████████████████████████████████████████████████████████████████████| 26/26 [04:47<00:00, 11.07s/it]\n"
          ]
        },
        {
          "name": "stdout",
          "output_type": "stream",
          "text": [
            "Best generation fitness: 0.7597402597402597\n",
            "Generation 10 Start...\n"
          ]
        },
        {
          "name": "stderr",
          "output_type": "stream",
          "text": [
            "100%|██████████████████████████████████████████████████████████████████████████████████| 26/26 [05:10<00:00, 11.92s/it]\n"
          ]
        },
        {
          "name": "stdout",
          "output_type": "stream",
          "text": [
            "Best generation fitness: 0.7597402597402597\n",
            "Generation 11 Start...\n"
          ]
        },
        {
          "name": "stderr",
          "output_type": "stream",
          "text": [
            "100%|██████████████████████████████████████████████████████████████████████████████████| 26/26 [04:32<00:00, 10.49s/it]\n"
          ]
        },
        {
          "name": "stdout",
          "output_type": "stream",
          "text": [
            "Best generation fitness: 0.7597402597402597\n",
            "Generation 12 Start...\n"
          ]
        },
        {
          "name": "stderr",
          "output_type": "stream",
          "text": [
            "100%|██████████████████████████████████████████████████████████████████████████████████| 26/26 [04:30<00:00, 10.40s/it]\n"
          ]
        },
        {
          "name": "stdout",
          "output_type": "stream",
          "text": [
            "Best generation fitness: 0.7597402597402597\n",
            "Generation 13 Start...\n"
          ]
        },
        {
          "name": "stderr",
          "output_type": "stream",
          "text": [
            "100%|██████████████████████████████████████████████████████████████████████████████████| 26/26 [04:28<00:00, 10.31s/it]\n"
          ]
        },
        {
          "name": "stdout",
          "output_type": "stream",
          "text": [
            "Best generation fitness: 0.7597402597402597\n",
            "Generation 14 Start...\n"
          ]
        },
        {
          "name": "stderr",
          "output_type": "stream",
          "text": [
            "100%|██████████████████████████████████████████████████████████████████████████████████| 26/26 [04:27<00:00, 10.29s/it]\n"
          ]
        },
        {
          "name": "stdout",
          "output_type": "stream",
          "text": [
            "Best generation fitness: 0.7597402597402597\n",
            "Generation 15 Start...\n"
          ]
        },
        {
          "name": "stderr",
          "output_type": "stream",
          "text": [
            "100%|██████████████████████████████████████████████████████████████████████████████████| 26/26 [04:26<00:00, 10.25s/it]\n"
          ]
        },
        {
          "name": "stdout",
          "output_type": "stream",
          "text": [
            "Best generation fitness: 0.7597402597402597\n",
            "Generation 16 Start...\n"
          ]
        },
        {
          "name": "stderr",
          "output_type": "stream",
          "text": [
            "100%|███████████████████████████████████████████████████████████████████████████████| 26/26 [3:22:12<00:00, 466.65s/it]\n"
          ]
        },
        {
          "name": "stdout",
          "output_type": "stream",
          "text": [
            "Best generation fitness: 0.7597402597402597\n",
            "Generation 17 Start...\n"
          ]
        },
        {
          "name": "stderr",
          "output_type": "stream",
          "text": [
            "100%|██████████████████████████████████████████████████████████████████████████████████| 26/26 [05:19<00:00, 12.30s/it]\n"
          ]
        },
        {
          "name": "stdout",
          "output_type": "stream",
          "text": [
            "Best generation fitness: 0.7597402597402597\n",
            "Generation 18 Start...\n"
          ]
        },
        {
          "name": "stderr",
          "output_type": "stream",
          "text": [
            "100%|██████████████████████████████████████████████████████████████████████████████████| 26/26 [04:38<00:00, 10.70s/it]\n"
          ]
        },
        {
          "name": "stdout",
          "output_type": "stream",
          "text": [
            "Best generation fitness: 0.7597402597402597\n",
            "Generation 19 Start...\n"
          ]
        },
        {
          "name": "stderr",
          "output_type": "stream",
          "text": [
            "100%|██████████████████████████████████████████████████████████████████████████████████| 26/26 [04:36<00:00, 10.65s/it]\n"
          ]
        },
        {
          "name": "stdout",
          "output_type": "stream",
          "text": [
            "Best generation fitness: 0.7597402597402597\n",
            "Generation 20 Start...\n"
          ]
        },
        {
          "name": "stderr",
          "output_type": "stream",
          "text": [
            "100%|██████████████████████████████████████████████████████████████████████████████████| 26/26 [04:37<00:00, 10.66s/it]\n"
          ]
        },
        {
          "name": "stdout",
          "output_type": "stream",
          "text": [
            "Best generation fitness: 0.7597402597402597\n",
            "Best fitness: 0.7597402597402597\n"
          ]
        },
        {
          "data": {
            "text/html": [
              "<style>#sk-container-id-1 {color: black;background-color: white;}#sk-container-id-1 pre{padding: 0;}#sk-container-id-1 div.sk-toggleable {background-color: white;}#sk-container-id-1 label.sk-toggleable__label {cursor: pointer;display: block;width: 100%;margin-bottom: 0;padding: 0.3em;box-sizing: border-box;text-align: center;}#sk-container-id-1 label.sk-toggleable__label-arrow:before {content: \"▸\";float: left;margin-right: 0.25em;color: #696969;}#sk-container-id-1 label.sk-toggleable__label-arrow:hover:before {color: black;}#sk-container-id-1 div.sk-estimator:hover label.sk-toggleable__label-arrow:before {color: black;}#sk-container-id-1 div.sk-toggleable__content {max-height: 0;max-width: 0;overflow: hidden;text-align: left;background-color: #f0f8ff;}#sk-container-id-1 div.sk-toggleable__content pre {margin: 0.2em;color: black;border-radius: 0.25em;background-color: #f0f8ff;}#sk-container-id-1 input.sk-toggleable__control:checked~div.sk-toggleable__content {max-height: 200px;max-width: 100%;overflow: auto;}#sk-container-id-1 input.sk-toggleable__control:checked~label.sk-toggleable__label-arrow:before {content: \"▾\";}#sk-container-id-1 div.sk-estimator input.sk-toggleable__control:checked~label.sk-toggleable__label {background-color: #d4ebff;}#sk-container-id-1 div.sk-label input.sk-toggleable__control:checked~label.sk-toggleable__label {background-color: #d4ebff;}#sk-container-id-1 input.sk-hidden--visually {border: 0;clip: rect(1px 1px 1px 1px);clip: rect(1px, 1px, 1px, 1px);height: 1px;margin: -1px;overflow: hidden;padding: 0;position: absolute;width: 1px;}#sk-container-id-1 div.sk-estimator {font-family: monospace;background-color: #f0f8ff;border: 1px dotted black;border-radius: 0.25em;box-sizing: border-box;margin-bottom: 0.5em;}#sk-container-id-1 div.sk-estimator:hover {background-color: #d4ebff;}#sk-container-id-1 div.sk-parallel-item::after {content: \"\";width: 100%;border-bottom: 1px solid gray;flex-grow: 1;}#sk-container-id-1 div.sk-label:hover label.sk-toggleable__label {background-color: #d4ebff;}#sk-container-id-1 div.sk-serial::before {content: \"\";position: absolute;border-left: 1px solid gray;box-sizing: border-box;top: 0;bottom: 0;left: 50%;z-index: 0;}#sk-container-id-1 div.sk-serial {display: flex;flex-direction: column;align-items: center;background-color: white;padding-right: 0.2em;padding-left: 0.2em;position: relative;}#sk-container-id-1 div.sk-item {position: relative;z-index: 1;}#sk-container-id-1 div.sk-parallel {display: flex;align-items: stretch;justify-content: center;background-color: white;position: relative;}#sk-container-id-1 div.sk-item::before, #sk-container-id-1 div.sk-parallel-item::before {content: \"\";position: absolute;border-left: 1px solid gray;box-sizing: border-box;top: 0;bottom: 0;left: 50%;z-index: -1;}#sk-container-id-1 div.sk-parallel-item {display: flex;flex-direction: column;z-index: 1;position: relative;background-color: white;}#sk-container-id-1 div.sk-parallel-item:first-child::after {align-self: flex-end;width: 50%;}#sk-container-id-1 div.sk-parallel-item:last-child::after {align-self: flex-start;width: 50%;}#sk-container-id-1 div.sk-parallel-item:only-child::after {width: 0;}#sk-container-id-1 div.sk-dashed-wrapped {border: 1px dashed gray;margin: 0 0.4em 0.5em 0.4em;box-sizing: border-box;padding-bottom: 0.4em;background-color: white;}#sk-container-id-1 div.sk-label label {font-family: monospace;font-weight: bold;display: inline-block;line-height: 1.2em;}#sk-container-id-1 div.sk-label-container {text-align: center;}#sk-container-id-1 div.sk-container {/* jupyter's `normalize.less` sets `[hidden] { display: none; }` but bootstrap.min.css set `[hidden] { display: none !important; }` so we also need the `!important` here to be able to override the default hidden behavior on the sphinx rendered scikit-learn.org. See: https://github.com/scikit-learn/scikit-learn/issues/21755 */display: inline-block !important;position: relative;}#sk-container-id-1 div.sk-text-repr-fallback {display: none;}</style><div id=\"sk-container-id-1\" class=\"sk-top-container\"><div class=\"sk-text-repr-fallback\"><pre>LVQ_GA(alpha=7.459000000000029e-70, dec_alpha=0.1, epochs=200, min_alpha=1e-70,\n",
              "       num_generations=20, pm=0.1,\n",
              "       population=array([[[-0.83373512, -0.27664283,  0.5765773 ,  1.59524918,\n",
              "          0.61736523,  0.38299407, -0.84013692, -0.78196499],\n",
              "        [-1.13880864,  0.75431854, -3.76720748, -1.32277365,\n",
              "         -0.80806142,  1.63178711,  0.62395952, -0.16392793]],\n",
              "\n",
              "       [[-0.83373512, -0.27664283,  0.5765773 ,  1.59...\n",
              "          0.61736523,  0.38299407, -0.84013692, -0.78196499],\n",
              "        [-1.13880864,  0.75431854, -3.76720748, -1.32277365,\n",
              "         -0.80806142,  1.63178711,  0.62395952, -0.16392793]],\n",
              "\n",
              "       [[-0.83373512, -0.27664283,  0.5765773 ,  1.59524918,\n",
              "          0.61736523,  0.38299407, -0.84013692, -0.78196499],\n",
              "        [-1.13880864,  0.75431854, -3.76720748, -1.32277365,\n",
              "         -0.80806142,  1.63178711,  0.62395952, -0.16392793]]]),\n",
              "       sol_per_pop=30)</pre><b>In a Jupyter environment, please rerun this cell to show the HTML representation or trust the notebook. <br />On GitHub, the HTML representation is unable to render, please try loading this page with nbviewer.org.</b></div><div class=\"sk-container\" hidden><div class=\"sk-item\"><div class=\"sk-estimator sk-toggleable\"><input class=\"sk-toggleable__control sk-hidden--visually\" id=\"sk-estimator-id-1\" type=\"checkbox\" checked><label for=\"sk-estimator-id-1\" class=\"sk-toggleable__label sk-toggleable__label-arrow\">LVQ_GA</label><div class=\"sk-toggleable__content\"><pre>LVQ_GA(alpha=7.459000000000029e-70, dec_alpha=0.1, epochs=200, min_alpha=1e-70,\n",
              "       num_generations=20, pm=0.1,\n",
              "       population=array([[[-0.83373512, -0.27664283,  0.5765773 ,  1.59524918,\n",
              "          0.61736523,  0.38299407, -0.84013692, -0.78196499],\n",
              "        [-1.13880864,  0.75431854, -3.76720748, -1.32277365,\n",
              "         -0.80806142,  1.63178711,  0.62395952, -0.16392793]],\n",
              "\n",
              "       [[-0.83373512, -0.27664283,  0.5765773 ,  1.59...\n",
              "          0.61736523,  0.38299407, -0.84013692, -0.78196499],\n",
              "        [-1.13880864,  0.75431854, -3.76720748, -1.32277365,\n",
              "         -0.80806142,  1.63178711,  0.62395952, -0.16392793]],\n",
              "\n",
              "       [[-0.83373512, -0.27664283,  0.5765773 ,  1.59524918,\n",
              "          0.61736523,  0.38299407, -0.84013692, -0.78196499],\n",
              "        [-1.13880864,  0.75431854, -3.76720748, -1.32277365,\n",
              "         -0.80806142,  1.63178711,  0.62395952, -0.16392793]]]),\n",
              "       sol_per_pop=30)</pre></div></div></div></div></div>"
            ],
            "text/plain": [
              "LVQ_GA(alpha=7.459000000000029e-70, dec_alpha=0.1, epochs=200, min_alpha=1e-70,\n",
              "       num_generations=20, pm=0.1,\n",
              "       population=array([[[-0.83373512, -0.27664283,  0.5765773 ,  1.59524918,\n",
              "          0.61736523,  0.38299407, -0.84013692, -0.78196499],\n",
              "        [-1.13880864,  0.75431854, -3.76720748, -1.32277365,\n",
              "         -0.80806142,  1.63178711,  0.62395952, -0.16392793]],\n",
              "\n",
              "       [[-0.83373512, -0.27664283,  0.5765773 ,  1.59...\n",
              "          0.61736523,  0.38299407, -0.84013692, -0.78196499],\n",
              "        [-1.13880864,  0.75431854, -3.76720748, -1.32277365,\n",
              "         -0.80806142,  1.63178711,  0.62395952, -0.16392793]],\n",
              "\n",
              "       [[-0.83373512, -0.27664283,  0.5765773 ,  1.59524918,\n",
              "          0.61736523,  0.38299407, -0.84013692, -0.78196499],\n",
              "        [-1.13880864,  0.75431854, -3.76720748, -1.32277365,\n",
              "         -0.80806142,  1.63178711,  0.62395952, -0.16392793]]]),\n",
              "       sol_per_pop=30)"
            ]
          },
          "execution_count": 28,
          "metadata": {},
          "output_type": "execute_result"
        }
      ],
      "source": [
        "lvq_ga = LVQ_GA(alpha=.07459, dec_alpha=.1, lvq_epochs=200, \n",
        "                min_alpha=1e-70, sol_per_pop=30, \n",
        "                num_generations=20, cr=.9, pc=.9, pm=.1)\n",
        "lvq_ga.fit(X_train_scaled, y_train, \n",
        "           val_data=(X_test_scaled, y_test), \n",
        "           lvq_verbose=0)"
      ],
      "id": "qTS8GTcj1gf3"
    },
    {
      "cell_type": "markdown",
      "source": [
        "## Testing LVQ-GA 2"
      ],
      "metadata": {
        "id": "XMpamYqW7K5k"
      },
      "id": "XMpamYqW7K5k"
    },
    {
      "cell_type": "code",
      "execution_count": null,
      "metadata": {
        "id": "1ded4095"
      },
      "outputs": [],
      "source": [
        "y_pred = model.predict(X_test_scaled)"
      ],
      "id": "1ded4095"
    },
    {
      "cell_type": "code",
      "execution_count": null,
      "metadata": {
        "id": "6d2fca1c",
        "outputId": "271de35b-6d6e-4b22-9a77-8d01c183056f"
      },
      "outputs": [
        {
          "name": "stdout",
          "output_type": "stream",
          "text": [
            "              precision    recall  f1-score   support\n",
            "\n",
            "           0       0.84      0.77      0.80        99\n",
            "           1       0.64      0.75      0.69        55\n",
            "\n",
            "    accuracy                           0.76       154\n",
            "   macro avg       0.74      0.76      0.75       154\n",
            "weighted avg       0.77      0.76      0.76       154\n",
            "\n"
          ]
        }
      ],
      "source": [
        "from sklearn.metrics import classification_report, f1_score, accuracy_score, precision_score, recall_score\n",
        "\n",
        "print(classification_report(y_test,y_pred))"
      ],
      "id": "6d2fca1c"
    },
    {
      "cell_type": "code",
      "execution_count": null,
      "metadata": {
        "id": "242b943e",
        "outputId": "c4b920ae-c309-44dd-99f7-ae0faa32e999"
      },
      "outputs": [
        {
          "name": "stdout",
          "output_type": "stream",
          "text": [
            "0.6890756302521008\n"
          ]
        }
      ],
      "source": [
        "print(f1_score(y_test,y_pred))"
      ],
      "id": "242b943e"
    },
    {
      "cell_type": "code",
      "execution_count": null,
      "metadata": {
        "id": "8e631741",
        "outputId": "da68f71d-c2b8-4ff7-f063-8873566f5533"
      },
      "outputs": [
        {
          "name": "stdout",
          "output_type": "stream",
          "text": [
            "0.7597402597402597\n"
          ]
        }
      ],
      "source": [
        "print(accuracy_score(y_test,y_pred))"
      ],
      "id": "8e631741"
    },
    {
      "cell_type": "code",
      "execution_count": null,
      "metadata": {
        "id": "8bb0e507",
        "outputId": "4b37d061-357b-41af-dabf-bdb3e0556a86"
      },
      "outputs": [
        {
          "name": "stdout",
          "output_type": "stream",
          "text": [
            "0.640625\n"
          ]
        }
      ],
      "source": [
        "print(precision_score(y_test,y_pred))"
      ],
      "id": "8bb0e507"
    },
    {
      "cell_type": "code",
      "execution_count": null,
      "metadata": {
        "id": "e221c264",
        "outputId": "7e293b6d-da43-49db-a7b5-b2e3b3fe350f"
      },
      "outputs": [
        {
          "name": "stdout",
          "output_type": "stream",
          "text": [
            "0.7454545454545455\n"
          ]
        }
      ],
      "source": [
        "print(recall_score(y_test,y_pred))"
      ],
      "id": "e221c264"
    },
    {
      "cell_type": "markdown",
      "source": [
        "## Training LVQ-GA 3"
      ],
      "metadata": {
        "id": "5x6gPM_87OWx"
      },
      "id": "5x6gPM_87OWx"
    },
    {
      "cell_type": "code",
      "execution_count": null,
      "metadata": {
        "id": "3c4a1237",
        "outputId": "607800d8-10d5-4ec3-d20b-48a2bce2257d"
      },
      "outputs": [
        {
          "name": "stdout",
          "output_type": "stream",
          "text": [
            "Generation 1 Start...\n"
          ]
        },
        {
          "name": "stderr",
          "output_type": "stream",
          "text": [
            "100%|██████████| 190/190 [01:02<00:00,  3.05it/s]\n"
          ]
        },
        {
          "name": "stdout",
          "output_type": "stream",
          "text": [
            "Best generation fitness: 0.8017241379310345\n",
            "Generation 2 Start...\n"
          ]
        },
        {
          "name": "stderr",
          "output_type": "stream",
          "text": [
            "100%|██████████| 90/90 [00:31<00:00,  2.90it/s]\n"
          ]
        },
        {
          "name": "stdout",
          "output_type": "stream",
          "text": [
            "Best generation fitness: 0.7931034482758621\n",
            "Generation 3 Start...\n"
          ]
        },
        {
          "name": "stderr",
          "output_type": "stream",
          "text": [
            "100%|██████████| 90/90 [00:28<00:00,  3.16it/s]\n"
          ]
        },
        {
          "name": "stdout",
          "output_type": "stream",
          "text": [
            "Best generation fitness: 0.7931034482758621\n",
            "Generation 4 Start...\n"
          ]
        },
        {
          "name": "stderr",
          "output_type": "stream",
          "text": [
            "100%|██████████| 90/90 [00:26<00:00,  3.35it/s]\n"
          ]
        },
        {
          "name": "stdout",
          "output_type": "stream",
          "text": [
            "Best generation fitness: 0.7844827586206896\n",
            "Generation 5 Start...\n"
          ]
        },
        {
          "name": "stderr",
          "output_type": "stream",
          "text": [
            "100%|██████████| 90/90 [00:26<00:00,  3.36it/s]\n"
          ]
        },
        {
          "name": "stdout",
          "output_type": "stream",
          "text": [
            "Best generation fitness: 0.7672413793103449\n",
            "Generation 6 Start...\n"
          ]
        },
        {
          "name": "stderr",
          "output_type": "stream",
          "text": [
            "100%|██████████| 90/90 [00:26<00:00,  3.36it/s]\n"
          ]
        },
        {
          "name": "stdout",
          "output_type": "stream",
          "text": [
            "Best generation fitness: 0.7758620689655172\n",
            "Generation 7 Start...\n"
          ]
        },
        {
          "name": "stderr",
          "output_type": "stream",
          "text": [
            "100%|██████████| 90/90 [00:26<00:00,  3.36it/s]\n"
          ]
        },
        {
          "name": "stdout",
          "output_type": "stream",
          "text": [
            "Best generation fitness: 0.8017241379310345\n",
            "Generation 8 Start...\n"
          ]
        },
        {
          "name": "stderr",
          "output_type": "stream",
          "text": [
            "100%|██████████| 90/90 [00:27<00:00,  3.30it/s]\n"
          ]
        },
        {
          "name": "stdout",
          "output_type": "stream",
          "text": [
            "Best generation fitness: 0.8017241379310345\n",
            "Generation 9 Start...\n"
          ]
        },
        {
          "name": "stderr",
          "output_type": "stream",
          "text": [
            "100%|██████████| 90/90 [00:26<00:00,  3.37it/s]\n"
          ]
        },
        {
          "name": "stdout",
          "output_type": "stream",
          "text": [
            "Best generation fitness: 0.8017241379310345\n",
            "Generation 10 Start...\n"
          ]
        },
        {
          "name": "stderr",
          "output_type": "stream",
          "text": [
            "100%|██████████| 90/90 [00:26<00:00,  3.36it/s]\n"
          ]
        },
        {
          "name": "stdout",
          "output_type": "stream",
          "text": [
            "Best generation fitness: 0.8017241379310345\n",
            "Generation 11 Start...\n"
          ]
        },
        {
          "name": "stderr",
          "output_type": "stream",
          "text": [
            "100%|██████████| 90/90 [00:26<00:00,  3.35it/s]\n"
          ]
        },
        {
          "name": "stdout",
          "output_type": "stream",
          "text": [
            "Best generation fitness: 0.8017241379310345\n",
            "Generation 12 Start...\n"
          ]
        },
        {
          "name": "stderr",
          "output_type": "stream",
          "text": [
            "100%|██████████| 90/90 [00:27<00:00,  3.28it/s]\n"
          ]
        },
        {
          "name": "stdout",
          "output_type": "stream",
          "text": [
            "Best generation fitness: 0.8103448275862069\n",
            "Generation 13 Start...\n"
          ]
        },
        {
          "name": "stderr",
          "output_type": "stream",
          "text": [
            "100%|██████████| 90/90 [00:27<00:00,  3.27it/s]\n"
          ]
        },
        {
          "name": "stdout",
          "output_type": "stream",
          "text": [
            "Best generation fitness: 0.8103448275862069\n",
            "Generation 14 Start...\n"
          ]
        },
        {
          "name": "stderr",
          "output_type": "stream",
          "text": [
            "100%|██████████| 90/90 [00:27<00:00,  3.30it/s]\n"
          ]
        },
        {
          "name": "stdout",
          "output_type": "stream",
          "text": [
            "Best generation fitness: 0.8103448275862069\n",
            "Generation 15 Start...\n"
          ]
        },
        {
          "name": "stderr",
          "output_type": "stream",
          "text": [
            "100%|██████████| 90/90 [00:29<00:00,  3.03it/s]\n"
          ]
        },
        {
          "name": "stdout",
          "output_type": "stream",
          "text": [
            "Best generation fitness: 0.8103448275862069\n",
            "Generation 16 Start...\n"
          ]
        },
        {
          "name": "stderr",
          "output_type": "stream",
          "text": [
            "100%|██████████| 90/90 [00:28<00:00,  3.20it/s]\n"
          ]
        },
        {
          "name": "stdout",
          "output_type": "stream",
          "text": [
            "Best generation fitness: 0.8103448275862069\n",
            "Generation 17 Start...\n"
          ]
        },
        {
          "name": "stderr",
          "output_type": "stream",
          "text": [
            "100%|██████████| 90/90 [00:27<00:00,  3.29it/s]\n"
          ]
        },
        {
          "name": "stdout",
          "output_type": "stream",
          "text": [
            "Best generation fitness: 0.8103448275862069\n",
            "Generation 18 Start...\n"
          ]
        },
        {
          "name": "stderr",
          "output_type": "stream",
          "text": [
            "100%|██████████| 90/90 [00:29<00:00,  3.09it/s]\n"
          ]
        },
        {
          "name": "stdout",
          "output_type": "stream",
          "text": [
            "Best generation fitness: 0.8103448275862069\n",
            "Generation 19 Start...\n"
          ]
        },
        {
          "name": "stderr",
          "output_type": "stream",
          "text": [
            "100%|██████████| 90/90 [00:29<00:00,  3.02it/s]\n"
          ]
        },
        {
          "name": "stdout",
          "output_type": "stream",
          "text": [
            "Best generation fitness: 0.8103448275862069\n",
            "Generation 20 Start...\n"
          ]
        },
        {
          "name": "stderr",
          "output_type": "stream",
          "text": [
            "100%|██████████| 90/90 [00:27<00:00,  3.27it/s]\n"
          ]
        },
        {
          "name": "stdout",
          "output_type": "stream",
          "text": [
            "Best generation fitness: 0.8103448275862069\n",
            "Generation 21 Start...\n"
          ]
        },
        {
          "name": "stderr",
          "output_type": "stream",
          "text": [
            "100%|██████████| 90/90 [00:26<00:00,  3.36it/s]\n"
          ]
        },
        {
          "name": "stdout",
          "output_type": "stream",
          "text": [
            "Best generation fitness: 0.8103448275862069\n",
            "Generation 22 Start...\n"
          ]
        },
        {
          "name": "stderr",
          "output_type": "stream",
          "text": [
            "100%|██████████| 90/90 [00:27<00:00,  3.30it/s]\n"
          ]
        },
        {
          "name": "stdout",
          "output_type": "stream",
          "text": [
            "Best generation fitness: 0.8103448275862069\n",
            "Generation 23 Start...\n"
          ]
        },
        {
          "name": "stderr",
          "output_type": "stream",
          "text": [
            "100%|██████████| 90/90 [00:27<00:00,  3.29it/s]\n"
          ]
        },
        {
          "name": "stdout",
          "output_type": "stream",
          "text": [
            "Best generation fitness: 0.8103448275862069\n",
            "Generation 24 Start...\n"
          ]
        },
        {
          "name": "stderr",
          "output_type": "stream",
          "text": [
            "100%|██████████| 90/90 [00:29<00:00,  3.07it/s]\n"
          ]
        },
        {
          "name": "stdout",
          "output_type": "stream",
          "text": [
            "Best generation fitness: 0.8103448275862069\n",
            "Generation 25 Start...\n"
          ]
        },
        {
          "name": "stderr",
          "output_type": "stream",
          "text": [
            "100%|██████████| 90/90 [00:27<00:00,  3.32it/s]\n"
          ]
        },
        {
          "name": "stdout",
          "output_type": "stream",
          "text": [
            "Best generation fitness: 0.8103448275862069\n",
            "Generation 26 Start...\n"
          ]
        },
        {
          "name": "stderr",
          "output_type": "stream",
          "text": [
            "100%|██████████| 90/90 [00:27<00:00,  3.33it/s]\n"
          ]
        },
        {
          "name": "stdout",
          "output_type": "stream",
          "text": [
            "Best generation fitness: 0.8103448275862069\n",
            "Generation 27 Start...\n"
          ]
        },
        {
          "name": "stderr",
          "output_type": "stream",
          "text": [
            "100%|██████████| 90/90 [00:27<00:00,  3.28it/s]\n"
          ]
        },
        {
          "name": "stdout",
          "output_type": "stream",
          "text": [
            "Best generation fitness: 0.8103448275862069\n",
            "Generation 28 Start...\n"
          ]
        },
        {
          "name": "stderr",
          "output_type": "stream",
          "text": [
            "100%|██████████| 90/90 [00:27<00:00,  3.31it/s]\n"
          ]
        },
        {
          "name": "stdout",
          "output_type": "stream",
          "text": [
            "Best generation fitness: 0.8103448275862069\n",
            "Generation 29 Start...\n"
          ]
        },
        {
          "name": "stderr",
          "output_type": "stream",
          "text": [
            "100%|██████████| 90/90 [00:27<00:00,  3.29it/s]\n"
          ]
        },
        {
          "name": "stdout",
          "output_type": "stream",
          "text": [
            "Best generation fitness: 0.8103448275862069\n",
            "Generation 30 Start...\n"
          ]
        },
        {
          "name": "stderr",
          "output_type": "stream",
          "text": [
            "100%|██████████| 90/90 [00:26<00:00,  3.34it/s]\n"
          ]
        },
        {
          "name": "stdout",
          "output_type": "stream",
          "text": [
            "Best generation fitness: 0.8103448275862069\n",
            "Generation 31 Start...\n"
          ]
        },
        {
          "name": "stderr",
          "output_type": "stream",
          "text": [
            "100%|██████████| 90/90 [00:26<00:00,  3.35it/s]\n"
          ]
        },
        {
          "name": "stdout",
          "output_type": "stream",
          "text": [
            "Best generation fitness: 0.8103448275862069\n",
            "Generation 32 Start...\n"
          ]
        },
        {
          "name": "stderr",
          "output_type": "stream",
          "text": [
            "100%|██████████| 90/90 [00:26<00:00,  3.37it/s]\n"
          ]
        },
        {
          "name": "stdout",
          "output_type": "stream",
          "text": [
            "Best generation fitness: 0.8103448275862069\n",
            "Generation 33 Start...\n"
          ]
        },
        {
          "name": "stderr",
          "output_type": "stream",
          "text": [
            "100%|██████████| 90/90 [00:27<00:00,  3.27it/s]\n"
          ]
        },
        {
          "name": "stdout",
          "output_type": "stream",
          "text": [
            "Best generation fitness: 0.8103448275862069\n",
            "Generation 34 Start...\n"
          ]
        },
        {
          "name": "stderr",
          "output_type": "stream",
          "text": [
            "100%|██████████| 90/90 [00:27<00:00,  3.32it/s]\n"
          ]
        },
        {
          "name": "stdout",
          "output_type": "stream",
          "text": [
            "Best generation fitness: 0.8103448275862069\n",
            "Generation 35 Start...\n"
          ]
        },
        {
          "name": "stderr",
          "output_type": "stream",
          "text": [
            "100%|██████████| 90/90 [00:26<00:00,  3.37it/s]\n"
          ]
        },
        {
          "name": "stdout",
          "output_type": "stream",
          "text": [
            "Best generation fitness: 0.8103448275862069\n",
            "Generation 36 Start...\n"
          ]
        },
        {
          "name": "stderr",
          "output_type": "stream",
          "text": [
            "100%|██████████| 90/90 [00:27<00:00,  3.29it/s]\n"
          ]
        },
        {
          "name": "stdout",
          "output_type": "stream",
          "text": [
            "Best generation fitness: 0.8103448275862069\n",
            "Generation 37 Start...\n"
          ]
        },
        {
          "name": "stderr",
          "output_type": "stream",
          "text": [
            "100%|██████████| 90/90 [00:30<00:00,  2.95it/s]\n"
          ]
        },
        {
          "name": "stdout",
          "output_type": "stream",
          "text": [
            "Best generation fitness: 0.8103448275862069\n",
            "Generation 38 Start...\n"
          ]
        },
        {
          "name": "stderr",
          "output_type": "stream",
          "text": [
            "100%|██████████| 90/90 [00:29<00:00,  3.10it/s]\n"
          ]
        },
        {
          "name": "stdout",
          "output_type": "stream",
          "text": [
            "Best generation fitness: 0.8103448275862069\n",
            "Generation 39 Start...\n"
          ]
        },
        {
          "name": "stderr",
          "output_type": "stream",
          "text": [
            "100%|██████████| 90/90 [00:26<00:00,  3.37it/s]\n"
          ]
        },
        {
          "name": "stdout",
          "output_type": "stream",
          "text": [
            "Best generation fitness: 0.8103448275862069\n",
            "Generation 40 Start...\n"
          ]
        },
        {
          "name": "stderr",
          "output_type": "stream",
          "text": [
            "100%|██████████| 90/90 [00:27<00:00,  3.24it/s]\n"
          ]
        },
        {
          "name": "stdout",
          "output_type": "stream",
          "text": [
            "Best generation fitness: 0.8103448275862069\n",
            "Generation 41 Start...\n"
          ]
        },
        {
          "name": "stderr",
          "output_type": "stream",
          "text": [
            "100%|██████████| 90/90 [00:27<00:00,  3.29it/s]\n"
          ]
        },
        {
          "name": "stdout",
          "output_type": "stream",
          "text": [
            "Best generation fitness: 0.8103448275862069\n",
            "Generation 42 Start...\n"
          ]
        },
        {
          "name": "stderr",
          "output_type": "stream",
          "text": [
            "100%|██████████| 90/90 [00:30<00:00,  2.92it/s]\n"
          ]
        },
        {
          "name": "stdout",
          "output_type": "stream",
          "text": [
            "Best generation fitness: 0.8103448275862069\n",
            "Generation 43 Start...\n"
          ]
        },
        {
          "name": "stderr",
          "output_type": "stream",
          "text": [
            "100%|██████████| 90/90 [00:27<00:00,  3.28it/s]\n"
          ]
        },
        {
          "name": "stdout",
          "output_type": "stream",
          "text": [
            "Best generation fitness: 0.8103448275862069\n",
            "Generation 44 Start...\n"
          ]
        },
        {
          "name": "stderr",
          "output_type": "stream",
          "text": [
            "100%|██████████| 90/90 [00:29<00:00,  3.06it/s]\n"
          ]
        },
        {
          "name": "stdout",
          "output_type": "stream",
          "text": [
            "Best generation fitness: 0.8103448275862069\n",
            "Generation 45 Start...\n"
          ]
        },
        {
          "name": "stderr",
          "output_type": "stream",
          "text": [
            "100%|██████████| 90/90 [00:28<00:00,  3.20it/s]\n"
          ]
        },
        {
          "name": "stdout",
          "output_type": "stream",
          "text": [
            "Best generation fitness: 0.8103448275862069\n",
            "Generation 46 Start...\n"
          ]
        },
        {
          "name": "stderr",
          "output_type": "stream",
          "text": [
            "100%|██████████| 90/90 [00:27<00:00,  3.33it/s]\n"
          ]
        },
        {
          "name": "stdout",
          "output_type": "stream",
          "text": [
            "Best generation fitness: 0.8103448275862069\n",
            "Generation 47 Start...\n"
          ]
        },
        {
          "name": "stderr",
          "output_type": "stream",
          "text": [
            "100%|██████████| 90/90 [00:27<00:00,  3.27it/s]\n"
          ]
        },
        {
          "name": "stdout",
          "output_type": "stream",
          "text": [
            "Best generation fitness: 0.8103448275862069\n",
            "Generation 48 Start...\n"
          ]
        },
        {
          "name": "stderr",
          "output_type": "stream",
          "text": [
            "100%|██████████| 90/90 [00:27<00:00,  3.24it/s]\n"
          ]
        },
        {
          "name": "stdout",
          "output_type": "stream",
          "text": [
            "Best generation fitness: 0.8103448275862069\n",
            "Generation 49 Start...\n"
          ]
        },
        {
          "name": "stderr",
          "output_type": "stream",
          "text": [
            "100%|██████████| 90/90 [00:28<00:00,  3.12it/s]\n"
          ]
        },
        {
          "name": "stdout",
          "output_type": "stream",
          "text": [
            "Best generation fitness: 0.8103448275862069\n",
            "Generation 50 Start...\n"
          ]
        },
        {
          "name": "stderr",
          "output_type": "stream",
          "text": [
            "100%|██████████| 90/90 [00:26<00:00,  3.35it/s]\n"
          ]
        },
        {
          "name": "stdout",
          "output_type": "stream",
          "text": [
            "Best generation fitness: 0.8103448275862069\n",
            "Generation 51 Start...\n"
          ]
        },
        {
          "name": "stderr",
          "output_type": "stream",
          "text": [
            "100%|██████████| 90/90 [00:28<00:00,  3.14it/s]\n"
          ]
        },
        {
          "name": "stdout",
          "output_type": "stream",
          "text": [
            "Best generation fitness: 0.8103448275862069\n",
            "Generation 52 Start...\n"
          ]
        },
        {
          "name": "stderr",
          "output_type": "stream",
          "text": [
            "100%|██████████| 90/90 [00:26<00:00,  3.37it/s]\n"
          ]
        },
        {
          "name": "stdout",
          "output_type": "stream",
          "text": [
            "Best generation fitness: 0.8103448275862069\n",
            "Generation 53 Start...\n"
          ]
        },
        {
          "name": "stderr",
          "output_type": "stream",
          "text": [
            "100%|██████████| 90/90 [00:26<00:00,  3.33it/s]\n"
          ]
        },
        {
          "name": "stdout",
          "output_type": "stream",
          "text": [
            "Best generation fitness: 0.8103448275862069\n",
            "Generation 54 Start...\n"
          ]
        },
        {
          "name": "stderr",
          "output_type": "stream",
          "text": [
            "100%|██████████| 90/90 [00:26<00:00,  3.37it/s]\n"
          ]
        },
        {
          "name": "stdout",
          "output_type": "stream",
          "text": [
            "Best generation fitness: 0.8103448275862069\n",
            "Generation 55 Start...\n"
          ]
        },
        {
          "name": "stderr",
          "output_type": "stream",
          "text": [
            "100%|██████████| 90/90 [00:26<00:00,  3.36it/s]\n"
          ]
        },
        {
          "name": "stdout",
          "output_type": "stream",
          "text": [
            "Best generation fitness: 0.8103448275862069\n",
            "Generation 56 Start...\n"
          ]
        },
        {
          "name": "stderr",
          "output_type": "stream",
          "text": [
            "100%|██████████| 90/90 [00:26<00:00,  3.35it/s]\n"
          ]
        },
        {
          "name": "stdout",
          "output_type": "stream",
          "text": [
            "Best generation fitness: 0.8103448275862069\n",
            "Generation 57 Start...\n"
          ]
        },
        {
          "name": "stderr",
          "output_type": "stream",
          "text": [
            "100%|██████████| 90/90 [00:26<00:00,  3.35it/s]\n"
          ]
        },
        {
          "name": "stdout",
          "output_type": "stream",
          "text": [
            "Best generation fitness: 0.8103448275862069\n",
            "Generation 58 Start...\n"
          ]
        },
        {
          "name": "stderr",
          "output_type": "stream",
          "text": [
            "100%|██████████| 90/90 [00:26<00:00,  3.36it/s]\n"
          ]
        },
        {
          "name": "stdout",
          "output_type": "stream",
          "text": [
            "Best generation fitness: 0.8103448275862069\n",
            "Generation 59 Start...\n"
          ]
        },
        {
          "name": "stderr",
          "output_type": "stream",
          "text": [
            "100%|██████████| 90/90 [00:26<00:00,  3.34it/s]\n"
          ]
        },
        {
          "name": "stdout",
          "output_type": "stream",
          "text": [
            "Best generation fitness: 0.8103448275862069\n",
            "Generation 60 Start...\n"
          ]
        },
        {
          "name": "stderr",
          "output_type": "stream",
          "text": [
            "100%|██████████| 90/90 [00:27<00:00,  3.21it/s]\n"
          ]
        },
        {
          "name": "stdout",
          "output_type": "stream",
          "text": [
            "Best generation fitness: 0.8103448275862069\n",
            "Generation 61 Start...\n"
          ]
        },
        {
          "name": "stderr",
          "output_type": "stream",
          "text": [
            "100%|██████████| 90/90 [00:27<00:00,  3.23it/s]\n"
          ]
        },
        {
          "name": "stdout",
          "output_type": "stream",
          "text": [
            "Best generation fitness: 0.8103448275862069\n",
            "Generation 62 Start...\n"
          ]
        },
        {
          "name": "stderr",
          "output_type": "stream",
          "text": [
            "100%|██████████| 90/90 [00:26<00:00,  3.36it/s]\n"
          ]
        },
        {
          "name": "stdout",
          "output_type": "stream",
          "text": [
            "Best generation fitness: 0.8103448275862069\n",
            "Generation 63 Start...\n"
          ]
        },
        {
          "name": "stderr",
          "output_type": "stream",
          "text": [
            "100%|██████████| 90/90 [00:27<00:00,  3.29it/s]\n"
          ]
        },
        {
          "name": "stdout",
          "output_type": "stream",
          "text": [
            "Best generation fitness: 0.8103448275862069\n",
            "Generation 64 Start...\n"
          ]
        },
        {
          "name": "stderr",
          "output_type": "stream",
          "text": [
            "100%|██████████| 90/90 [00:27<00:00,  3.23it/s]\n"
          ]
        },
        {
          "name": "stdout",
          "output_type": "stream",
          "text": [
            "Best generation fitness: 0.8103448275862069\n",
            "Generation 65 Start...\n"
          ]
        },
        {
          "name": "stderr",
          "output_type": "stream",
          "text": [
            "100%|██████████| 90/90 [00:26<00:00,  3.34it/s]\n"
          ]
        },
        {
          "name": "stdout",
          "output_type": "stream",
          "text": [
            "Best generation fitness: 0.8103448275862069\n",
            "Generation 66 Start...\n"
          ]
        },
        {
          "name": "stderr",
          "output_type": "stream",
          "text": [
            "100%|██████████| 90/90 [00:26<00:00,  3.36it/s]\n"
          ]
        },
        {
          "name": "stdout",
          "output_type": "stream",
          "text": [
            "Best generation fitness: 0.8103448275862069\n",
            "Generation 67 Start...\n"
          ]
        },
        {
          "name": "stderr",
          "output_type": "stream",
          "text": [
            "100%|██████████| 90/90 [00:26<00:00,  3.37it/s]\n"
          ]
        },
        {
          "name": "stdout",
          "output_type": "stream",
          "text": [
            "Best generation fitness: 0.8103448275862069\n",
            "Generation 68 Start...\n"
          ]
        },
        {
          "name": "stderr",
          "output_type": "stream",
          "text": [
            "100%|██████████| 90/90 [00:26<00:00,  3.37it/s]\n"
          ]
        },
        {
          "name": "stdout",
          "output_type": "stream",
          "text": [
            "Best generation fitness: 0.8103448275862069\n",
            "Generation 69 Start...\n"
          ]
        },
        {
          "name": "stderr",
          "output_type": "stream",
          "text": [
            "100%|██████████| 90/90 [00:27<00:00,  3.33it/s]\n"
          ]
        },
        {
          "name": "stdout",
          "output_type": "stream",
          "text": [
            "Best generation fitness: 0.8103448275862069\n",
            "Generation 70 Start...\n"
          ]
        },
        {
          "name": "stderr",
          "output_type": "stream",
          "text": [
            "100%|██████████| 90/90 [00:26<00:00,  3.40it/s]\n"
          ]
        },
        {
          "name": "stdout",
          "output_type": "stream",
          "text": [
            "Best generation fitness: 0.8103448275862069\n",
            "Generation 71 Start...\n"
          ]
        },
        {
          "name": "stderr",
          "output_type": "stream",
          "text": [
            "100%|██████████| 90/90 [00:26<00:00,  3.41it/s]\n"
          ]
        },
        {
          "name": "stdout",
          "output_type": "stream",
          "text": [
            "Best generation fitness: 0.8103448275862069\n",
            "Generation 72 Start...\n"
          ]
        },
        {
          "name": "stderr",
          "output_type": "stream",
          "text": [
            "100%|██████████| 90/90 [00:26<00:00,  3.41it/s]\n"
          ]
        },
        {
          "name": "stdout",
          "output_type": "stream",
          "text": [
            "Best generation fitness: 0.8103448275862069\n",
            "Generation 73 Start...\n"
          ]
        },
        {
          "name": "stderr",
          "output_type": "stream",
          "text": [
            "100%|██████████| 90/90 [01:10<00:00,  1.28it/s]\n"
          ]
        },
        {
          "name": "stdout",
          "output_type": "stream",
          "text": [
            "Best generation fitness: 0.8103448275862069\n",
            "Generation 74 Start...\n"
          ]
        },
        {
          "name": "stderr",
          "output_type": "stream",
          "text": [
            "100%|██████████| 90/90 [00:29<00:00,  3.04it/s]\n"
          ]
        },
        {
          "name": "stdout",
          "output_type": "stream",
          "text": [
            "Best generation fitness: 0.8103448275862069\n",
            "Generation 75 Start...\n"
          ]
        },
        {
          "name": "stderr",
          "output_type": "stream",
          "text": [
            "100%|██████████| 90/90 [00:27<00:00,  3.24it/s]\n"
          ]
        },
        {
          "name": "stdout",
          "output_type": "stream",
          "text": [
            "Best generation fitness: 0.8103448275862069\n",
            "Generation 76 Start...\n"
          ]
        },
        {
          "name": "stderr",
          "output_type": "stream",
          "text": [
            "100%|██████████| 90/90 [00:26<00:00,  3.36it/s]\n"
          ]
        },
        {
          "name": "stdout",
          "output_type": "stream",
          "text": [
            "Best generation fitness: 0.8103448275862069\n",
            "Generation 77 Start...\n"
          ]
        },
        {
          "name": "stderr",
          "output_type": "stream",
          "text": [
            "100%|██████████| 90/90 [00:29<00:00,  3.09it/s]\n"
          ]
        },
        {
          "name": "stdout",
          "output_type": "stream",
          "text": [
            "Best generation fitness: 0.8103448275862069\n",
            "Generation 78 Start...\n"
          ]
        },
        {
          "name": "stderr",
          "output_type": "stream",
          "text": [
            "100%|██████████| 90/90 [00:30<00:00,  2.98it/s]\n"
          ]
        },
        {
          "name": "stdout",
          "output_type": "stream",
          "text": [
            "Best generation fitness: 0.8103448275862069\n",
            "Generation 79 Start...\n"
          ]
        },
        {
          "name": "stderr",
          "output_type": "stream",
          "text": [
            "100%|██████████| 90/90 [00:29<00:00,  3.02it/s]\n"
          ]
        },
        {
          "name": "stdout",
          "output_type": "stream",
          "text": [
            "Best generation fitness: 0.8103448275862069\n",
            "Generation 80 Start...\n"
          ]
        },
        {
          "name": "stderr",
          "output_type": "stream",
          "text": [
            "100%|██████████| 90/90 [00:30<00:00,  2.98it/s]\n"
          ]
        },
        {
          "name": "stdout",
          "output_type": "stream",
          "text": [
            "Best generation fitness: 0.8103448275862069\n",
            "Generation 81 Start...\n"
          ]
        },
        {
          "name": "stderr",
          "output_type": "stream",
          "text": [
            "100%|██████████| 90/90 [00:30<00:00,  2.98it/s]\n"
          ]
        },
        {
          "name": "stdout",
          "output_type": "stream",
          "text": [
            "Best generation fitness: 0.8103448275862069\n",
            "Generation 82 Start...\n"
          ]
        },
        {
          "name": "stderr",
          "output_type": "stream",
          "text": [
            "100%|██████████| 90/90 [00:29<00:00,  3.01it/s]\n"
          ]
        },
        {
          "name": "stdout",
          "output_type": "stream",
          "text": [
            "Best generation fitness: 0.8103448275862069\n",
            "Generation 83 Start...\n"
          ]
        },
        {
          "name": "stderr",
          "output_type": "stream",
          "text": [
            "100%|██████████| 90/90 [00:30<00:00,  2.96it/s]\n"
          ]
        },
        {
          "name": "stdout",
          "output_type": "stream",
          "text": [
            "Best generation fitness: 0.8103448275862069\n",
            "Generation 84 Start...\n"
          ]
        },
        {
          "name": "stderr",
          "output_type": "stream",
          "text": [
            "100%|██████████| 90/90 [00:29<00:00,  3.04it/s]\n"
          ]
        },
        {
          "name": "stdout",
          "output_type": "stream",
          "text": [
            "Best generation fitness: 0.8103448275862069\n",
            "Generation 85 Start...\n"
          ]
        },
        {
          "name": "stderr",
          "output_type": "stream",
          "text": [
            "100%|██████████| 90/90 [00:29<00:00,  3.02it/s]\n"
          ]
        },
        {
          "name": "stdout",
          "output_type": "stream",
          "text": [
            "Best generation fitness: 0.8103448275862069\n",
            "Generation 86 Start...\n"
          ]
        },
        {
          "name": "stderr",
          "output_type": "stream",
          "text": [
            "100%|██████████| 90/90 [00:29<00:00,  3.04it/s]\n"
          ]
        },
        {
          "name": "stdout",
          "output_type": "stream",
          "text": [
            "Best generation fitness: 0.8103448275862069\n",
            "Generation 87 Start...\n"
          ]
        },
        {
          "name": "stderr",
          "output_type": "stream",
          "text": [
            "100%|██████████| 90/90 [00:29<00:00,  3.03it/s]\n"
          ]
        },
        {
          "name": "stdout",
          "output_type": "stream",
          "text": [
            "Best generation fitness: 0.8103448275862069\n",
            "Generation 88 Start...\n"
          ]
        },
        {
          "name": "stderr",
          "output_type": "stream",
          "text": [
            "100%|██████████| 90/90 [00:29<00:00,  3.02it/s]\n"
          ]
        },
        {
          "name": "stdout",
          "output_type": "stream",
          "text": [
            "Best generation fitness: 0.8103448275862069\n",
            "Generation 89 Start...\n"
          ]
        },
        {
          "name": "stderr",
          "output_type": "stream",
          "text": [
            "100%|██████████| 90/90 [00:29<00:00,  3.04it/s]\n"
          ]
        },
        {
          "name": "stdout",
          "output_type": "stream",
          "text": [
            "Best generation fitness: 0.8103448275862069\n",
            "Generation 90 Start...\n"
          ]
        },
        {
          "name": "stderr",
          "output_type": "stream",
          "text": [
            "100%|██████████| 90/90 [00:31<00:00,  2.84it/s]\n"
          ]
        },
        {
          "name": "stdout",
          "output_type": "stream",
          "text": [
            "Best generation fitness: 0.8189655172413793\n",
            "Generation 91 Start...\n"
          ]
        },
        {
          "name": "stderr",
          "output_type": "stream",
          "text": [
            "100%|██████████| 90/90 [00:29<00:00,  3.04it/s]\n"
          ]
        },
        {
          "name": "stdout",
          "output_type": "stream",
          "text": [
            "Best generation fitness: 0.8103448275862069\n",
            "Generation 92 Start...\n"
          ]
        },
        {
          "name": "stderr",
          "output_type": "stream",
          "text": [
            "100%|██████████| 90/90 [00:29<00:00,  3.00it/s]\n"
          ]
        },
        {
          "name": "stdout",
          "output_type": "stream",
          "text": [
            "Best generation fitness: 0.8103448275862069\n",
            "Generation 93 Start...\n"
          ]
        },
        {
          "name": "stderr",
          "output_type": "stream",
          "text": [
            "100%|██████████| 90/90 [00:30<00:00,  2.96it/s]\n"
          ]
        },
        {
          "name": "stdout",
          "output_type": "stream",
          "text": [
            "Best generation fitness: 0.8103448275862069\n",
            "Generation 94 Start...\n"
          ]
        },
        {
          "name": "stderr",
          "output_type": "stream",
          "text": [
            "100%|██████████| 90/90 [00:32<00:00,  2.80it/s]\n"
          ]
        },
        {
          "name": "stdout",
          "output_type": "stream",
          "text": [
            "Best generation fitness: 0.8103448275862069\n",
            "Generation 95 Start...\n"
          ]
        },
        {
          "name": "stderr",
          "output_type": "stream",
          "text": [
            "100%|██████████| 90/90 [00:30<00:00,  2.96it/s]\n"
          ]
        },
        {
          "name": "stdout",
          "output_type": "stream",
          "text": [
            "Best generation fitness: 0.8103448275862069\n",
            "Generation 96 Start...\n"
          ]
        },
        {
          "name": "stderr",
          "output_type": "stream",
          "text": [
            "100%|██████████| 90/90 [00:30<00:00,  2.94it/s]\n"
          ]
        },
        {
          "name": "stdout",
          "output_type": "stream",
          "text": [
            "Best generation fitness: 0.8103448275862069\n",
            "Generation 97 Start...\n"
          ]
        },
        {
          "name": "stderr",
          "output_type": "stream",
          "text": [
            "100%|██████████| 90/90 [00:32<00:00,  2.76it/s]\n"
          ]
        },
        {
          "name": "stdout",
          "output_type": "stream",
          "text": [
            "Best generation fitness: 0.8103448275862069\n",
            "Generation 98 Start...\n"
          ]
        },
        {
          "name": "stderr",
          "output_type": "stream",
          "text": [
            "100%|██████████| 90/90 [00:31<00:00,  2.86it/s]\n"
          ]
        },
        {
          "name": "stdout",
          "output_type": "stream",
          "text": [
            "Best generation fitness: 0.8189655172413793\n",
            "Generation 99 Start...\n"
          ]
        },
        {
          "name": "stderr",
          "output_type": "stream",
          "text": [
            "100%|██████████| 90/90 [00:29<00:00,  3.03it/s]\n"
          ]
        },
        {
          "name": "stdout",
          "output_type": "stream",
          "text": [
            "Best generation fitness: 0.8189655172413793\n",
            "Generation 100 Start...\n"
          ]
        },
        {
          "name": "stderr",
          "output_type": "stream",
          "text": [
            "100%|██████████| 90/90 [00:29<00:00,  3.03it/s]"
          ]
        },
        {
          "name": "stdout",
          "output_type": "stream",
          "text": [
            "Best generation fitness: 0.8189655172413793\n",
            "Best fitness: 0.8189655172413793\n"
          ]
        },
        {
          "name": "stderr",
          "output_type": "stream",
          "text": [
            "\n"
          ]
        },
        {
          "data": {
            "text/html": [
              "<style>#sk-container-id-2 {color: black;background-color: white;}#sk-container-id-2 pre{padding: 0;}#sk-container-id-2 div.sk-toggleable {background-color: white;}#sk-container-id-2 label.sk-toggleable__label {cursor: pointer;display: block;width: 100%;margin-bottom: 0;padding: 0.3em;box-sizing: border-box;text-align: center;}#sk-container-id-2 label.sk-toggleable__label-arrow:before {content: \"▸\";float: left;margin-right: 0.25em;color: #696969;}#sk-container-id-2 label.sk-toggleable__label-arrow:hover:before {color: black;}#sk-container-id-2 div.sk-estimator:hover label.sk-toggleable__label-arrow:before {color: black;}#sk-container-id-2 div.sk-toggleable__content {max-height: 0;max-width: 0;overflow: hidden;text-align: left;background-color: #f0f8ff;}#sk-container-id-2 div.sk-toggleable__content pre {margin: 0.2em;color: black;border-radius: 0.25em;background-color: #f0f8ff;}#sk-container-id-2 input.sk-toggleable__control:checked~div.sk-toggleable__content {max-height: 200px;max-width: 100%;overflow: auto;}#sk-container-id-2 input.sk-toggleable__control:checked~label.sk-toggleable__label-arrow:before {content: \"▾\";}#sk-container-id-2 div.sk-estimator input.sk-toggleable__control:checked~label.sk-toggleable__label {background-color: #d4ebff;}#sk-container-id-2 div.sk-label input.sk-toggleable__control:checked~label.sk-toggleable__label {background-color: #d4ebff;}#sk-container-id-2 input.sk-hidden--visually {border: 0;clip: rect(1px 1px 1px 1px);clip: rect(1px, 1px, 1px, 1px);height: 1px;margin: -1px;overflow: hidden;padding: 0;position: absolute;width: 1px;}#sk-container-id-2 div.sk-estimator {font-family: monospace;background-color: #f0f8ff;border: 1px dotted black;border-radius: 0.25em;box-sizing: border-box;margin-bottom: 0.5em;}#sk-container-id-2 div.sk-estimator:hover {background-color: #d4ebff;}#sk-container-id-2 div.sk-parallel-item::after {content: \"\";width: 100%;border-bottom: 1px solid gray;flex-grow: 1;}#sk-container-id-2 div.sk-label:hover label.sk-toggleable__label {background-color: #d4ebff;}#sk-container-id-2 div.sk-serial::before {content: \"\";position: absolute;border-left: 1px solid gray;box-sizing: border-box;top: 0;bottom: 0;left: 50%;z-index: 0;}#sk-container-id-2 div.sk-serial {display: flex;flex-direction: column;align-items: center;background-color: white;padding-right: 0.2em;padding-left: 0.2em;position: relative;}#sk-container-id-2 div.sk-item {position: relative;z-index: 1;}#sk-container-id-2 div.sk-parallel {display: flex;align-items: stretch;justify-content: center;background-color: white;position: relative;}#sk-container-id-2 div.sk-item::before, #sk-container-id-2 div.sk-parallel-item::before {content: \"\";position: absolute;border-left: 1px solid gray;box-sizing: border-box;top: 0;bottom: 0;left: 50%;z-index: -1;}#sk-container-id-2 div.sk-parallel-item {display: flex;flex-direction: column;z-index: 1;position: relative;background-color: white;}#sk-container-id-2 div.sk-parallel-item:first-child::after {align-self: flex-end;width: 50%;}#sk-container-id-2 div.sk-parallel-item:last-child::after {align-self: flex-start;width: 50%;}#sk-container-id-2 div.sk-parallel-item:only-child::after {width: 0;}#sk-container-id-2 div.sk-dashed-wrapped {border: 1px dashed gray;margin: 0 0.4em 0.5em 0.4em;box-sizing: border-box;padding-bottom: 0.4em;background-color: white;}#sk-container-id-2 div.sk-label label {font-family: monospace;font-weight: bold;display: inline-block;line-height: 1.2em;}#sk-container-id-2 div.sk-label-container {text-align: center;}#sk-container-id-2 div.sk-container {/* jupyter's `normalize.less` sets `[hidden] { display: none; }` but bootstrap.min.css set `[hidden] { display: none !important; }` so we also need the `!important` here to be able to override the default hidden behavior on the sphinx rendered scikit-learn.org. See: https://github.com/scikit-learn/scikit-learn/issues/21755 */display: inline-block !important;position: relative;}#sk-container-id-2 div.sk-text-repr-fallback {display: none;}</style><div id=\"sk-container-id-2\" class=\"sk-top-container\"><div class=\"sk-text-repr-fallback\"><pre>LVQ_GA(alpha=0.0007459000000000001, dec_alpha=0.1, epochs=200, min_alpha=0.0001,\n",
              "       num_generations=100,\n",
              "       population=array([[[-3.67209467, -1.58103801, -2.4064254 , ..., -2.81377227,\n",
              "         -4.07752066, -4.03056896],\n",
              "        [ 0.59754014,  0.39350935, -5.42492522, ..., -3.25669492,\n",
              "          0.35485046, -1.02630108]],\n",
              "\n",
              "       [[-3.67209467, -1.58103801, -2.4064254 , ..., -2.81377227,\n",
              "         -4.07752066, -4.03056896],\n",
              "        [ 0....\n",
              "        [ 1.50183621,  1.29780542, -4.52062915, ..., -2.35239885,\n",
              "          1.25914653, -0.12200501]],\n",
              "\n",
              "       [[-0.8723588 ,  1.21869785,  0.39331047, ..., -0.01403641,\n",
              "         -1.27778479, -1.23083309],\n",
              "        [ 1.50183621,  1.29780542, -4.52062915, ..., -2.35239885,\n",
              "          1.25914653, -0.12200501]],\n",
              "\n",
              "       [[-0.8723588 ,  1.21869785,  0.39331047, ..., -0.01403641,\n",
              "         -1.27778479, -1.23083309],\n",
              "        [ 1.50183621,  1.29780542, -4.52062915, ..., -2.35239885,\n",
              "          1.25914653, -0.12200501]]]))</pre><b>In a Jupyter environment, please rerun this cell to show the HTML representation or trust the notebook. <br />On GitHub, the HTML representation is unable to render, please try loading this page with nbviewer.org.</b></div><div class=\"sk-container\" hidden><div class=\"sk-item\"><div class=\"sk-estimator sk-toggleable\"><input class=\"sk-toggleable__control sk-hidden--visually\" id=\"sk-estimator-id-2\" type=\"checkbox\" checked><label for=\"sk-estimator-id-2\" class=\"sk-toggleable__label sk-toggleable__label-arrow\">LVQ_GA</label><div class=\"sk-toggleable__content\"><pre>LVQ_GA(alpha=0.0007459000000000001, dec_alpha=0.1, epochs=200, min_alpha=0.0001,\n",
              "       num_generations=100,\n",
              "       population=array([[[-3.67209467, -1.58103801, -2.4064254 , ..., -2.81377227,\n",
              "         -4.07752066, -4.03056896],\n",
              "        [ 0.59754014,  0.39350935, -5.42492522, ..., -3.25669492,\n",
              "          0.35485046, -1.02630108]],\n",
              "\n",
              "       [[-3.67209467, -1.58103801, -2.4064254 , ..., -2.81377227,\n",
              "         -4.07752066, -4.03056896],\n",
              "        [ 0....\n",
              "        [ 1.50183621,  1.29780542, -4.52062915, ..., -2.35239885,\n",
              "          1.25914653, -0.12200501]],\n",
              "\n",
              "       [[-0.8723588 ,  1.21869785,  0.39331047, ..., -0.01403641,\n",
              "         -1.27778479, -1.23083309],\n",
              "        [ 1.50183621,  1.29780542, -4.52062915, ..., -2.35239885,\n",
              "          1.25914653, -0.12200501]],\n",
              "\n",
              "       [[-0.8723588 ,  1.21869785,  0.39331047, ..., -0.01403641,\n",
              "         -1.27778479, -1.23083309],\n",
              "        [ 1.50183621,  1.29780542, -4.52062915, ..., -2.35239885,\n",
              "          1.25914653, -0.12200501]]]))</pre></div></div></div></div></div>"
            ],
            "text/plain": [
              "LVQ_GA(alpha=0.0007459000000000001, dec_alpha=0.1, epochs=200, min_alpha=0.0001,\n",
              "       num_generations=100,\n",
              "       population=array([[[-3.67209467, -1.58103801, -2.4064254 , ..., -2.81377227,\n",
              "         -4.07752066, -4.03056896],\n",
              "        [ 0.59754014,  0.39350935, -5.42492522, ..., -3.25669492,\n",
              "          0.35485046, -1.02630108]],\n",
              "\n",
              "       [[-3.67209467, -1.58103801, -2.4064254 , ..., -2.81377227,\n",
              "         -4.07752066, -4.03056896],\n",
              "        [ 0....\n",
              "        [ 1.50183621,  1.29780542, -4.52062915, ..., -2.35239885,\n",
              "          1.25914653, -0.12200501]],\n",
              "\n",
              "       [[-0.8723588 ,  1.21869785,  0.39331047, ..., -0.01403641,\n",
              "         -1.27778479, -1.23083309],\n",
              "        [ 1.50183621,  1.29780542, -4.52062915, ..., -2.35239885,\n",
              "          1.25914653, -0.12200501]],\n",
              "\n",
              "       [[-0.8723588 ,  1.21869785,  0.39331047, ..., -0.01403641,\n",
              "         -1.27778479, -1.23083309],\n",
              "        [ 1.50183621,  1.29780542, -4.52062915, ..., -2.35239885,\n",
              "          1.25914653, -0.12200501]]]))"
            ]
          },
          "execution_count": 28,
          "metadata": {},
          "output_type": "execute_result"
        }
      ],
      "source": [
        "lvq_ga = LVQ_GA(alpha=.07459, dec_alpha=.1, lvq_epochs=200, \n",
        "                min_alpha=0.0001, sol_per_pop=100, \n",
        "                num_generations=100, cr=.9, pc=.9, pm=.5)\n",
        "lvq_ga.fit(X_train_scaled, y_train, \n",
        "           val_data=(X_test_scaled, y_test), \n",
        "           lvq_verbose=0)"
      ],
      "id": "3c4a1237"
    },
    {
      "cell_type": "code",
      "execution_count": null,
      "metadata": {
        "id": "aa1abbd5",
        "outputId": "1ecce19e-0143-4e90-eeac-6f7bfb3ad34d"
      },
      "outputs": [
        {
          "data": {
            "text/plain": [
              "array([[-0.43729137, -0.68401822, -0.11621086, -0.05240362, -0.21205349,\n",
              "        -0.48836701, -0.26858928, -0.56306414],\n",
              "       [ 0.95103198,  1.8495751 , -0.91242062, -0.04844099, -0.29778965,\n",
              "         0.86386935,  0.56021602,  0.1723636 ]])"
            ]
          },
          "execution_count": 29,
          "metadata": {},
          "output_type": "execute_result"
        }
      ],
      "source": [
        "lvq_ga.best_weights_"
      ],
      "id": "aa1abbd5"
    },
    {
      "cell_type": "markdown",
      "source": [
        "## Testing LVQ-GA 3"
      ],
      "metadata": {
        "id": "iOh80M5J7QUk"
      },
      "id": "iOh80M5J7QUk"
    },
    {
      "cell_type": "code",
      "source": [
        "y_pred = lvq_ga.predict(X_test_scaled)"
      ],
      "metadata": {
        "id": "poPwgjn47RRU"
      },
      "id": "poPwgjn47RRU",
      "execution_count": null,
      "outputs": []
    },
    {
      "cell_type": "code",
      "execution_count": null,
      "metadata": {
        "id": "523666c5",
        "outputId": "bccbe0db-ec35-4bb5-f416-3ca829431a4d"
      },
      "outputs": [
        {
          "name": "stdout",
          "output_type": "stream",
          "text": [
            "              precision    recall  f1-score   support\n",
            "\n",
            "           0       0.86      0.87      0.86        76\n",
            "           1       0.74      0.72      0.73        40\n",
            "\n",
            "    accuracy                           0.82       116\n",
            "   macro avg       0.80      0.80      0.80       116\n",
            "weighted avg       0.82      0.82      0.82       116\n",
            "\n"
          ]
        }
      ],
      "source": [
        "print(classification_report(y_test,y_pred))"
      ],
      "id": "523666c5"
    },
    {
      "cell_type": "code",
      "execution_count": null,
      "metadata": {
        "id": "5977c4cf",
        "outputId": "72fd5326-94cf-4b92-91e6-1aaec58eabce"
      },
      "outputs": [
        {
          "name": "stdout",
          "output_type": "stream",
          "text": [
            "0.8189655172413793\n"
          ]
        }
      ],
      "source": [
        "print(accuracy_score(y_test,y_pred))"
      ],
      "id": "5977c4cf"
    },
    {
      "cell_type": "code",
      "execution_count": null,
      "metadata": {
        "id": "25564dff",
        "outputId": "456780fb-1aa2-4648-e24e-141c4eba51d3"
      },
      "outputs": [
        {
          "name": "stdout",
          "output_type": "stream",
          "text": [
            "0.7341772151898733\n"
          ]
        }
      ],
      "source": [
        "print(f1_score(y_test,y_pred))"
      ],
      "id": "25564dff"
    },
    {
      "cell_type": "code",
      "execution_count": null,
      "metadata": {
        "id": "e8d531fb",
        "outputId": "d57cdac2-44a1-4cfe-a375-dafa78bb40b0"
      },
      "outputs": [
        {
          "name": "stdout",
          "output_type": "stream",
          "text": [
            "0.725\n"
          ]
        }
      ],
      "source": [
        "print(recall_score(y_test,y_pred))"
      ],
      "id": "e8d531fb"
    }
  ],
  "metadata": {
    "colab": {
      "collapsed_sections": [
        "7f05b344"
      ],
      "provenance": [],
      "toc_visible": true
    },
    "kernelspec": {
      "display_name": "Python 3 (ipykernel)",
      "language": "python",
      "name": "python3"
    },
    "language_info": {
      "codemirror_mode": {
        "name": "ipython",
        "version": 3
      },
      "file_extension": ".py",
      "mimetype": "text/x-python",
      "name": "python",
      "nbconvert_exporter": "python",
      "pygments_lexer": "ipython3",
      "version": "3.9.13"
    }
  },
  "nbformat": 4,
  "nbformat_minor": 5
}