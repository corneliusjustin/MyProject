{
  "nbformat": 4,
  "nbformat_minor": 0,
  "metadata": {
    "colab": {
      "provenance": [],
      "gpuType": "T4",
      "toc_visible": true
    },
    "kernelspec": {
      "name": "python3",
      "display_name": "Python 3"
    },
    "language_info": {
      "name": "python"
    },
    "accelerator": "GPU",
    "gpuClass": "standard"
  },
  "cells": [
    {
      "cell_type": "markdown",
      "source": [
        "# Inisialisasi GPU untuk BERTopic"
      ],
      "metadata": {
        "id": "T2N3DoDcudHp"
      }
    },
    {
      "cell_type": "code",
      "source": [
        "!nvidia-smi"
      ],
      "metadata": {
        "colab": {
          "base_uri": "https://localhost:8080/"
        },
        "id": "iBRjPjbjW8az",
        "outputId": "4e166e38-ef1d-4ee5-e2e5-0e02a919910d"
      },
      "execution_count": null,
      "outputs": [
        {
          "output_type": "stream",
          "name": "stdout",
          "text": [
            "Mon May 15 14:23:30 2023       \n",
            "+-----------------------------------------------------------------------------+\n",
            "| NVIDIA-SMI 525.85.12    Driver Version: 525.85.12    CUDA Version: 12.0     |\n",
            "|-------------------------------+----------------------+----------------------+\n",
            "| GPU  Name        Persistence-M| Bus-Id        Disp.A | Volatile Uncorr. ECC |\n",
            "| Fan  Temp  Perf  Pwr:Usage/Cap|         Memory-Usage | GPU-Util  Compute M. |\n",
            "|                               |                      |               MIG M. |\n",
            "|===============================+======================+======================|\n",
            "|   0  Tesla T4            Off  | 00000000:00:04.0 Off |                    0 |\n",
            "| N/A   51C    P8    10W /  70W |      0MiB / 15360MiB |      0%      Default |\n",
            "|                               |                      |                  N/A |\n",
            "+-------------------------------+----------------------+----------------------+\n",
            "                                                                               \n",
            "+-----------------------------------------------------------------------------+\n",
            "| Processes:                                                                  |\n",
            "|  GPU   GI   CI        PID   Type   Process name                  GPU Memory |\n",
            "|        ID   ID                                                   Usage      |\n",
            "|=============================================================================|\n",
            "|  No running processes found                                                 |\n",
            "+-----------------------------------------------------------------------------+\n"
          ]
        }
      ]
    },
    {
      "cell_type": "code",
      "source": [
        "!git clone https://github.com/rapidsai/rapidsai-csp-utils.git\n",
        "!python rapidsai-csp-utils/colab/pip-install.py\n",
        "from cuml.cluster import HDBSCAN\n",
        "from cuml.manifold import UMAP"
      ],
      "metadata": {
        "colab": {
          "base_uri": "https://localhost:8080/"
        },
        "id": "EpExNzqUW7VD",
        "outputId": "25bf2ad8-4f3c-4f9a-a4ea-c3e6db9c189d"
      },
      "execution_count": null,
      "outputs": [
        {
          "output_type": "stream",
          "name": "stdout",
          "text": [
            "Cloning into 'rapidsai-csp-utils'...\n",
            "remote: Enumerating objects: 390, done.\u001b[K\n",
            "remote: Counting objects: 100% (121/121), done.\u001b[K\n",
            "remote: Compressing objects: 100% (70/70), done.\u001b[K\n",
            "remote: Total 390 (delta 89), reused 51 (delta 51), pack-reused 269\u001b[K\n",
            "Receiving objects: 100% (390/390), 107.11 KiB | 4.28 MiB/s, done.\n",
            "Resolving deltas: 100% (191/191), done.\n",
            "Looking in indexes: https://pypi.org/simple, https://us-python.pkg.dev/colab-wheels/public/simple/\n",
            "Collecting pynvml\n",
            "  Downloading pynvml-11.5.0-py3-none-any.whl (53 kB)\n",
            "     ━━━━━━━━━━━━━━━━━━━━━━━━━━━━━━━━━━━━━━━━ 53.1/53.1 kB 2.3 MB/s eta 0:00:00\n",
            "Installing collected packages: pynvml\n",
            "Successfully installed pynvml-11.5.0\n",
            "***********************************************************************\n",
            "Woo! Your instance has the right kind of GPU, a Tesla T4!\n",
            "We will now install RAPIDS cuDF, cuML, and cuGraph via pip! \n",
            "Please stand by, should be quick...\n",
            "***********************************************************************\n",
            "\n",
            "Looking in indexes: https://pypi.org/simple, https://us-python.pkg.dev/colab-wheels/public/simple/, https://pypi.nvidia.com\n",
            "Collecting cudf-cu11\n",
            "  Downloading https://pypi.nvidia.com/cudf-cu11/cudf_cu11-23.4.1-cp310-cp310-manylinux_2_17_x86_64.manylinux2014_x86_64.whl (496.6 MB)\n",
            "     ━━━━━━━━━━━━━━━━━━━━━━━━━━━━━━━━━━━━━━━ 496.6/496.6 MB 3.4 MB/s eta 0:00:00\n",
            "Collecting cuml-cu11\n",
            "  Downloading https://pypi.nvidia.com/cuml-cu11/cuml_cu11-23.4.1-cp310-cp310-manylinux_2_17_x86_64.manylinux2014_x86_64.whl (1110.9 MB)\n",
            "     ━━━━━━━━━━━━━━━━━━━━━━━━━━━━━━━━━━━━━━━━ 1.1/1.1 GB 1.0 MB/s eta 0:00:00\n",
            "Collecting cugraph-cu11\n",
            "  Downloading https://pypi.nvidia.com/cugraph-cu11/cugraph_cu11-23.4.1-cp310-cp310-manylinux_2_17_x86_64.manylinux2014_x86_64.whl (1142.4 MB)\n",
            "     ━━━━━━━━━━━━━━━━━━━━━━━━━━━━━━━━━━━━━━━━ 1.1/1.1 GB 1.5 MB/s eta 0:00:00\n",
            "Collecting aiohttp\n",
            "  Downloading aiohttp-3.8.4-cp310-cp310-manylinux_2_17_x86_64.manylinux2014_x86_64.whl (1.0 MB)\n",
            "     ━━━━━━━━━━━━━━━━━━━━━━━━━━━━━━━━━━━━━━━━ 1.0/1.0 MB 16.7 MB/s eta 0:00:00\n",
            "Requirement already satisfied: cachetools in /usr/local/lib/python3.10/dist-packages (from cudf-cu11) (5.3.0)\n",
            "Collecting cubinlinker-cu11 (from cudf-cu11)\n",
            "  Downloading https://pypi.nvidia.com/cubinlinker-cu11/cubinlinker_cu11-0.3.0.post1-cp310-cp310-manylinux_2_17_x86_64.manylinux2014_x86_64.whl (8.8 MB)\n",
            "     ━━━━━━━━━━━━━━━━━━━━━━━━━━━━━━━━━━━━━━━━ 8.8/8.8 MB 103.7 MB/s eta 0:00:00\n",
            "Collecting cuda-python<12.0,>=11.7.1 (from cudf-cu11)\n",
            "  Downloading cuda_python-11.8.1-cp310-cp310-manylinux_2_17_x86_64.manylinux2014_x86_64.whl (16.5 MB)\n",
            "     ━━━━━━━━━━━━━━━━━━━━━━━━━━━━━━━━━━━━━━━━ 16.5/16.5 MB 95.4 MB/s eta 0:00:00\n",
            "Requirement already satisfied: cupy-cuda11x<12.0.0a0,>=9.5.0 in /usr/local/lib/python3.10/dist-packages (from cudf-cu11) (11.0.0)\n",
            "Requirement already satisfied: fsspec>=0.6.0 in /usr/local/lib/python3.10/dist-packages (from cudf-cu11) (2023.4.0)\n",
            "Requirement already satisfied: numba<0.57,>=0.56.4 in /usr/local/lib/python3.10/dist-packages (from cudf-cu11) (0.56.4)\n",
            "Requirement already satisfied: numpy>=1.21 in /usr/local/lib/python3.10/dist-packages (from cudf-cu11) (1.22.4)\n",
            "Collecting nvtx>=0.2.1 (from cudf-cu11)\n",
            "  Downloading nvtx-0.2.5-cp310-cp310-manylinux_2_17_x86_64.manylinux2014_x86_64.whl (428 kB)\n",
            "     ━━━━━━━━━━━━━━━━━━━━━━━━━━━━━━━━━━━━━━ 428.4/428.4 kB 46.3 MB/s eta 0:00:00\n",
            "Requirement already satisfied: packaging in /usr/local/lib/python3.10/dist-packages (from cudf-cu11) (23.1)\n",
            "Requirement already satisfied: pandas<1.6.0dev0,>=1.3 in /usr/local/lib/python3.10/dist-packages (from cudf-cu11) (1.5.3)\n",
            "Collecting protobuf<4.22,>=4.21.6 (from cudf-cu11)\n",
            "  Downloading protobuf-4.21.12-cp37-abi3-manylinux2014_x86_64.whl (409 kB)\n",
            "     ━━━━━━━━━━━━━━━━━━━━━━━━━━━━━━━━━━━━━━ 409.8/409.8 kB 37.4 MB/s eta 0:00:00\n",
            "Collecting ptxcompiler-cu11 (from cudf-cu11)\n",
            "  Downloading https://pypi.nvidia.com/ptxcompiler-cu11/ptxcompiler_cu11-0.7.0.post1-cp310-cp310-manylinux_2_17_x86_64.manylinux2014_x86_64.whl (8.8 MB)\n",
            "     ━━━━━━━━━━━━━━━━━━━━━━━━━━━━━━━━━━━━━━━━ 8.8/8.8 MB 82.8 MB/s eta 0:00:00\n",
            "Collecting pyarrow==10.* (from cudf-cu11)\n",
            "  Downloading pyarrow-10.0.1-cp310-cp310-manylinux_2_17_x86_64.manylinux2014_x86_64.whl (35.9 MB)\n",
            "     ━━━━━━━━━━━━━━━━━━━━━━━━━━━━━━━━━━━━━━━━ 35.9/35.9 MB 14.0 MB/s eta 0:00:00\n",
            "Collecting rmm-cu11==23.4.* (from cudf-cu11)\n",
            "  Downloading https://pypi.nvidia.com/rmm-cu11/rmm_cu11-23.4.1-cp310-cp310-manylinux_2_17_x86_64.manylinux2014_x86_64.whl (2.3 MB)\n",
            "     ━━━━━━━━━━━━━━━━━━━━━━━━━━━━━━━━━━━━━━━━ 2.3/2.3 MB 100.4 MB/s eta 0:00:00\n",
            "Requirement already satisfied: typing-extensions in /usr/local/lib/python3.10/dist-packages (from cudf-cu11) (4.5.0)\n",
            "Collecting dask-cuda==23.4.* (from cuml-cu11)\n",
            "  Downloading dask_cuda-23.4.0-py3-none-any.whl (125 kB)\n",
            "     ━━━━━━━━━━━━━━━━━━━━━━━━━━━━━━━━━━━━━━ 125.3/125.3 kB 16.4 MB/s eta 0:00:00\n",
            "Collecting dask-cudf-cu11==23.4.* (from cuml-cu11)\n",
            "  Downloading https://pypi.nvidia.com/dask-cudf-cu11/dask_cudf_cu11-23.4.1-py3-none-any.whl (79 kB)\n",
            "     ━━━━━━━━━━━━━━━━━━━━━━━━━━━━━━━━━━━━━━━━ 79.4/79.4 kB 11.3 MB/s eta 0:00:00\n",
            "Collecting dask==2023.3.2 (from cuml-cu11)\n",
            "  Downloading dask-2023.3.2-py3-none-any.whl (1.2 MB)\n",
            "     ━━━━━━━━━━━━━━━━━━━━━━━━━━━━━━━━━━━━━━━━ 1.2/1.2 MB 79.6 MB/s eta 0:00:00\n",
            "Collecting distributed==2023.3.2.1 (from cuml-cu11)\n",
            "  Downloading distributed-2023.3.2.1-py3-none-any.whl (957 kB)\n",
            "     ━━━━━━━━━━━━━━━━━━━━━━━━━━━━━━━━━━━━━━ 957.1/957.1 kB 72.1 MB/s eta 0:00:00\n",
            "Requirement already satisfied: joblib>=0.11 in /usr/local/lib/python3.10/dist-packages (from cuml-cu11) (1.2.0)\n",
            "Collecting raft-dask-cu11==23.4.* (from cuml-cu11)\n",
            "  Downloading https://pypi.nvidia.com/raft-dask-cu11/raft_dask_cu11-23.4.1-cp310-cp310-manylinux_2_17_x86_64.manylinux2014_x86_64.whl (215.1 MB)\n",
            "     ━━━━━━━━━━━━━━━━━━━━━━━━━━━━━━━━━━━━━━━ 215.1/215.1 MB 2.3 MB/s eta 0:00:00\n",
            "Requirement already satisfied: scipy in /usr/local/lib/python3.10/dist-packages (from cuml-cu11) (1.10.1)\n",
            "Requirement already satisfied: seaborn in /usr/local/lib/python3.10/dist-packages (from cuml-cu11) (0.12.2)\n",
            "Collecting treelite==3.2.0 (from cuml-cu11)\n",
            "  Downloading treelite-3.2.0-py3-none-manylinux2014_x86_64.whl (1.0 MB)\n",
            "     ━━━━━━━━━━━━━━━━━━━━━━━━━━━━━━━━━━━━━━━━ 1.0/1.0 MB 70.3 MB/s eta 0:00:00\n",
            "Collecting treelite-runtime==3.2.0 (from cuml-cu11)\n",
            "  Downloading treelite_runtime-3.2.0-py3-none-manylinux2014_x86_64.whl (198 kB)\n",
            "     ━━━━━━━━━━━━━━━━━━━━━━━━━━━━━━━━━━━━━━ 198.2/198.2 kB 26.4 MB/s eta 0:00:00\n",
            "Requirement already satisfied: click>=7.0 in /usr/local/lib/python3.10/dist-packages (from dask==2023.3.2->cuml-cu11) (8.1.3)\n",
            "Requirement already satisfied: cloudpickle>=1.1.1 in /usr/local/lib/python3.10/dist-packages (from dask==2023.3.2->cuml-cu11) (2.2.1)\n",
            "Requirement already satisfied: partd>=1.2.0 in /usr/local/lib/python3.10/dist-packages (from dask==2023.3.2->cuml-cu11) (1.4.0)\n",
            "Requirement already satisfied: pyyaml>=5.3.1 in /usr/local/lib/python3.10/dist-packages (from dask==2023.3.2->cuml-cu11) (6.0)\n",
            "Requirement already satisfied: toolz>=0.8.2 in /usr/local/lib/python3.10/dist-packages (from dask==2023.3.2->cuml-cu11) (0.12.0)\n",
            "Collecting importlib-metadata>=4.13.0 (from dask==2023.3.2->cuml-cu11)\n",
            "  Downloading importlib_metadata-6.6.0-py3-none-any.whl (22 kB)\n",
            "Collecting pynvml<11.5,>=11.0.0 (from dask-cuda==23.4.*->cuml-cu11)\n",
            "  Downloading pynvml-11.4.1-py3-none-any.whl (46 kB)\n",
            "     ━━━━━━━━━━━━━━━━━━━━━━━━━━━━━━━━━━━━━━━━ 47.0/47.0 kB 3.9 MB/s eta 0:00:00\n",
            "Requirement already satisfied: zict>=0.1.3 in /usr/local/lib/python3.10/dist-packages (from dask-cuda==23.4.*->cuml-cu11) (3.0.0)\n",
            "Requirement already satisfied: jinja2>=2.10.3 in /usr/local/lib/python3.10/dist-packages (from distributed==2023.3.2.1->cuml-cu11) (3.1.2)\n",
            "Requirement already satisfied: locket>=1.0.0 in /usr/local/lib/python3.10/dist-packages (from distributed==2023.3.2.1->cuml-cu11) (1.0.0)\n",
            "Requirement already satisfied: msgpack>=1.0.0 in /usr/local/lib/python3.10/dist-packages (from distributed==2023.3.2.1->cuml-cu11) (1.0.5)\n",
            "Requirement already satisfied: psutil>=5.7.0 in /usr/local/lib/python3.10/dist-packages (from distributed==2023.3.2.1->cuml-cu11) (5.9.5)\n",
            "Requirement already satisfied: sortedcontainers>=2.0.5 in /usr/local/lib/python3.10/dist-packages (from distributed==2023.3.2.1->cuml-cu11) (2.4.0)\n",
            "Requirement already satisfied: tblib>=1.6.0 in /usr/local/lib/python3.10/dist-packages (from distributed==2023.3.2.1->cuml-cu11) (1.7.0)\n",
            "Requirement already satisfied: tornado>=6.0.3 in /usr/local/lib/python3.10/dist-packages (from distributed==2023.3.2.1->cuml-cu11) (6.3.1)\n",
            "Requirement already satisfied: urllib3>=1.24.3 in /usr/local/lib/python3.10/dist-packages (from distributed==2023.3.2.1->cuml-cu11) (1.26.15)\n",
            "Collecting pylibraft-cu11==23.4.* (from raft-dask-cu11==23.4.*->cuml-cu11)\n",
            "  Downloading https://pypi.nvidia.com/pylibraft-cu11/pylibraft_cu11-23.4.1-cp310-cp310-manylinux_2_17_x86_64.manylinux2014_x86_64.whl (618.0 MB)\n",
            "     ━━━━━━━━━━━━━━━━━━━━━━━━━━━━━━━━━━━━━━━ 618.0/618.0 MB 2.7 MB/s eta 0:00:00\n",
            "Collecting ucx-py-cu11==0.31.* (from raft-dask-cu11==23.4.*->cuml-cu11)\n",
            "  Downloading https://pypi.nvidia.com/ucx-py-cu11/ucx_py_cu11-0.31.1-cp310-cp310-manylinux_2_17_x86_64.manylinux2014_x86_64.whl (8.3 MB)\n",
            "     ━━━━━━━━━━━━━━━━━━━━━━━━━━━━━━━━━━━━━━━━ 8.3/8.3 MB 107.9 MB/s eta 0:00:00\n",
            "Collecting pylibcugraph-cu11==23.4.* (from cugraph-cu11)\n",
            "  Downloading https://pypi.nvidia.com/pylibcugraph-cu11/pylibcugraph_cu11-23.4.1-cp310-cp310-manylinux_2_17_x86_64.manylinux2014_x86_64.whl (1141.1 MB)\n",
            "     ━━━━━━━━━━━━━━━━━━━━━━━━━━━━━━━━━━━━━━━━ 1.1/1.1 GB 953.1 kB/s eta 0:00:00\n",
            "Requirement already satisfied: attrs>=17.3.0 in /usr/local/lib/python3.10/dist-packages (from aiohttp) (23.1.0)\n",
            "Requirement already satisfied: charset-normalizer<4.0,>=2.0 in /usr/local/lib/python3.10/dist-packages (from aiohttp) (2.0.12)\n",
            "Collecting multidict<7.0,>=4.5 (from aiohttp)\n",
            "  Downloading multidict-6.0.4-cp310-cp310-manylinux_2_17_x86_64.manylinux2014_x86_64.whl (114 kB)\n",
            "     ━━━━━━━━━━━━━━━━━━━━━━━━━━━━━━━━━━━━━━ 114.5/114.5 kB 14.6 MB/s eta 0:00:00\n",
            "Collecting async-timeout<5.0,>=4.0.0a3 (from aiohttp)\n",
            "  Downloading async_timeout-4.0.2-py3-none-any.whl (5.8 kB)\n",
            "Collecting yarl<2.0,>=1.0 (from aiohttp)\n",
            "  Downloading yarl-1.9.2-cp310-cp310-manylinux_2_17_x86_64.manylinux2014_x86_64.whl (268 kB)\n",
            "     ━━━━━━━━━━━━━━━━━━━━━━━━━━━━━━━━━━━━━━ 268.8/268.8 kB 32.9 MB/s eta 0:00:00\n",
            "Collecting frozenlist>=1.1.1 (from aiohttp)\n",
            "  Downloading frozenlist-1.3.3-cp310-cp310-manylinux_2_5_x86_64.manylinux1_x86_64.manylinux_2_17_x86_64.manylinux2014_x86_64.whl (149 kB)\n",
            "     ━━━━━━━━━━━━━━━━━━━━━━━━━━━━━━━━━━━━━━ 149.6/149.6 kB 20.4 MB/s eta 0:00:00\n",
            "Collecting aiosignal>=1.1.2 (from aiohttp)\n",
            "  Downloading aiosignal-1.3.1-py3-none-any.whl (7.6 kB)\n",
            "Requirement already satisfied: cython in /usr/local/lib/python3.10/dist-packages (from cuda-python<12.0,>=11.7.1->cudf-cu11) (0.29.34)\n",
            "Requirement already satisfied: fastrlock>=0.5 in /usr/local/lib/python3.10/dist-packages (from cupy-cuda11x<12.0.0a0,>=9.5.0->cudf-cu11) (0.8.1)\n",
            "Requirement already satisfied: llvmlite<0.40,>=0.39.0dev0 in /usr/local/lib/python3.10/dist-packages (from numba<0.57,>=0.56.4->cudf-cu11) (0.39.1)\n",
            "Requirement already satisfied: setuptools in /usr/local/lib/python3.10/dist-packages (from numba<0.57,>=0.56.4->cudf-cu11) (67.7.2)\n",
            "Requirement already satisfied: python-dateutil>=2.8.1 in /usr/local/lib/python3.10/dist-packages (from pandas<1.6.0dev0,>=1.3->cudf-cu11) (2.8.2)\n",
            "Requirement already satisfied: pytz>=2020.1 in /usr/local/lib/python3.10/dist-packages (from pandas<1.6.0dev0,>=1.3->cudf-cu11) (2022.7.1)\n",
            "Requirement already satisfied: idna>=2.0 in /usr/local/lib/python3.10/dist-packages (from yarl<2.0,>=1.0->aiohttp) (3.4)\n",
            "Requirement already satisfied: matplotlib!=3.6.1,>=3.1 in /usr/local/lib/python3.10/dist-packages (from seaborn->cuml-cu11) (3.7.1)\n",
            "Requirement already satisfied: zipp>=0.5 in /usr/local/lib/python3.10/dist-packages (from importlib-metadata>=4.13.0->dask==2023.3.2->cuml-cu11) (3.15.0)\n",
            "Requirement already satisfied: MarkupSafe>=2.0 in /usr/local/lib/python3.10/dist-packages (from jinja2>=2.10.3->distributed==2023.3.2.1->cuml-cu11) (2.1.2)\n",
            "Requirement already satisfied: contourpy>=1.0.1 in /usr/local/lib/python3.10/dist-packages (from matplotlib!=3.6.1,>=3.1->seaborn->cuml-cu11) (1.0.7)\n",
            "Requirement already satisfied: cycler>=0.10 in /usr/local/lib/python3.10/dist-packages (from matplotlib!=3.6.1,>=3.1->seaborn->cuml-cu11) (0.11.0)\n",
            "Requirement already satisfied: fonttools>=4.22.0 in /usr/local/lib/python3.10/dist-packages (from matplotlib!=3.6.1,>=3.1->seaborn->cuml-cu11) (4.39.3)\n",
            "Requirement already satisfied: kiwisolver>=1.0.1 in /usr/local/lib/python3.10/dist-packages (from matplotlib!=3.6.1,>=3.1->seaborn->cuml-cu11) (1.4.4)\n",
            "Requirement already satisfied: pillow>=6.2.0 in /usr/local/lib/python3.10/dist-packages (from matplotlib!=3.6.1,>=3.1->seaborn->cuml-cu11) (8.4.0)\n",
            "Requirement already satisfied: pyparsing>=2.3.1 in /usr/local/lib/python3.10/dist-packages (from matplotlib!=3.6.1,>=3.1->seaborn->cuml-cu11) (3.0.9)\n",
            "Requirement already satisfied: six>=1.5 in /usr/local/lib/python3.10/dist-packages (from python-dateutil>=2.8.1->pandas<1.6.0dev0,>=1.3->cudf-cu11) (1.16.0)\n",
            "Installing collected packages: ptxcompiler-cu11, nvtx, cubinlinker-cu11, pynvml, pyarrow, protobuf, multidict, importlib-metadata, frozenlist, cuda-python, async-timeout, yarl, ucx-py-cu11, treelite-runtime, treelite, rmm-cu11, dask, aiosignal, pylibraft-cu11, distributed, cudf-cu11, aiohttp, pylibcugraph-cu11, dask-cudf-cu11, dask-cuda, raft-dask-cu11, cuml-cu11, cugraph-cu11\n",
            "  Attempting uninstall: pynvml\n",
            "    Found existing installation: pynvml 11.5.0\n",
            "    Uninstalling pynvml-11.5.0:\n",
            "      Successfully uninstalled pynvml-11.5.0\n",
            "  Attempting uninstall: pyarrow\n",
            "    Found existing installation: pyarrow 9.0.0\n",
            "    Uninstalling pyarrow-9.0.0:\n",
            "      Successfully uninstalled pyarrow-9.0.0\n",
            "  Attempting uninstall: protobuf\n",
            "    Found existing installation: protobuf 3.20.3\n",
            "    Uninstalling protobuf-3.20.3:\n",
            "      Successfully uninstalled protobuf-3.20.3\n",
            "  Attempting uninstall: dask\n",
            "    Found existing installation: dask 2022.12.1\n",
            "    Uninstalling dask-2022.12.1:\n",
            "      Successfully uninstalled dask-2022.12.1\n",
            "  Attempting uninstall: distributed\n",
            "    Found existing installation: distributed 2022.12.1\n",
            "    Uninstalling distributed-2022.12.1:\n",
            "      Successfully uninstalled distributed-2022.12.1\n",
            "ERROR: pip's dependency resolver does not currently take into account all the packages that are installed. This behaviour is the source of the following dependency conflicts.\n",
            "pandas-gbq 0.17.9 requires pyarrow<10.0dev,>=3.0.0, but you have pyarrow 10.0.1 which is incompatible.\n",
            "Successfully installed aiohttp-3.8.4 aiosignal-1.3.1 async-timeout-4.0.2 cubinlinker-cu11-0.3.0.post1 cuda-python-11.8.1 cudf-cu11-23.4.1 cugraph-cu11-23.4.1 cuml-cu11-23.4.1 dask-2023.3.2 dask-cuda-23.4.0 dask-cudf-cu11-23.4.1 distributed-2023.3.2.1 frozenlist-1.3.3 importlib-metadata-6.6.0 multidict-6.0.4 nvtx-0.2.5 protobuf-4.21.12 ptxcompiler-cu11-0.7.0.post1 pyarrow-10.0.1 pylibcugraph-cu11-23.4.1 pylibraft-cu11-23.4.1 pynvml-11.4.1 raft-dask-cu11-23.4.1 rmm-cu11-23.4.1 treelite-3.2.0 treelite-runtime-3.2.0 ucx-py-cu11-0.31.1 yarl-1.9.2\n",
            "Looking in indexes: https://pypi.org/simple, https://us-python.pkg.dev/colab-wheels/public/simple/\n",
            "Requirement already satisfied: cupy-cuda11x in /usr/local/lib/python3.10/dist-packages (11.0.0)\n",
            "Requirement already satisfied: numpy<1.26,>=1.20 in /usr/local/lib/python3.10/dist-packages (from cupy-cuda11x) (1.22.4)\n",
            "Requirement already satisfied: fastrlock>=0.5 in /usr/local/lib/python3.10/dist-packages (from cupy-cuda11x) (0.8.1)\n",
            "\n",
            "          ***********************************************************************\n",
            "          The pip install of RAPIDS is complete.\n",
            "          \n",
            "          Please do not run any further installation from the conda based installation methods, as they may cause issues!  \n",
            "          \n",
            "          Please ensure that you're pulling from the git repo to remain updated with the latest working install scripts. \n",
            "r          \n",
            "          Troubleshooting:\n",
            "             - If there is an installation failure, please check back on RAPIDSAI owned templates/notebooks to see how to update your personal files. \n",
            "             - If an installation failure persists when using the latest script, please make an issue on https://github.com/rapidsai-community/rapidsai-csp-utils\n",
            "          ***********************************************************************\n",
            "          \n"
          ]
        }
      ]
    },
    {
      "cell_type": "markdown",
      "source": [
        "# Import Data"
      ],
      "metadata": {
        "id": "Ak2dX5KwAMd_"
      }
    },
    {
      "cell_type": "code",
      "source": [
        "import os\n",
        "import zipfile\n",
        "from google.colab import files\n",
        "\n",
        "files.upload()\n",
        "\n",
        "!pip install kaggle\n",
        "os.environ['KAGGLE_CONFIG_DIR'] = \"/content\"\n",
        "!kaggle datasets download -d charunisa/chatgpt-sentiment-analysis\n",
        "\n",
        "!unzip /content/chatgpt-sentiment-analysis.zip"
      ],
      "metadata": {
        "colab": {
          "base_uri": "https://localhost:8080/",
          "height": 405
        },
        "id": "lR3GAt6hU9Ki",
        "outputId": "50b43689-c16c-4c59-d068-8a92bd586bed"
      },
      "execution_count": null,
      "outputs": [
        {
          "output_type": "display_data",
          "data": {
            "text/plain": [
              "<IPython.core.display.HTML object>"
            ],
            "text/html": [
              "\n",
              "     <input type=\"file\" id=\"files-d3ef5a1a-999d-4255-a704-b61ebef6e2c8\" name=\"files[]\" multiple disabled\n",
              "        style=\"border:none\" />\n",
              "     <output id=\"result-d3ef5a1a-999d-4255-a704-b61ebef6e2c8\">\n",
              "      Upload widget is only available when the cell has been executed in the\n",
              "      current browser session. Please rerun this cell to enable.\n",
              "      </output>\n",
              "      <script>// Copyright 2017 Google LLC\n",
              "//\n",
              "// Licensed under the Apache License, Version 2.0 (the \"License\");\n",
              "// you may not use this file except in compliance with the License.\n",
              "// You may obtain a copy of the License at\n",
              "//\n",
              "//      http://www.apache.org/licenses/LICENSE-2.0\n",
              "//\n",
              "// Unless required by applicable law or agreed to in writing, software\n",
              "// distributed under the License is distributed on an \"AS IS\" BASIS,\n",
              "// WITHOUT WARRANTIES OR CONDITIONS OF ANY KIND, either express or implied.\n",
              "// See the License for the specific language governing permissions and\n",
              "// limitations under the License.\n",
              "\n",
              "/**\n",
              " * @fileoverview Helpers for google.colab Python module.\n",
              " */\n",
              "(function(scope) {\n",
              "function span(text, styleAttributes = {}) {\n",
              "  const element = document.createElement('span');\n",
              "  element.textContent = text;\n",
              "  for (const key of Object.keys(styleAttributes)) {\n",
              "    element.style[key] = styleAttributes[key];\n",
              "  }\n",
              "  return element;\n",
              "}\n",
              "\n",
              "// Max number of bytes which will be uploaded at a time.\n",
              "const MAX_PAYLOAD_SIZE = 100 * 1024;\n",
              "\n",
              "function _uploadFiles(inputId, outputId) {\n",
              "  const steps = uploadFilesStep(inputId, outputId);\n",
              "  const outputElement = document.getElementById(outputId);\n",
              "  // Cache steps on the outputElement to make it available for the next call\n",
              "  // to uploadFilesContinue from Python.\n",
              "  outputElement.steps = steps;\n",
              "\n",
              "  return _uploadFilesContinue(outputId);\n",
              "}\n",
              "\n",
              "// This is roughly an async generator (not supported in the browser yet),\n",
              "// where there are multiple asynchronous steps and the Python side is going\n",
              "// to poll for completion of each step.\n",
              "// This uses a Promise to block the python side on completion of each step,\n",
              "// then passes the result of the previous step as the input to the next step.\n",
              "function _uploadFilesContinue(outputId) {\n",
              "  const outputElement = document.getElementById(outputId);\n",
              "  const steps = outputElement.steps;\n",
              "\n",
              "  const next = steps.next(outputElement.lastPromiseValue);\n",
              "  return Promise.resolve(next.value.promise).then((value) => {\n",
              "    // Cache the last promise value to make it available to the next\n",
              "    // step of the generator.\n",
              "    outputElement.lastPromiseValue = value;\n",
              "    return next.value.response;\n",
              "  });\n",
              "}\n",
              "\n",
              "/**\n",
              " * Generator function which is called between each async step of the upload\n",
              " * process.\n",
              " * @param {string} inputId Element ID of the input file picker element.\n",
              " * @param {string} outputId Element ID of the output display.\n",
              " * @return {!Iterable<!Object>} Iterable of next steps.\n",
              " */\n",
              "function* uploadFilesStep(inputId, outputId) {\n",
              "  const inputElement = document.getElementById(inputId);\n",
              "  inputElement.disabled = false;\n",
              "\n",
              "  const outputElement = document.getElementById(outputId);\n",
              "  outputElement.innerHTML = '';\n",
              "\n",
              "  const pickedPromise = new Promise((resolve) => {\n",
              "    inputElement.addEventListener('change', (e) => {\n",
              "      resolve(e.target.files);\n",
              "    });\n",
              "  });\n",
              "\n",
              "  const cancel = document.createElement('button');\n",
              "  inputElement.parentElement.appendChild(cancel);\n",
              "  cancel.textContent = 'Cancel upload';\n",
              "  const cancelPromise = new Promise((resolve) => {\n",
              "    cancel.onclick = () => {\n",
              "      resolve(null);\n",
              "    };\n",
              "  });\n",
              "\n",
              "  // Wait for the user to pick the files.\n",
              "  const files = yield {\n",
              "    promise: Promise.race([pickedPromise, cancelPromise]),\n",
              "    response: {\n",
              "      action: 'starting',\n",
              "    }\n",
              "  };\n",
              "\n",
              "  cancel.remove();\n",
              "\n",
              "  // Disable the input element since further picks are not allowed.\n",
              "  inputElement.disabled = true;\n",
              "\n",
              "  if (!files) {\n",
              "    return {\n",
              "      response: {\n",
              "        action: 'complete',\n",
              "      }\n",
              "    };\n",
              "  }\n",
              "\n",
              "  for (const file of files) {\n",
              "    const li = document.createElement('li');\n",
              "    li.append(span(file.name, {fontWeight: 'bold'}));\n",
              "    li.append(span(\n",
              "        `(${file.type || 'n/a'}) - ${file.size} bytes, ` +\n",
              "        `last modified: ${\n",
              "            file.lastModifiedDate ? file.lastModifiedDate.toLocaleDateString() :\n",
              "                                    'n/a'} - `));\n",
              "    const percent = span('0% done');\n",
              "    li.appendChild(percent);\n",
              "\n",
              "    outputElement.appendChild(li);\n",
              "\n",
              "    const fileDataPromise = new Promise((resolve) => {\n",
              "      const reader = new FileReader();\n",
              "      reader.onload = (e) => {\n",
              "        resolve(e.target.result);\n",
              "      };\n",
              "      reader.readAsArrayBuffer(file);\n",
              "    });\n",
              "    // Wait for the data to be ready.\n",
              "    let fileData = yield {\n",
              "      promise: fileDataPromise,\n",
              "      response: {\n",
              "        action: 'continue',\n",
              "      }\n",
              "    };\n",
              "\n",
              "    // Use a chunked sending to avoid message size limits. See b/62115660.\n",
              "    let position = 0;\n",
              "    do {\n",
              "      const length = Math.min(fileData.byteLength - position, MAX_PAYLOAD_SIZE);\n",
              "      const chunk = new Uint8Array(fileData, position, length);\n",
              "      position += length;\n",
              "\n",
              "      const base64 = btoa(String.fromCharCode.apply(null, chunk));\n",
              "      yield {\n",
              "        response: {\n",
              "          action: 'append',\n",
              "          file: file.name,\n",
              "          data: base64,\n",
              "        },\n",
              "      };\n",
              "\n",
              "      let percentDone = fileData.byteLength === 0 ?\n",
              "          100 :\n",
              "          Math.round((position / fileData.byteLength) * 100);\n",
              "      percent.textContent = `${percentDone}% done`;\n",
              "\n",
              "    } while (position < fileData.byteLength);\n",
              "  }\n",
              "\n",
              "  // All done.\n",
              "  yield {\n",
              "    response: {\n",
              "      action: 'complete',\n",
              "    }\n",
              "  };\n",
              "}\n",
              "\n",
              "scope.google = scope.google || {};\n",
              "scope.google.colab = scope.google.colab || {};\n",
              "scope.google.colab._files = {\n",
              "  _uploadFiles,\n",
              "  _uploadFilesContinue,\n",
              "};\n",
              "})(self);\n",
              "</script> "
            ]
          },
          "metadata": {}
        },
        {
          "output_type": "stream",
          "name": "stdout",
          "text": [
            "Saving kaggle.json to kaggle.json\n",
            "Looking in indexes: https://pypi.org/simple, https://us-python.pkg.dev/colab-wheels/public/simple/\n",
            "Requirement already satisfied: kaggle in /usr/local/lib/python3.10/dist-packages (1.5.13)\n",
            "Requirement already satisfied: six>=1.10 in /usr/local/lib/python3.10/dist-packages (from kaggle) (1.16.0)\n",
            "Requirement already satisfied: certifi in /usr/local/lib/python3.10/dist-packages (from kaggle) (2022.12.7)\n",
            "Requirement already satisfied: python-dateutil in /usr/local/lib/python3.10/dist-packages (from kaggle) (2.8.2)\n",
            "Requirement already satisfied: requests in /usr/local/lib/python3.10/dist-packages (from kaggle) (2.27.1)\n",
            "Requirement already satisfied: tqdm in /usr/local/lib/python3.10/dist-packages (from kaggle) (4.65.0)\n",
            "Requirement already satisfied: python-slugify in /usr/local/lib/python3.10/dist-packages (from kaggle) (8.0.1)\n",
            "Requirement already satisfied: urllib3 in /usr/local/lib/python3.10/dist-packages (from kaggle) (1.26.15)\n",
            "Requirement already satisfied: text-unidecode>=1.3 in /usr/local/lib/python3.10/dist-packages (from python-slugify->kaggle) (1.3)\n",
            "Requirement already satisfied: charset-normalizer~=2.0.0 in /usr/local/lib/python3.10/dist-packages (from requests->kaggle) (2.0.12)\n",
            "Requirement already satisfied: idna<4,>=2.5 in /usr/local/lib/python3.10/dist-packages (from requests->kaggle) (3.4)\n",
            "Warning: Your Kaggle API key is readable by other users on this system! To fix this, you can run 'chmod 600 /content/kaggle.json'\n",
            "Downloading chatgpt-sentiment-analysis.zip to /content\n",
            " 73% 10.0M/13.7M [00:00<00:00, 46.1MB/s]\n",
            "100% 13.7M/13.7M [00:00<00:00, 59.1MB/s]\n",
            "Archive:  /content/chatgpt-sentiment-analysis.zip\n",
            "  inflating: file.csv                \n"
          ]
        }
      ]
    },
    {
      "cell_type": "code",
      "source": [
        "!kaggle datasets download -d sanlian/tweets-about-chatgpt-march-2023\n",
        "!unzip /content/tweets-about-chatgpt-march-2023.zip"
      ],
      "metadata": {
        "colab": {
          "base_uri": "https://localhost:8080/"
        },
        "id": "1A-Ugn-w1jfD",
        "outputId": "a54bef14-5440-4798-9dfc-8e38b7731a67"
      },
      "execution_count": null,
      "outputs": [
        {
          "output_type": "stream",
          "name": "stdout",
          "text": [
            "Warning: Your Kaggle API key is readable by other users on this system! To fix this, you can run 'chmod 600 /content/kaggle.json'\n",
            "Downloading tweets-about-chatgpt-march-2023.zip to /content\n",
            " 78% 14.0M/18.0M [00:00<00:00, 143MB/s]\n",
            "100% 18.0M/18.0M [00:00<00:00, 160MB/s]\n",
            "Archive:  /content/tweets-about-chatgpt-march-2023.zip\n",
            "  inflating: chatgpt-tweets-data-20230310-20230322-processed.csv  \n",
            "  inflating: chatgpt-tweets-data-20230310-20230322.csv  \n"
          ]
        }
      ]
    },
    {
      "cell_type": "code",
      "source": [
        "!kaggle datasets download -d adarshsng/googlenewsvectors\n",
        "!unzip /content/googlenewsvectors.zip"
      ],
      "metadata": {
        "id": "CyUm6Bcl2z6F",
        "colab": {
          "base_uri": "https://localhost:8080/"
        },
        "outputId": "bc0e3914-030f-477a-ab6c-37cc0ac1c472"
      },
      "execution_count": null,
      "outputs": [
        {
          "output_type": "stream",
          "name": "stdout",
          "text": [
            "Warning: Your Kaggle API key is readable by other users on this system! To fix this, you can run 'chmod 600 /content/kaggle.json'\n",
            "Downloading googlenewsvectors.zip to /content\n",
            "100% 1.64G/1.64G [00:17<00:00, 104MB/s]\n",
            "100% 1.64G/1.64G [00:17<00:00, 99.4MB/s]\n",
            "Archive:  /content/googlenewsvectors.zip\n",
            "  inflating: GoogleNews-vectors-negative300.bin  \n"
          ]
        }
      ]
    },
    {
      "cell_type": "code",
      "source": [
        "from google.colab import drive\n",
        "drive.mount('/content/drive')"
      ],
      "metadata": {
        "colab": {
          "base_uri": "https://localhost:8080/"
        },
        "id": "wwsFOJr8bYXy",
        "outputId": "1e32606f-43a6-454d-e513-f43b87d2ae5a"
      },
      "execution_count": null,
      "outputs": [
        {
          "output_type": "stream",
          "name": "stdout",
          "text": [
            "Mounted at /content/drive\n"
          ]
        }
      ]
    },
    {
      "cell_type": "markdown",
      "source": [
        "# Import Library"
      ],
      "metadata": {
        "id": "-kBu1tStAOeD"
      }
    },
    {
      "cell_type": "code",
      "source": [
        "import pandas as pd\n",
        "import tensorflow as tf"
      ],
      "metadata": {
        "id": "Er4L8hiX78xu"
      },
      "execution_count": null,
      "outputs": []
    },
    {
      "cell_type": "code",
      "source": [
        "!pip install keras-tuner\n",
        "import tensorflow as tf\n",
        "from keras_tuner import BayesianOptimization\n",
        "from sklearn.model_selection import train_test_split\n",
        "import re\n",
        "import numpy as np"
      ],
      "metadata": {
        "id": "Wz4oH1itVJYw"
      },
      "execution_count": null,
      "outputs": []
    },
    {
      "cell_type": "code",
      "source": [
        "from nltk.corpus import stopwords\n",
        "from nltk.stem import WordNetLemmatizer\n",
        "import nltk\n",
        "nltk.download('all')"
      ],
      "metadata": {
        "colab": {
          "base_uri": "https://localhost:8080/"
        },
        "id": "H73lFvzvhAHr",
        "outputId": "157ab662-e5dc-477d-8f37-dce1b58b163c"
      },
      "execution_count": null,
      "outputs": [
        {
          "output_type": "stream",
          "name": "stderr",
          "text": [
            "[nltk_data] Downloading collection 'all'\n",
            "[nltk_data]    | \n",
            "[nltk_data]    | Downloading package abc to /root/nltk_data...\n",
            "[nltk_data]    |   Unzipping corpora/abc.zip.\n",
            "[nltk_data]    | Downloading package alpino to /root/nltk_data...\n",
            "[nltk_data]    |   Unzipping corpora/alpino.zip.\n",
            "[nltk_data]    | Downloading package averaged_perceptron_tagger to\n",
            "[nltk_data]    |     /root/nltk_data...\n",
            "[nltk_data]    |   Unzipping taggers/averaged_perceptron_tagger.zip.\n",
            "[nltk_data]    | Downloading package averaged_perceptron_tagger_ru to\n",
            "[nltk_data]    |     /root/nltk_data...\n",
            "[nltk_data]    |   Unzipping\n",
            "[nltk_data]    |       taggers/averaged_perceptron_tagger_ru.zip.\n",
            "[nltk_data]    | Downloading package basque_grammars to\n",
            "[nltk_data]    |     /root/nltk_data...\n",
            "[nltk_data]    |   Unzipping grammars/basque_grammars.zip.\n",
            "[nltk_data]    | Downloading package bcp47 to /root/nltk_data...\n",
            "[nltk_data]    | Downloading package biocreative_ppi to\n",
            "[nltk_data]    |     /root/nltk_data...\n",
            "[nltk_data]    |   Unzipping corpora/biocreative_ppi.zip.\n",
            "[nltk_data]    | Downloading package bllip_wsj_no_aux to\n",
            "[nltk_data]    |     /root/nltk_data...\n",
            "[nltk_data]    |   Unzipping models/bllip_wsj_no_aux.zip.\n",
            "[nltk_data]    | Downloading package book_grammars to\n",
            "[nltk_data]    |     /root/nltk_data...\n",
            "[nltk_data]    |   Unzipping grammars/book_grammars.zip.\n",
            "[nltk_data]    | Downloading package brown to /root/nltk_data...\n",
            "[nltk_data]    |   Unzipping corpora/brown.zip.\n",
            "[nltk_data]    | Downloading package brown_tei to /root/nltk_data...\n",
            "[nltk_data]    |   Unzipping corpora/brown_tei.zip.\n",
            "[nltk_data]    | Downloading package cess_cat to /root/nltk_data...\n",
            "[nltk_data]    |   Unzipping corpora/cess_cat.zip.\n",
            "[nltk_data]    | Downloading package cess_esp to /root/nltk_data...\n",
            "[nltk_data]    |   Unzipping corpora/cess_esp.zip.\n",
            "[nltk_data]    | Downloading package chat80 to /root/nltk_data...\n",
            "[nltk_data]    |   Unzipping corpora/chat80.zip.\n",
            "[nltk_data]    | Downloading package city_database to\n",
            "[nltk_data]    |     /root/nltk_data...\n",
            "[nltk_data]    |   Unzipping corpora/city_database.zip.\n",
            "[nltk_data]    | Downloading package cmudict to /root/nltk_data...\n",
            "[nltk_data]    |   Unzipping corpora/cmudict.zip.\n",
            "[nltk_data]    | Downloading package comparative_sentences to\n",
            "[nltk_data]    |     /root/nltk_data...\n",
            "[nltk_data]    |   Unzipping corpora/comparative_sentences.zip.\n",
            "[nltk_data]    | Downloading package comtrans to /root/nltk_data...\n",
            "[nltk_data]    | Downloading package conll2000 to /root/nltk_data...\n",
            "[nltk_data]    |   Unzipping corpora/conll2000.zip.\n",
            "[nltk_data]    | Downloading package conll2002 to /root/nltk_data...\n",
            "[nltk_data]    |   Unzipping corpora/conll2002.zip.\n",
            "[nltk_data]    | Downloading package conll2007 to /root/nltk_data...\n",
            "[nltk_data]    | Downloading package crubadan to /root/nltk_data...\n",
            "[nltk_data]    |   Unzipping corpora/crubadan.zip.\n",
            "[nltk_data]    | Downloading package dependency_treebank to\n",
            "[nltk_data]    |     /root/nltk_data...\n",
            "[nltk_data]    |   Unzipping corpora/dependency_treebank.zip.\n",
            "[nltk_data]    | Downloading package dolch to /root/nltk_data...\n",
            "[nltk_data]    |   Unzipping corpora/dolch.zip.\n",
            "[nltk_data]    | Downloading package europarl_raw to\n",
            "[nltk_data]    |     /root/nltk_data...\n",
            "[nltk_data]    |   Unzipping corpora/europarl_raw.zip.\n",
            "[nltk_data]    | Downloading package extended_omw to\n",
            "[nltk_data]    |     /root/nltk_data...\n",
            "[nltk_data]    | Downloading package floresta to /root/nltk_data...\n",
            "[nltk_data]    |   Unzipping corpora/floresta.zip.\n",
            "[nltk_data]    | Downloading package framenet_v15 to\n",
            "[nltk_data]    |     /root/nltk_data...\n",
            "[nltk_data]    |   Unzipping corpora/framenet_v15.zip.\n",
            "[nltk_data]    | Downloading package framenet_v17 to\n",
            "[nltk_data]    |     /root/nltk_data...\n",
            "[nltk_data]    |   Unzipping corpora/framenet_v17.zip.\n",
            "[nltk_data]    | Downloading package gazetteers to /root/nltk_data...\n",
            "[nltk_data]    |   Unzipping corpora/gazetteers.zip.\n",
            "[nltk_data]    | Downloading package genesis to /root/nltk_data...\n",
            "[nltk_data]    |   Unzipping corpora/genesis.zip.\n",
            "[nltk_data]    | Downloading package gutenberg to /root/nltk_data...\n",
            "[nltk_data]    |   Unzipping corpora/gutenberg.zip.\n",
            "[nltk_data]    | Downloading package ieer to /root/nltk_data...\n",
            "[nltk_data]    |   Unzipping corpora/ieer.zip.\n",
            "[nltk_data]    | Downloading package inaugural to /root/nltk_data...\n",
            "[nltk_data]    |   Unzipping corpora/inaugural.zip.\n",
            "[nltk_data]    | Downloading package indian to /root/nltk_data...\n",
            "[nltk_data]    |   Unzipping corpora/indian.zip.\n",
            "[nltk_data]    | Downloading package jeita to /root/nltk_data...\n",
            "[nltk_data]    | Downloading package kimmo to /root/nltk_data...\n",
            "[nltk_data]    |   Unzipping corpora/kimmo.zip.\n",
            "[nltk_data]    | Downloading package knbc to /root/nltk_data...\n",
            "[nltk_data]    | Downloading package large_grammars to\n",
            "[nltk_data]    |     /root/nltk_data...\n",
            "[nltk_data]    |   Unzipping grammars/large_grammars.zip.\n",
            "[nltk_data]    | Downloading package lin_thesaurus to\n",
            "[nltk_data]    |     /root/nltk_data...\n",
            "[nltk_data]    |   Unzipping corpora/lin_thesaurus.zip.\n",
            "[nltk_data]    | Downloading package mac_morpho to /root/nltk_data...\n",
            "[nltk_data]    |   Unzipping corpora/mac_morpho.zip.\n",
            "[nltk_data]    | Downloading package machado to /root/nltk_data...\n",
            "[nltk_data]    | Downloading package masc_tagged to /root/nltk_data...\n",
            "[nltk_data]    | Downloading package maxent_ne_chunker to\n",
            "[nltk_data]    |     /root/nltk_data...\n",
            "[nltk_data]    |   Unzipping chunkers/maxent_ne_chunker.zip.\n",
            "[nltk_data]    | Downloading package maxent_treebank_pos_tagger to\n",
            "[nltk_data]    |     /root/nltk_data...\n",
            "[nltk_data]    |   Unzipping taggers/maxent_treebank_pos_tagger.zip.\n",
            "[nltk_data]    | Downloading package moses_sample to\n",
            "[nltk_data]    |     /root/nltk_data...\n",
            "[nltk_data]    |   Unzipping models/moses_sample.zip.\n",
            "[nltk_data]    | Downloading package movie_reviews to\n",
            "[nltk_data]    |     /root/nltk_data...\n",
            "[nltk_data]    |   Unzipping corpora/movie_reviews.zip.\n",
            "[nltk_data]    | Downloading package mte_teip5 to /root/nltk_data...\n",
            "[nltk_data]    |   Unzipping corpora/mte_teip5.zip.\n",
            "[nltk_data]    | Downloading package mwa_ppdb to /root/nltk_data...\n",
            "[nltk_data]    |   Unzipping misc/mwa_ppdb.zip.\n",
            "[nltk_data]    | Downloading package names to /root/nltk_data...\n",
            "[nltk_data]    |   Unzipping corpora/names.zip.\n",
            "[nltk_data]    | Downloading package nombank.1.0 to /root/nltk_data...\n",
            "[nltk_data]    | Downloading package nonbreaking_prefixes to\n",
            "[nltk_data]    |     /root/nltk_data...\n",
            "[nltk_data]    |   Unzipping corpora/nonbreaking_prefixes.zip.\n",
            "[nltk_data]    | Downloading package nps_chat to /root/nltk_data...\n",
            "[nltk_data]    |   Unzipping corpora/nps_chat.zip.\n",
            "[nltk_data]    | Downloading package omw to /root/nltk_data...\n",
            "[nltk_data]    | Downloading package omw-1.4 to /root/nltk_data...\n",
            "[nltk_data]    | Downloading package opinion_lexicon to\n",
            "[nltk_data]    |     /root/nltk_data...\n",
            "[nltk_data]    |   Unzipping corpora/opinion_lexicon.zip.\n",
            "[nltk_data]    | Downloading package panlex_swadesh to\n",
            "[nltk_data]    |     /root/nltk_data...\n",
            "[nltk_data]    | Downloading package paradigms to /root/nltk_data...\n",
            "[nltk_data]    |   Unzipping corpora/paradigms.zip.\n",
            "[nltk_data]    | Downloading package pe08 to /root/nltk_data...\n",
            "[nltk_data]    |   Unzipping corpora/pe08.zip.\n",
            "[nltk_data]    | Downloading package perluniprops to\n",
            "[nltk_data]    |     /root/nltk_data...\n",
            "[nltk_data]    |   Unzipping misc/perluniprops.zip.\n",
            "[nltk_data]    | Downloading package pil to /root/nltk_data...\n",
            "[nltk_data]    |   Unzipping corpora/pil.zip.\n",
            "[nltk_data]    | Downloading package pl196x to /root/nltk_data...\n",
            "[nltk_data]    |   Unzipping corpora/pl196x.zip.\n",
            "[nltk_data]    | Downloading package porter_test to /root/nltk_data...\n",
            "[nltk_data]    |   Unzipping stemmers/porter_test.zip.\n",
            "[nltk_data]    | Downloading package ppattach to /root/nltk_data...\n",
            "[nltk_data]    |   Unzipping corpora/ppattach.zip.\n",
            "[nltk_data]    | Downloading package problem_reports to\n",
            "[nltk_data]    |     /root/nltk_data...\n",
            "[nltk_data]    |   Unzipping corpora/problem_reports.zip.\n",
            "[nltk_data]    | Downloading package product_reviews_1 to\n",
            "[nltk_data]    |     /root/nltk_data...\n",
            "[nltk_data]    |   Unzipping corpora/product_reviews_1.zip.\n",
            "[nltk_data]    | Downloading package product_reviews_2 to\n",
            "[nltk_data]    |     /root/nltk_data...\n",
            "[nltk_data]    |   Unzipping corpora/product_reviews_2.zip.\n",
            "[nltk_data]    | Downloading package propbank to /root/nltk_data...\n",
            "[nltk_data]    | Downloading package pros_cons to /root/nltk_data...\n",
            "[nltk_data]    |   Unzipping corpora/pros_cons.zip.\n",
            "[nltk_data]    | Downloading package ptb to /root/nltk_data...\n",
            "[nltk_data]    |   Unzipping corpora/ptb.zip.\n",
            "[nltk_data]    | Downloading package punkt to /root/nltk_data...\n",
            "[nltk_data]    |   Unzipping tokenizers/punkt.zip.\n",
            "[nltk_data]    | Downloading package qc to /root/nltk_data...\n",
            "[nltk_data]    |   Unzipping corpora/qc.zip.\n",
            "[nltk_data]    | Downloading package reuters to /root/nltk_data...\n",
            "[nltk_data]    | Downloading package rslp to /root/nltk_data...\n",
            "[nltk_data]    |   Unzipping stemmers/rslp.zip.\n",
            "[nltk_data]    | Downloading package rte to /root/nltk_data...\n",
            "[nltk_data]    |   Unzipping corpora/rte.zip.\n",
            "[nltk_data]    | Downloading package sample_grammars to\n",
            "[nltk_data]    |     /root/nltk_data...\n",
            "[nltk_data]    |   Unzipping grammars/sample_grammars.zip.\n",
            "[nltk_data]    | Downloading package semcor to /root/nltk_data...\n",
            "[nltk_data]    | Downloading package senseval to /root/nltk_data...\n",
            "[nltk_data]    |   Unzipping corpora/senseval.zip.\n",
            "[nltk_data]    | Downloading package sentence_polarity to\n",
            "[nltk_data]    |     /root/nltk_data...\n",
            "[nltk_data]    |   Unzipping corpora/sentence_polarity.zip.\n",
            "[nltk_data]    | Downloading package sentiwordnet to\n",
            "[nltk_data]    |     /root/nltk_data...\n",
            "[nltk_data]    |   Unzipping corpora/sentiwordnet.zip.\n",
            "[nltk_data]    | Downloading package shakespeare to /root/nltk_data...\n",
            "[nltk_data]    |   Unzipping corpora/shakespeare.zip.\n",
            "[nltk_data]    | Downloading package sinica_treebank to\n",
            "[nltk_data]    |     /root/nltk_data...\n",
            "[nltk_data]    |   Unzipping corpora/sinica_treebank.zip.\n",
            "[nltk_data]    | Downloading package smultron to /root/nltk_data...\n",
            "[nltk_data]    |   Unzipping corpora/smultron.zip.\n",
            "[nltk_data]    | Downloading package snowball_data to\n",
            "[nltk_data]    |     /root/nltk_data...\n",
            "[nltk_data]    | Downloading package spanish_grammars to\n",
            "[nltk_data]    |     /root/nltk_data...\n",
            "[nltk_data]    |   Unzipping grammars/spanish_grammars.zip.\n",
            "[nltk_data]    | Downloading package state_union to /root/nltk_data...\n",
            "[nltk_data]    |   Unzipping corpora/state_union.zip.\n",
            "[nltk_data]    | Downloading package stopwords to /root/nltk_data...\n",
            "[nltk_data]    |   Unzipping corpora/stopwords.zip.\n",
            "[nltk_data]    | Downloading package subjectivity to\n",
            "[nltk_data]    |     /root/nltk_data...\n",
            "[nltk_data]    |   Unzipping corpora/subjectivity.zip.\n",
            "[nltk_data]    | Downloading package swadesh to /root/nltk_data...\n",
            "[nltk_data]    |   Unzipping corpora/swadesh.zip.\n",
            "[nltk_data]    | Downloading package switchboard to /root/nltk_data...\n",
            "[nltk_data]    |   Unzipping corpora/switchboard.zip.\n",
            "[nltk_data]    | Downloading package tagsets to /root/nltk_data...\n",
            "[nltk_data]    |   Unzipping help/tagsets.zip.\n",
            "[nltk_data]    | Downloading package timit to /root/nltk_data...\n",
            "[nltk_data]    |   Unzipping corpora/timit.zip.\n",
            "[nltk_data]    | Downloading package toolbox to /root/nltk_data...\n",
            "[nltk_data]    |   Unzipping corpora/toolbox.zip.\n",
            "[nltk_data]    | Downloading package treebank to /root/nltk_data...\n",
            "[nltk_data]    |   Unzipping corpora/treebank.zip.\n",
            "[nltk_data]    | Downloading package twitter_samples to\n",
            "[nltk_data]    |     /root/nltk_data...\n",
            "[nltk_data]    |   Unzipping corpora/twitter_samples.zip.\n",
            "[nltk_data]    | Downloading package udhr to /root/nltk_data...\n",
            "[nltk_data]    |   Unzipping corpora/udhr.zip.\n",
            "[nltk_data]    | Downloading package udhr2 to /root/nltk_data...\n",
            "[nltk_data]    |   Unzipping corpora/udhr2.zip.\n",
            "[nltk_data]    | Downloading package unicode_samples to\n",
            "[nltk_data]    |     /root/nltk_data...\n",
            "[nltk_data]    |   Unzipping corpora/unicode_samples.zip.\n",
            "[nltk_data]    | Downloading package universal_tagset to\n",
            "[nltk_data]    |     /root/nltk_data...\n",
            "[nltk_data]    |   Unzipping taggers/universal_tagset.zip.\n",
            "[nltk_data]    | Downloading package universal_treebanks_v20 to\n",
            "[nltk_data]    |     /root/nltk_data...\n",
            "[nltk_data]    | Downloading package vader_lexicon to\n",
            "[nltk_data]    |     /root/nltk_data...\n",
            "[nltk_data]    | Downloading package verbnet to /root/nltk_data...\n",
            "[nltk_data]    |   Unzipping corpora/verbnet.zip.\n",
            "[nltk_data]    | Downloading package verbnet3 to /root/nltk_data...\n",
            "[nltk_data]    |   Unzipping corpora/verbnet3.zip.\n",
            "[nltk_data]    | Downloading package webtext to /root/nltk_data...\n",
            "[nltk_data]    |   Unzipping corpora/webtext.zip.\n",
            "[nltk_data]    | Downloading package wmt15_eval to /root/nltk_data...\n",
            "[nltk_data]    |   Unzipping models/wmt15_eval.zip.\n",
            "[nltk_data]    | Downloading package word2vec_sample to\n",
            "[nltk_data]    |     /root/nltk_data...\n",
            "[nltk_data]    |   Unzipping models/word2vec_sample.zip.\n",
            "[nltk_data]    | Downloading package wordnet to /root/nltk_data...\n",
            "[nltk_data]    | Downloading package wordnet2021 to /root/nltk_data...\n",
            "[nltk_data]    | Downloading package wordnet2022 to /root/nltk_data...\n",
            "[nltk_data]    |   Unzipping corpora/wordnet2022.zip.\n",
            "[nltk_data]    | Downloading package wordnet31 to /root/nltk_data...\n",
            "[nltk_data]    | Downloading package wordnet_ic to /root/nltk_data...\n",
            "[nltk_data]    |   Unzipping corpora/wordnet_ic.zip.\n",
            "[nltk_data]    | Downloading package words to /root/nltk_data...\n",
            "[nltk_data]    |   Unzipping corpora/words.zip.\n",
            "[nltk_data]    | Downloading package ycoe to /root/nltk_data...\n",
            "[nltk_data]    |   Unzipping corpora/ycoe.zip.\n",
            "[nltk_data]    | \n",
            "[nltk_data]  Done downloading collection all\n"
          ]
        },
        {
          "output_type": "execute_result",
          "data": {
            "text/plain": [
              "True"
            ]
          },
          "metadata": {},
          "execution_count": 8
        }
      ]
    },
    {
      "cell_type": "markdown",
      "source": [
        "# Data Preparation"
      ],
      "metadata": {
        "id": "cPY0Cub8AQVQ"
      }
    },
    {
      "cell_type": "code",
      "source": [
        "df = pd.read_csv('file.csv')[['tweets', 'labels']]\n",
        "df.head(10)"
      ],
      "metadata": {
        "colab": {
          "base_uri": "https://localhost:8080/",
          "height": 363
        },
        "id": "5se5S9sjWA5B",
        "outputId": "bdbd3e17-7852-4466-f070-31dafd46a997"
      },
      "execution_count": null,
      "outputs": [
        {
          "output_type": "execute_result",
          "data": {
            "text/plain": [
              "                                              tweets   labels\n",
              "0  ChatGPT: Optimizing Language Models for Dialog...  neutral\n",
              "1  Try talking with ChatGPT, our new AI system wh...     good\n",
              "2  ChatGPT: Optimizing Language Models for Dialog...  neutral\n",
              "3  THRILLED to share that ChatGPT, our new model ...     good\n",
              "4  As of 2 minutes ago, @OpenAI released their ne...      bad\n",
              "5  Just launched ChatGPT, our new AI system which...     good\n",
              "6  As of 2 minutes ago, @OpenAI released their ne...      bad\n",
              "7  ChatGPT coming out strong refusing to help me ...     good\n",
              "8  #0penAl just deployed a thing I've been helpin...     good\n",
              "9  Research preview of our newest model: ChatGPT\\...  neutral"
            ],
            "text/html": [
              "\n",
              "  <div id=\"df-41c63b72-d6fe-4058-8b28-7675b936bf6f\">\n",
              "    <div class=\"colab-df-container\">\n",
              "      <div>\n",
              "<style scoped>\n",
              "    .dataframe tbody tr th:only-of-type {\n",
              "        vertical-align: middle;\n",
              "    }\n",
              "\n",
              "    .dataframe tbody tr th {\n",
              "        vertical-align: top;\n",
              "    }\n",
              "\n",
              "    .dataframe thead th {\n",
              "        text-align: right;\n",
              "    }\n",
              "</style>\n",
              "<table border=\"1\" class=\"dataframe\">\n",
              "  <thead>\n",
              "    <tr style=\"text-align: right;\">\n",
              "      <th></th>\n",
              "      <th>tweets</th>\n",
              "      <th>labels</th>\n",
              "    </tr>\n",
              "  </thead>\n",
              "  <tbody>\n",
              "    <tr>\n",
              "      <th>0</th>\n",
              "      <td>ChatGPT: Optimizing Language Models for Dialog...</td>\n",
              "      <td>neutral</td>\n",
              "    </tr>\n",
              "    <tr>\n",
              "      <th>1</th>\n",
              "      <td>Try talking with ChatGPT, our new AI system wh...</td>\n",
              "      <td>good</td>\n",
              "    </tr>\n",
              "    <tr>\n",
              "      <th>2</th>\n",
              "      <td>ChatGPT: Optimizing Language Models for Dialog...</td>\n",
              "      <td>neutral</td>\n",
              "    </tr>\n",
              "    <tr>\n",
              "      <th>3</th>\n",
              "      <td>THRILLED to share that ChatGPT, our new model ...</td>\n",
              "      <td>good</td>\n",
              "    </tr>\n",
              "    <tr>\n",
              "      <th>4</th>\n",
              "      <td>As of 2 minutes ago, @OpenAI released their ne...</td>\n",
              "      <td>bad</td>\n",
              "    </tr>\n",
              "    <tr>\n",
              "      <th>5</th>\n",
              "      <td>Just launched ChatGPT, our new AI system which...</td>\n",
              "      <td>good</td>\n",
              "    </tr>\n",
              "    <tr>\n",
              "      <th>6</th>\n",
              "      <td>As of 2 minutes ago, @OpenAI released their ne...</td>\n",
              "      <td>bad</td>\n",
              "    </tr>\n",
              "    <tr>\n",
              "      <th>7</th>\n",
              "      <td>ChatGPT coming out strong refusing to help me ...</td>\n",
              "      <td>good</td>\n",
              "    </tr>\n",
              "    <tr>\n",
              "      <th>8</th>\n",
              "      <td>#0penAl just deployed a thing I've been helpin...</td>\n",
              "      <td>good</td>\n",
              "    </tr>\n",
              "    <tr>\n",
              "      <th>9</th>\n",
              "      <td>Research preview of our newest model: ChatGPT\\...</td>\n",
              "      <td>neutral</td>\n",
              "    </tr>\n",
              "  </tbody>\n",
              "</table>\n",
              "</div>\n",
              "      <button class=\"colab-df-convert\" onclick=\"convertToInteractive('df-41c63b72-d6fe-4058-8b28-7675b936bf6f')\"\n",
              "              title=\"Convert this dataframe to an interactive table.\"\n",
              "              style=\"display:none;\">\n",
              "        \n",
              "  <svg xmlns=\"http://www.w3.org/2000/svg\" height=\"24px\"viewBox=\"0 0 24 24\"\n",
              "       width=\"24px\">\n",
              "    <path d=\"M0 0h24v24H0V0z\" fill=\"none\"/>\n",
              "    <path d=\"M18.56 5.44l.94 2.06.94-2.06 2.06-.94-2.06-.94-.94-2.06-.94 2.06-2.06.94zm-11 1L8.5 8.5l.94-2.06 2.06-.94-2.06-.94L8.5 2.5l-.94 2.06-2.06.94zm10 10l.94 2.06.94-2.06 2.06-.94-2.06-.94-.94-2.06-.94 2.06-2.06.94z\"/><path d=\"M17.41 7.96l-1.37-1.37c-.4-.4-.92-.59-1.43-.59-.52 0-1.04.2-1.43.59L10.3 9.45l-7.72 7.72c-.78.78-.78 2.05 0 2.83L4 21.41c.39.39.9.59 1.41.59.51 0 1.02-.2 1.41-.59l7.78-7.78 2.81-2.81c.8-.78.8-2.07 0-2.86zM5.41 20L4 18.59l7.72-7.72 1.47 1.35L5.41 20z\"/>\n",
              "  </svg>\n",
              "      </button>\n",
              "      \n",
              "  <style>\n",
              "    .colab-df-container {\n",
              "      display:flex;\n",
              "      flex-wrap:wrap;\n",
              "      gap: 12px;\n",
              "    }\n",
              "\n",
              "    .colab-df-convert {\n",
              "      background-color: #E8F0FE;\n",
              "      border: none;\n",
              "      border-radius: 50%;\n",
              "      cursor: pointer;\n",
              "      display: none;\n",
              "      fill: #1967D2;\n",
              "      height: 32px;\n",
              "      padding: 0 0 0 0;\n",
              "      width: 32px;\n",
              "    }\n",
              "\n",
              "    .colab-df-convert:hover {\n",
              "      background-color: #E2EBFA;\n",
              "      box-shadow: 0px 1px 2px rgba(60, 64, 67, 0.3), 0px 1px 3px 1px rgba(60, 64, 67, 0.15);\n",
              "      fill: #174EA6;\n",
              "    }\n",
              "\n",
              "    [theme=dark] .colab-df-convert {\n",
              "      background-color: #3B4455;\n",
              "      fill: #D2E3FC;\n",
              "    }\n",
              "\n",
              "    [theme=dark] .colab-df-convert:hover {\n",
              "      background-color: #434B5C;\n",
              "      box-shadow: 0px 1px 3px 1px rgba(0, 0, 0, 0.15);\n",
              "      filter: drop-shadow(0px 1px 2px rgba(0, 0, 0, 0.3));\n",
              "      fill: #FFFFFF;\n",
              "    }\n",
              "  </style>\n",
              "\n",
              "      <script>\n",
              "        const buttonEl =\n",
              "          document.querySelector('#df-41c63b72-d6fe-4058-8b28-7675b936bf6f button.colab-df-convert');\n",
              "        buttonEl.style.display =\n",
              "          google.colab.kernel.accessAllowed ? 'block' : 'none';\n",
              "\n",
              "        async function convertToInteractive(key) {\n",
              "          const element = document.querySelector('#df-41c63b72-d6fe-4058-8b28-7675b936bf6f');\n",
              "          const dataTable =\n",
              "            await google.colab.kernel.invokeFunction('convertToInteractive',\n",
              "                                                     [key], {});\n",
              "          if (!dataTable) return;\n",
              "\n",
              "          const docLinkHtml = 'Like what you see? Visit the ' +\n",
              "            '<a target=\"_blank\" href=https://colab.research.google.com/notebooks/data_table.ipynb>data table notebook</a>'\n",
              "            + ' to learn more about interactive tables.';\n",
              "          element.innerHTML = '';\n",
              "          dataTable['output_type'] = 'display_data';\n",
              "          await google.colab.output.renderOutput(dataTable, element);\n",
              "          const docLink = document.createElement('div');\n",
              "          docLink.innerHTML = docLinkHtml;\n",
              "          element.appendChild(docLink);\n",
              "        }\n",
              "      </script>\n",
              "    </div>\n",
              "  </div>\n",
              "  "
            ]
          },
          "metadata": {},
          "execution_count": 9
        }
      ]
    },
    {
      "cell_type": "code",
      "source": [
        "df_predict = pd.read_csv('/content/chatgpt-tweets-data-20230310-20230322-processed.csv')[['Tweet']]\n",
        "df_predict.head()"
      ],
      "metadata": {
        "colab": {
          "base_uri": "https://localhost:8080/",
          "height": 206
        },
        "id": "d27eGo_M1wzF",
        "outputId": "df4af68d-2bb3-427b-bf50-902c1ebbd115"
      },
      "execution_count": null,
      "outputs": [
        {
          "output_type": "execute_result",
          "data": {
            "text/plain": [
              "                                               Tweet\n",
              "0                  ChatGPT is another woke machine. \n",
              "1  of the Atlantic, or only near the Atla #推特账号 m...\n",
              "2   This thread is saved to your Notion database....\n",
              "3                         Prompt AI – ChatGPT #0018 \n",
              "4  Just had some interesting conversations with G..."
            ],
            "text/html": [
              "\n",
              "  <div id=\"df-d2522f12-7d02-4540-a4e1-be675efa6e44\">\n",
              "    <div class=\"colab-df-container\">\n",
              "      <div>\n",
              "<style scoped>\n",
              "    .dataframe tbody tr th:only-of-type {\n",
              "        vertical-align: middle;\n",
              "    }\n",
              "\n",
              "    .dataframe tbody tr th {\n",
              "        vertical-align: top;\n",
              "    }\n",
              "\n",
              "    .dataframe thead th {\n",
              "        text-align: right;\n",
              "    }\n",
              "</style>\n",
              "<table border=\"1\" class=\"dataframe\">\n",
              "  <thead>\n",
              "    <tr style=\"text-align: right;\">\n",
              "      <th></th>\n",
              "      <th>Tweet</th>\n",
              "    </tr>\n",
              "  </thead>\n",
              "  <tbody>\n",
              "    <tr>\n",
              "      <th>0</th>\n",
              "      <td>ChatGPT is another woke machine.</td>\n",
              "    </tr>\n",
              "    <tr>\n",
              "      <th>1</th>\n",
              "      <td>of the Atlantic, or only near the Atla #推特账号 m...</td>\n",
              "    </tr>\n",
              "    <tr>\n",
              "      <th>2</th>\n",
              "      <td>This thread is saved to your Notion database....</td>\n",
              "    </tr>\n",
              "    <tr>\n",
              "      <th>3</th>\n",
              "      <td>Prompt AI – ChatGPT #0018</td>\n",
              "    </tr>\n",
              "    <tr>\n",
              "      <th>4</th>\n",
              "      <td>Just had some interesting conversations with G...</td>\n",
              "    </tr>\n",
              "  </tbody>\n",
              "</table>\n",
              "</div>\n",
              "      <button class=\"colab-df-convert\" onclick=\"convertToInteractive('df-d2522f12-7d02-4540-a4e1-be675efa6e44')\"\n",
              "              title=\"Convert this dataframe to an interactive table.\"\n",
              "              style=\"display:none;\">\n",
              "        \n",
              "  <svg xmlns=\"http://www.w3.org/2000/svg\" height=\"24px\"viewBox=\"0 0 24 24\"\n",
              "       width=\"24px\">\n",
              "    <path d=\"M0 0h24v24H0V0z\" fill=\"none\"/>\n",
              "    <path d=\"M18.56 5.44l.94 2.06.94-2.06 2.06-.94-2.06-.94-.94-2.06-.94 2.06-2.06.94zm-11 1L8.5 8.5l.94-2.06 2.06-.94-2.06-.94L8.5 2.5l-.94 2.06-2.06.94zm10 10l.94 2.06.94-2.06 2.06-.94-2.06-.94-.94-2.06-.94 2.06-2.06.94z\"/><path d=\"M17.41 7.96l-1.37-1.37c-.4-.4-.92-.59-1.43-.59-.52 0-1.04.2-1.43.59L10.3 9.45l-7.72 7.72c-.78.78-.78 2.05 0 2.83L4 21.41c.39.39.9.59 1.41.59.51 0 1.02-.2 1.41-.59l7.78-7.78 2.81-2.81c.8-.78.8-2.07 0-2.86zM5.41 20L4 18.59l7.72-7.72 1.47 1.35L5.41 20z\"/>\n",
              "  </svg>\n",
              "      </button>\n",
              "      \n",
              "  <style>\n",
              "    .colab-df-container {\n",
              "      display:flex;\n",
              "      flex-wrap:wrap;\n",
              "      gap: 12px;\n",
              "    }\n",
              "\n",
              "    .colab-df-convert {\n",
              "      background-color: #E8F0FE;\n",
              "      border: none;\n",
              "      border-radius: 50%;\n",
              "      cursor: pointer;\n",
              "      display: none;\n",
              "      fill: #1967D2;\n",
              "      height: 32px;\n",
              "      padding: 0 0 0 0;\n",
              "      width: 32px;\n",
              "    }\n",
              "\n",
              "    .colab-df-convert:hover {\n",
              "      background-color: #E2EBFA;\n",
              "      box-shadow: 0px 1px 2px rgba(60, 64, 67, 0.3), 0px 1px 3px 1px rgba(60, 64, 67, 0.15);\n",
              "      fill: #174EA6;\n",
              "    }\n",
              "\n",
              "    [theme=dark] .colab-df-convert {\n",
              "      background-color: #3B4455;\n",
              "      fill: #D2E3FC;\n",
              "    }\n",
              "\n",
              "    [theme=dark] .colab-df-convert:hover {\n",
              "      background-color: #434B5C;\n",
              "      box-shadow: 0px 1px 3px 1px rgba(0, 0, 0, 0.15);\n",
              "      filter: drop-shadow(0px 1px 2px rgba(0, 0, 0, 0.3));\n",
              "      fill: #FFFFFF;\n",
              "    }\n",
              "  </style>\n",
              "\n",
              "      <script>\n",
              "        const buttonEl =\n",
              "          document.querySelector('#df-d2522f12-7d02-4540-a4e1-be675efa6e44 button.colab-df-convert');\n",
              "        buttonEl.style.display =\n",
              "          google.colab.kernel.accessAllowed ? 'block' : 'none';\n",
              "\n",
              "        async function convertToInteractive(key) {\n",
              "          const element = document.querySelector('#df-d2522f12-7d02-4540-a4e1-be675efa6e44');\n",
              "          const dataTable =\n",
              "            await google.colab.kernel.invokeFunction('convertToInteractive',\n",
              "                                                     [key], {});\n",
              "          if (!dataTable) return;\n",
              "\n",
              "          const docLinkHtml = 'Like what you see? Visit the ' +\n",
              "            '<a target=\"_blank\" href=https://colab.research.google.com/notebooks/data_table.ipynb>data table notebook</a>'\n",
              "            + ' to learn more about interactive tables.';\n",
              "          element.innerHTML = '';\n",
              "          dataTable['output_type'] = 'display_data';\n",
              "          await google.colab.output.renderOutput(dataTable, element);\n",
              "          const docLink = document.createElement('div');\n",
              "          docLink.innerHTML = docLinkHtml;\n",
              "          element.appendChild(docLink);\n",
              "        }\n",
              "      </script>\n",
              "    </div>\n",
              "  </div>\n",
              "  "
            ]
          },
          "metadata": {},
          "execution_count": 10
        }
      ]
    },
    {
      "cell_type": "code",
      "source": [
        "df_predict = df_predict.rename({'Tweet': 'tweets'}, axis=1)\n",
        "df_predict.head()"
      ],
      "metadata": {
        "colab": {
          "base_uri": "https://localhost:8080/",
          "height": 206
        },
        "id": "BDFUU15Q2Tso",
        "outputId": "1afadfe4-fa80-40a2-c7e9-d021578e2233"
      },
      "execution_count": null,
      "outputs": [
        {
          "output_type": "execute_result",
          "data": {
            "text/plain": [
              "                                              tweets\n",
              "0                  ChatGPT is another woke machine. \n",
              "1  of the Atlantic, or only near the Atla #推特账号 m...\n",
              "2   This thread is saved to your Notion database....\n",
              "3                         Prompt AI – ChatGPT #0018 \n",
              "4  Just had some interesting conversations with G..."
            ],
            "text/html": [
              "\n",
              "  <div id=\"df-d47b93d7-e18d-44b4-b116-b4458bfe7238\">\n",
              "    <div class=\"colab-df-container\">\n",
              "      <div>\n",
              "<style scoped>\n",
              "    .dataframe tbody tr th:only-of-type {\n",
              "        vertical-align: middle;\n",
              "    }\n",
              "\n",
              "    .dataframe tbody tr th {\n",
              "        vertical-align: top;\n",
              "    }\n",
              "\n",
              "    .dataframe thead th {\n",
              "        text-align: right;\n",
              "    }\n",
              "</style>\n",
              "<table border=\"1\" class=\"dataframe\">\n",
              "  <thead>\n",
              "    <tr style=\"text-align: right;\">\n",
              "      <th></th>\n",
              "      <th>tweets</th>\n",
              "    </tr>\n",
              "  </thead>\n",
              "  <tbody>\n",
              "    <tr>\n",
              "      <th>0</th>\n",
              "      <td>ChatGPT is another woke machine.</td>\n",
              "    </tr>\n",
              "    <tr>\n",
              "      <th>1</th>\n",
              "      <td>of the Atlantic, or only near the Atla #推特账号 m...</td>\n",
              "    </tr>\n",
              "    <tr>\n",
              "      <th>2</th>\n",
              "      <td>This thread is saved to your Notion database....</td>\n",
              "    </tr>\n",
              "    <tr>\n",
              "      <th>3</th>\n",
              "      <td>Prompt AI – ChatGPT #0018</td>\n",
              "    </tr>\n",
              "    <tr>\n",
              "      <th>4</th>\n",
              "      <td>Just had some interesting conversations with G...</td>\n",
              "    </tr>\n",
              "  </tbody>\n",
              "</table>\n",
              "</div>\n",
              "      <button class=\"colab-df-convert\" onclick=\"convertToInteractive('df-d47b93d7-e18d-44b4-b116-b4458bfe7238')\"\n",
              "              title=\"Convert this dataframe to an interactive table.\"\n",
              "              style=\"display:none;\">\n",
              "        \n",
              "  <svg xmlns=\"http://www.w3.org/2000/svg\" height=\"24px\"viewBox=\"0 0 24 24\"\n",
              "       width=\"24px\">\n",
              "    <path d=\"M0 0h24v24H0V0z\" fill=\"none\"/>\n",
              "    <path d=\"M18.56 5.44l.94 2.06.94-2.06 2.06-.94-2.06-.94-.94-2.06-.94 2.06-2.06.94zm-11 1L8.5 8.5l.94-2.06 2.06-.94-2.06-.94L8.5 2.5l-.94 2.06-2.06.94zm10 10l.94 2.06.94-2.06 2.06-.94-2.06-.94-.94-2.06-.94 2.06-2.06.94z\"/><path d=\"M17.41 7.96l-1.37-1.37c-.4-.4-.92-.59-1.43-.59-.52 0-1.04.2-1.43.59L10.3 9.45l-7.72 7.72c-.78.78-.78 2.05 0 2.83L4 21.41c.39.39.9.59 1.41.59.51 0 1.02-.2 1.41-.59l7.78-7.78 2.81-2.81c.8-.78.8-2.07 0-2.86zM5.41 20L4 18.59l7.72-7.72 1.47 1.35L5.41 20z\"/>\n",
              "  </svg>\n",
              "      </button>\n",
              "      \n",
              "  <style>\n",
              "    .colab-df-container {\n",
              "      display:flex;\n",
              "      flex-wrap:wrap;\n",
              "      gap: 12px;\n",
              "    }\n",
              "\n",
              "    .colab-df-convert {\n",
              "      background-color: #E8F0FE;\n",
              "      border: none;\n",
              "      border-radius: 50%;\n",
              "      cursor: pointer;\n",
              "      display: none;\n",
              "      fill: #1967D2;\n",
              "      height: 32px;\n",
              "      padding: 0 0 0 0;\n",
              "      width: 32px;\n",
              "    }\n",
              "\n",
              "    .colab-df-convert:hover {\n",
              "      background-color: #E2EBFA;\n",
              "      box-shadow: 0px 1px 2px rgba(60, 64, 67, 0.3), 0px 1px 3px 1px rgba(60, 64, 67, 0.15);\n",
              "      fill: #174EA6;\n",
              "    }\n",
              "\n",
              "    [theme=dark] .colab-df-convert {\n",
              "      background-color: #3B4455;\n",
              "      fill: #D2E3FC;\n",
              "    }\n",
              "\n",
              "    [theme=dark] .colab-df-convert:hover {\n",
              "      background-color: #434B5C;\n",
              "      box-shadow: 0px 1px 3px 1px rgba(0, 0, 0, 0.15);\n",
              "      filter: drop-shadow(0px 1px 2px rgba(0, 0, 0, 0.3));\n",
              "      fill: #FFFFFF;\n",
              "    }\n",
              "  </style>\n",
              "\n",
              "      <script>\n",
              "        const buttonEl =\n",
              "          document.querySelector('#df-d47b93d7-e18d-44b4-b116-b4458bfe7238 button.colab-df-convert');\n",
              "        buttonEl.style.display =\n",
              "          google.colab.kernel.accessAllowed ? 'block' : 'none';\n",
              "\n",
              "        async function convertToInteractive(key) {\n",
              "          const element = document.querySelector('#df-d47b93d7-e18d-44b4-b116-b4458bfe7238');\n",
              "          const dataTable =\n",
              "            await google.colab.kernel.invokeFunction('convertToInteractive',\n",
              "                                                     [key], {});\n",
              "          if (!dataTable) return;\n",
              "\n",
              "          const docLinkHtml = 'Like what you see? Visit the ' +\n",
              "            '<a target=\"_blank\" href=https://colab.research.google.com/notebooks/data_table.ipynb>data table notebook</a>'\n",
              "            + ' to learn more about interactive tables.';\n",
              "          element.innerHTML = '';\n",
              "          dataTable['output_type'] = 'display_data';\n",
              "          await google.colab.output.renderOutput(dataTable, element);\n",
              "          const docLink = document.createElement('div');\n",
              "          docLink.innerHTML = docLinkHtml;\n",
              "          element.appendChild(docLink);\n",
              "        }\n",
              "      </script>\n",
              "    </div>\n",
              "  </div>\n",
              "  "
            ]
          },
          "metadata": {},
          "execution_count": 11
        }
      ]
    },
    {
      "cell_type": "code",
      "source": [
        "df['labels'] = df['labels'].map({'bad':0, 'good':1, 'neutral':2})\n",
        "df.head(3)"
      ],
      "metadata": {
        "colab": {
          "base_uri": "https://localhost:8080/",
          "height": 143
        },
        "id": "Gs-Oz17DWPMJ",
        "outputId": "cd6a18e9-8f4b-446e-ac3a-556dfcdcaa72"
      },
      "execution_count": null,
      "outputs": [
        {
          "output_type": "execute_result",
          "data": {
            "text/plain": [
              "                                              tweets  labels\n",
              "0  ChatGPT: Optimizing Language Models for Dialog...       2\n",
              "1  Try talking with ChatGPT, our new AI system wh...       1\n",
              "2  ChatGPT: Optimizing Language Models for Dialog...       2"
            ],
            "text/html": [
              "\n",
              "  <div id=\"df-96963292-68ad-44c2-81b6-584200fd0847\">\n",
              "    <div class=\"colab-df-container\">\n",
              "      <div>\n",
              "<style scoped>\n",
              "    .dataframe tbody tr th:only-of-type {\n",
              "        vertical-align: middle;\n",
              "    }\n",
              "\n",
              "    .dataframe tbody tr th {\n",
              "        vertical-align: top;\n",
              "    }\n",
              "\n",
              "    .dataframe thead th {\n",
              "        text-align: right;\n",
              "    }\n",
              "</style>\n",
              "<table border=\"1\" class=\"dataframe\">\n",
              "  <thead>\n",
              "    <tr style=\"text-align: right;\">\n",
              "      <th></th>\n",
              "      <th>tweets</th>\n",
              "      <th>labels</th>\n",
              "    </tr>\n",
              "  </thead>\n",
              "  <tbody>\n",
              "    <tr>\n",
              "      <th>0</th>\n",
              "      <td>ChatGPT: Optimizing Language Models for Dialog...</td>\n",
              "      <td>2</td>\n",
              "    </tr>\n",
              "    <tr>\n",
              "      <th>1</th>\n",
              "      <td>Try talking with ChatGPT, our new AI system wh...</td>\n",
              "      <td>1</td>\n",
              "    </tr>\n",
              "    <tr>\n",
              "      <th>2</th>\n",
              "      <td>ChatGPT: Optimizing Language Models for Dialog...</td>\n",
              "      <td>2</td>\n",
              "    </tr>\n",
              "  </tbody>\n",
              "</table>\n",
              "</div>\n",
              "      <button class=\"colab-df-convert\" onclick=\"convertToInteractive('df-96963292-68ad-44c2-81b6-584200fd0847')\"\n",
              "              title=\"Convert this dataframe to an interactive table.\"\n",
              "              style=\"display:none;\">\n",
              "        \n",
              "  <svg xmlns=\"http://www.w3.org/2000/svg\" height=\"24px\"viewBox=\"0 0 24 24\"\n",
              "       width=\"24px\">\n",
              "    <path d=\"M0 0h24v24H0V0z\" fill=\"none\"/>\n",
              "    <path d=\"M18.56 5.44l.94 2.06.94-2.06 2.06-.94-2.06-.94-.94-2.06-.94 2.06-2.06.94zm-11 1L8.5 8.5l.94-2.06 2.06-.94-2.06-.94L8.5 2.5l-.94 2.06-2.06.94zm10 10l.94 2.06.94-2.06 2.06-.94-2.06-.94-.94-2.06-.94 2.06-2.06.94z\"/><path d=\"M17.41 7.96l-1.37-1.37c-.4-.4-.92-.59-1.43-.59-.52 0-1.04.2-1.43.59L10.3 9.45l-7.72 7.72c-.78.78-.78 2.05 0 2.83L4 21.41c.39.39.9.59 1.41.59.51 0 1.02-.2 1.41-.59l7.78-7.78 2.81-2.81c.8-.78.8-2.07 0-2.86zM5.41 20L4 18.59l7.72-7.72 1.47 1.35L5.41 20z\"/>\n",
              "  </svg>\n",
              "      </button>\n",
              "      \n",
              "  <style>\n",
              "    .colab-df-container {\n",
              "      display:flex;\n",
              "      flex-wrap:wrap;\n",
              "      gap: 12px;\n",
              "    }\n",
              "\n",
              "    .colab-df-convert {\n",
              "      background-color: #E8F0FE;\n",
              "      border: none;\n",
              "      border-radius: 50%;\n",
              "      cursor: pointer;\n",
              "      display: none;\n",
              "      fill: #1967D2;\n",
              "      height: 32px;\n",
              "      padding: 0 0 0 0;\n",
              "      width: 32px;\n",
              "    }\n",
              "\n",
              "    .colab-df-convert:hover {\n",
              "      background-color: #E2EBFA;\n",
              "      box-shadow: 0px 1px 2px rgba(60, 64, 67, 0.3), 0px 1px 3px 1px rgba(60, 64, 67, 0.15);\n",
              "      fill: #174EA6;\n",
              "    }\n",
              "\n",
              "    [theme=dark] .colab-df-convert {\n",
              "      background-color: #3B4455;\n",
              "      fill: #D2E3FC;\n",
              "    }\n",
              "\n",
              "    [theme=dark] .colab-df-convert:hover {\n",
              "      background-color: #434B5C;\n",
              "      box-shadow: 0px 1px 3px 1px rgba(0, 0, 0, 0.15);\n",
              "      filter: drop-shadow(0px 1px 2px rgba(0, 0, 0, 0.3));\n",
              "      fill: #FFFFFF;\n",
              "    }\n",
              "  </style>\n",
              "\n",
              "      <script>\n",
              "        const buttonEl =\n",
              "          document.querySelector('#df-96963292-68ad-44c2-81b6-584200fd0847 button.colab-df-convert');\n",
              "        buttonEl.style.display =\n",
              "          google.colab.kernel.accessAllowed ? 'block' : 'none';\n",
              "\n",
              "        async function convertToInteractive(key) {\n",
              "          const element = document.querySelector('#df-96963292-68ad-44c2-81b6-584200fd0847');\n",
              "          const dataTable =\n",
              "            await google.colab.kernel.invokeFunction('convertToInteractive',\n",
              "                                                     [key], {});\n",
              "          if (!dataTable) return;\n",
              "\n",
              "          const docLinkHtml = 'Like what you see? Visit the ' +\n",
              "            '<a target=\"_blank\" href=https://colab.research.google.com/notebooks/data_table.ipynb>data table notebook</a>'\n",
              "            + ' to learn more about interactive tables.';\n",
              "          element.innerHTML = '';\n",
              "          dataTable['output_type'] = 'display_data';\n",
              "          await google.colab.output.renderOutput(dataTable, element);\n",
              "          const docLink = document.createElement('div');\n",
              "          docLink.innerHTML = docLinkHtml;\n",
              "          element.appendChild(docLink);\n",
              "        }\n",
              "      </script>\n",
              "    </div>\n",
              "  </div>\n",
              "  "
            ]
          },
          "metadata": {},
          "execution_count": 12
        }
      ]
    },
    {
      "cell_type": "markdown",
      "source": [
        "# Data Cleaning"
      ],
      "metadata": {
        "id": "QPjtTERGASEV"
      }
    },
    {
      "cell_type": "code",
      "source": [
        "def clean_text(tweet):\n",
        "\n",
        "    # Convert to lower case\n",
        "    tweet = tweet.lower()\n",
        "    # remove unicode characters\n",
        "    tweet = tweet.encode('ascii', 'ignore').decode()\n",
        "    # Clean www.* or https?://*\n",
        "    tweet = re.sub(r'((www\\.[^\\s]+)|(https?://[^\\s]+))','',tweet)\n",
        "    # Clean @username\n",
        "    tweet = re.sub(r'@[^\\s]+','',tweet)\n",
        "    # Remove new line\n",
        "    tweet = re.sub(r'\\\\n', ' ', tweet)\n",
        "    # Remove additional white spaces\n",
        "    tweet = re.sub(r'[\\s]+', ' ', tweet)\n",
        "    # Remove non-word character\n",
        "    tweet = re.sub(r'[^a-z\\s0-9]', '', tweet)\n",
        "    # Replace #word with word\n",
        "    tweet = re.sub(r'#([^\\s]+)', r'\\1', tweet)\n",
        "\n",
        "    #trim\n",
        "    tweet = tweet.strip('\\'\"')\n",
        "\n",
        "    return tweet\n",
        "\n",
        "lemmatizer = WordNetLemmatizer()\n",
        "def lemmatize(sentence):\n",
        "    sw = stopwords.words('english')\n",
        "    sw.append('chatgpt')\n",
        "    sw.append('gpt')\n",
        "    sw.append('openai')\n",
        "    sw.append('ai')\n",
        "    words = nltk.word_tokenize(sentence)\n",
        "    words = [lemmatizer.lemmatize(word) for word in words if word not in sw]\n",
        "    words = ' '.join(words)\n",
        "    return words\n",
        "\n",
        "df[\"tweets\"] = df['tweets'].map(lambda x: clean_text(x))\n",
        "df['tweets'] = df['tweets'].map(lambda x: lemmatize(x))\n",
        "df = df[df['tweets'].apply(lambda x: len(x.split()) >=1)]"
      ],
      "metadata": {
        "id": "zfi24bjtXnK9"
      },
      "execution_count": null,
      "outputs": []
    },
    {
      "cell_type": "code",
      "source": [
        "df['tweets']"
      ],
      "metadata": {
        "colab": {
          "base_uri": "https://localhost:8080/"
        },
        "id": "Zq8zPEmslASa",
        "outputId": "a539329f-b925-4d77-9668-448c4a84fd71"
      },
      "execution_count": null,
      "outputs": [
        {
          "output_type": "execute_result",
          "data": {
            "text/plain": [
              "0                        optimizing language model dialogue\n",
              "1         try talking new system optimized dialogue feed...\n",
              "2         optimizing language model dialogue machinelear...\n",
              "3         thrilled share new model optimized dialog publ...\n",
              "4                       2 minute ago released new use right\n",
              "                                ...                        \n",
              "219289                    software project trying replicate\n",
              "219290    asked write nye joke seos delivered seo make r...\n",
              "219291                               disassembled dissemble\n",
              "219292    2023 prediction nothing really specific trend ...\n",
              "219293                                           neat stuff\n",
              "Name: tweets, Length: 217529, dtype: object"
            ]
          },
          "metadata": {},
          "execution_count": 14
        }
      ]
    },
    {
      "cell_type": "code",
      "source": [
        "df['labels'].value_counts()"
      ],
      "metadata": {
        "colab": {
          "base_uri": "https://localhost:8080/"
        },
        "id": "SqJoMlbK6NXE",
        "outputId": "315e444c-e1bf-4953-dfa1-d1ee69a42fa1"
      },
      "execution_count": null,
      "outputs": [
        {
          "output_type": "execute_result",
          "data": {
            "text/plain": [
              "0    106032\n",
              "1     56010\n",
              "2     55487\n",
              "Name: labels, dtype: int64"
            ]
          },
          "metadata": {},
          "execution_count": 15
        }
      ]
    },
    {
      "cell_type": "markdown",
      "source": [
        "# Split Data"
      ],
      "metadata": {
        "id": "uEKhDCx0AVkO"
      }
    },
    {
      "cell_type": "code",
      "source": [
        "X_train, X_test, y_train, y_test = train_test_split(df['tweets'].values, df['labels'].values,\n",
        "                                                    test_size=.3,\n",
        "                                                    random_state=42)\n",
        "X_val, X_test, y_val, y_test = train_test_split(X_test, y_test, test_size=.5,\n",
        "                                                random_state=42)\n",
        "\n",
        "X_train.shape, X_val.shape, X_test.shape, y_train.shape, y_val.shape, y_test.shape"
      ],
      "metadata": {
        "colab": {
          "base_uri": "https://localhost:8080/"
        },
        "id": "T5Re-nQdj-vz",
        "outputId": "023028cf-2de8-4bc2-c186-6ff2dee9de7f"
      },
      "execution_count": null,
      "outputs": [
        {
          "output_type": "execute_result",
          "data": {
            "text/plain": [
              "((152270,), (32629,), (32630,), (152270,), (32629,), (32630,))"
            ]
          },
          "metadata": {},
          "execution_count": 32
        }
      ]
    },
    {
      "cell_type": "markdown",
      "source": [
        "# Build Sentiment Analysis Model"
      ],
      "metadata": {
        "id": "DaqdZuUymIOK"
      }
    },
    {
      "cell_type": "code",
      "source": [
        "from tensorflow.keras.preprocessing.text import Tokenizer\n",
        "from tensorflow.keras.preprocessing.sequence import pad_sequences"
      ],
      "metadata": {
        "id": "unCZQvC6mJT0"
      },
      "execution_count": null,
      "outputs": []
    },
    {
      "cell_type": "code",
      "source": [
        "y_train = tf.keras.utils.to_categorical(y_train)\n",
        "y_test = tf.keras.utils.to_categorical(y_test)\n",
        "\n",
        "y_train.shape, y_test.shape"
      ],
      "metadata": {
        "colab": {
          "base_uri": "https://localhost:8080/"
        },
        "id": "tWxpTZKpmXN7",
        "outputId": "29f2073d-cca0-42ac-8efb-22dabacff9f4"
      },
      "execution_count": null,
      "outputs": [
        {
          "output_type": "execute_result",
          "data": {
            "text/plain": [
              "((152270, 3), (32630, 3))"
            ]
          },
          "metadata": {},
          "execution_count": 33
        }
      ]
    },
    {
      "cell_type": "code",
      "source": [
        "y_val = tf.keras.utils.to_categorical(y_val)\n",
        "\n",
        "y_val.shape"
      ],
      "metadata": {
        "colab": {
          "base_uri": "https://localhost:8080/"
        },
        "id": "Ee07ZNIjE7ay",
        "outputId": "ad6ca57b-3a54-42d1-cceb-cf52924b5f42"
      },
      "execution_count": null,
      "outputs": [
        {
          "output_type": "execute_result",
          "data": {
            "text/plain": [
              "(32629, 3)"
            ]
          },
          "metadata": {},
          "execution_count": 34
        }
      ]
    },
    {
      "cell_type": "code",
      "source": [
        "tokenizer = Tokenizer(oov_token='<OOV>')\n",
        "tokenizer.fit_on_texts(X_train)\n",
        "X_train_sequences = tokenizer.texts_to_sequences(X_train)\n",
        "X_val_sequences = tokenizer.texts_to_sequences(X_val)\n",
        "X_test_sequences = tokenizer.texts_to_sequences(X_test)\n",
        "\n",
        "X_train_ready = pad_sequences(X_train_sequences, padding='post',\n",
        "                              maxlen=128, truncating='post')\n",
        "X_val_ready = pad_sequences(X_val_sequences, padding='post',\n",
        "                             maxlen=128, truncating='post')\n",
        "X_test_ready = pad_sequences(X_test_sequences, padding='post',\n",
        "                             maxlen=128, truncating='post')\n",
        "\n",
        "word_index = tokenizer.word_index"
      ],
      "metadata": {
        "id": "N0D9luTvmaKU"
      },
      "execution_count": null,
      "outputs": []
    },
    {
      "cell_type": "code",
      "source": [
        "def build_model(hp):\n",
        "    Embedding = tf.keras.layers.Embedding\n",
        "    Bidirectional = tf.keras.layers.Bidirectional\n",
        "    Conv1D = tf.keras.layers.Conv1D\n",
        "    LSTM = tf.keras.layers.LSTM\n",
        "    Dropout = tf.keras.layers.Dropout\n",
        "    Dense = tf.keras.layers.Dense\n",
        "    regularizer = tf.keras.regularizers.L1L2\n",
        "\n",
        "    emb_dim = hp.Int('embedding_dim', 32, 128, step=32)\n",
        "\n",
        "    model = tf.keras.Sequential()\n",
        "    model.add(Embedding(len(word_index)+1, emb_dim, input_length=128))\n",
        "\n",
        "    # Add conv layer if True\n",
        "    use_conv = hp.Boolean('conv')\n",
        "    if use_conv:\n",
        "        n_filter = hp.Int('conv_filter', 32, 128, step=32)\n",
        "        kernel_size = hp.Int('conv_size', 3, 7)\n",
        "        conv_l1 = hp.Float('l1_conv', 0, 1e-2)\n",
        "        conv_l2 = hp.Float('l2_conv', 0, 1e-1)\n",
        "\n",
        "        model.add(Conv1D(n_filter, kernel_size, activation='relu',\n",
        "                         kernel_regularizer=regularizer(l1=conv_l1, l2=conv_l2)))\n",
        "\n",
        "    # Add LSTM layer\n",
        "    n_neuron_lstm = hp.Int('n_neuron_lstm', 16, 64, step=16)\n",
        "    lstm_l1 = hp.Float('l1_lstm', 0, 1e-2)\n",
        "    lstm_l2 = hp.Float('l2_lstm', 0, 1e-1)\n",
        "\n",
        "    model.add(Bidirectional(LSTM(n_neuron_lstm, kernel_regularizer=regularizer(l1=lstm_l1, l2=lstm_l2))))\n",
        "\n",
        "    # Add Dense Layer\n",
        "    n_layer_dense = hp.Int('n_layer_dense', 1, 2)\n",
        "    for i in range(n_layer_dense):\n",
        "        n_neuron_dense = hp.Int(f'n_neuron_dense_{i}', 32, 256, step=64)\n",
        "        dense_l1 = hp.Float(f'l1_dense_{i}', 0, 1e-2)\n",
        "        dense_l2 = hp.Float(f'l2_dense_{i}', 0, 1e-1)\n",
        "        use_dropout = hp.Boolean(f'dropout_{i}')\n",
        "\n",
        "        model.add(Dense(n_neuron_dense, activation='relu',\n",
        "                        kernel_regularizer=regularizer(l1=dense_l1, l2=dense_l2)))\n",
        "        if use_dropout:\n",
        "            model.add(Dropout(.2))\n",
        "\n",
        "    # Add output layer\n",
        "    model.add(Dense(3))\n",
        "\n",
        "    # compile\n",
        "    lr = hp.Float('lr', 1e-5, 1e-3)\n",
        "    opt = tf.keras.optimizers.Adam(learning_rate=lr)\n",
        "    model.compile(optimizer=opt,\n",
        "                  loss=tf.keras.losses.CategoricalCrossentropy(from_logits=True),\n",
        "                  metrics=['accuracy'])\n",
        "\n",
        "    return model"
      ],
      "metadata": {
        "id": "Hs71SjtwGnQp"
      },
      "execution_count": null,
      "outputs": []
    },
    {
      "cell_type": "code",
      "source": [
        "tf.keras.backend.clear_session()\n",
        "\n",
        "tuner = BayesianOptimization(build_model,\n",
        "                             objective = 'val_accuracy',\n",
        "                             max_trials = 50,\n",
        "                             directory = 'tune',\n",
        "                             project_name = 'Sentiment-FinPro',\n",
        "                             overwrite = False)"
      ],
      "metadata": {
        "id": "H0tDaLozM8wr"
      },
      "execution_count": null,
      "outputs": []
    },
    {
      "cell_type": "code",
      "source": [
        "early_stop = tf.keras.callbacks.EarlyStopping(patience=5, monitor='val_accuracy',\n",
        "                                              restore_best_weights=True,\n",
        "                                              verbose=1)\n",
        "\n",
        "tuner.search(X_train_ready, y_train,\n",
        "             batch_size=512, epochs=100,\n",
        "             validation_data=(X_val_ready, y_val),\n",
        "             callbacks=[early_stop])"
      ],
      "metadata": {
        "colab": {
          "base_uri": "https://localhost:8080/"
        },
        "id": "abbFa3DQNJm4",
        "outputId": "8364ccd9-b4c4-4277-939a-1cff3e0194ec"
      },
      "execution_count": null,
      "outputs": [
        {
          "output_type": "stream",
          "name": "stdout",
          "text": [
            "Trial 15 Complete [00h 05m 20s]\n",
            "val_accuracy: 0.8680025935173035\n",
            "\n",
            "Best val_accuracy So Far: 0.8858657479286194\n",
            "Total elapsed time: 00h 59m 46s\n",
            "\n",
            "Search: Running Trial #16\n",
            "\n",
            "Value             |Best Value So Far |Hyperparameter\n",
            "32                |128               |embedding_dim\n",
            "False             |True              |conv\n",
            "16                |16                |n_neuron_lstm\n",
            "0.0070308         |0.0046469         |l1_lstm\n",
            "0.041217          |0.065388          |l2_lstm\n",
            "2                 |1                 |n_layer_dense\n",
            "96                |224               |n_neuron_dense_0\n",
            "0.0033208         |0.0032938         |l1_dense_0\n",
            "0.0057926         |0.094458          |l2_dense_0\n",
            "False             |True              |dropout_0\n",
            "0.00049265        |0.00070334        |lr\n",
            "96                |32                |conv_filter\n",
            "3                 |3                 |conv_size\n",
            "0.0094671         |0                 |l1_conv\n",
            "0.023148          |0                 |l2_conv\n",
            "224               |None              |n_neuron_dense_1\n",
            "0.0037617         |None              |l1_dense_1\n",
            "0.062622          |None              |l2_dense_1\n",
            "True              |None              |dropout_1\n",
            "\n",
            "Epoch 1/100\n",
            "298/298 [==============================] - 40s 121ms/step - loss: 9.4632 - accuracy: 0.5125 - val_loss: 2.7355 - val_accuracy: 0.5617\n",
            "Epoch 2/100\n",
            "298/298 [==============================] - ETA: 0s - loss: 1.4400 - accuracy: 0.6500"
          ]
        }
      ]
    },
    {
      "cell_type": "code",
      "source": [
        "tuner.results_summary(1)"
      ],
      "metadata": {
        "colab": {
          "base_uri": "https://localhost:8080/"
        },
        "id": "Zrt6PfLaNFfZ",
        "outputId": "b9ee14c4-0e60-4cf3-c3f5-da71c24e1123"
      },
      "execution_count": null,
      "outputs": [
        {
          "output_type": "stream",
          "name": "stdout",
          "text": [
            "Results summary\n",
            "Results in tune/Sentiment-FinPro\n",
            "Showing 1 best trials\n",
            "Objective(name=\"val_accuracy\", direction=\"max\")\n",
            "\n",
            "Trial 00 summary\n",
            "Hyperparameters:\n",
            "embedding_dim: 128\n",
            "conv: True\n",
            "n_neuron_lstm: 16\n",
            "l1_lstm: 0.00464685403393522\n",
            "l2_lstm: 0.06538769777048237\n",
            "n_layer_dense: 1\n",
            "n_neuron_dense_0: 224\n",
            "l1_dense_0: 0.003293811228284589\n",
            "l2_dense_0: 0.09445758647359109\n",
            "dropout_0: True\n",
            "lr: 0.0007033412411911787\n",
            "conv_filter: 32\n",
            "conv_size: 3\n",
            "l1_conv: 0.0\n",
            "l2_conv: 0.0\n",
            "Score: 0.8858657479286194\n"
          ]
        }
      ]
    },
    {
      "cell_type": "code",
      "source": [
        "X_train = np.concatenate([X_train, X_val])\n",
        "y_train = np.concatenate([y_train, y_val])"
      ],
      "metadata": {
        "id": "Ngni6okIN1W6"
      },
      "execution_count": null,
      "outputs": []
    },
    {
      "cell_type": "code",
      "source": [
        "tokenizer = Tokenizer(oov_token='<OOV>')\n",
        "tokenizer.fit_on_texts(X_train)\n",
        "X_train_sequences = tokenizer.texts_to_sequences(X_train)\n",
        "X_test_sequences = tokenizer.texts_to_sequences(X_test)\n",
        "\n",
        "X_train_ready = pad_sequences(X_train_sequences, padding='post',\n",
        "                              maxlen=128, truncating='post')\n",
        "X_test_ready = pad_sequences(X_test_sequences, padding='post',\n",
        "                             maxlen=128, truncating='post')\n",
        "\n",
        "word_index = tokenizer.word_index"
      ],
      "metadata": {
        "id": "y-XD4EY2GucG"
      },
      "execution_count": null,
      "outputs": []
    },
    {
      "cell_type": "code",
      "source": [
        "def create_model():\n",
        "    reg = tf.keras.regularizers.L1L2\n",
        "    model = tf.keras.Sequential([\n",
        "        tf.keras.layers.Embedding(len(word_index)+1, 128, input_length=128),\n",
        "        tf.keras.layers.Conv1D(32, 3, activation='relu'),\n",
        "        tf.keras.layers.Bidirectional(tf.keras.layers.LSTM(16, kernel_regularizer=reg(l1=5e-3, l2=7e-2))),\n",
        "        tf.keras.layers.Dense(224, activation='relu', kernel_regularizer=reg(l1=3e-3, l2=9e-2)),\n",
        "        tf.keras.layers.Dropout(.2),\n",
        "        tf.keras.layers.Dense(3)\n",
        "    ])\n",
        "\n",
        "    model.compile(optimizer=tf.keras.optimizers.Adam(learning_rate=7e-4),\n",
        "                  loss=tf.keras.losses.CategoricalCrossentropy(from_logits=True),\n",
        "                  metrics=['accuracy'])\n",
        "\n",
        "    return model"
      ],
      "metadata": {
        "id": "465uNZIN2LSh"
      },
      "execution_count": null,
      "outputs": []
    },
    {
      "cell_type": "code",
      "source": [
        "tf.keras.backend.clear_session()\n",
        "\n",
        "model = create_model()\n",
        "\n",
        "early_stop = tf.keras.callbacks.EarlyStopping(patience=10, monitor='val_accuracy',\n",
        "                                              restore_best_weights=True,\n",
        "                                              verbose=1)\n",
        "\n",
        "history = model.fit(X_train_ready, y_train, epochs=100, batch_size=512,\n",
        "                    validation_data=(X_test_ready, y_test),\n",
        "                    callbacks=[early_stop])"
      ],
      "metadata": {
        "colab": {
          "base_uri": "https://localhost:8080/"
        },
        "id": "HR4Qt7r43SlU",
        "outputId": "b2daa8dc-6dd2-4d80-c854-9a02583c211b"
      },
      "execution_count": null,
      "outputs": [
        {
          "output_type": "stream",
          "name": "stdout",
          "text": [
            "Epoch 1/100\n",
            "362/362 [==============================] - 82s 179ms/step - loss: 4.7055 - accuracy: 0.6821 - val_loss: 0.8337 - val_accuracy: 0.8340\n",
            "Epoch 2/100\n",
            "362/362 [==============================] - 25s 70ms/step - loss: 0.5835 - accuracy: 0.8588 - val_loss: 0.5102 - val_accuracy: 0.8626\n",
            "Epoch 3/100\n",
            "362/362 [==============================] - 16s 45ms/step - loss: 0.4184 - accuracy: 0.8994 - val_loss: 0.4558 - val_accuracy: 0.8739\n",
            "Epoch 4/100\n",
            "362/362 [==============================] - 14s 38ms/step - loss: 0.3442 - accuracy: 0.9224 - val_loss: 0.4424 - val_accuracy: 0.8803\n",
            "Epoch 5/100\n",
            "362/362 [==============================] - 12s 34ms/step - loss: 0.2978 - accuracy: 0.9362 - val_loss: 0.4167 - val_accuracy: 0.8854\n",
            "Epoch 6/100\n",
            "362/362 [==============================] - 10s 28ms/step - loss: 0.2667 - accuracy: 0.9445 - val_loss: 0.4168 - val_accuracy: 0.8857\n",
            "Epoch 7/100\n",
            "362/362 [==============================] - 11s 30ms/step - loss: 0.2448 - accuracy: 0.9512 - val_loss: 0.4265 - val_accuracy: 0.8847\n",
            "Epoch 8/100\n",
            "362/362 [==============================] - 10s 28ms/step - loss: 0.2272 - accuracy: 0.9557 - val_loss: 0.4222 - val_accuracy: 0.8847\n",
            "Epoch 9/100\n",
            "362/362 [==============================] - 9s 25ms/step - loss: 0.2134 - accuracy: 0.9588 - val_loss: 0.4253 - val_accuracy: 0.8852\n",
            "Epoch 10/100\n",
            "362/362 [==============================] - 11s 31ms/step - loss: 0.2038 - accuracy: 0.9612 - val_loss: 0.4341 - val_accuracy: 0.8869\n",
            "Epoch 11/100\n",
            "362/362 [==============================] - 10s 29ms/step - loss: 0.1950 - accuracy: 0.9632 - val_loss: 0.4489 - val_accuracy: 0.8813\n",
            "Epoch 12/100\n",
            "362/362 [==============================] - 8s 23ms/step - loss: 0.1849 - accuracy: 0.9661 - val_loss: 0.4379 - val_accuracy: 0.8837\n",
            "Epoch 13/100\n",
            "362/362 [==============================] - 10s 27ms/step - loss: 0.1780 - accuracy: 0.9678 - val_loss: 0.4375 - val_accuracy: 0.8854\n",
            "Epoch 14/100\n",
            "362/362 [==============================] - 9s 25ms/step - loss: 0.1719 - accuracy: 0.9692 - val_loss: 0.4402 - val_accuracy: 0.8818\n",
            "Epoch 15/100\n",
            "362/362 [==============================] - 10s 27ms/step - loss: 0.1675 - accuracy: 0.9700 - val_loss: 0.4597 - val_accuracy: 0.8815\n",
            "Epoch 16/100\n",
            "362/362 [==============================] - 9s 25ms/step - loss: 0.1622 - accuracy: 0.9712 - val_loss: 0.4718 - val_accuracy: 0.8799\n",
            "Epoch 17/100\n",
            "362/362 [==============================] - 8s 23ms/step - loss: 0.1570 - accuracy: 0.9726 - val_loss: 0.4612 - val_accuracy: 0.8782\n",
            "Epoch 18/100\n",
            "362/362 [==============================] - 10s 27ms/step - loss: 0.1524 - accuracy: 0.9734 - val_loss: 0.4614 - val_accuracy: 0.8788\n",
            "Epoch 19/100\n",
            "362/362 [==============================] - 8s 23ms/step - loss: 0.1514 - accuracy: 0.9736 - val_loss: 0.4671 - val_accuracy: 0.8791\n",
            "Epoch 20/100\n",
            "362/362 [==============================] - ETA: 0s - loss: 0.1439 - accuracy: 0.9758Restoring model weights from the end of the best epoch: 10.\n",
            "362/362 [==============================] - 10s 26ms/step - loss: 0.1439 - accuracy: 0.9758 - val_loss: 0.4717 - val_accuracy: 0.8801\n",
            "Epoch 20: early stopping\n"
          ]
        }
      ]
    },
    {
      "cell_type": "code",
      "source": [
        "from sklearn.metrics import classification_report\n",
        "\n",
        "y_pred = np.argmax(model.predict(X_test_ready), axis=-1)\n",
        "print(classification_report(np.argmax(y_test, axis=-1), y_pred))"
      ],
      "metadata": {
        "colab": {
          "base_uri": "https://localhost:8080/"
        },
        "id": "zGgq7Hi930sW",
        "outputId": "c88ab532-8d3a-412e-cb62-761265ab8d1d"
      },
      "execution_count": null,
      "outputs": [
        {
          "output_type": "stream",
          "name": "stdout",
          "text": [
            "1020/1020 [==============================] - 7s 6ms/step\n",
            "              precision    recall  f1-score   support\n",
            "\n",
            "           0       0.94      0.93      0.93     16049\n",
            "           1       0.87      0.92      0.89      8327\n",
            "           2       0.80      0.78      0.79      8254\n",
            "\n",
            "    accuracy                           0.89     32630\n",
            "   macro avg       0.87      0.87      0.87     32630\n",
            "weighted avg       0.89      0.89      0.89     32630\n",
            "\n"
          ]
        }
      ]
    },
    {
      "cell_type": "code",
      "source": [
        "model.save('/content/drive/MyDrive/TK2/sentiment_model.h5')"
      ],
      "metadata": {
        "id": "VPJVZwH0kf4F"
      },
      "execution_count": null,
      "outputs": []
    },
    {
      "cell_type": "code",
      "source": [
        "model = tf.keras.models.load_model('/content/drive/MyDrive/TK2/sentiment_model.h5')\n",
        "model.summary()"
      ],
      "metadata": {
        "colab": {
          "base_uri": "https://localhost:8080/"
        },
        "id": "g7BPGok8rXAj",
        "outputId": "61853124-01b1-4cec-a65d-6e5db5bc2470"
      },
      "execution_count": null,
      "outputs": [
        {
          "output_type": "stream",
          "name": "stdout",
          "text": [
            "Model: \"sequential\"\n",
            "_________________________________________________________________\n",
            " Layer (type)                Output Shape              Param #   \n",
            "=================================================================\n",
            " embedding (Embedding)       (None, 128, 128)          10460416  \n",
            "                                                                 \n",
            " conv1d (Conv1D)             (None, 126, 32)           12320     \n",
            "                                                                 \n",
            " bidirectional (Bidirectiona  (None, 32)               6272      \n",
            " l)                                                              \n",
            "                                                                 \n",
            " dense (Dense)               (None, 224)               7392      \n",
            "                                                                 \n",
            " dropout (Dropout)           (None, 224)               0         \n",
            "                                                                 \n",
            " dense_1 (Dense)             (None, 3)                 675       \n",
            "                                                                 \n",
            "=================================================================\n",
            "Total params: 10,487,075\n",
            "Trainable params: 10,487,075\n",
            "Non-trainable params: 0\n",
            "_________________________________________________________________\n"
          ]
        }
      ]
    },
    {
      "cell_type": "markdown",
      "source": [
        "# Predict data maret"
      ],
      "metadata": {
        "id": "rQ46tw0X24Cd"
      }
    },
    {
      "cell_type": "code",
      "source": [
        "df_predict_clean = df_predict.copy()\n",
        "df_predict_clean[\"tweets\"] = df_predict_clean['tweets'].map(lambda x: clean_text(x))\n",
        "df_predict_clean['tweets'] = df_predict_clean['tweets'].map(lambda x: lemmatize(x))\n",
        "df_predict_clean = df_predict_clean[df_predict_clean['tweets'].apply(lambda x: len(x.split()) >=1)]\n",
        "\n",
        "df_predict_clean"
      ],
      "metadata": {
        "colab": {
          "base_uri": "https://localhost:8080/",
          "height": 423
        },
        "id": "4fgjfrHs25OA",
        "outputId": "4fa221cc-2a65-4225-d983-142011c141e4"
      },
      "execution_count": null,
      "outputs": [
        {
          "output_type": "execute_result",
          "data": {
            "text/plain": [
              "                                                  tweets\n",
              "0                                   another woke machine\n",
              "1                        atlantic near atla greenness th\n",
              "2                       thread saved notion database tag\n",
              "3                                     prompt chatgpt0018\n",
              "4      interesting conversation google bard appears c...\n",
              "...                                                  ...\n",
              "98754  sorry phone da blink n dyslexic message hopele...\n",
              "98755  someone tell future version chat spin website ...\n",
              "98756                  talk aws infrastructure footprint\n",
              "98757      yet human human already become language model\n",
              "98758  one hope know nonbinary logic first conversati...\n",
              "\n",
              "[97556 rows x 1 columns]"
            ],
            "text/html": [
              "\n",
              "  <div id=\"df-e58e9d01-6412-4073-b67e-0dfe01047058\">\n",
              "    <div class=\"colab-df-container\">\n",
              "      <div>\n",
              "<style scoped>\n",
              "    .dataframe tbody tr th:only-of-type {\n",
              "        vertical-align: middle;\n",
              "    }\n",
              "\n",
              "    .dataframe tbody tr th {\n",
              "        vertical-align: top;\n",
              "    }\n",
              "\n",
              "    .dataframe thead th {\n",
              "        text-align: right;\n",
              "    }\n",
              "</style>\n",
              "<table border=\"1\" class=\"dataframe\">\n",
              "  <thead>\n",
              "    <tr style=\"text-align: right;\">\n",
              "      <th></th>\n",
              "      <th>tweets</th>\n",
              "    </tr>\n",
              "  </thead>\n",
              "  <tbody>\n",
              "    <tr>\n",
              "      <th>0</th>\n",
              "      <td>another woke machine</td>\n",
              "    </tr>\n",
              "    <tr>\n",
              "      <th>1</th>\n",
              "      <td>atlantic near atla greenness th</td>\n",
              "    </tr>\n",
              "    <tr>\n",
              "      <th>2</th>\n",
              "      <td>thread saved notion database tag</td>\n",
              "    </tr>\n",
              "    <tr>\n",
              "      <th>3</th>\n",
              "      <td>prompt chatgpt0018</td>\n",
              "    </tr>\n",
              "    <tr>\n",
              "      <th>4</th>\n",
              "      <td>interesting conversation google bard appears c...</td>\n",
              "    </tr>\n",
              "    <tr>\n",
              "      <th>...</th>\n",
              "      <td>...</td>\n",
              "    </tr>\n",
              "    <tr>\n",
              "      <th>98754</th>\n",
              "      <td>sorry phone da blink n dyslexic message hopele...</td>\n",
              "    </tr>\n",
              "    <tr>\n",
              "      <th>98755</th>\n",
              "      <td>someone tell future version chat spin website ...</td>\n",
              "    </tr>\n",
              "    <tr>\n",
              "      <th>98756</th>\n",
              "      <td>talk aws infrastructure footprint</td>\n",
              "    </tr>\n",
              "    <tr>\n",
              "      <th>98757</th>\n",
              "      <td>yet human human already become language model</td>\n",
              "    </tr>\n",
              "    <tr>\n",
              "      <th>98758</th>\n",
              "      <td>one hope know nonbinary logic first conversati...</td>\n",
              "    </tr>\n",
              "  </tbody>\n",
              "</table>\n",
              "<p>97556 rows × 1 columns</p>\n",
              "</div>\n",
              "      <button class=\"colab-df-convert\" onclick=\"convertToInteractive('df-e58e9d01-6412-4073-b67e-0dfe01047058')\"\n",
              "              title=\"Convert this dataframe to an interactive table.\"\n",
              "              style=\"display:none;\">\n",
              "        \n",
              "  <svg xmlns=\"http://www.w3.org/2000/svg\" height=\"24px\"viewBox=\"0 0 24 24\"\n",
              "       width=\"24px\">\n",
              "    <path d=\"M0 0h24v24H0V0z\" fill=\"none\"/>\n",
              "    <path d=\"M18.56 5.44l.94 2.06.94-2.06 2.06-.94-2.06-.94-.94-2.06-.94 2.06-2.06.94zm-11 1L8.5 8.5l.94-2.06 2.06-.94-2.06-.94L8.5 2.5l-.94 2.06-2.06.94zm10 10l.94 2.06.94-2.06 2.06-.94-2.06-.94-.94-2.06-.94 2.06-2.06.94z\"/><path d=\"M17.41 7.96l-1.37-1.37c-.4-.4-.92-.59-1.43-.59-.52 0-1.04.2-1.43.59L10.3 9.45l-7.72 7.72c-.78.78-.78 2.05 0 2.83L4 21.41c.39.39.9.59 1.41.59.51 0 1.02-.2 1.41-.59l7.78-7.78 2.81-2.81c.8-.78.8-2.07 0-2.86zM5.41 20L4 18.59l7.72-7.72 1.47 1.35L5.41 20z\"/>\n",
              "  </svg>\n",
              "      </button>\n",
              "      \n",
              "  <style>\n",
              "    .colab-df-container {\n",
              "      display:flex;\n",
              "      flex-wrap:wrap;\n",
              "      gap: 12px;\n",
              "    }\n",
              "\n",
              "    .colab-df-convert {\n",
              "      background-color: #E8F0FE;\n",
              "      border: none;\n",
              "      border-radius: 50%;\n",
              "      cursor: pointer;\n",
              "      display: none;\n",
              "      fill: #1967D2;\n",
              "      height: 32px;\n",
              "      padding: 0 0 0 0;\n",
              "      width: 32px;\n",
              "    }\n",
              "\n",
              "    .colab-df-convert:hover {\n",
              "      background-color: #E2EBFA;\n",
              "      box-shadow: 0px 1px 2px rgba(60, 64, 67, 0.3), 0px 1px 3px 1px rgba(60, 64, 67, 0.15);\n",
              "      fill: #174EA6;\n",
              "    }\n",
              "\n",
              "    [theme=dark] .colab-df-convert {\n",
              "      background-color: #3B4455;\n",
              "      fill: #D2E3FC;\n",
              "    }\n",
              "\n",
              "    [theme=dark] .colab-df-convert:hover {\n",
              "      background-color: #434B5C;\n",
              "      box-shadow: 0px 1px 3px 1px rgba(0, 0, 0, 0.15);\n",
              "      filter: drop-shadow(0px 1px 2px rgba(0, 0, 0, 0.3));\n",
              "      fill: #FFFFFF;\n",
              "    }\n",
              "  </style>\n",
              "\n",
              "      <script>\n",
              "        const buttonEl =\n",
              "          document.querySelector('#df-e58e9d01-6412-4073-b67e-0dfe01047058 button.colab-df-convert');\n",
              "        buttonEl.style.display =\n",
              "          google.colab.kernel.accessAllowed ? 'block' : 'none';\n",
              "\n",
              "        async function convertToInteractive(key) {\n",
              "          const element = document.querySelector('#df-e58e9d01-6412-4073-b67e-0dfe01047058');\n",
              "          const dataTable =\n",
              "            await google.colab.kernel.invokeFunction('convertToInteractive',\n",
              "                                                     [key], {});\n",
              "          if (!dataTable) return;\n",
              "\n",
              "          const docLinkHtml = 'Like what you see? Visit the ' +\n",
              "            '<a target=\"_blank\" href=https://colab.research.google.com/notebooks/data_table.ipynb>data table notebook</a>'\n",
              "            + ' to learn more about interactive tables.';\n",
              "          element.innerHTML = '';\n",
              "          dataTable['output_type'] = 'display_data';\n",
              "          await google.colab.output.renderOutput(dataTable, element);\n",
              "          const docLink = document.createElement('div');\n",
              "          docLink.innerHTML = docLinkHtml;\n",
              "          element.appendChild(docLink);\n",
              "        }\n",
              "      </script>\n",
              "    </div>\n",
              "  </div>\n",
              "  "
            ]
          },
          "metadata": {},
          "execution_count": 43
        }
      ]
    },
    {
      "cell_type": "code",
      "source": [
        "X_predict = df_predict_clean.values.ravel()\n",
        "X_predict_sequences = tokenizer.texts_to_sequences(X_predict)\n",
        "X_predict_ready = pad_sequences(X_predict_sequences, padding='post',\n",
        "                                maxlen=128, truncating='post')\n",
        "\n",
        "X_predict_ready.shape"
      ],
      "metadata": {
        "colab": {
          "base_uri": "https://localhost:8080/"
        },
        "id": "YX3RcKdI3IeP",
        "outputId": "fc56e38d-a329-42b6-dfa8-606e52a7a294"
      },
      "execution_count": null,
      "outputs": [
        {
          "output_type": "execute_result",
          "data": {
            "text/plain": [
              "(97556, 128)"
            ]
          },
          "metadata": {},
          "execution_count": 45
        }
      ]
    },
    {
      "cell_type": "code",
      "source": [
        "model = tf.keras.models.load_model('/content/drive/MyDrive/TK2/sentiment_model.h5')\n",
        "model.summary()"
      ],
      "metadata": {
        "id": "RmnSXxID3WSd"
      },
      "execution_count": null,
      "outputs": []
    },
    {
      "cell_type": "code",
      "source": [
        "y_predict = tf.argmax(model.predict(X_predict_ready), axis=-1).numpy()\n",
        "y_predict.shape"
      ],
      "metadata": {
        "colab": {
          "base_uri": "https://localhost:8080/"
        },
        "id": "mpn9-M4h3zAD",
        "outputId": "17045faf-13ac-4c2c-b28d-440a23de9cec"
      },
      "execution_count": null,
      "outputs": [
        {
          "output_type": "stream",
          "name": "stdout",
          "text": [
            "3049/3049 [==============================] - 20s 7ms/step\n"
          ]
        },
        {
          "output_type": "execute_result",
          "data": {
            "text/plain": [
              "(97556,)"
            ]
          },
          "metadata": {},
          "execution_count": 47
        }
      ]
    },
    {
      "cell_type": "code",
      "source": [
        "df_predict['labels'] = y_predict\n",
        "df_predict"
      ],
      "metadata": {
        "colab": {
          "base_uri": "https://localhost:8080/",
          "height": 423
        },
        "id": "juIwk0OV4Ow0",
        "outputId": "8e1de48d-191e-4b0d-d023-2624dd2afcb7"
      },
      "execution_count": null,
      "outputs": [
        {
          "output_type": "execute_result",
          "data": {
            "text/plain": [
              "                                                  tweets  labels\n",
              "0                      ChatGPT is another woke machine.        0\n",
              "1      of the Atlantic, or only near the Atla #推特账号 m...       0\n",
              "2       This thread is saved to your Notion database....       2\n",
              "3                             Prompt AI – ChatGPT #0018        0\n",
              "4      Just had some interesting conversations with G...       1\n",
              "...                                                  ...     ...\n",
              "98754   Sorry my phones on da blink n my dyslexic mes...       2\n",
              "98755   If someone were to tell a future version of C...       0\n",
              "98756  ChatGPT can talk to your AWS infrastructure fo...       0\n",
              "98757  ChatGPT is not yet a human, but some humans ha...       0\n",
              "98758   One hopes that it knows about non-binary logi...       2\n",
              "\n",
              "[97556 rows x 2 columns]"
            ],
            "text/html": [
              "\n",
              "  <div id=\"df-5634e42b-8d4a-414b-b47d-b533ed7239dd\">\n",
              "    <div class=\"colab-df-container\">\n",
              "      <div>\n",
              "<style scoped>\n",
              "    .dataframe tbody tr th:only-of-type {\n",
              "        vertical-align: middle;\n",
              "    }\n",
              "\n",
              "    .dataframe tbody tr th {\n",
              "        vertical-align: top;\n",
              "    }\n",
              "\n",
              "    .dataframe thead th {\n",
              "        text-align: right;\n",
              "    }\n",
              "</style>\n",
              "<table border=\"1\" class=\"dataframe\">\n",
              "  <thead>\n",
              "    <tr style=\"text-align: right;\">\n",
              "      <th></th>\n",
              "      <th>tweets</th>\n",
              "      <th>labels</th>\n",
              "    </tr>\n",
              "  </thead>\n",
              "  <tbody>\n",
              "    <tr>\n",
              "      <th>0</th>\n",
              "      <td>ChatGPT is another woke machine.</td>\n",
              "      <td>0</td>\n",
              "    </tr>\n",
              "    <tr>\n",
              "      <th>1</th>\n",
              "      <td>of the Atlantic, or only near the Atla #推特账号 m...</td>\n",
              "      <td>0</td>\n",
              "    </tr>\n",
              "    <tr>\n",
              "      <th>2</th>\n",
              "      <td>This thread is saved to your Notion database....</td>\n",
              "      <td>2</td>\n",
              "    </tr>\n",
              "    <tr>\n",
              "      <th>3</th>\n",
              "      <td>Prompt AI – ChatGPT #0018</td>\n",
              "      <td>0</td>\n",
              "    </tr>\n",
              "    <tr>\n",
              "      <th>4</th>\n",
              "      <td>Just had some interesting conversations with G...</td>\n",
              "      <td>1</td>\n",
              "    </tr>\n",
              "    <tr>\n",
              "      <th>...</th>\n",
              "      <td>...</td>\n",
              "      <td>...</td>\n",
              "    </tr>\n",
              "    <tr>\n",
              "      <th>98754</th>\n",
              "      <td>Sorry my phones on da blink n my dyslexic mes...</td>\n",
              "      <td>2</td>\n",
              "    </tr>\n",
              "    <tr>\n",
              "      <th>98755</th>\n",
              "      <td>If someone were to tell a future version of C...</td>\n",
              "      <td>0</td>\n",
              "    </tr>\n",
              "    <tr>\n",
              "      <th>98756</th>\n",
              "      <td>ChatGPT can talk to your AWS infrastructure fo...</td>\n",
              "      <td>0</td>\n",
              "    </tr>\n",
              "    <tr>\n",
              "      <th>98757</th>\n",
              "      <td>ChatGPT is not yet a human, but some humans ha...</td>\n",
              "      <td>0</td>\n",
              "    </tr>\n",
              "    <tr>\n",
              "      <th>98758</th>\n",
              "      <td>One hopes that it knows about non-binary logi...</td>\n",
              "      <td>2</td>\n",
              "    </tr>\n",
              "  </tbody>\n",
              "</table>\n",
              "<p>97556 rows × 2 columns</p>\n",
              "</div>\n",
              "      <button class=\"colab-df-convert\" onclick=\"convertToInteractive('df-5634e42b-8d4a-414b-b47d-b533ed7239dd')\"\n",
              "              title=\"Convert this dataframe to an interactive table.\"\n",
              "              style=\"display:none;\">\n",
              "        \n",
              "  <svg xmlns=\"http://www.w3.org/2000/svg\" height=\"24px\"viewBox=\"0 0 24 24\"\n",
              "       width=\"24px\">\n",
              "    <path d=\"M0 0h24v24H0V0z\" fill=\"none\"/>\n",
              "    <path d=\"M18.56 5.44l.94 2.06.94-2.06 2.06-.94-2.06-.94-.94-2.06-.94 2.06-2.06.94zm-11 1L8.5 8.5l.94-2.06 2.06-.94-2.06-.94L8.5 2.5l-.94 2.06-2.06.94zm10 10l.94 2.06.94-2.06 2.06-.94-2.06-.94-.94-2.06-.94 2.06-2.06.94z\"/><path d=\"M17.41 7.96l-1.37-1.37c-.4-.4-.92-.59-1.43-.59-.52 0-1.04.2-1.43.59L10.3 9.45l-7.72 7.72c-.78.78-.78 2.05 0 2.83L4 21.41c.39.39.9.59 1.41.59.51 0 1.02-.2 1.41-.59l7.78-7.78 2.81-2.81c.8-.78.8-2.07 0-2.86zM5.41 20L4 18.59l7.72-7.72 1.47 1.35L5.41 20z\"/>\n",
              "  </svg>\n",
              "      </button>\n",
              "      \n",
              "  <style>\n",
              "    .colab-df-container {\n",
              "      display:flex;\n",
              "      flex-wrap:wrap;\n",
              "      gap: 12px;\n",
              "    }\n",
              "\n",
              "    .colab-df-convert {\n",
              "      background-color: #E8F0FE;\n",
              "      border: none;\n",
              "      border-radius: 50%;\n",
              "      cursor: pointer;\n",
              "      display: none;\n",
              "      fill: #1967D2;\n",
              "      height: 32px;\n",
              "      padding: 0 0 0 0;\n",
              "      width: 32px;\n",
              "    }\n",
              "\n",
              "    .colab-df-convert:hover {\n",
              "      background-color: #E2EBFA;\n",
              "      box-shadow: 0px 1px 2px rgba(60, 64, 67, 0.3), 0px 1px 3px 1px rgba(60, 64, 67, 0.15);\n",
              "      fill: #174EA6;\n",
              "    }\n",
              "\n",
              "    [theme=dark] .colab-df-convert {\n",
              "      background-color: #3B4455;\n",
              "      fill: #D2E3FC;\n",
              "    }\n",
              "\n",
              "    [theme=dark] .colab-df-convert:hover {\n",
              "      background-color: #434B5C;\n",
              "      box-shadow: 0px 1px 3px 1px rgba(0, 0, 0, 0.15);\n",
              "      filter: drop-shadow(0px 1px 2px rgba(0, 0, 0, 0.3));\n",
              "      fill: #FFFFFF;\n",
              "    }\n",
              "  </style>\n",
              "\n",
              "      <script>\n",
              "        const buttonEl =\n",
              "          document.querySelector('#df-5634e42b-8d4a-414b-b47d-b533ed7239dd button.colab-df-convert');\n",
              "        buttonEl.style.display =\n",
              "          google.colab.kernel.accessAllowed ? 'block' : 'none';\n",
              "\n",
              "        async function convertToInteractive(key) {\n",
              "          const element = document.querySelector('#df-5634e42b-8d4a-414b-b47d-b533ed7239dd');\n",
              "          const dataTable =\n",
              "            await google.colab.kernel.invokeFunction('convertToInteractive',\n",
              "                                                     [key], {});\n",
              "          if (!dataTable) return;\n",
              "\n",
              "          const docLinkHtml = 'Like what you see? Visit the ' +\n",
              "            '<a target=\"_blank\" href=https://colab.research.google.com/notebooks/data_table.ipynb>data table notebook</a>'\n",
              "            + ' to learn more about interactive tables.';\n",
              "          element.innerHTML = '';\n",
              "          dataTable['output_type'] = 'display_data';\n",
              "          await google.colab.output.renderOutput(dataTable, element);\n",
              "          const docLink = document.createElement('div');\n",
              "          docLink.innerHTML = docLinkHtml;\n",
              "          element.appendChild(docLink);\n",
              "        }\n",
              "      </script>\n",
              "    </div>\n",
              "  </div>\n",
              "  "
            ]
          },
          "metadata": {},
          "execution_count": 48
        }
      ]
    },
    {
      "cell_type": "code",
      "source": [
        "df_predict.labels.value_counts()"
      ],
      "metadata": {
        "colab": {
          "base_uri": "https://localhost:8080/"
        },
        "id": "EM_JX23r5igh",
        "outputId": "c9d4f5ee-e090-44bb-c8aa-c7ce198d2097"
      },
      "execution_count": null,
      "outputs": [
        {
          "output_type": "execute_result",
          "data": {
            "text/plain": [
              "0    48495\n",
              "1    25566\n",
              "2    23495\n",
              "Name: labels, dtype: int64"
            ]
          },
          "metadata": {},
          "execution_count": 49
        }
      ]
    },
    {
      "cell_type": "markdown",
      "source": [
        "# Topic Detection with Bertopic"
      ],
      "metadata": {
        "id": "z8DHaIxh0w5M"
      }
    },
    {
      "cell_type": "code",
      "source": [
        "!pip install bertopic"
      ],
      "metadata": {
        "colab": {
          "base_uri": "https://localhost:8080/"
        },
        "id": "kDbiSwJCo3LL",
        "outputId": "1e664491-4bdd-4e8d-f9b1-187372270931",
        "collapsed": true
      },
      "execution_count": null,
      "outputs": [
        {
          "output_type": "stream",
          "name": "stdout",
          "text": [
            "Looking in indexes: https://pypi.org/simple, https://us-python.pkg.dev/colab-wheels/public/simple/\n",
            "Collecting bertopic\n",
            "  Downloading bertopic-0.14.1-py2.py3-none-any.whl (120 kB)\n",
            "\u001b[2K     \u001b[90m━━━━━━━━━━━━━━━━━━━━━━━━━━━━━━━━━━━━━━━\u001b[0m \u001b[32m120.7/120.7 kB\u001b[0m \u001b[31m4.8 MB/s\u001b[0m eta \u001b[36m0:00:00\u001b[0m\n",
            "\u001b[?25hRequirement already satisfied: numpy>=1.20.0 in /usr/local/lib/python3.10/dist-packages (from bertopic) (1.22.4)\n",
            "Collecting hdbscan>=0.8.29 (from bertopic)\n",
            "  Downloading hdbscan-0.8.29.tar.gz (5.2 MB)\n",
            "\u001b[2K     \u001b[90m━━━━━━━━━━━━━━━━━━━━━━━━━━━━━━━━━━━━━━━━\u001b[0m \u001b[32m5.2/5.2 MB\u001b[0m \u001b[31m51.4 MB/s\u001b[0m eta \u001b[36m0:00:00\u001b[0m\n",
            "\u001b[?25h  Installing build dependencies ... \u001b[?25l\u001b[?25hdone\n",
            "  Getting requirements to build wheel ... \u001b[?25l\u001b[?25hdone\n",
            "  Preparing metadata (pyproject.toml) ... \u001b[?25l\u001b[?25hdone\n",
            "Collecting umap-learn>=0.5.0 (from bertopic)\n",
            "  Downloading umap-learn-0.5.3.tar.gz (88 kB)\n",
            "\u001b[2K     \u001b[90m━━━━━━━━━━━━━━━━━━━━━━━━━━━━━━━━━━━━━━━━\u001b[0m \u001b[32m88.2/88.2 kB\u001b[0m \u001b[31m12.3 MB/s\u001b[0m eta \u001b[36m0:00:00\u001b[0m\n",
            "\u001b[?25h  Preparing metadata (setup.py) ... \u001b[?25l\u001b[?25hdone\n",
            "Requirement already satisfied: pandas>=1.1.5 in /usr/local/lib/python3.10/dist-packages (from bertopic) (1.5.3)\n",
            "Requirement already satisfied: scikit-learn>=0.22.2.post1 in /usr/local/lib/python3.10/dist-packages (from bertopic) (1.2.2)\n",
            "Requirement already satisfied: tqdm>=4.41.1 in /usr/local/lib/python3.10/dist-packages (from bertopic) (4.65.0)\n",
            "Collecting sentence-transformers>=0.4.1 (from bertopic)\n",
            "  Downloading sentence-transformers-2.2.2.tar.gz (85 kB)\n",
            "\u001b[2K     \u001b[90m━━━━━━━━━━━━━━━━━━━━━━━━━━━━━━━━━━━━━━━━\u001b[0m \u001b[32m86.0/86.0 kB\u001b[0m \u001b[31m11.1 MB/s\u001b[0m eta \u001b[36m0:00:00\u001b[0m\n",
            "\u001b[?25h  Preparing metadata (setup.py) ... \u001b[?25l\u001b[?25hdone\n",
            "Requirement already satisfied: plotly>=4.7.0 in /usr/local/lib/python3.10/dist-packages (from bertopic) (5.13.1)\n",
            "Requirement already satisfied: cython>=0.27 in /usr/local/lib/python3.10/dist-packages (from hdbscan>=0.8.29->bertopic) (0.29.34)\n",
            "Requirement already satisfied: scipy>=1.0 in /usr/local/lib/python3.10/dist-packages (from hdbscan>=0.8.29->bertopic) (1.10.1)\n",
            "Requirement already satisfied: joblib>=1.0 in /usr/local/lib/python3.10/dist-packages (from hdbscan>=0.8.29->bertopic) (1.2.0)\n",
            "Requirement already satisfied: python-dateutil>=2.8.1 in /usr/local/lib/python3.10/dist-packages (from pandas>=1.1.5->bertopic) (2.8.2)\n",
            "Requirement already satisfied: pytz>=2020.1 in /usr/local/lib/python3.10/dist-packages (from pandas>=1.1.5->bertopic) (2022.7.1)\n",
            "Requirement already satisfied: tenacity>=6.2.0 in /usr/local/lib/python3.10/dist-packages (from plotly>=4.7.0->bertopic) (8.2.2)\n",
            "Requirement already satisfied: threadpoolctl>=2.0.0 in /usr/local/lib/python3.10/dist-packages (from scikit-learn>=0.22.2.post1->bertopic) (3.1.0)\n",
            "Collecting transformers<5.0.0,>=4.6.0 (from sentence-transformers>=0.4.1->bertopic)\n",
            "  Downloading transformers-4.29.1-py3-none-any.whl (7.1 MB)\n",
            "\u001b[2K     \u001b[90m━━━━━━━━━━━━━━━━━━━━━━━━━━━━━━━━━━━━━━━━\u001b[0m \u001b[32m7.1/7.1 MB\u001b[0m \u001b[31m77.4 MB/s\u001b[0m eta \u001b[36m0:00:00\u001b[0m\n",
            "\u001b[?25hRequirement already satisfied: torch>=1.6.0 in /usr/local/lib/python3.10/dist-packages (from sentence-transformers>=0.4.1->bertopic) (2.0.0+cu118)\n",
            "Requirement already satisfied: torchvision in /usr/local/lib/python3.10/dist-packages (from sentence-transformers>=0.4.1->bertopic) (0.15.1+cu118)\n",
            "Requirement already satisfied: nltk in /usr/local/lib/python3.10/dist-packages (from sentence-transformers>=0.4.1->bertopic) (3.8.1)\n",
            "Collecting sentencepiece (from sentence-transformers>=0.4.1->bertopic)\n",
            "  Downloading sentencepiece-0.1.99-cp310-cp310-manylinux_2_17_x86_64.manylinux2014_x86_64.whl (1.3 MB)\n",
            "\u001b[2K     \u001b[90m━━━━━━━━━━━━━━━━━━━━━━━━━━━━━━━━━━━━━━━━\u001b[0m \u001b[32m1.3/1.3 MB\u001b[0m \u001b[31m63.0 MB/s\u001b[0m eta \u001b[36m0:00:00\u001b[0m\n",
            "\u001b[?25hCollecting huggingface-hub>=0.4.0 (from sentence-transformers>=0.4.1->bertopic)\n",
            "  Downloading huggingface_hub-0.14.1-py3-none-any.whl (224 kB)\n",
            "\u001b[2K     \u001b[90m━━━━━━━━━━━━━━━━━━━━━━━━━━━━━━━━━━━━━━\u001b[0m \u001b[32m224.5/224.5 kB\u001b[0m \u001b[31m21.6 MB/s\u001b[0m eta \u001b[36m0:00:00\u001b[0m\n",
            "\u001b[?25hRequirement already satisfied: numba>=0.49 in /usr/local/lib/python3.10/dist-packages (from umap-learn>=0.5.0->bertopic) (0.56.4)\n",
            "Collecting pynndescent>=0.5 (from umap-learn>=0.5.0->bertopic)\n",
            "  Downloading pynndescent-0.5.10.tar.gz (1.1 MB)\n",
            "\u001b[2K     \u001b[90m━━━━━━━━━━━━━━━━━━━━━━━━━━━━━━━━━━━━━━━━\u001b[0m \u001b[32m1.1/1.1 MB\u001b[0m \u001b[31m60.5 MB/s\u001b[0m eta \u001b[36m0:00:00\u001b[0m\n",
            "\u001b[?25h  Preparing metadata (setup.py) ... \u001b[?25l\u001b[?25hdone\n",
            "Requirement already satisfied: filelock in /usr/local/lib/python3.10/dist-packages (from huggingface-hub>=0.4.0->sentence-transformers>=0.4.1->bertopic) (3.12.0)\n",
            "Requirement already satisfied: fsspec in /usr/local/lib/python3.10/dist-packages (from huggingface-hub>=0.4.0->sentence-transformers>=0.4.1->bertopic) (2023.4.0)\n",
            "Requirement already satisfied: requests in /usr/local/lib/python3.10/dist-packages (from huggingface-hub>=0.4.0->sentence-transformers>=0.4.1->bertopic) (2.27.1)\n",
            "Requirement already satisfied: pyyaml>=5.1 in /usr/local/lib/python3.10/dist-packages (from huggingface-hub>=0.4.0->sentence-transformers>=0.4.1->bertopic) (6.0)\n",
            "Requirement already satisfied: typing-extensions>=3.7.4.3 in /usr/local/lib/python3.10/dist-packages (from huggingface-hub>=0.4.0->sentence-transformers>=0.4.1->bertopic) (4.5.0)\n",
            "Requirement already satisfied: packaging>=20.9 in /usr/local/lib/python3.10/dist-packages (from huggingface-hub>=0.4.0->sentence-transformers>=0.4.1->bertopic) (23.1)\n",
            "Requirement already satisfied: llvmlite<0.40,>=0.39.0dev0 in /usr/local/lib/python3.10/dist-packages (from numba>=0.49->umap-learn>=0.5.0->bertopic) (0.39.1)\n",
            "Requirement already satisfied: setuptools in /usr/local/lib/python3.10/dist-packages (from numba>=0.49->umap-learn>=0.5.0->bertopic) (67.7.2)\n",
            "Requirement already satisfied: six>=1.5 in /usr/local/lib/python3.10/dist-packages (from python-dateutil>=2.8.1->pandas>=1.1.5->bertopic) (1.16.0)\n",
            "Requirement already satisfied: sympy in /usr/local/lib/python3.10/dist-packages (from torch>=1.6.0->sentence-transformers>=0.4.1->bertopic) (1.11.1)\n",
            "Requirement already satisfied: networkx in /usr/local/lib/python3.10/dist-packages (from torch>=1.6.0->sentence-transformers>=0.4.1->bertopic) (3.1)\n",
            "Requirement already satisfied: jinja2 in /usr/local/lib/python3.10/dist-packages (from torch>=1.6.0->sentence-transformers>=0.4.1->bertopic) (3.1.2)\n",
            "Requirement already satisfied: triton==2.0.0 in /usr/local/lib/python3.10/dist-packages (from torch>=1.6.0->sentence-transformers>=0.4.1->bertopic) (2.0.0)\n",
            "Requirement already satisfied: cmake in /usr/local/lib/python3.10/dist-packages (from triton==2.0.0->torch>=1.6.0->sentence-transformers>=0.4.1->bertopic) (3.25.2)\n",
            "Requirement already satisfied: lit in /usr/local/lib/python3.10/dist-packages (from triton==2.0.0->torch>=1.6.0->sentence-transformers>=0.4.1->bertopic) (16.0.3)\n",
            "Requirement already satisfied: regex!=2019.12.17 in /usr/local/lib/python3.10/dist-packages (from transformers<5.0.0,>=4.6.0->sentence-transformers>=0.4.1->bertopic) (2022.10.31)\n",
            "Collecting tokenizers!=0.11.3,<0.14,>=0.11.1 (from transformers<5.0.0,>=4.6.0->sentence-transformers>=0.4.1->bertopic)\n",
            "  Downloading tokenizers-0.13.3-cp310-cp310-manylinux_2_17_x86_64.manylinux2014_x86_64.whl (7.8 MB)\n",
            "\u001b[2K     \u001b[90m━━━━━━━━━━━━━━━━━━━━━━━━━━━━━━━━━━━━━━━━\u001b[0m \u001b[32m7.8/7.8 MB\u001b[0m \u001b[31m72.6 MB/s\u001b[0m eta \u001b[36m0:00:00\u001b[0m\n",
            "\u001b[?25hRequirement already satisfied: click in /usr/local/lib/python3.10/dist-packages (from nltk->sentence-transformers>=0.4.1->bertopic) (8.1.3)\n",
            "Requirement already satisfied: pillow!=8.3.*,>=5.3.0 in /usr/local/lib/python3.10/dist-packages (from torchvision->sentence-transformers>=0.4.1->bertopic) (8.4.0)\n",
            "Requirement already satisfied: MarkupSafe>=2.0 in /usr/local/lib/python3.10/dist-packages (from jinja2->torch>=1.6.0->sentence-transformers>=0.4.1->bertopic) (2.1.2)\n",
            "Requirement already satisfied: urllib3<1.27,>=1.21.1 in /usr/local/lib/python3.10/dist-packages (from requests->huggingface-hub>=0.4.0->sentence-transformers>=0.4.1->bertopic) (1.26.15)\n",
            "Requirement already satisfied: certifi>=2017.4.17 in /usr/local/lib/python3.10/dist-packages (from requests->huggingface-hub>=0.4.0->sentence-transformers>=0.4.1->bertopic) (2022.12.7)\n",
            "Requirement already satisfied: charset-normalizer~=2.0.0 in /usr/local/lib/python3.10/dist-packages (from requests->huggingface-hub>=0.4.0->sentence-transformers>=0.4.1->bertopic) (2.0.12)\n",
            "Requirement already satisfied: idna<4,>=2.5 in /usr/local/lib/python3.10/dist-packages (from requests->huggingface-hub>=0.4.0->sentence-transformers>=0.4.1->bertopic) (3.4)\n",
            "Requirement already satisfied: mpmath>=0.19 in /usr/local/lib/python3.10/dist-packages (from sympy->torch>=1.6.0->sentence-transformers>=0.4.1->bertopic) (1.3.0)\n",
            "Building wheels for collected packages: hdbscan, sentence-transformers, umap-learn, pynndescent\n",
            "  Building wheel for hdbscan (pyproject.toml) ... \u001b[?25l\u001b[?25hdone\n",
            "  Created wheel for hdbscan: filename=hdbscan-0.8.29-cp310-cp310-linux_x86_64.whl size=3541438 sha256=9f906be19d985e24517614b189b6afd428693b47ce17aa12e1ffef3a7fe8c229\n",
            "  Stored in directory: /root/.cache/pip/wheels/dc/52/e3/6c6b60b126b4d5c4370cb5ac071b82950f91649d62d72f7f56\n",
            "  Building wheel for sentence-transformers (setup.py) ... \u001b[?25l\u001b[?25hdone\n",
            "  Created wheel for sentence-transformers: filename=sentence_transformers-2.2.2-py3-none-any.whl size=125926 sha256=67d5457da1dd78007ef0b9bc1b2c10de8475a9ce3892603ffeba35adfffad084\n",
            "  Stored in directory: /root/.cache/pip/wheels/62/f2/10/1e606fd5f02395388f74e7462910fe851042f97238cbbd902f\n",
            "  Building wheel for umap-learn (setup.py) ... \u001b[?25l\u001b[?25hdone\n",
            "  Created wheel for umap-learn: filename=umap_learn-0.5.3-py3-none-any.whl size=82816 sha256=efedce00737b3270a6f857bd47f13bf6a2b07c7f5ead1187f00916cd841ce858\n",
            "  Stored in directory: /root/.cache/pip/wheels/a0/e8/c6/a37ea663620bd5200ea1ba0907ab3c217042c1d035ef606acc\n",
            "  Building wheel for pynndescent (setup.py) ... \u001b[?25l\u001b[?25hdone\n",
            "  Created wheel for pynndescent: filename=pynndescent-0.5.10-py3-none-any.whl size=55622 sha256=8ed85c3a02b867d310870746811cbc4633fb13d5fa087d0db03d3e244efced8b\n",
            "  Stored in directory: /root/.cache/pip/wheels/4a/38/5d/f60a40a66a9512b7e5e83517ebc2d1b42d857be97d135f1096\n",
            "Successfully built hdbscan sentence-transformers umap-learn pynndescent\n",
            "Installing collected packages: tokenizers, sentencepiece, huggingface-hub, transformers, pynndescent, hdbscan, umap-learn, sentence-transformers, bertopic\n",
            "Successfully installed bertopic-0.14.1 hdbscan-0.8.29 huggingface-hub-0.14.1 pynndescent-0.5.10 sentence-transformers-2.2.2 sentencepiece-0.1.99 tokenizers-0.13.3 transformers-4.29.1 umap-learn-0.5.3\n"
          ]
        }
      ]
    },
    {
      "cell_type": "code",
      "source": [
        "from bertopic import BERTopic\n",
        "### Topic Coherence\n",
        "import gensim.models.keyedvectors as word2vec\n",
        "from itertools import combinations\n",
        "import warnings\n",
        "warnings.filterwarnings(\"ignore\", category=FutureWarning)\n",
        "warnings.filterwarnings(\"ignore\", category=DeprecationWarning)"
      ],
      "metadata": {
        "id": "xLECvzu26mvB"
      },
      "execution_count": null,
      "outputs": []
    },
    {
      "cell_type": "code",
      "source": [
        "### Memuat Model Word2Vec\n",
        "w2v_model = word2vec.KeyedVectors.load_word2vec_format(\"/content/GoogleNews-vectors-negative300.bin\", binary=True)\n",
        "\n",
        "### Fungsi Menghitung Coherence\n",
        "def calculate_coherence( w2v_model, term_rankings):\n",
        "    overall_coherence = 0.0\n",
        "    for topic_index in range(len(term_rankings)):\n",
        "        # check each pair of terms\n",
        "        pair_scores = []\n",
        "        for pair in combinations(term_rankings[topic_index], 2 ):\n",
        "            if pair[0] in w2v_model.index_to_key:\n",
        "                if pair[1] in w2v_model.index_to_key:\n",
        "                    pair_scores.append( abs(w2v_model.similarity(pair[0], pair[1])) )\n",
        "                #else:\n",
        "                    #pair_scores.append(0)\n",
        "            #else:\n",
        "                #pair_scores.append(0)\n",
        "\n",
        "        # get the mean for all pairs in this topic\n",
        "        if pair_scores:\n",
        "            topic_score = sum(pair_scores) / len(pair_scores)\n",
        "            overall_coherence += topic_score\n",
        "\n",
        "    # get the mean score across all topics\n",
        "    return overall_coherence / len(term_rankings)\n",
        "\n",
        "def get_top_words(topics_info):\n",
        "    top_words = []\n",
        "    for topic in topics_info.keys():\n",
        "        top_words_per_topic = []\n",
        "        for word, val in topics_info[topic]:\n",
        "            top_words_per_topic.append(word)\n",
        "        top_words.append(top_words_per_topic)\n",
        "\n",
        "    return top_words"
      ],
      "metadata": {
        "id": "oHqrp0pUfxhA"
      },
      "execution_count": null,
      "outputs": []
    },
    {
      "cell_type": "markdown",
      "source": [
        "## GridSearch Tune simulasi 1"
      ],
      "metadata": {
        "id": "ZCqeX4XSqlVZ"
      }
    },
    {
      "cell_type": "code",
      "source": [
        "import numpy as np\n",
        "from copy import deepcopy\n",
        "\n",
        "best_coherence = -np.inf\n",
        "best_model = None\n",
        "coherence_history = dict()\n",
        "min_topic_size_list = [50, 100, 150, 200]\n",
        "nr_topics_list = [10, 15, 20]\n",
        "top_n_words_list = [5, 10]\n",
        "\n",
        "for min_topic_size in min_topic_size_list:\n",
        "    for nr_topics in nr_topics_list:\n",
        "        for top_n_words in top_n_words_list:\n",
        "            print(f'Running min_topic_size: {min_topic_size}, \\\n",
        "                    nr_topics: {nr_topics}, \\\n",
        "                    top_n_words: {top_n_words}')\n",
        "\n",
        "            # Create instances of GPU-accelerated UMAP and HDBSCAN\n",
        "            umap_model = UMAP(n_components=5, n_neighbors=15, metric='cosine')\n",
        "            hdbscan_model = HDBSCAN(min_cluster_size=10, metric='euclidean', prediction_data=True)\n",
        "\n",
        "            topic_model = BERTopic(language=\"english\", top_n_words=top_n_words,\n",
        "                                   min_topic_size=min_topic_size,\n",
        "                                   nr_topics=nr_topics,\n",
        "                                   calculate_probabilities=True,\n",
        "                                   umap_model=umap_model,\n",
        "                                   hdbscan_model=hdbscan_model,\n",
        "                                   verbose=True)\n",
        "\n",
        "            topics, prob = topic_model.fit_transform(df_predict_clean['tweets'].values)\n",
        "            new_topics = topic_model.reduce_outliers(df_predict_clean['tweets'].values,\n",
        "                                                     topics, strategy=\"embeddings\")\n",
        "            topic_model.update_topics(df_predict_clean['tweets'].values, topics=new_topics)\n",
        "\n",
        "            top_words = get_top_words(topic_model.get_topics())\n",
        "\n",
        "            coherence_keys = f'{min_topic_size}, {nr_topics}, {top_n_words}'\n",
        "            coherence = calculate_coherence(w2v_model, top_words)\n",
        "            coherence_history[coherence_keys] = coherence\n",
        "            if best_coherence < coherence:\n",
        "                best_coherence = coherence\n",
        "                best_model = deepcopy(topic_model)\n",
        "\n",
        "            print(f'Current coherence score: {coherence}')\n",
        "            print(f'Current best coherence score: {best_coherence}')"
      ],
      "metadata": {
        "id": "fSllfFlooFsE",
        "colab": {
          "base_uri": "https://localhost:8080/",
          "height": 1000,
          "referenced_widgets": [
            "66d8f98c2bbc4515b9e9d99d69a03162",
            "d00488c665b641139c19d7d31d6faaa8",
            "e731a1940fc442f3a46eb9d49522f600",
            "c1548f9810074ba2ab89a21366fb4685",
            "93566baf23644a1780e8beca601fd169",
            "26bb19316b0d4f74995ffd27ae9ca315",
            "0e0099cd41d34b098f97b52a7328ccc1",
            "7af99d294fe545dd8eb799c949771bf0",
            "05eb4a7644b54c56a255c04a13f68786",
            "c72dca1490fb49b28a861698eb8b100b",
            "76633455fd8d4792b6eea336c14298da",
            "efc8b434f0264cd497b682ff557fe3de",
            "15804f1260734deeb55e1ab2fe6dcc92",
            "ded681776c034575b35eee3b2e359561",
            "6c1c3044aca44d58a698462346548bf5",
            "e535250a08804e49a1811c0f0a4b6eb1",
            "f0e2e858013a44e1a637b3ccc9d59b54",
            "5b54dc6f0e0549bda172ab46a361b19f",
            "3dcc0d1741cb40c9b5c529c9062e9769",
            "014f18f63b174878b5d840dcf98132e7",
            "470f314e44444ad88fba9ba9c7fa0dda",
            "12aee9cc7aec47f1afd2af287b30a23a",
            "bc67c2fd767a4302853a36c4a90c216d",
            "bd0b547ec5d240d0bea5dbc0d29db089",
            "ae8c9b43d3504c4bb0a6cabf7ce681ba",
            "9dccf1d3f64049708430af7ec7b136b8",
            "e55e443da60d4527a5d1d86252d2cc05",
            "027d543f3a674279b93b38e5e9bbf570",
            "028d47cee7b749c9860ac8be4ae57644",
            "a8be037d811f4e59ae8d8e4c8dc47d8e",
            "839ec633bdaa483499368fd32164bef9",
            "03c639ef53fc4cae81f8a47d9fd69c5d",
            "ac4fc1a842ce47208ac9949da89c7032",
            "c2cc1a233f3543e8a64be4fd7025935d",
            "1a8df1cf8fe8419987f3dbdc5e55834b",
            "f3beb449a70d472c8f3ad620234a2ec9",
            "02a5eb501434455bac42efe9ca628144",
            "ed0dacc287bb46ae88ead5eb471f6991",
            "e28538e2dae9457c9b8b4d509501c46a",
            "2867840a5d7d4d1194387ab21336e346",
            "9aa98086c0e04b60a477fbde0367f64c",
            "bc3bbb17165b4c02b64660066f1541fd",
            "80043f5d1421479d8114504bce9b8df1",
            "0247392245a54898a1962ca4410f80e7",
            "4878e5e150ae4cf3899e56ffd1b7efff",
            "439bb90d7ae9456b9f0240898a6b11d1",
            "206e28bffdf5478eb0a186bdc460a6cc",
            "7a2b9e57207a475d95caab949fb1594a",
            "4eb04a72244c4109bd6fc7a69673ebe6",
            "29b64ad78e874911af11abd5fc8b05de",
            "d65a96b8e8bd48658fc71ff06149ed78",
            "5ca0b10c6d4d444697b840b28e6d4011",
            "29c06c96417c4bf388260adfb0ecb0dd",
            "ae75a5ba9f414d8fbdbb339c52afabc6",
            "a8999b32fe1b44f29369b35e2834baa2",
            "282e20c09e9f4b7983a34e2951a39e74",
            "c7f2283a2e0341cd90214d5e0bd85838",
            "13a87e0e41db48c2987cbf82835848b3",
            "8b7eac18d6414db5b266ce67982ade01",
            "5d39d7517b0f422486c7f79b5ea9008d",
            "568e29735d914f26a1e1a8e85981d4cb",
            "29148288e77c4f14bf4a8e7f2d51b1d0",
            "46653038b1b34f8997fa1830c93e751b",
            "54d85e8aa56242c59d0c530ca56b7b76",
            "4dfd2d17a208439993413ce60f56b742",
            "2d9ca46b75ec454ab8fc5a73b565f069",
            "ca43c9d610cd41c7975694a8b2a94184",
            "351da26d34d842c186f04e2a1db8bc58",
            "8e5085bd98ee4b45ab493ced24f5cad8",
            "fe806dec43ca44a99d428783ef31aaef",
            "ae2f9020372f4172a589a68df6cdb47a",
            "c574680c3cef47cf8d833da3727e165c",
            "b7e7c94ee1b248ac929bc9cd53c6637f",
            "55e60f58d0e048c2809663ca536582f1",
            "c083adb891284603b127a3f35f24b659",
            "b182bd1bf56f44ad97ada60cdc08176a",
            "fdb0698b6f8a4c7aa6c601e4cd658e63",
            "3e4d4ac4df4c45ef87af889a42ef1aca",
            "16e632f1bbd540ff8aa02f30fe5388e1",
            "e2e11f7390cd41cf8495e18ace807d8d",
            "e9dcb5ae96194ec188420034320b0d64",
            "ea4590b26f014985b8dac2ff13c7d946",
            "f3ac5c7ea20d49db95d87d951bb80cb9",
            "0d89d4ee01704d4ca6a0b8795532d1c3",
            "abf551253d454b03837d0139c5c5577e",
            "5ca24a62aee84a6c858d5dcb518ba02a",
            "e4616b60271140aab0b0bbbd06479880",
            "c43eec64927c4450ae9ab72d79ba5854",
            "11bdc13459c24803a7f6049ddbcd45e5",
            "e87314a1e1004fa3bcca0f54dfa738e5",
            "4121d93df0f747ea84ee937b461f50e2",
            "9b17e2e1093e435897684077072fce6c",
            "74c2eedbd81347bd8856411137228d44",
            "949982722d8b46fb8e5f9e942589aa7b",
            "98b068ac95134ce584a145ab98b9be29",
            "c2a9bba2e42140f1af55ba15011cd1c5",
            "6c1a72833f9c46b3bb1303dd561349ba",
            "ee12a64a7063421cbf78c6f0d452ba62",
            "839b7747efc34b4abb43d34230bfdffd",
            "90cbab678b4a4aadb99937149eb16837",
            "aa4d2b10634d4c0194f23b9464cd2b2d",
            "e8dcdda857f149549d549033f2cab41d",
            "a50a1c954954451aa77c7715225f9b6b",
            "3a026c28a5f243baaf180c91808d4afd",
            "7b1758baf9d3401ba39f16601bf89bb0",
            "8972ab6840e143fea90f5809eb433623",
            "3725e19c85a34408b12d1da973428802",
            "8dc22cc2764442bdbe837ae02185fe05",
            "4de6d482c9c6403d91c0a4f926d9ccf3",
            "9511b957be0a4fe79bb2a1390a1eb609",
            "8227f93bb56b4df184b9e287dbf2b24d",
            "51c8e71df1cb4b26af2767e7e5289d77",
            "85d791ecd75e493080abe56acba952fc",
            "d223f97455d74e60a8e232f1b43f5607",
            "55855321cbe741a281144efb7813d909",
            "e5844eeb053f445f8c08238e490900f3",
            "8479679009924a1faa567b4c1dfe7508",
            "e6da25f98d55436b86afcbd407812a06",
            "4e1db1db51b84a1490216043e13087e1",
            "dc4646bfd2a74a6ab0a8ae503cdb9e7b",
            "fc0aa08c1e774ad7abf6637b38fb53d3",
            "3a61fe5995f94803b3a3ff415b967edb",
            "576bfc233b0849b287ca515a550b8173",
            "7b834f2dd2614836ab8b17570366f97a",
            "37c84622bf4f40f0b50c493e83255b49",
            "8e3afa58acd24bcc92074328ed89cba2",
            "84ce0544faa94b7ba51bde005ae4fba7",
            "c950ec72c5164bb08e9378f3e77c0057",
            "404ed30fa17349178ace7c30918c47ab",
            "8663e92be7c54df28d603bf1069a7796",
            "db86408080c14dae9ced628fe7b37b75",
            "28ab094e89c3443d961d557bc0e07db6",
            "6c1936e9152545aab2bee2368e737d8e",
            "4084816cfa91479eb26dfb3e407d607c",
            "e1206c96dc2d40b894c0dbaf6eb51c4c",
            "897b17d75b764275bb4f7836df5886c7",
            "191159a6adc7417183e18dfc2e1a83b0",
            "c764f2e41573434fa0c5c9989179d672",
            "94fabe0162f74157b9457826c80c82d6",
            "192502f50a8c4bb29abbc761df019395",
            "16b3ea01191548bea63922c48a4931ee",
            "fbf8f578cd0b4ec6bab78bbee1529be0",
            "a8bb97bd5d864c7ca0c74845ac5d44e3",
            "d6edf17302c74d12a56c9d6a239198b0",
            "bc4708a8128b43598cbc0f68d9c944d8",
            "c175dedf02854377a764593af6f1f8c3",
            "052afe4305704bb3a78b49a9e01a3766",
            "25a5b410c0334811a3529b32798abd51",
            "53fe256d8fc64cd78abdf75140965b18",
            "71365d91dc2d464b9c10dc2ae43472cb",
            "bb496e9c619a4f08a72dec8a61f228cd",
            "4824cb84a5b642b588d7f112d77153a7",
            "d8133229dc6e4144b07bff15a3d36c64",
            "7e515fd419ad49a9a113c3b7d7b4c90f",
            "6b3025bbb0f54fcdb85170da2efe6340",
            "a214774092674300b027e94a439a5793",
            "ce12bd3cb643432f8129c39506f747da",
            "ccc5fed1ba2b45b5a10925e5445cb6d1",
            "625fb33ed6a74efe9a7120cedf31b533",
            "954c872bdcc341548dfc31e0aee725a7",
            "2f1052fe939f491d9bf131a646a70b5e",
            "6069172681a740d384e4558c4caa5add",
            "428dc7f07e414cfcb7bd01cb890ed43b",
            "c66cb15524764226b1193496f371fbdd",
            "9bfe739c94a64f669854172320950d48",
            "fa675775e9ad4a1d805609091fdbb74d",
            "4fac86d52fac4ce9bf18d82b5801c241",
            "85889de90a6e443ca8f8235ff1fbc1eb",
            "196e2fd68f7c4f7c9c7108527db0aba8",
            "3d332b1a9b0e4ebba08bfab25423bdcc",
            "777f985a2923446db60e8cca52ad30cf",
            "dfcd83179ed24b17af64e914aa5c0791",
            "81209b297b084af6ab3b82b8d3f9e6d5",
            "1280843bfc0342cbbedd0b934132bea9",
            "20d640c6f7e446faaf8349cf18e3e264",
            "af35ba5311a548c69dbaf15c57a7063e",
            "a017711e37614fd2bfb6a1519b16fca1",
            "0bb0fdbef3614580957ca46bc479f8d5",
            "03dbfc16a9f04224a9c339606be07b2c",
            "556c87a663ef4cb59e5554e6cb5f7e0a",
            "8090624ddfdf415cafabd10f0946d25c",
            "5716f207ab6c46e485f0dffc8a4fc116",
            "103879bf370b4ff8a22091f07c8d0752",
            "def9c038e3194dd3800d2e73430c2b0f",
            "a14ae20a5e3d42c392af4431e52f79ea",
            "f2a2ce5c849146a79edb092a296f58cd",
            "c15ca87c9356427ab7f7d0a6667bf749",
            "d8638d15ff99463488c96191a698a401",
            "2b7f92e629cb473fa3551d15add8b71f",
            "ac4ecbe14bc7446481f6114301949c5f",
            "d84cda1fcf0a49b789a8b66c9a891dd9",
            "64f44aca0c9f44c38f15658957d754c2",
            "2f55164f30bf417aa2087d2edd1c63b0",
            "393e255465bc4b338dd524379e21f3e2",
            "f4d2a09bc12548b4806fbd24ce9cf075",
            "753c18aa291f483e90afb4b5ccbd93ae",
            "3007ed945eb1450daf8c385c8d31b70e",
            "24d2fd6430884a708c8d55543a06a5d3",
            "e676bf9a7b264117b7fca108bda14912",
            "3fbbd0232ca14557bf5c9b0dcbb6567b",
            "b844e706d4bb414e8acb93dba6ec9aa5",
            "d94d71878b3c48918cba72bafa4ae583",
            "d6809965ab8b4ae59c03b95e2029099d",
            "0b155ee518c9459d94cfe2bdb98a4507",
            "2c068d79b48f4b21a42d0575d0ea6d2a",
            "06bceb16a1184e59abec50fb2a95fd10",
            "48c389b6c7ac4ce083cc36e8d37fd0bc",
            "7e1e126cd33e453c920b303729662d58",
            "bec3b171780e4db2821df83b7229f693",
            "623f5bb3f3e849898de4300b4cc8945b",
            "a9b227b585bf41e0a2c11c0992666d76",
            "0da1cc6b53f443b585720b325f9aa28f",
            "7ff1851809684274ad6740089e2e56af",
            "2d10c624793e4d0d8d24d14ca7a94660",
            "8e79030ea59b419bba9bb9c417d54f31",
            "4ded85f82bca43d48f0991bba116990b",
            "03585e0878304f889a741ee1d9f0be30",
            "f8cc2e3d8ec34ddc84d61e47b215971b",
            "d4de15955cba42a3b12b4e81b836f2d3",
            "1cf25dc5433749bcb73ab0b60c04a415",
            "09b610090be448e285429714e8b91120",
            "081b68adb2a04716b77b1fe998a8c2a1",
            "9ae59594f61f48009c2a82dd02e7d01c",
            "ab18028136be490681fb7b9c83920c4a",
            "6cb4b431bd3649ad8734d217b69bcac6",
            "cb3849983abe46bbbf2a3d4ae3d55217",
            "5318232fde324454b9609116ea6b4d7e",
            "e0fae6d8aa504b38a5770bfca7f05044",
            "8d70550864d94cf1a8f07e9787b2a8d5",
            "46d4cad1786144768637b265b0c938fd",
            "f5b89608bf9c4c2f91ad82b35cf1a512",
            "bd692248e59e4593ac80a1ac99195a4a",
            "f23afaaa2a78420f85810494164022a0",
            "c5e0048525e84039a6d77d076c653066",
            "c84b7e2d779a4255aadcba1dd443b457",
            "acfbb5eade9144a0bc6f690ec0070095",
            "b3b87ec4ce2543d7a1df7d6895693d20",
            "15b88eea23724c6289e9d238823e1161",
            "4ff607fc614c46b9b41d7b387e2344bc",
            "99f61ee5e0df4547a9976ad16eccabaf",
            "408c4a0fc6f34e2f90df9b2a35082506",
            "719809f1e2a0406c92bdcca6ebdab8d7",
            "f856ce64e170485886d7ac52e2a1367d",
            "dea831fa65464d4fa0df4bf46154f56d",
            "4072953b66e6429d9be43a44ffe215da",
            "d796aee4a11c4a658e8ea7843df07956",
            "4cd4cb293dc44418ae66c1ef738f37c2",
            "9e5995e5dca64219a2af7393a50588bd",
            "2517856a3fed457ca8e976c4c5a604a0",
            "a5cdbc13c1234910870c9d12c8ef366a",
            "2f931b438653473fb7fcfac610a0641a",
            "400f683d8d764a3c8cfb94b34645cf5a",
            "ab923b2776f94e43a26d0ee3bc359093",
            "927feecfb4b848b092c3e96d4eb902cc",
            "9ee948d8209047878fe812da0f2f43d4",
            "ee0f09b12df847e6813ade0f50904735",
            "121c48cbcf334107b70f1994bd3356f4",
            "fc5dfef56f2f45db9b3dd5231d87adeb",
            "b15f864f1dcb47f9947317c5123ef0b4",
            "527e4f2b11ba4cb19853458c791c899c",
            "628062e5de6d4ecaae74d0435074d84e",
            "7f6378ba88d249cf90ac436fc969901b",
            "4259428b9e1447b38bb3c6c7342554b0",
            "d70f7474ff224c2aaecf49399bfc4e6d"
          ]
        },
        "outputId": "af2463fe-ce29-4011-ec5b-307b660d51b4"
      },
      "execution_count": null,
      "outputs": [
        {
          "output_type": "stream",
          "name": "stdout",
          "text": [
            "Running min_topic_size: 50,                     nr_topics: 10,                     top_n_words: 5\n"
          ]
        },
        {
          "output_type": "display_data",
          "data": {
            "text/plain": [
              "Batches:   0%|          | 0/3049 [00:00<?, ?it/s]"
            ],
            "application/vnd.jupyter.widget-view+json": {
              "version_major": 2,
              "version_minor": 0,
              "model_id": "66d8f98c2bbc4515b9e9d99d69a03162"
            }
          },
          "metadata": {}
        },
        {
          "output_type": "stream",
          "name": "stderr",
          "text": [
            "2023-05-15 13:14:05,324 - BERTopic - Transformed documents to Embeddings\n",
            "2023-05-15 13:14:23,672 - BERTopic - Reduced dimensionality\n",
            "2023-05-15 13:14:30,440 - BERTopic - Clustered reduced embeddings\n",
            "2023-05-15 13:14:35,931 - BERTopic - Reduced number of topics from 823 to 10\n"
          ]
        },
        {
          "output_type": "stream",
          "name": "stdout",
          "text": [
            "Current coherence score: 0.17153402840241877\n",
            "Current best coherence score: 0.17153402840241877\n",
            "Running min_topic_size: 50,                     nr_topics: 10,                     top_n_words: 10\n"
          ]
        },
        {
          "output_type": "display_data",
          "data": {
            "text/plain": [
              "Batches:   0%|          | 0/3049 [00:00<?, ?it/s]"
            ],
            "application/vnd.jupyter.widget-view+json": {
              "version_major": 2,
              "version_minor": 0,
              "model_id": "efc8b434f0264cd497b682ff557fe3de"
            }
          },
          "metadata": {}
        },
        {
          "output_type": "stream",
          "name": "stderr",
          "text": [
            "2023-05-15 13:15:47,651 - BERTopic - Transformed documents to Embeddings\n",
            "2023-05-15 13:16:05,547 - BERTopic - Reduced dimensionality\n",
            "2023-05-15 13:16:11,149 - BERTopic - Clustered reduced embeddings\n",
            "2023-05-15 13:16:19,366 - BERTopic - Reduced number of topics from 840 to 10\n"
          ]
        },
        {
          "output_type": "stream",
          "name": "stdout",
          "text": [
            "Current coherence score: 0.16456239296825576\n",
            "Current best coherence score: 0.17153402840241877\n",
            "Running min_topic_size: 50,                     nr_topics: 15,                     top_n_words: 5\n"
          ]
        },
        {
          "output_type": "display_data",
          "data": {
            "text/plain": [
              "Batches:   0%|          | 0/3049 [00:00<?, ?it/s]"
            ],
            "application/vnd.jupyter.widget-view+json": {
              "version_major": 2,
              "version_minor": 0,
              "model_id": "bc67c2fd767a4302853a36c4a90c216d"
            }
          },
          "metadata": {}
        },
        {
          "output_type": "stream",
          "name": "stderr",
          "text": [
            "2023-05-15 13:17:29,997 - BERTopic - Transformed documents to Embeddings\n",
            "2023-05-15 13:17:48,945 - BERTopic - Reduced dimensionality\n",
            "2023-05-15 13:17:54,536 - BERTopic - Clustered reduced embeddings\n",
            "2023-05-15 13:17:59,962 - BERTopic - Reduced number of topics from 844 to 15\n"
          ]
        },
        {
          "output_type": "stream",
          "name": "stdout",
          "text": [
            "Current coherence score: 0.17076803809201452\n",
            "Current best coherence score: 0.17153402840241877\n",
            "Running min_topic_size: 50,                     nr_topics: 15,                     top_n_words: 10\n"
          ]
        },
        {
          "output_type": "display_data",
          "data": {
            "text/plain": [
              "Batches:   0%|          | 0/3049 [00:00<?, ?it/s]"
            ],
            "application/vnd.jupyter.widget-view+json": {
              "version_major": 2,
              "version_minor": 0,
              "model_id": "c2cc1a233f3543e8a64be4fd7025935d"
            }
          },
          "metadata": {}
        },
        {
          "output_type": "stream",
          "name": "stderr",
          "text": [
            "2023-05-15 13:19:13,133 - BERTopic - Transformed documents to Embeddings\n",
            "2023-05-15 13:19:31,717 - BERTopic - Reduced dimensionality\n",
            "2023-05-15 13:19:37,875 - BERTopic - Clustered reduced embeddings\n",
            "2023-05-15 13:19:44,990 - BERTopic - Reduced number of topics from 849 to 15\n"
          ]
        },
        {
          "output_type": "stream",
          "name": "stdout",
          "text": [
            "Current coherence score: 0.18476646977809127\n",
            "Current best coherence score: 0.18476646977809127\n",
            "Running min_topic_size: 50,                     nr_topics: 20,                     top_n_words: 5\n"
          ]
        },
        {
          "output_type": "display_data",
          "data": {
            "text/plain": [
              "Batches:   0%|          | 0/3049 [00:00<?, ?it/s]"
            ],
            "application/vnd.jupyter.widget-view+json": {
              "version_major": 2,
              "version_minor": 0,
              "model_id": "4878e5e150ae4cf3899e56ffd1b7efff"
            }
          },
          "metadata": {}
        },
        {
          "output_type": "stream",
          "name": "stderr",
          "text": [
            "2023-05-15 13:20:56,284 - BERTopic - Transformed documents to Embeddings\n",
            "2023-05-15 13:21:15,457 - BERTopic - Reduced dimensionality\n",
            "2023-05-15 13:21:21,118 - BERTopic - Clustered reduced embeddings\n",
            "2023-05-15 13:21:28,598 - BERTopic - Reduced number of topics from 827 to 20\n"
          ]
        },
        {
          "output_type": "stream",
          "name": "stdout",
          "text": [
            "Current coherence score: 0.18233964843380804\n",
            "Current best coherence score: 0.18476646977809127\n",
            "Running min_topic_size: 50,                     nr_topics: 20,                     top_n_words: 10\n"
          ]
        },
        {
          "output_type": "display_data",
          "data": {
            "text/plain": [
              "Batches:   0%|          | 0/3049 [00:00<?, ?it/s]"
            ],
            "application/vnd.jupyter.widget-view+json": {
              "version_major": 2,
              "version_minor": 0,
              "model_id": "282e20c09e9f4b7983a34e2951a39e74"
            }
          },
          "metadata": {}
        },
        {
          "output_type": "stream",
          "name": "stderr",
          "text": [
            "2023-05-15 13:22:40,829 - BERTopic - Transformed documents to Embeddings\n",
            "2023-05-15 13:22:59,074 - BERTopic - Reduced dimensionality\n",
            "2023-05-15 13:23:04,753 - BERTopic - Clustered reduced embeddings\n",
            "2023-05-15 13:23:13,179 - BERTopic - Reduced number of topics from 859 to 20\n"
          ]
        },
        {
          "output_type": "stream",
          "name": "stdout",
          "text": [
            "Current coherence score: 0.18298519123999413\n",
            "Current best coherence score: 0.18476646977809127\n",
            "Running min_topic_size: 100,                     nr_topics: 10,                     top_n_words: 5\n"
          ]
        },
        {
          "output_type": "display_data",
          "data": {
            "text/plain": [
              "Batches:   0%|          | 0/3049 [00:00<?, ?it/s]"
            ],
            "application/vnd.jupyter.widget-view+json": {
              "version_major": 2,
              "version_minor": 0,
              "model_id": "ca43c9d610cd41c7975694a8b2a94184"
            }
          },
          "metadata": {}
        },
        {
          "output_type": "stream",
          "name": "stderr",
          "text": [
            "2023-05-15 13:24:26,040 - BERTopic - Transformed documents to Embeddings\n",
            "2023-05-15 13:24:43,561 - BERTopic - Reduced dimensionality\n",
            "2023-05-15 13:24:49,727 - BERTopic - Clustered reduced embeddings\n",
            "2023-05-15 13:24:55,088 - BERTopic - Reduced number of topics from 847 to 10\n"
          ]
        },
        {
          "output_type": "stream",
          "name": "stdout",
          "text": [
            "Current coherence score: 0.16968661046210892\n",
            "Current best coherence score: 0.18476646977809127\n",
            "Running min_topic_size: 100,                     nr_topics: 10,                     top_n_words: 10\n"
          ]
        },
        {
          "output_type": "display_data",
          "data": {
            "text/plain": [
              "Batches:   0%|          | 0/3049 [00:00<?, ?it/s]"
            ],
            "application/vnd.jupyter.widget-view+json": {
              "version_major": 2,
              "version_minor": 0,
              "model_id": "3e4d4ac4df4c45ef87af889a42ef1aca"
            }
          },
          "metadata": {}
        },
        {
          "output_type": "stream",
          "name": "stderr",
          "text": [
            "2023-05-15 13:26:06,897 - BERTopic - Transformed documents to Embeddings\n",
            "2023-05-15 13:26:25,188 - BERTopic - Reduced dimensionality\n",
            "2023-05-15 13:26:30,939 - BERTopic - Clustered reduced embeddings\n",
            "2023-05-15 13:26:39,432 - BERTopic - Reduced number of topics from 835 to 10\n"
          ]
        },
        {
          "output_type": "stream",
          "name": "stdout",
          "text": [
            "Current coherence score: 0.17557215652472918\n",
            "Current best coherence score: 0.18476646977809127\n",
            "Running min_topic_size: 100,                     nr_topics: 15,                     top_n_words: 5\n"
          ]
        },
        {
          "output_type": "display_data",
          "data": {
            "text/plain": [
              "Batches:   0%|          | 0/3049 [00:00<?, ?it/s]"
            ],
            "application/vnd.jupyter.widget-view+json": {
              "version_major": 2,
              "version_minor": 0,
              "model_id": "11bdc13459c24803a7f6049ddbcd45e5"
            }
          },
          "metadata": {}
        },
        {
          "output_type": "stream",
          "name": "stderr",
          "text": [
            "2023-05-15 13:27:48,532 - BERTopic - Transformed documents to Embeddings\n",
            "2023-05-15 13:28:06,916 - BERTopic - Reduced dimensionality\n",
            "2023-05-15 13:28:12,934 - BERTopic - Clustered reduced embeddings\n",
            "2023-05-15 13:28:18,500 - BERTopic - Reduced number of topics from 855 to 15\n"
          ]
        },
        {
          "output_type": "stream",
          "name": "stdout",
          "text": [
            "Current coherence score: 0.1816205666779139\n",
            "Current best coherence score: 0.18476646977809127\n",
            "Running min_topic_size: 100,                     nr_topics: 15,                     top_n_words: 10\n"
          ]
        },
        {
          "output_type": "display_data",
          "data": {
            "text/plain": [
              "Batches:   0%|          | 0/3049 [00:00<?, ?it/s]"
            ],
            "application/vnd.jupyter.widget-view+json": {
              "version_major": 2,
              "version_minor": 0,
              "model_id": "90cbab678b4a4aadb99937149eb16837"
            }
          },
          "metadata": {}
        },
        {
          "output_type": "stream",
          "name": "stderr",
          "text": [
            "2023-05-15 13:29:29,619 - BERTopic - Transformed documents to Embeddings\n",
            "2023-05-15 13:29:47,923 - BERTopic - Reduced dimensionality\n",
            "2023-05-15 13:29:54,554 - BERTopic - Clustered reduced embeddings\n",
            "2023-05-15 13:30:01,763 - BERTopic - Reduced number of topics from 839 to 15\n"
          ]
        },
        {
          "output_type": "stream",
          "name": "stdout",
          "text": [
            "Current coherence score: 0.18005820439592568\n",
            "Current best coherence score: 0.18476646977809127\n",
            "Running min_topic_size: 100,                     nr_topics: 20,                     top_n_words: 5\n"
          ]
        },
        {
          "output_type": "display_data",
          "data": {
            "text/plain": [
              "Batches:   0%|          | 0/3049 [00:00<?, ?it/s]"
            ],
            "application/vnd.jupyter.widget-view+json": {
              "version_major": 2,
              "version_minor": 0,
              "model_id": "8227f93bb56b4df184b9e287dbf2b24d"
            }
          },
          "metadata": {}
        },
        {
          "output_type": "stream",
          "name": "stderr",
          "text": [
            "2023-05-15 13:31:14,075 - BERTopic - Transformed documents to Embeddings\n",
            "2023-05-15 13:31:32,652 - BERTopic - Reduced dimensionality\n",
            "2023-05-15 13:31:38,688 - BERTopic - Clustered reduced embeddings\n",
            "2023-05-15 13:31:46,273 - BERTopic - Reduced number of topics from 859 to 20\n"
          ]
        },
        {
          "output_type": "stream",
          "name": "stdout",
          "text": [
            "Current coherence score: 0.18739826480294233\n",
            "Current best coherence score: 0.18739826480294233\n",
            "Running min_topic_size: 100,                     nr_topics: 20,                     top_n_words: 10\n"
          ]
        },
        {
          "output_type": "display_data",
          "data": {
            "text/plain": [
              "Batches:   0%|          | 0/3049 [00:00<?, ?it/s]"
            ],
            "application/vnd.jupyter.widget-view+json": {
              "version_major": 2,
              "version_minor": 0,
              "model_id": "3a61fe5995f94803b3a3ff415b967edb"
            }
          },
          "metadata": {}
        },
        {
          "output_type": "stream",
          "name": "stderr",
          "text": [
            "2023-05-15 13:32:58,122 - BERTopic - Transformed documents to Embeddings\n",
            "2023-05-15 13:33:16,509 - BERTopic - Reduced dimensionality\n",
            "2023-05-15 13:33:22,851 - BERTopic - Clustered reduced embeddings\n",
            "2023-05-15 13:33:31,030 - BERTopic - Reduced number of topics from 848 to 20\n"
          ]
        },
        {
          "output_type": "stream",
          "name": "stdout",
          "text": [
            "Current coherence score: 0.1935972570500649\n",
            "Current best coherence score: 0.1935972570500649\n",
            "Running min_topic_size: 150,                     nr_topics: 10,                     top_n_words: 5\n"
          ]
        },
        {
          "output_type": "display_data",
          "data": {
            "text/plain": [
              "Batches:   0%|          | 0/3049 [00:00<?, ?it/s]"
            ],
            "application/vnd.jupyter.widget-view+json": {
              "version_major": 2,
              "version_minor": 0,
              "model_id": "6c1936e9152545aab2bee2368e737d8e"
            }
          },
          "metadata": {}
        },
        {
          "output_type": "stream",
          "name": "stderr",
          "text": [
            "2023-05-15 13:34:43,327 - BERTopic - Transformed documents to Embeddings\n",
            "2023-05-15 13:35:01,567 - BERTopic - Reduced dimensionality\n",
            "2023-05-15 13:35:07,590 - BERTopic - Clustered reduced embeddings\n",
            "2023-05-15 13:35:13,778 - BERTopic - Reduced number of topics from 841 to 10\n"
          ]
        },
        {
          "output_type": "stream",
          "name": "stdout",
          "text": [
            "Current coherence score: 0.18569998811892535\n",
            "Current best coherence score: 0.1935972570500649\n",
            "Running min_topic_size: 150,                     nr_topics: 10,                     top_n_words: 10\n"
          ]
        },
        {
          "output_type": "display_data",
          "data": {
            "text/plain": [
              "Batches:   0%|          | 0/3049 [00:00<?, ?it/s]"
            ],
            "application/vnd.jupyter.widget-view+json": {
              "version_major": 2,
              "version_minor": 0,
              "model_id": "d6edf17302c74d12a56c9d6a239198b0"
            }
          },
          "metadata": {}
        },
        {
          "output_type": "stream",
          "name": "stderr",
          "text": [
            "2023-05-15 13:36:25,198 - BERTopic - Transformed documents to Embeddings\n",
            "2023-05-15 13:36:43,315 - BERTopic - Reduced dimensionality\n",
            "2023-05-15 13:36:50,379 - BERTopic - Clustered reduced embeddings\n",
            "2023-05-15 13:36:56,882 - BERTopic - Reduced number of topics from 852 to 10\n"
          ]
        },
        {
          "output_type": "stream",
          "name": "stdout",
          "text": [
            "Current coherence score: 0.17574800482579686\n",
            "Current best coherence score: 0.1935972570500649\n",
            "Running min_topic_size: 150,                     nr_topics: 15,                     top_n_words: 5\n"
          ]
        },
        {
          "output_type": "display_data",
          "data": {
            "text/plain": [
              "Batches:   0%|          | 0/3049 [00:00<?, ?it/s]"
            ],
            "application/vnd.jupyter.widget-view+json": {
              "version_major": 2,
              "version_minor": 0,
              "model_id": "6b3025bbb0f54fcdb85170da2efe6340"
            }
          },
          "metadata": {}
        },
        {
          "output_type": "stream",
          "name": "stderr",
          "text": [
            "2023-05-15 13:38:07,729 - BERTopic - Transformed documents to Embeddings\n",
            "2023-05-15 13:38:26,860 - BERTopic - Reduced dimensionality\n",
            "2023-05-15 13:38:33,068 - BERTopic - Clustered reduced embeddings\n",
            "2023-05-15 13:38:40,339 - BERTopic - Reduced number of topics from 828 to 15\n"
          ]
        },
        {
          "output_type": "stream",
          "name": "stdout",
          "text": [
            "Current coherence score: 0.17623906175515144\n",
            "Current best coherence score: 0.1935972570500649\n",
            "Running min_topic_size: 150,                     nr_topics: 15,                     top_n_words: 10\n"
          ]
        },
        {
          "output_type": "display_data",
          "data": {
            "text/plain": [
              "Batches:   0%|          | 0/3049 [00:00<?, ?it/s]"
            ],
            "application/vnd.jupyter.widget-view+json": {
              "version_major": 2,
              "version_minor": 0,
              "model_id": "fa675775e9ad4a1d805609091fdbb74d"
            }
          },
          "metadata": {}
        },
        {
          "output_type": "stream",
          "name": "stderr",
          "text": [
            "2023-05-15 13:39:52,723 - BERTopic - Transformed documents to Embeddings\n",
            "2023-05-15 13:40:10,870 - BERTopic - Reduced dimensionality\n",
            "2023-05-15 13:40:17,079 - BERTopic - Clustered reduced embeddings\n",
            "2023-05-15 13:40:25,239 - BERTopic - Reduced number of topics from 827 to 15\n"
          ]
        },
        {
          "output_type": "stream",
          "name": "stdout",
          "text": [
            "Current coherence score: 0.1830220142215207\n",
            "Current best coherence score: 0.1935972570500649\n",
            "Running min_topic_size: 150,                     nr_topics: 20,                     top_n_words: 5\n"
          ]
        },
        {
          "output_type": "display_data",
          "data": {
            "text/plain": [
              "Batches:   0%|          | 0/3049 [00:00<?, ?it/s]"
            ],
            "application/vnd.jupyter.widget-view+json": {
              "version_major": 2,
              "version_minor": 0,
              "model_id": "a017711e37614fd2bfb6a1519b16fca1"
            }
          },
          "metadata": {}
        },
        {
          "output_type": "stream",
          "name": "stderr",
          "text": [
            "2023-05-15 13:41:36,206 - BERTopic - Transformed documents to Embeddings\n",
            "2023-05-15 13:41:54,036 - BERTopic - Reduced dimensionality\n",
            "2023-05-15 13:42:00,413 - BERTopic - Clustered reduced embeddings\n",
            "2023-05-15 13:42:05,885 - BERTopic - Reduced number of topics from 863 to 20\n"
          ]
        },
        {
          "output_type": "stream",
          "name": "stdout",
          "text": [
            "Current coherence score: 0.1842842692651968\n",
            "Current best coherence score: 0.1935972570500649\n",
            "Running min_topic_size: 150,                     nr_topics: 20,                     top_n_words: 10\n"
          ]
        },
        {
          "output_type": "display_data",
          "data": {
            "text/plain": [
              "Batches:   0%|          | 0/3049 [00:00<?, ?it/s]"
            ],
            "application/vnd.jupyter.widget-view+json": {
              "version_major": 2,
              "version_minor": 0,
              "model_id": "d8638d15ff99463488c96191a698a401"
            }
          },
          "metadata": {}
        },
        {
          "output_type": "stream",
          "name": "stderr",
          "text": [
            "2023-05-15 13:43:17,915 - BERTopic - Transformed documents to Embeddings\n",
            "2023-05-15 13:43:35,714 - BERTopic - Reduced dimensionality\n",
            "2023-05-15 13:43:42,613 - BERTopic - Clustered reduced embeddings\n",
            "2023-05-15 13:43:49,841 - BERTopic - Reduced number of topics from 843 to 20\n"
          ]
        },
        {
          "output_type": "stream",
          "name": "stdout",
          "text": [
            "Current coherence score: 0.18114674545049594\n",
            "Current best coherence score: 0.1935972570500649\n",
            "Running min_topic_size: 200,                     nr_topics: 10,                     top_n_words: 5\n"
          ]
        },
        {
          "output_type": "display_data",
          "data": {
            "text/plain": [
              "Batches:   0%|          | 0/3049 [00:00<?, ?it/s]"
            ],
            "application/vnd.jupyter.widget-view+json": {
              "version_major": 2,
              "version_minor": 0,
              "model_id": "e676bf9a7b264117b7fca108bda14912"
            }
          },
          "metadata": {}
        },
        {
          "output_type": "stream",
          "name": "stderr",
          "text": [
            "2023-05-15 13:45:04,260 - BERTopic - Transformed documents to Embeddings\n",
            "2023-05-15 13:45:22,045 - BERTopic - Reduced dimensionality\n",
            "2023-05-15 13:45:28,260 - BERTopic - Clustered reduced embeddings\n",
            "2023-05-15 13:45:35,710 - BERTopic - Reduced number of topics from 831 to 10\n"
          ]
        },
        {
          "output_type": "stream",
          "name": "stdout",
          "text": [
            "Current coherence score: 0.1705938858687188\n",
            "Current best coherence score: 0.1935972570500649\n",
            "Running min_topic_size: 200,                     nr_topics: 10,                     top_n_words: 10\n"
          ]
        },
        {
          "output_type": "display_data",
          "data": {
            "text/plain": [
              "Batches:   0%|          | 0/3049 [00:00<?, ?it/s]"
            ],
            "application/vnd.jupyter.widget-view+json": {
              "version_major": 2,
              "version_minor": 0,
              "model_id": "623f5bb3f3e849898de4300b4cc8945b"
            }
          },
          "metadata": {}
        },
        {
          "output_type": "stream",
          "name": "stderr",
          "text": [
            "2023-05-15 13:46:45,667 - BERTopic - Transformed documents to Embeddings\n",
            "2023-05-15 13:47:03,567 - BERTopic - Reduced dimensionality\n",
            "2023-05-15 13:47:09,744 - BERTopic - Clustered reduced embeddings\n",
            "2023-05-15 13:47:16,789 - BERTopic - Reduced number of topics from 873 to 10\n"
          ]
        },
        {
          "output_type": "stream",
          "name": "stdout",
          "text": [
            "Current coherence score: 0.178211038766451\n",
            "Current best coherence score: 0.1935972570500649\n",
            "Running min_topic_size: 200,                     nr_topics: 15,                     top_n_words: 5\n"
          ]
        },
        {
          "output_type": "display_data",
          "data": {
            "text/plain": [
              "Batches:   0%|          | 0/3049 [00:00<?, ?it/s]"
            ],
            "application/vnd.jupyter.widget-view+json": {
              "version_major": 2,
              "version_minor": 0,
              "model_id": "09b610090be448e285429714e8b91120"
            }
          },
          "metadata": {}
        },
        {
          "output_type": "stream",
          "name": "stderr",
          "text": [
            "2023-05-15 13:48:29,048 - BERTopic - Transformed documents to Embeddings\n",
            "2023-05-15 13:48:47,442 - BERTopic - Reduced dimensionality\n",
            "2023-05-15 13:48:54,731 - BERTopic - Clustered reduced embeddings\n",
            "2023-05-15 13:49:00,261 - BERTopic - Reduced number of topics from 846 to 15\n"
          ]
        },
        {
          "output_type": "stream",
          "name": "stdout",
          "text": [
            "Current coherence score: 0.1885106590564327\n",
            "Current best coherence score: 0.1935972570500649\n",
            "Running min_topic_size: 200,                     nr_topics: 15,                     top_n_words: 10\n"
          ]
        },
        {
          "output_type": "display_data",
          "data": {
            "text/plain": [
              "Batches:   0%|          | 0/3049 [00:00<?, ?it/s]"
            ],
            "application/vnd.jupyter.widget-view+json": {
              "version_major": 2,
              "version_minor": 0,
              "model_id": "bd692248e59e4593ac80a1ac99195a4a"
            }
          },
          "metadata": {}
        },
        {
          "output_type": "stream",
          "name": "stderr",
          "text": [
            "2023-05-15 13:50:13,751 - BERTopic - Transformed documents to Embeddings\n",
            "2023-05-15 13:50:32,008 - BERTopic - Reduced dimensionality\n",
            "2023-05-15 13:50:38,255 - BERTopic - Clustered reduced embeddings\n",
            "2023-05-15 13:50:46,165 - BERTopic - Reduced number of topics from 841 to 15\n"
          ]
        },
        {
          "output_type": "stream",
          "name": "stdout",
          "text": [
            "Current coherence score: 0.178138371606586\n",
            "Current best coherence score: 0.1935972570500649\n",
            "Running min_topic_size: 200,                     nr_topics: 20,                     top_n_words: 5\n"
          ]
        },
        {
          "output_type": "display_data",
          "data": {
            "text/plain": [
              "Batches:   0%|          | 0/3049 [00:00<?, ?it/s]"
            ],
            "application/vnd.jupyter.widget-view+json": {
              "version_major": 2,
              "version_minor": 0,
              "model_id": "f856ce64e170485886d7ac52e2a1367d"
            }
          },
          "metadata": {}
        },
        {
          "output_type": "stream",
          "name": "stderr",
          "text": [
            "2023-05-15 13:51:56,865 - BERTopic - Transformed documents to Embeddings\n",
            "2023-05-15 13:52:15,270 - BERTopic - Reduced dimensionality\n",
            "2023-05-15 13:52:21,369 - BERTopic - Clustered reduced embeddings\n",
            "2023-05-15 13:52:28,534 - BERTopic - Reduced number of topics from 849 to 20\n"
          ]
        },
        {
          "output_type": "stream",
          "name": "stdout",
          "text": [
            "Current coherence score: 0.18147955743281627\n",
            "Current best coherence score: 0.1935972570500649\n",
            "Running min_topic_size: 200,                     nr_topics: 20,                     top_n_words: 10\n"
          ]
        },
        {
          "output_type": "display_data",
          "data": {
            "text/plain": [
              "Batches:   0%|          | 0/3049 [00:00<?, ?it/s]"
            ],
            "application/vnd.jupyter.widget-view+json": {
              "version_major": 2,
              "version_minor": 0,
              "model_id": "927feecfb4b848b092c3e96d4eb902cc"
            }
          },
          "metadata": {}
        },
        {
          "output_type": "stream",
          "name": "stderr",
          "text": [
            "2023-05-15 13:53:41,696 - BERTopic - Transformed documents to Embeddings\n",
            "2023-05-15 13:53:59,691 - BERTopic - Reduced dimensionality\n",
            "2023-05-15 13:54:05,713 - BERTopic - Clustered reduced embeddings\n",
            "2023-05-15 13:54:12,991 - BERTopic - Reduced number of topics from 857 to 20\n"
          ]
        },
        {
          "output_type": "stream",
          "name": "stdout",
          "text": [
            "Current coherence score: 0.1878000948415313\n",
            "Current best coherence score: 0.1935972570500649\n"
          ]
        }
      ]
    },
    {
      "cell_type": "code",
      "source": [
        "print(coherence_history)\n",
        "print(best_coherence)"
      ],
      "metadata": {
        "colab": {
          "base_uri": "https://localhost:8080/"
        },
        "id": "LZPbM5FvJjPl",
        "outputId": "2848a91d-f272-4ada-8e1e-7e2c864107db"
      },
      "execution_count": null,
      "outputs": [
        {
          "output_type": "stream",
          "name": "stdout",
          "text": [
            "{'50, 10, 5': 0.17153402840241877, '50, 10, 10': 0.16456239296825576, '50, 15, 5': 0.17076803809201452, '50, 15, 10': 0.18476646977809127, '50, 20, 5': 0.18233964843380804, '50, 20, 10': 0.18298519123999413, '100, 10, 5': 0.16968661046210892, '100, 10, 10': 0.17557215652472918, '100, 15, 5': 0.1816205666779139, '100, 15, 10': 0.18005820439592568, '100, 20, 5': 0.18739826480294233, '100, 20, 10': 0.1935972570500649, '150, 10, 5': 0.18569998811892535, '150, 10, 10': 0.17574800482579686, '150, 15, 5': 0.17623906175515144, '150, 15, 10': 0.1830220142215207, '150, 20, 5': 0.1842842692651968, '150, 20, 10': 0.18114674545049594, '200, 10, 5': 0.1705938858687188, '200, 10, 10': 0.178211038766451, '200, 15, 5': 0.1885106590564327, '200, 15, 10': 0.178138371606586, '200, 20, 5': 0.18147955743281627, '200, 20, 10': 0.1878000948415313}\n",
            "0.1935972570500649\n"
          ]
        }
      ]
    },
    {
      "cell_type": "code",
      "execution_count": null,
      "metadata": {
        "id": "fVTBht2RmyaC"
      },
      "outputs": [],
      "source": [
        "best_model.save('/content/drive/MyDrive/TK2/chatgpt-topic-model')"
      ]
    },
    {
      "cell_type": "code",
      "source": [
        "topic_model = BERTopic.load('/content/drive/MyDrive/TK2/chatgpt-topic-model')"
      ],
      "metadata": {
        "id": "SVM8rGIBxJnE"
      },
      "execution_count": null,
      "outputs": []
    },
    {
      "cell_type": "code",
      "source": [
        "topic_model.get_topic_info()"
      ],
      "metadata": {
        "colab": {
          "base_uri": "https://localhost:8080/",
          "height": 645
        },
        "id": "GkPpY-arfenx",
        "outputId": "f6830047-9d3f-447d-e8b1-7d127c136e18"
      },
      "execution_count": null,
      "outputs": [
        {
          "output_type": "execute_result",
          "data": {
            "text/plain": [
              "    Topic  Count                                  Name\n",
              "0       0  58968               0_chat_gpt4_google_like\n",
              "1       1   1789  1_congratulation_congrats_day_thanks\n",
              "2       2   2148      2_math_answer_calculator_problem\n",
              "3       3   3705    3_domain_business_linkedin_website\n",
              "4       4   4079                  4_app_code_like_game\n",
              "5       5   1719         5_apology_chat_asked_response\n",
              "6       6   3116         6_write_writing_story_written\n",
              "7       7   1415              7_money_tax_pay_business\n",
              "8       8   1317           8_javascript_code_react_api\n",
              "9       9   3772              9_trust_people_dont_like\n",
              "10     10    983         10_covid_vaccine_virus_threat\n",
              "11     11   1209             11_love_thank_awww_little\n",
              "12     12   4018               12_job_work_writing_use\n",
              "13     13   2807              13_human_like_asked_life\n",
              "14     14   1228            14_prompt_2023_code_number\n",
              "15     15   1050                  15_use_using_used_im\n",
              "16     16    870         16_light_one_gaslighting_like\n",
              "17     17   1635           17_would_think_better_agree\n",
              "18     18   1728                  18_llm_meme_like_man"
            ],
            "text/html": [
              "\n",
              "  <div id=\"df-e4f90c7c-0812-4ac4-bccc-02ce07c3dcae\">\n",
              "    <div class=\"colab-df-container\">\n",
              "      <div>\n",
              "<style scoped>\n",
              "    .dataframe tbody tr th:only-of-type {\n",
              "        vertical-align: middle;\n",
              "    }\n",
              "\n",
              "    .dataframe tbody tr th {\n",
              "        vertical-align: top;\n",
              "    }\n",
              "\n",
              "    .dataframe thead th {\n",
              "        text-align: right;\n",
              "    }\n",
              "</style>\n",
              "<table border=\"1\" class=\"dataframe\">\n",
              "  <thead>\n",
              "    <tr style=\"text-align: right;\">\n",
              "      <th></th>\n",
              "      <th>Topic</th>\n",
              "      <th>Count</th>\n",
              "      <th>Name</th>\n",
              "    </tr>\n",
              "  </thead>\n",
              "  <tbody>\n",
              "    <tr>\n",
              "      <th>0</th>\n",
              "      <td>0</td>\n",
              "      <td>58968</td>\n",
              "      <td>0_chat_gpt4_google_like</td>\n",
              "    </tr>\n",
              "    <tr>\n",
              "      <th>1</th>\n",
              "      <td>1</td>\n",
              "      <td>1789</td>\n",
              "      <td>1_congratulation_congrats_day_thanks</td>\n",
              "    </tr>\n",
              "    <tr>\n",
              "      <th>2</th>\n",
              "      <td>2</td>\n",
              "      <td>2148</td>\n",
              "      <td>2_math_answer_calculator_problem</td>\n",
              "    </tr>\n",
              "    <tr>\n",
              "      <th>3</th>\n",
              "      <td>3</td>\n",
              "      <td>3705</td>\n",
              "      <td>3_domain_business_linkedin_website</td>\n",
              "    </tr>\n",
              "    <tr>\n",
              "      <th>4</th>\n",
              "      <td>4</td>\n",
              "      <td>4079</td>\n",
              "      <td>4_app_code_like_game</td>\n",
              "    </tr>\n",
              "    <tr>\n",
              "      <th>5</th>\n",
              "      <td>5</td>\n",
              "      <td>1719</td>\n",
              "      <td>5_apology_chat_asked_response</td>\n",
              "    </tr>\n",
              "    <tr>\n",
              "      <th>6</th>\n",
              "      <td>6</td>\n",
              "      <td>3116</td>\n",
              "      <td>6_write_writing_story_written</td>\n",
              "    </tr>\n",
              "    <tr>\n",
              "      <th>7</th>\n",
              "      <td>7</td>\n",
              "      <td>1415</td>\n",
              "      <td>7_money_tax_pay_business</td>\n",
              "    </tr>\n",
              "    <tr>\n",
              "      <th>8</th>\n",
              "      <td>8</td>\n",
              "      <td>1317</td>\n",
              "      <td>8_javascript_code_react_api</td>\n",
              "    </tr>\n",
              "    <tr>\n",
              "      <th>9</th>\n",
              "      <td>9</td>\n",
              "      <td>3772</td>\n",
              "      <td>9_trust_people_dont_like</td>\n",
              "    </tr>\n",
              "    <tr>\n",
              "      <th>10</th>\n",
              "      <td>10</td>\n",
              "      <td>983</td>\n",
              "      <td>10_covid_vaccine_virus_threat</td>\n",
              "    </tr>\n",
              "    <tr>\n",
              "      <th>11</th>\n",
              "      <td>11</td>\n",
              "      <td>1209</td>\n",
              "      <td>11_love_thank_awww_little</td>\n",
              "    </tr>\n",
              "    <tr>\n",
              "      <th>12</th>\n",
              "      <td>12</td>\n",
              "      <td>4018</td>\n",
              "      <td>12_job_work_writing_use</td>\n",
              "    </tr>\n",
              "    <tr>\n",
              "      <th>13</th>\n",
              "      <td>13</td>\n",
              "      <td>2807</td>\n",
              "      <td>13_human_like_asked_life</td>\n",
              "    </tr>\n",
              "    <tr>\n",
              "      <th>14</th>\n",
              "      <td>14</td>\n",
              "      <td>1228</td>\n",
              "      <td>14_prompt_2023_code_number</td>\n",
              "    </tr>\n",
              "    <tr>\n",
              "      <th>15</th>\n",
              "      <td>15</td>\n",
              "      <td>1050</td>\n",
              "      <td>15_use_using_used_im</td>\n",
              "    </tr>\n",
              "    <tr>\n",
              "      <th>16</th>\n",
              "      <td>16</td>\n",
              "      <td>870</td>\n",
              "      <td>16_light_one_gaslighting_like</td>\n",
              "    </tr>\n",
              "    <tr>\n",
              "      <th>17</th>\n",
              "      <td>17</td>\n",
              "      <td>1635</td>\n",
              "      <td>17_would_think_better_agree</td>\n",
              "    </tr>\n",
              "    <tr>\n",
              "      <th>18</th>\n",
              "      <td>18</td>\n",
              "      <td>1728</td>\n",
              "      <td>18_llm_meme_like_man</td>\n",
              "    </tr>\n",
              "  </tbody>\n",
              "</table>\n",
              "</div>\n",
              "      <button class=\"colab-df-convert\" onclick=\"convertToInteractive('df-e4f90c7c-0812-4ac4-bccc-02ce07c3dcae')\"\n",
              "              title=\"Convert this dataframe to an interactive table.\"\n",
              "              style=\"display:none;\">\n",
              "        \n",
              "  <svg xmlns=\"http://www.w3.org/2000/svg\" height=\"24px\"viewBox=\"0 0 24 24\"\n",
              "       width=\"24px\">\n",
              "    <path d=\"M0 0h24v24H0V0z\" fill=\"none\"/>\n",
              "    <path d=\"M18.56 5.44l.94 2.06.94-2.06 2.06-.94-2.06-.94-.94-2.06-.94 2.06-2.06.94zm-11 1L8.5 8.5l.94-2.06 2.06-.94-2.06-.94L8.5 2.5l-.94 2.06-2.06.94zm10 10l.94 2.06.94-2.06 2.06-.94-2.06-.94-.94-2.06-.94 2.06-2.06.94z\"/><path d=\"M17.41 7.96l-1.37-1.37c-.4-.4-.92-.59-1.43-.59-.52 0-1.04.2-1.43.59L10.3 9.45l-7.72 7.72c-.78.78-.78 2.05 0 2.83L4 21.41c.39.39.9.59 1.41.59.51 0 1.02-.2 1.41-.59l7.78-7.78 2.81-2.81c.8-.78.8-2.07 0-2.86zM5.41 20L4 18.59l7.72-7.72 1.47 1.35L5.41 20z\"/>\n",
              "  </svg>\n",
              "      </button>\n",
              "      \n",
              "  <style>\n",
              "    .colab-df-container {\n",
              "      display:flex;\n",
              "      flex-wrap:wrap;\n",
              "      gap: 12px;\n",
              "    }\n",
              "\n",
              "    .colab-df-convert {\n",
              "      background-color: #E8F0FE;\n",
              "      border: none;\n",
              "      border-radius: 50%;\n",
              "      cursor: pointer;\n",
              "      display: none;\n",
              "      fill: #1967D2;\n",
              "      height: 32px;\n",
              "      padding: 0 0 0 0;\n",
              "      width: 32px;\n",
              "    }\n",
              "\n",
              "    .colab-df-convert:hover {\n",
              "      background-color: #E2EBFA;\n",
              "      box-shadow: 0px 1px 2px rgba(60, 64, 67, 0.3), 0px 1px 3px 1px rgba(60, 64, 67, 0.15);\n",
              "      fill: #174EA6;\n",
              "    }\n",
              "\n",
              "    [theme=dark] .colab-df-convert {\n",
              "      background-color: #3B4455;\n",
              "      fill: #D2E3FC;\n",
              "    }\n",
              "\n",
              "    [theme=dark] .colab-df-convert:hover {\n",
              "      background-color: #434B5C;\n",
              "      box-shadow: 0px 1px 3px 1px rgba(0, 0, 0, 0.15);\n",
              "      filter: drop-shadow(0px 1px 2px rgba(0, 0, 0, 0.3));\n",
              "      fill: #FFFFFF;\n",
              "    }\n",
              "  </style>\n",
              "\n",
              "      <script>\n",
              "        const buttonEl =\n",
              "          document.querySelector('#df-e4f90c7c-0812-4ac4-bccc-02ce07c3dcae button.colab-df-convert');\n",
              "        buttonEl.style.display =\n",
              "          google.colab.kernel.accessAllowed ? 'block' : 'none';\n",
              "\n",
              "        async function convertToInteractive(key) {\n",
              "          const element = document.querySelector('#df-e4f90c7c-0812-4ac4-bccc-02ce07c3dcae');\n",
              "          const dataTable =\n",
              "            await google.colab.kernel.invokeFunction('convertToInteractive',\n",
              "                                                     [key], {});\n",
              "          if (!dataTable) return;\n",
              "\n",
              "          const docLinkHtml = 'Like what you see? Visit the ' +\n",
              "            '<a target=\"_blank\" href=https://colab.research.google.com/notebooks/data_table.ipynb>data table notebook</a>'\n",
              "            + ' to learn more about interactive tables.';\n",
              "          element.innerHTML = '';\n",
              "          dataTable['output_type'] = 'display_data';\n",
              "          await google.colab.output.renderOutput(dataTable, element);\n",
              "          const docLink = document.createElement('div');\n",
              "          docLink.innerHTML = docLinkHtml;\n",
              "          element.appendChild(docLink);\n",
              "        }\n",
              "      </script>\n",
              "    </div>\n",
              "  </div>\n",
              "  "
            ]
          },
          "metadata": {},
          "execution_count": 54
        }
      ]
    },
    {
      "cell_type": "markdown",
      "source": [
        "## Gridsearch Tune Simulasi 2"
      ],
      "metadata": {
        "id": "wqOCHufP5jUG"
      }
    },
    {
      "cell_type": "code",
      "source": [
        "\n",
        "import numpy as np\n",
        "from copy import deepcopy\n",
        "\n",
        "best_coherence = -np.inf\n",
        "best_model = None\n",
        "coherence_history = dict()\n",
        "min_topic_size_list = [50, 150, 250]\n",
        "nr_topics_list = [8, 12, 16]\n",
        "top_n_words_list = [10, 15]\n",
        "\n",
        "for min_topic_size in min_topic_size_list:\n",
        "    for nr_topics in nr_topics_list:\n",
        "        for top_n_words in top_n_words_list:\n",
        "            print(f'Running min_topic_size: {min_topic_size}, \\\n",
        "                    nr_topics: {nr_topics}, \\\n",
        "                    top_n_words: {top_n_words}')\n",
        "\n",
        "            # Create instances of GPU-accelerated UMAP and HDBSCAN\n",
        "            umap_model = UMAP(n_components=5, n_neighbors=15, metric='cosine')\n",
        "            hdbscan_model = HDBSCAN(min_cluster_size=10, metric='euclidean', prediction_data=True)\n",
        "\n",
        "            topic_model = BERTopic(language=\"english\", top_n_words=top_n_words,\n",
        "                                   min_topic_size=min_topic_size,\n",
        "                                   nr_topics=nr_topics,\n",
        "                                   calculate_probabilities=True,\n",
        "                                   umap_model=umap_model,\n",
        "                                   hdbscan_model=hdbscan_model,\n",
        "                                   verbose=True)\n",
        "\n",
        "            topics, prob = topic_model.fit_transform(df['Tweet'].values)\n",
        "            new_topics = topic_model.reduce_outliers(df['Tweet'].values, topics, strategy=\"embeddings\")\n",
        "            topic_model.update_topics(df['Tweet'].values, topics=new_topics)\n",
        "\n",
        "            top_words = get_top_words(topic_model.get_topics())\n",
        "\n",
        "            coherence_keys = f'{min_topic_size}, {nr_topics}, {top_n_words}'\n",
        "            coherence = calculate_coherence(w2v_model, top_words)\n",
        "            coherence_history[coherence_keys] = coherence\n",
        "            if best_coherence < coherence:\n",
        "                best_coherence = coherence\n",
        "                best_model = deepcopy(topic_model)\n",
        "\n",
        "            print(f'Current coherence score: {coherence}')\n",
        "            print(f'Current best coherence score: {best_coherence}')"
      ],
      "metadata": {
        "colab": {
          "base_uri": "https://localhost:8080/",
          "height": 1000,
          "referenced_widgets": [
            "cc3c7af24a304f29a58a95afd0585de3",
            "63fed893a61e4572a1531ea004e2703d",
            "08f59ccf944d4990a4771c9deeb1ebf1",
            "978bbee24deb40b99205bab4bb4f751b",
            "c4a4fd20659d41bdaf37de411ef25391",
            "af2915ec581d4592ac3ec9ae31d6cafa",
            "5a375f4059224a7ea7b628efecc63f4a",
            "15bb5dc2d0774ab195babec7d5035f89",
            "91e510e2d0ec46a8a524880b8889d26d",
            "38154d3811db4decb464989ee535480c",
            "be62e8f09d814d84b6ec94add413e17c",
            "f3de88ef41174cb4b37dcf7caa4fca19",
            "52f6575c08ef4a18a79f6e2cf7b8f803",
            "8c963b2f8e20479db57b23c559404d26",
            "ab9d415b643640a6ad2ea0b3d0593713",
            "5ed294d081ed478c8116921be5707baf",
            "44823f48936d4f90b8640fcba28cbfe6",
            "045ea82a8958463e855ac1f80f626df3",
            "b6f305ebd1f04070b5ff3ffc5eb1e42b",
            "a8508a51a9f640509986781754ec232c",
            "8bcb4711727e404888171e9c9d3f98b6",
            "e8819941ea994ca29ce4d02976407e62",
            "a707106357904b8db6dbb9771c6d169b",
            "18f606b3147c40fcadda185a78e8bf9f",
            "593c59aa70504a6abf3ab0c34b10cf87",
            "987274307aa64be0b6b0c83989b21d12",
            "a61f52bd7cf74fb0a20792dc18263b15",
            "1d50e250d1eb430f86bc1f86f1b6fd89",
            "1dccbc5174fc4ffd8ab3b04f2b36a18b",
            "eb5c5df100724725b09b7d0b5cb427ba",
            "fbd3067c3989438f93be1cb4e98e0daa",
            "97013ecc8ff845a6a3a3f64311d57220",
            "6d8ad4a1337643cf88cec2c4f334b885",
            "245b885faaf741a4b55a46fcf6aa1429",
            "6d4b9f8d755d44148e6ce3d59f8f3f40",
            "75f9da49a84a40499694077280caa5dc",
            "c9adba05987348df929610a95a74a836",
            "671d05dd414e466bac8c0f65cd2dc9a8",
            "be6cfa2ac65a4babb09d0ad0f020348b",
            "ed8b5ea1dddc467ba994359ee77e96ea",
            "09a150d409b84e3298feadfdfbaebd5d",
            "d5d0107147ec49d88cf14be3e73907f3",
            "4944237eeef646e09c4c639252df0818",
            "5aeba0c8ac744d1893b475e46d170377",
            "7809e6ea649f450ead53aac93d94da8e",
            "14f1d8de3e654765804982fe5102c308",
            "b6028eb799534a6784725051d5517c29",
            "84b1b54dc1054e87a73b86b5d1e5c41a",
            "73d2f33203c14669a764ea910909918c",
            "992b79c3164a42a89ccfaef09eb234e3",
            "b029d9638b9545698f51323240e9c26b",
            "9f5ad3192d964e89af056c60ac4bb52b",
            "dde1acaf251144719d1ef4b130c2221a",
            "04bb8fc9777c461c90c685b8a495ba00",
            "08afe8c8f3b94e668efa34c942a97e55",
            "c0a43840fec34af1a62e9efa7c2c6bdf",
            "765d9422126d43379d8d0a5a49ae8c6a",
            "1ecfbf6d214444f1ae3c31cf6df0eb5b",
            "8d4d097031314762a8713b2414ecb637",
            "8df114967f0b4181a8e0232b0a4dd208",
            "34bb1a16ca04422bb09820bbc813e224",
            "12a30e5c36534330af15d8a0dcd4124d",
            "3ad43834c11145f4a96af5b27952dc06",
            "7a1a48bede2f490091f4bc5fe8e6906d",
            "77b376bb30bb4520bbeeb1a067cfcd5d",
            "2c7f433358d049c29a9f70ef1fd2a067",
            "7e73d1fbaaca4064bb0809a98ab43297",
            "5234d8418b2a477e8744d6c8676eb526",
            "a958cd762ab340b9b4258e95ba021e1f",
            "1695104a0bfa4c4399faa2bb31c8bbfb",
            "ee4c627b0b1541209563af5458364afc",
            "729516de8c504d09ad84ea240dba6eda",
            "350968015f464527b5637ee39590bcb5",
            "ab0b539aeb4349d4a36ed3603d1b4ba2",
            "c3ca75a990ca4d6d9e1c5577fc9f8e1d",
            "cc8a8a2daa564170ae02389db66ac89b",
            "90329cc573644fecb0d170c0ea6fac7a",
            "9ddebc3301e94bfcaff5df2e7f08cdc6",
            "fa9df596023d4e5dbf209b468b69eb5d",
            "d805ea53256542d8957fc57a7e3f0df3",
            "4e5b837fc72e4639b36cdfa7a48ec64b",
            "f4a14868f4384e70ae19853eee9e9570",
            "937db4139a2e40209c124047dde88b9f",
            "43237f6c29574ba8ab74a97d1aeafa50",
            "033037a4b09a4c2590357b3a7a79e62f",
            "9b54f2bee91740aab39dd23e73866e42",
            "9d7dd7d2dae74c07b2e1ab8d28b57159",
            "19ec6859fc4b4f5bbf9a26424116d999",
            "c702e23246fc43ef90bf09950c071ef2",
            "697a9ca9bea04a4687b2ae46f06b6d1b",
            "2a1781c3fdc24bbc9bcadedb388bac18",
            "77ca68ee86224b2b955efb9dc48f0fa8",
            "fe83f91c2a36423cb34a78bd36f48f9f",
            "f4d9535ea4b5480b96af12fdd6a9f0a0",
            "db0b68b60b964800b7802609a0b84664",
            "fa3caebe9a2d4c729a4b9b14ebfc06bf",
            "47c01e7c2bfc4e9ea49ce3568428ffa4",
            "8d2fe1276c424a6bbf2c6f186345dedb",
            "06b38f43d5a04bc78ecc810606063233",
            "539a0d8a893846c4af3aa53c8e609339",
            "5bfa1c5f370d4de6b8554fad75c71744",
            "120645807b644c9db2927501ae466cee",
            "278b4a3bac6046d984e9151644e93637",
            "8ec9c199c5cb4ae5a69a0be8e5d92e22",
            "1bc4c2f27d2745c99372f7b991746ded",
            "c48076b0bac047dca17f30bc8e078acc",
            "0879bcc8daae4fe180a5fc3a8202b6d9",
            "2d6bc31b401644e9839c9241619449b3",
            "c044764705ac4ba58ea88377b2146a47",
            "a1b727c7aa3c41bb8201502593acc524",
            "2fecec87fc584420be804b63bb569627",
            "aec35547b6a543239fd642f3187bca8e",
            "fe4e091823294d8abcb05dd8a6f94575",
            "da223e6ec11a48c5a95e07dc99304b7c",
            "5f29280a5cae49b6b74b33902c7ff726",
            "88d6d75678954440a6cc4c709be9c9ce",
            "61b25147ae2b403ca5bf9e45627123a4",
            "8f1940b1c23d44e4936f53ba8982d23a",
            "5a0d9ee5c1394343ac80a76e5ccd822e",
            "3834ec6d42aa497281180825ccb8755b",
            "fd5f78f45fab417389d44843b1b1e5a6",
            "6392bd4291af42e9b78da33e8dd51221",
            "ef48d87bbbce40288ce0ebff81a4f1f2",
            "2dce8cf3426a49bbbc01868390d1c643",
            "6c407d5fbca44a1a9f5b82d339b3d0fb",
            "815576aa4e1b40559e3e8645365a4ca9",
            "61319b8e150445c5a825409fda16b442",
            "0e79e7fd3014452f87e1b28a02ad5ab7",
            "7f42d8d51ffa4b67b1bb2f0b4f9999ce",
            "fc00b5e19fd34674b2e5b543dfe5c3c0",
            "8bf2d07e5f1c408a86f093761fe1eb9f",
            "6035f985d54b44f6a4b2261e473317b2",
            "2bfb92d4cee14a688d16546347318a90",
            "8e0a40b699304e48bc57d2a052cdc36a",
            "4d0cf3294ad848af8771d78564f05898",
            "d3561d5304ed4210b56e7e08db6aeee2",
            "bed586e9043746aaa5d6b19058d33571",
            "85a1424b10d544859107e209d5af6195",
            "e8df787454144a07bbfbdd6ee41195da",
            "5ccc2b14aab14fe09f2495f2590cf768",
            "bc2492e7885d4075b0b680c2f018045f",
            "c8c6b29ab53f46619f5f948975f91a50",
            "44181ec6a0d94fdaa2e48102bcebaf63",
            "1937b5d4e6664e009736d4643ce85138",
            "5b1bdcc209db42219152504c3d767889",
            "d1570a4aeca142f8a5d43f467ddd9e02",
            "e37deee6651f458e82552962484a978f",
            "cca49137d8f54ec186620c561ad3f87c",
            "6b6c5dbd6ac949b394a08f4a51db489f",
            "8bb870479ffb4f98a761f05e660de0f5",
            "edfe9f90051340549908174a7e0b4625",
            "b4911ee5ec784d25a6b09ac966f7ff39",
            "e982ceb4d7e04256a2281f058f38d319",
            "0bbdcf402842478fbb157c81e712dada",
            "095dbd2e9b2b4427a0aeb982f23ee3b8",
            "de9d2ec403a64d888b7cd097602d1fbd",
            "cecd482734f844bba38e317b812559e2",
            "2369c7d5202b47f1bdb874d4965cab33",
            "2b4af08d93084a58abf7a03a863e3e90",
            "d9309e7cddbd498481bc1f76a277407d",
            "da4e9485e133485e8339624e9ffa7d5b",
            "c0c1d43a97544b889b09ada506369957",
            "28511e25706f4204900168195e073ffd",
            "ec9ec0ee3f6946fdb3cea33169b0706c",
            "3cd034854cca45b796fdb1f5b626b03d",
            "20a00b5fd2fe41c1a5b808046ef7acd6",
            "0aca765ba0244ddfaae89a628608de4c",
            "68628f99d4114b738eae79072cd001cb",
            "d99d424895b74cebbb0c548425a404fa",
            "5382dffe43ed44b0b7fd5e5e6a48bbed",
            "8b0f879c31814bb9a08058887fd208ce",
            "c9b89bd33855448396ff7372f7290b86",
            "925461302b6f4d9f913d787172427f50",
            "21e15590bb514d5fb726af3071b042c3",
            "8a23659a534d42e390c45d560772c5e5",
            "ed9a8852caec4ce7ad3626d37a406432",
            "9c1b8dbd914c442f9f9f77e129318fb7",
            "349a4e2146884c799bf1c723c23d4fab",
            "1e8638096825410c9ed1734d27322806",
            "5904451328e941ccb47ab3225b1cd9d1",
            "d50e1d7b8e014c9c98c754e2de2c6320",
            "10ccf5f3932440368c622f1bb78c19dc",
            "31156e2aff0e4df2a94901b677acc326",
            "ea570d5ad24e419592da1101d62613ed",
            "a5e319ce9ab24575abafcbeaec0ae6a1",
            "5a712ce691d14b9c8435005476363d8d",
            "e9c8a12637ef4ce3b0f51937d83c139a",
            "09a3026919df444aabd56e4021a7fbae",
            "cfe30048b97648928e4749b73fbc9c47",
            "3cf17fa9f22c4d8095098407ec032cf2",
            "2ab2673422c94612b257a4a070a24ff4",
            "e58d9985a5f443aa8f97759dae809df4",
            "3e93a4ac36a844ca8a9e0a221275fb82",
            "211a48553d1e4030b8da535bc630d987",
            "2bca38f7c2ca4409b380d0e9f4953979",
            "e62a21868e5942eba01cf3d4a9f268de",
            "922a6e2169d94fffa5d1e54a75cef3f3",
            "8f5b765e5e4246a6a5d44b23f802806b",
            "644d7905994445dfa8b325c415aaa188",
            "a9e6aaf842e34744a2e9f9c7c36de5f9",
            "a3149f68c1c34e2bbe7e825e09c923a9",
            "07302c637a084e5fb4e991e7d5ef7d9b",
            "e0723780a4c2410e9d18290c7c74856a",
            "d8814392e40242f0947d6b702dbd4b88",
            "c81eb238792a4c0ea7d6e78ddcff4201",
            "6d96913896d3436faf0483b358667f84",
            "d4b322aa95334095b412e8e3ecd833d5",
            "65606dd66aa34291aee84fcbf931b0f9",
            "2f38969161e644079d1a7bbaa98619b0",
            "7c05b0d0585048fe8e55b2a0eb9d9410",
            "54fd333999984f06b1cbd44544f3f910",
            "845a2536afb64003a6c7081185e0d42e",
            "3f6a72b52cc04f4d8598dfdaaad5b2c7",
            "8b8d5e56d60d4ddcb3beec10e9b2dcc3",
            "7138b3b0304a4c9d8f06f410cf6d7660",
            "c6f936fd9ab3488b83c14d21a98acbb0",
            "769dffd7ecbc4290bed1028d0af05a47",
            "fba15a88a23f4aa5af7f9f63449a9d64",
            "7f6ffaec60fa4d3b9b17dac91b388ce3",
            "f0a806bc924040b9afb16b7a7a49784d",
            "535375b33a7542bea73ee23536e0f5df",
            "46aaad26c71d40399c90e857c1e5a6ee",
            "6a8d964aef4241aebab7df7ae1d6d506",
            "bf63569a00364e4e835756a6baec590b",
            "b057dc2ea8b14d4b9a99db8674aa5007",
            "4cead8b28ec847bfbe215528753aa748",
            "0d97868f08bf4609a5dae384f3679511",
            "96f452e9a4564593bd71367e5b0ec7d5",
            "26a267cd7c794299b5ff86bac8abeb87",
            "0ba32eb28ce849bb81deaead2ab920d6",
            "56601158f7b341c5aa29af66156c449b",
            "ff50eba45345486084327e0a3aca7c97",
            "3828d3f1fbec4271a45aca141e5da4d0",
            "9eae2e333f1646dfa36b8d90870af1c2",
            "d9f545ad8f234bdfaaf7b66ba2f9a8fb",
            "663bebb9bb4e4bbca0bc23419fa78d7c",
            "5e6064464fb24db9a619cc319a33fd21",
            "5eaf21433b2444468a51c6bd76e98731",
            "09ccf1765f5f432d9179d94909d31573",
            "b1bcec401e444d7094771c958b1c4537",
            "86bef1504c0e4a18adc06ae30de4b8cd",
            "88889df049cf47d598faff8cff4253d0",
            "c216924fd05140e6b74266efc1a721e6",
            "e89f0410b6be4978ada50a956329463e",
            "8cd8c50f9dbc4123913b7aab2d138011",
            "8b811d89a6e54194818747747106c57e",
            "1d4def10cb35444387d7cb666c404c3d",
            "109ea4bc2c3e420084696df6676f891e",
            "f69ffd5dfd94484c85acc6aa5d756bd9",
            "8c7d2c49379844818210d41bcb258265",
            "dbb6864928cb48f7bb02e83a3336a247",
            "1a1465b426494ff4bfff6e6572e55c4b",
            "fc4bfec9ffa24f82b4aadf53df58c201",
            "dc8b8dd404c44a92b12fa502f4769129",
            "8233abcbbae94bd3ba856180dd3cb10b",
            "bf731dcee43b43a5a718076437634020",
            "45c212f1f38847cbad861c73627fd913",
            "77050fe54a2e4e148835edc688482f8e",
            "91c33b526ea747adb18d92b93b842f55",
            "4b202b4c4fa14f59b4ecab36320c7756",
            "35c7c501be6847998ff249d8844478a1",
            "1860f67de6dd4fcab47d25ad834e16b5",
            "16728bc07aea4935bed3bb0f851dc45a",
            "d66015290f7d4d8281320d990a24e194",
            "495fb8ec2aa94791bffa6fa126ef5d9c",
            "b8cc4d974890431c8429064d418e6ec6",
            "5a682275b1c24e10a3f70e75610be81c",
            "e7b8ddf8be60418a8e2b8dfc350c9456",
            "ed8a58544525422d952d373494530d48",
            "c8195e1f28e144c4be4e63406fa619b8",
            "bf054e1b64e24f3c80fbb4f1777d97cd",
            "a0507a3e282542ec9108a005248c296a",
            "87e52d9f44d746e3b334f63b0501ae0d",
            "187911e7ca5f40c487a09410748b6e40",
            "4f8fa48bac3b46d6a1e4b75dcac0c0e8",
            "b2461a7f079542eb9f664c2bd6715faf",
            "0debddfc94d44985b4b2be445fce25c8",
            "e6ad47600524446faef3b9f9a549e7d9",
            "61bdce7a2dfe44ea8d55cafa75945230",
            "e7509a639e8a432788ecdbbbbb3d372e",
            "cb7cb6470c254ba7b35f4386e2a0a0fc",
            "e98b415500f34979bcf3e3d171290040",
            "ea7be6451da54405b4e2b8b2a5c0b17f",
            "18e79e65f80f4a3fa30acd3b2e6cac6a",
            "e8c944f3b2954fb48b24fc6b02284086",
            "e6eecd25483a4fb088c38c8b81e212c1",
            "dc80eb872d034e74baeb4311bfdf1440",
            "ab48937286764cf4b48c760fcc6ca564",
            "a06f14ddaa4f46d8aa2b078c6d77cb1a",
            "ea32d0ebddf8443ebafa68e6ff80c5d9",
            "c9d7ac68df8e4f08a1dc103cc2104c13",
            "3bb9d072b5ad49a9b9896023e97d2315",
            "3b73a83c325145da8463493179a5a10d",
            "870f36a04e2f4e909b871de4a096f0a9",
            "69d9e73bcfb74a4390ccae05a0908c63",
            "e1051895badd48968600233583677bb2",
            "638fa0df51804a6a93862967fa5a1634",
            "3130944b491a4ef68207d8c68f3e898c",
            "f467e40f509f49798178df278cd2fd36",
            "0782ed66d1784a2283f30760a060745c",
            "676239fefbb04522b56893d5a37347f5",
            "113f9c35c1f84e7fa8d576bb0cd19cf5",
            "068625c7f99544a4859b0cb79a13a355",
            "d65b76e8bf53468fb874fe8ddcbc19e2",
            "c79a386ebaf5481598252e25f4c2b27f",
            "04e056a706c54f3a814235661e95652b",
            "978f92b5077e44e184122cdee434e0ab",
            "4d7274eb690a448596ae6ffae2da45e7",
            "f67543824e0c4cd9a7f8fb4ec5c4ad0d",
            "39707cd27474485cbb202286b797da90",
            "09b09e44a1d14741b7e7c6097020aa67",
            "080b7c3852144d8babb7b38e2d1a7820",
            "86cdd068050d4cfc82783e11f8ae1afc",
            "654f52f7b3fc4efb8d40596f272c0101",
            "8029fefb971a478185c8272e184c1ee6",
            "22de4ce461f34d8b8c5f82cf71836364",
            "86575e45bbdc4df3979f2726d2b40fae",
            "cf26075b2f494702a5dd9b60294f1d36",
            "74ca411961b74a6584a1c8117f87cada",
            "fb7565d505b44dea95677cfeb340204d",
            "20b98f5680ba4f56a231a094249af321",
            "cc4307412f7e4aa9ad0ae2f3bf2b154c",
            "a465f26f2fb84b30aab937a23b84790b",
            "8ca75cd15e794b78af33f76f3b845243",
            "2840517facde447b98c7a70741536665",
            "e2c38d0ff535458dafb6508d2683cff6",
            "44bcbcca40124473a05f83860f445cbd",
            "ae591083b7d64a6598a40587d477bd3f",
            "f61949fb975f47b9b03653eb67258e9a",
            "68887a169b894871a8913cc56f1d2efe",
            "7bde21b6988144dfa888b1065c7c96ca",
            "ea7a29aedb5c470192a6cb87bec2ab59",
            "966d5e6567784e3ab73a546ba8452c74",
            "1413973c2b204973b27c1cd84acc1921",
            "bf47b02986f04e70b8b7d8dd2b6bacb7",
            "bf84c4006b0a4689955ffa558ca87f83",
            "e6cfd63e89824c119ab2d52a22499ea0",
            "3c6b3ee2889a4c42a9e6dda409efe141",
            "1ecece11f5904652b06fd1a35cec039c",
            "4ce0c452e7f843e9b54f8fe6ccdf034c",
            "6e853464b7e747b8950484b4534677ad",
            "3d683a90eddd496185083a69419adae2",
            "29ad5fe1da1d4e5aa09592b714ca1bfb",
            "834cfe504a4e40ec8c0b7fb59a88a0df",
            "9c4e0fe537414baba6c9faf2c3658dad",
            "be0983df256a4f22abb6e690ecdd4a20",
            "6970e1d08a2d4357bbc63c5ffcf77aa3",
            "c3832c886cdb447a81d6cbd91f9f2982",
            "33796b4aff214784a9a9720a9d6e7193",
            "775ed7710f794a15872ea55003db647b",
            "c677fda07e4146539aff340c86e8969a",
            "ef3b4c8fa95b4c7c839eade1fffce388"
          ]
        },
        "outputId": "b6681fa8-4334-4052-93de-fb6f9376a15a",
        "id": "zNlTWvSpraBv"
      },
      "execution_count": null,
      "outputs": [
        {
          "output_type": "stream",
          "name": "stdout",
          "text": [
            "Running min_topic_size: 50,                     nr_topics: 8,                     top_n_words: 10\n"
          ]
        },
        {
          "output_type": "display_data",
          "data": {
            "text/plain": [
              "Downloading (…)e9125/.gitattributes:   0%|          | 0.00/1.18k [00:00<?, ?B/s]"
            ],
            "application/vnd.jupyter.widget-view+json": {
              "version_major": 2,
              "version_minor": 0,
              "model_id": "cc3c7af24a304f29a58a95afd0585de3"
            }
          },
          "metadata": {}
        },
        {
          "output_type": "display_data",
          "data": {
            "text/plain": [
              "Downloading (…)_Pooling/config.json:   0%|          | 0.00/190 [00:00<?, ?B/s]"
            ],
            "application/vnd.jupyter.widget-view+json": {
              "version_major": 2,
              "version_minor": 0,
              "model_id": "f3de88ef41174cb4b37dcf7caa4fca19"
            }
          },
          "metadata": {}
        },
        {
          "output_type": "display_data",
          "data": {
            "text/plain": [
              "Downloading (…)7e55de9125/README.md:   0%|          | 0.00/10.6k [00:00<?, ?B/s]"
            ],
            "application/vnd.jupyter.widget-view+json": {
              "version_major": 2,
              "version_minor": 0,
              "model_id": "a707106357904b8db6dbb9771c6d169b"
            }
          },
          "metadata": {}
        },
        {
          "output_type": "display_data",
          "data": {
            "text/plain": [
              "Downloading (…)55de9125/config.json:   0%|          | 0.00/612 [00:00<?, ?B/s]"
            ],
            "application/vnd.jupyter.widget-view+json": {
              "version_major": 2,
              "version_minor": 0,
              "model_id": "245b885faaf741a4b55a46fcf6aa1429"
            }
          },
          "metadata": {}
        },
        {
          "output_type": "display_data",
          "data": {
            "text/plain": [
              "Downloading (…)ce_transformers.json:   0%|          | 0.00/116 [00:00<?, ?B/s]"
            ],
            "application/vnd.jupyter.widget-view+json": {
              "version_major": 2,
              "version_minor": 0,
              "model_id": "7809e6ea649f450ead53aac93d94da8e"
            }
          },
          "metadata": {}
        },
        {
          "output_type": "display_data",
          "data": {
            "text/plain": [
              "Downloading (…)125/data_config.json:   0%|          | 0.00/39.3k [00:00<?, ?B/s]"
            ],
            "application/vnd.jupyter.widget-view+json": {
              "version_major": 2,
              "version_minor": 0,
              "model_id": "c0a43840fec34af1a62e9efa7c2c6bdf"
            }
          },
          "metadata": {}
        },
        {
          "output_type": "display_data",
          "data": {
            "text/plain": [
              "Downloading pytorch_model.bin:   0%|          | 0.00/90.9M [00:00<?, ?B/s]"
            ],
            "application/vnd.jupyter.widget-view+json": {
              "version_major": 2,
              "version_minor": 0,
              "model_id": "7e73d1fbaaca4064bb0809a98ab43297"
            }
          },
          "metadata": {}
        },
        {
          "output_type": "display_data",
          "data": {
            "text/plain": [
              "Downloading (…)nce_bert_config.json:   0%|          | 0.00/53.0 [00:00<?, ?B/s]"
            ],
            "application/vnd.jupyter.widget-view+json": {
              "version_major": 2,
              "version_minor": 0,
              "model_id": "9ddebc3301e94bfcaff5df2e7f08cdc6"
            }
          },
          "metadata": {}
        },
        {
          "output_type": "display_data",
          "data": {
            "text/plain": [
              "Downloading (…)cial_tokens_map.json:   0%|          | 0.00/112 [00:00<?, ?B/s]"
            ],
            "application/vnd.jupyter.widget-view+json": {
              "version_major": 2,
              "version_minor": 0,
              "model_id": "c702e23246fc43ef90bf09950c071ef2"
            }
          },
          "metadata": {}
        },
        {
          "output_type": "display_data",
          "data": {
            "text/plain": [
              "Downloading (…)e9125/tokenizer.json:   0%|          | 0.00/466k [00:00<?, ?B/s]"
            ],
            "application/vnd.jupyter.widget-view+json": {
              "version_major": 2,
              "version_minor": 0,
              "model_id": "539a0d8a893846c4af3aa53c8e609339"
            }
          },
          "metadata": {}
        },
        {
          "output_type": "display_data",
          "data": {
            "text/plain": [
              "Downloading (…)okenizer_config.json:   0%|          | 0.00/350 [00:00<?, ?B/s]"
            ],
            "application/vnd.jupyter.widget-view+json": {
              "version_major": 2,
              "version_minor": 0,
              "model_id": "2fecec87fc584420be804b63bb569627"
            }
          },
          "metadata": {}
        },
        {
          "output_type": "display_data",
          "data": {
            "text/plain": [
              "Downloading (…)9125/train_script.py:   0%|          | 0.00/13.2k [00:00<?, ?B/s]"
            ],
            "application/vnd.jupyter.widget-view+json": {
              "version_major": 2,
              "version_minor": 0,
              "model_id": "6392bd4291af42e9b78da33e8dd51221"
            }
          },
          "metadata": {}
        },
        {
          "output_type": "display_data",
          "data": {
            "text/plain": [
              "Downloading (…)7e55de9125/vocab.txt:   0%|          | 0.00/232k [00:00<?, ?B/s]"
            ],
            "application/vnd.jupyter.widget-view+json": {
              "version_major": 2,
              "version_minor": 0,
              "model_id": "2bfb92d4cee14a688d16546347318a90"
            }
          },
          "metadata": {}
        },
        {
          "output_type": "display_data",
          "data": {
            "text/plain": [
              "Downloading (…)5de9125/modules.json:   0%|          | 0.00/349 [00:00<?, ?B/s]"
            ],
            "application/vnd.jupyter.widget-view+json": {
              "version_major": 2,
              "version_minor": 0,
              "model_id": "1937b5d4e6664e009736d4643ce85138"
            }
          },
          "metadata": {}
        },
        {
          "output_type": "display_data",
          "data": {
            "text/plain": [
              "Batches:   0%|          | 0/3049 [00:00<?, ?it/s]"
            ],
            "application/vnd.jupyter.widget-view+json": {
              "version_major": 2,
              "version_minor": 0,
              "model_id": "095dbd2e9b2b4427a0aeb982f23ee3b8"
            }
          },
          "metadata": {}
        },
        {
          "output_type": "stream",
          "name": "stderr",
          "text": [
            "2023-05-15 13:41:41,736 - BERTopic - Transformed documents to Embeddings\n",
            "2023-05-15 13:42:05,303 - BERTopic - Reduced dimensionality\n",
            "2023-05-15 13:42:11,803 - BERTopic - Clustered reduced embeddings\n",
            "2023-05-15 13:42:18,337 - BERTopic - Reduced number of topics from 846 to 8\n"
          ]
        },
        {
          "output_type": "stream",
          "name": "stdout",
          "text": [
            "Current coherence score: 0.178003144285564\n",
            "Current best coherence score: 0.178003144285564\n",
            "Running min_topic_size: 50,                     nr_topics: 8,                     top_n_words: 15\n"
          ]
        },
        {
          "output_type": "display_data",
          "data": {
            "text/plain": [
              "Batches:   0%|          | 0/3049 [00:00<?, ?it/s]"
            ],
            "application/vnd.jupyter.widget-view+json": {
              "version_major": 2,
              "version_minor": 0,
              "model_id": "20a00b5fd2fe41c1a5b808046ef7acd6"
            }
          },
          "metadata": {}
        },
        {
          "output_type": "stream",
          "name": "stderr",
          "text": [
            "2023-05-15 13:43:31,489 - BERTopic - Transformed documents to Embeddings\n",
            "2023-05-15 13:43:48,655 - BERTopic - Reduced dimensionality\n",
            "2023-05-15 13:43:54,351 - BERTopic - Clustered reduced embeddings\n",
            "2023-05-15 13:44:02,007 - BERTopic - Reduced number of topics from 851 to 8\n"
          ]
        },
        {
          "output_type": "stream",
          "name": "stdout",
          "text": [
            "Current coherence score: 0.16601448356245999\n",
            "Current best coherence score: 0.178003144285564\n",
            "Running min_topic_size: 50,                     nr_topics: 12,                     top_n_words: 10\n"
          ]
        },
        {
          "output_type": "display_data",
          "data": {
            "text/plain": [
              "Batches:   0%|          | 0/3049 [00:00<?, ?it/s]"
            ],
            "application/vnd.jupyter.widget-view+json": {
              "version_major": 2,
              "version_minor": 0,
              "model_id": "9c1b8dbd914c442f9f9f77e129318fb7"
            }
          },
          "metadata": {}
        },
        {
          "output_type": "stream",
          "name": "stderr",
          "text": [
            "2023-05-15 13:45:11,460 - BERTopic - Transformed documents to Embeddings\n",
            "2023-05-15 13:45:28,961 - BERTopic - Reduced dimensionality\n",
            "2023-05-15 13:45:34,744 - BERTopic - Clustered reduced embeddings\n",
            "2023-05-15 13:45:42,204 - BERTopic - Reduced number of topics from 864 to 12\n"
          ]
        },
        {
          "output_type": "stream",
          "name": "stdout",
          "text": [
            "Current coherence score: 0.17373220944808235\n",
            "Current best coherence score: 0.178003144285564\n",
            "Running min_topic_size: 50,                     nr_topics: 12,                     top_n_words: 15\n"
          ]
        },
        {
          "output_type": "display_data",
          "data": {
            "text/plain": [
              "Batches:   0%|          | 0/3049 [00:00<?, ?it/s]"
            ],
            "application/vnd.jupyter.widget-view+json": {
              "version_major": 2,
              "version_minor": 0,
              "model_id": "09a3026919df444aabd56e4021a7fbae"
            }
          },
          "metadata": {}
        },
        {
          "output_type": "stream",
          "name": "stderr",
          "text": [
            "2023-05-15 13:46:53,504 - BERTopic - Transformed documents to Embeddings\n",
            "2023-05-15 13:47:11,213 - BERTopic - Reduced dimensionality\n",
            "2023-05-15 13:47:16,929 - BERTopic - Clustered reduced embeddings\n",
            "2023-05-15 13:47:26,551 - BERTopic - Reduced number of topics from 826 to 12\n"
          ]
        },
        {
          "output_type": "stream",
          "name": "stdout",
          "text": [
            "Current coherence score: 0.17005435255346724\n",
            "Current best coherence score: 0.178003144285564\n",
            "Running min_topic_size: 50,                     nr_topics: 16,                     top_n_words: 10\n"
          ]
        },
        {
          "output_type": "display_data",
          "data": {
            "text/plain": [
              "Batches:   0%|          | 0/3049 [00:00<?, ?it/s]"
            ],
            "application/vnd.jupyter.widget-view+json": {
              "version_major": 2,
              "version_minor": 0,
              "model_id": "644d7905994445dfa8b325c415aaa188"
            }
          },
          "metadata": {}
        },
        {
          "output_type": "stream",
          "name": "stderr",
          "text": [
            "2023-05-15 13:48:36,219 - BERTopic - Transformed documents to Embeddings\n",
            "2023-05-15 13:48:54,261 - BERTopic - Reduced dimensionality\n",
            "2023-05-15 13:49:00,403 - BERTopic - Clustered reduced embeddings\n",
            "2023-05-15 13:49:08,187 - BERTopic - Reduced number of topics from 826 to 16\n"
          ]
        },
        {
          "output_type": "stream",
          "name": "stdout",
          "text": [
            "Current coherence score: 0.18636712576040623\n",
            "Current best coherence score: 0.18636712576040623\n",
            "Running min_topic_size: 50,                     nr_topics: 16,                     top_n_words: 15\n"
          ]
        },
        {
          "output_type": "display_data",
          "data": {
            "text/plain": [
              "Batches:   0%|          | 0/3049 [00:00<?, ?it/s]"
            ],
            "application/vnd.jupyter.widget-view+json": {
              "version_major": 2,
              "version_minor": 0,
              "model_id": "7c05b0d0585048fe8e55b2a0eb9d9410"
            }
          },
          "metadata": {}
        },
        {
          "output_type": "stream",
          "name": "stderr",
          "text": [
            "2023-05-15 13:50:21,497 - BERTopic - Transformed documents to Embeddings\n",
            "2023-05-15 13:50:39,382 - BERTopic - Reduced dimensionality\n",
            "2023-05-15 13:50:45,152 - BERTopic - Clustered reduced embeddings\n",
            "2023-05-15 13:50:53,114 - BERTopic - Reduced number of topics from 863 to 16\n"
          ]
        },
        {
          "output_type": "stream",
          "name": "stdout",
          "text": [
            "Current coherence score: 0.18962235073204198\n",
            "Current best coherence score: 0.18962235073204198\n",
            "Running min_topic_size: 150,                     nr_topics: 8,                     top_n_words: 10\n"
          ]
        },
        {
          "output_type": "display_data",
          "data": {
            "text/plain": [
              "Batches:   0%|          | 0/3049 [00:00<?, ?it/s]"
            ],
            "application/vnd.jupyter.widget-view+json": {
              "version_major": 2,
              "version_minor": 0,
              "model_id": "535375b33a7542bea73ee23536e0f5df"
            }
          },
          "metadata": {}
        },
        {
          "output_type": "stream",
          "name": "stderr",
          "text": [
            "2023-05-15 13:52:06,056 - BERTopic - Transformed documents to Embeddings\n",
            "2023-05-15 13:52:23,065 - BERTopic - Reduced dimensionality\n",
            "2023-05-15 13:52:28,974 - BERTopic - Clustered reduced embeddings\n",
            "2023-05-15 13:52:37,683 - BERTopic - Reduced number of topics from 843 to 8\n"
          ]
        },
        {
          "output_type": "stream",
          "name": "stdout",
          "text": [
            "Current coherence score: 0.17781875967274474\n",
            "Current best coherence score: 0.18962235073204198\n",
            "Running min_topic_size: 150,                     nr_topics: 8,                     top_n_words: 15\n"
          ]
        },
        {
          "output_type": "display_data",
          "data": {
            "text/plain": [
              "Batches:   0%|          | 0/3049 [00:00<?, ?it/s]"
            ],
            "application/vnd.jupyter.widget-view+json": {
              "version_major": 2,
              "version_minor": 0,
              "model_id": "ff50eba45345486084327e0a3aca7c97"
            }
          },
          "metadata": {}
        },
        {
          "output_type": "stream",
          "name": "stderr",
          "text": [
            "2023-05-15 13:53:49,525 - BERTopic - Transformed documents to Embeddings\n",
            "2023-05-15 13:54:06,532 - BERTopic - Reduced dimensionality\n",
            "2023-05-15 13:54:12,729 - BERTopic - Clustered reduced embeddings\n",
            "2023-05-15 13:54:21,709 - BERTopic - Reduced number of topics from 813 to 8\n"
          ]
        },
        {
          "output_type": "stream",
          "name": "stdout",
          "text": [
            "Current coherence score: 0.18476260431343694\n",
            "Current best coherence score: 0.18962235073204198\n",
            "Running min_topic_size: 150,                     nr_topics: 12,                     top_n_words: 10\n"
          ]
        },
        {
          "output_type": "display_data",
          "data": {
            "text/plain": [
              "Batches:   0%|          | 0/3049 [00:00<?, ?it/s]"
            ],
            "application/vnd.jupyter.widget-view+json": {
              "version_major": 2,
              "version_minor": 0,
              "model_id": "c216924fd05140e6b74266efc1a721e6"
            }
          },
          "metadata": {}
        },
        {
          "output_type": "stream",
          "name": "stderr",
          "text": [
            "2023-05-15 13:55:32,421 - BERTopic - Transformed documents to Embeddings\n",
            "2023-05-15 13:55:49,970 - BERTopic - Reduced dimensionality\n",
            "2023-05-15 13:55:56,722 - BERTopic - Clustered reduced embeddings\n",
            "2023-05-15 13:56:03,195 - BERTopic - Reduced number of topics from 853 to 12\n"
          ]
        },
        {
          "output_type": "stream",
          "name": "stdout",
          "text": [
            "Current coherence score: 0.18145078057826403\n",
            "Current best coherence score: 0.18962235073204198\n",
            "Running min_topic_size: 150,                     nr_topics: 12,                     top_n_words: 15\n"
          ]
        },
        {
          "output_type": "display_data",
          "data": {
            "text/plain": [
              "Batches:   0%|          | 0/3049 [00:00<?, ?it/s]"
            ],
            "application/vnd.jupyter.widget-view+json": {
              "version_major": 2,
              "version_minor": 0,
              "model_id": "dc8b8dd404c44a92b12fa502f4769129"
            }
          },
          "metadata": {}
        },
        {
          "output_type": "stream",
          "name": "stderr",
          "text": [
            "2023-05-15 13:57:14,691 - BERTopic - Transformed documents to Embeddings\n",
            "2023-05-15 13:57:32,507 - BERTopic - Reduced dimensionality\n",
            "2023-05-15 13:57:38,482 - BERTopic - Clustered reduced embeddings\n",
            "2023-05-15 13:57:47,631 - BERTopic - Reduced number of topics from 852 to 12\n"
          ]
        },
        {
          "output_type": "stream",
          "name": "stdout",
          "text": [
            "Current coherence score: 0.1881781306642566\n",
            "Current best coherence score: 0.18962235073204198\n",
            "Running min_topic_size: 150,                     nr_topics: 16,                     top_n_words: 10\n"
          ]
        },
        {
          "output_type": "display_data",
          "data": {
            "text/plain": [
              "Batches:   0%|          | 0/3049 [00:00<?, ?it/s]"
            ],
            "application/vnd.jupyter.widget-view+json": {
              "version_major": 2,
              "version_minor": 0,
              "model_id": "495fb8ec2aa94791bffa6fa126ef5d9c"
            }
          },
          "metadata": {}
        },
        {
          "output_type": "stream",
          "name": "stderr",
          "text": [
            "2023-05-15 13:58:59,343 - BERTopic - Transformed documents to Embeddings\n",
            "2023-05-15 13:59:16,333 - BERTopic - Reduced dimensionality\n",
            "2023-05-15 13:59:22,154 - BERTopic - Clustered reduced embeddings\n",
            "2023-05-15 13:59:31,097 - BERTopic - Reduced number of topics from 840 to 16\n"
          ]
        },
        {
          "output_type": "stream",
          "name": "stdout",
          "text": [
            "Current coherence score: 0.18232459071560433\n",
            "Current best coherence score: 0.18962235073204198\n",
            "Running min_topic_size: 150,                     nr_topics: 16,                     top_n_words: 15\n"
          ]
        },
        {
          "output_type": "display_data",
          "data": {
            "text/plain": [
              "Batches:   0%|          | 0/3049 [00:00<?, ?it/s]"
            ],
            "application/vnd.jupyter.widget-view+json": {
              "version_major": 2,
              "version_minor": 0,
              "model_id": "b2461a7f079542eb9f664c2bd6715faf"
            }
          },
          "metadata": {}
        },
        {
          "output_type": "stream",
          "name": "stderr",
          "text": [
            "2023-05-15 14:00:43,438 - BERTopic - Transformed documents to Embeddings\n",
            "2023-05-15 14:01:00,616 - BERTopic - Reduced dimensionality\n",
            "2023-05-15 14:01:07,224 - BERTopic - Clustered reduced embeddings\n",
            "2023-05-15 14:01:15,089 - BERTopic - Reduced number of topics from 864 to 16\n"
          ]
        },
        {
          "output_type": "stream",
          "name": "stdout",
          "text": [
            "Current coherence score: 0.17801191637835465\n",
            "Current best coherence score: 0.18962235073204198\n",
            "Running min_topic_size: 250,                     nr_topics: 8,                     top_n_words: 10\n"
          ]
        },
        {
          "output_type": "display_data",
          "data": {
            "text/plain": [
              "Batches:   0%|          | 0/3049 [00:00<?, ?it/s]"
            ],
            "application/vnd.jupyter.widget-view+json": {
              "version_major": 2,
              "version_minor": 0,
              "model_id": "dc80eb872d034e74baeb4311bfdf1440"
            }
          },
          "metadata": {}
        },
        {
          "output_type": "stream",
          "name": "stderr",
          "text": [
            "2023-05-15 14:02:26,182 - BERTopic - Transformed documents to Embeddings\n",
            "2023-05-15 14:02:43,197 - BERTopic - Reduced dimensionality\n",
            "2023-05-15 14:02:49,106 - BERTopic - Clustered reduced embeddings\n",
            "2023-05-15 14:02:55,471 - BERTopic - Reduced number of topics from 850 to 8\n"
          ]
        },
        {
          "output_type": "stream",
          "name": "stdout",
          "text": [
            "Current coherence score: 0.1875604709203813\n",
            "Current best coherence score: 0.18962235073204198\n",
            "Running min_topic_size: 250,                     nr_topics: 8,                     top_n_words: 15\n"
          ]
        },
        {
          "output_type": "display_data",
          "data": {
            "text/plain": [
              "Batches:   0%|          | 0/3049 [00:00<?, ?it/s]"
            ],
            "application/vnd.jupyter.widget-view+json": {
              "version_major": 2,
              "version_minor": 0,
              "model_id": "3130944b491a4ef68207d8c68f3e898c"
            }
          },
          "metadata": {}
        },
        {
          "output_type": "stream",
          "name": "stderr",
          "text": [
            "2023-05-15 14:04:07,429 - BERTopic - Transformed documents to Embeddings\n",
            "2023-05-15 14:04:24,895 - BERTopic - Reduced dimensionality\n",
            "2023-05-15 14:04:30,696 - BERTopic - Clustered reduced embeddings\n",
            "2023-05-15 14:04:40,215 - BERTopic - Reduced number of topics from 864 to 8\n"
          ]
        },
        {
          "output_type": "stream",
          "name": "stdout",
          "text": [
            "Current coherence score: 0.19249861728314993\n",
            "Current best coherence score: 0.19249861728314993\n",
            "Running min_topic_size: 250,                     nr_topics: 12,                     top_n_words: 10\n"
          ]
        },
        {
          "output_type": "display_data",
          "data": {
            "text/plain": [
              "Batches:   0%|          | 0/3049 [00:00<?, ?it/s]"
            ],
            "application/vnd.jupyter.widget-view+json": {
              "version_major": 2,
              "version_minor": 0,
              "model_id": "f67543824e0c4cd9a7f8fb4ec5c4ad0d"
            }
          },
          "metadata": {}
        },
        {
          "output_type": "stream",
          "name": "stderr",
          "text": [
            "2023-05-15 14:05:53,393 - BERTopic - Transformed documents to Embeddings\n",
            "2023-05-15 14:06:10,895 - BERTopic - Reduced dimensionality\n",
            "2023-05-15 14:06:18,135 - BERTopic - Clustered reduced embeddings\n",
            "2023-05-15 14:06:25,284 - BERTopic - Reduced number of topics from 871 to 12\n"
          ]
        },
        {
          "output_type": "stream",
          "name": "stdout",
          "text": [
            "Current coherence score: 0.17443090570715156\n",
            "Current best coherence score: 0.19249861728314993\n",
            "Running min_topic_size: 250,                     nr_topics: 12,                     top_n_words: 15\n"
          ]
        },
        {
          "output_type": "display_data",
          "data": {
            "text/plain": [
              "Batches:   0%|          | 0/3049 [00:00<?, ?it/s]"
            ],
            "application/vnd.jupyter.widget-view+json": {
              "version_major": 2,
              "version_minor": 0,
              "model_id": "fb7565d505b44dea95677cfeb340204d"
            }
          },
          "metadata": {}
        },
        {
          "output_type": "stream",
          "name": "stderr",
          "text": [
            "2023-05-15 14:07:35,449 - BERTopic - Transformed documents to Embeddings\n",
            "2023-05-15 14:07:52,821 - BERTopic - Reduced dimensionality\n",
            "2023-05-15 14:07:59,678 - BERTopic - Clustered reduced embeddings\n",
            "2023-05-15 14:08:07,115 - BERTopic - Reduced number of topics from 852 to 12\n"
          ]
        },
        {
          "output_type": "stream",
          "name": "stdout",
          "text": [
            "Current coherence score: 0.1847102639678944\n",
            "Current best coherence score: 0.19249861728314993\n",
            "Running min_topic_size: 250,                     nr_topics: 16,                     top_n_words: 10\n"
          ]
        },
        {
          "output_type": "display_data",
          "data": {
            "text/plain": [
              "Batches:   0%|          | 0/3049 [00:00<?, ?it/s]"
            ],
            "application/vnd.jupyter.widget-view+json": {
              "version_major": 2,
              "version_minor": 0,
              "model_id": "7bde21b6988144dfa888b1065c7c96ca"
            }
          },
          "metadata": {}
        },
        {
          "output_type": "stream",
          "name": "stderr",
          "text": [
            "2023-05-15 14:09:18,547 - BERTopic - Transformed documents to Embeddings\n",
            "2023-05-15 14:09:35,930 - BERTopic - Reduced dimensionality\n",
            "2023-05-15 14:09:41,768 - BERTopic - Clustered reduced embeddings\n",
            "2023-05-15 14:09:49,935 - BERTopic - Reduced number of topics from 835 to 16\n"
          ]
        },
        {
          "output_type": "stream",
          "name": "stdout",
          "text": [
            "Current coherence score: 0.17490914344800532\n",
            "Current best coherence score: 0.19249861728314993\n",
            "Running min_topic_size: 250,                     nr_topics: 16,                     top_n_words: 15\n"
          ]
        },
        {
          "output_type": "display_data",
          "data": {
            "text/plain": [
              "Batches:   0%|          | 0/3049 [00:00<?, ?it/s]"
            ],
            "application/vnd.jupyter.widget-view+json": {
              "version_major": 2,
              "version_minor": 0,
              "model_id": "3d683a90eddd496185083a69419adae2"
            }
          },
          "metadata": {}
        },
        {
          "output_type": "stream",
          "name": "stderr",
          "text": [
            "2023-05-15 14:11:04,595 - BERTopic - Transformed documents to Embeddings\n",
            "2023-05-15 14:11:22,283 - BERTopic - Reduced dimensionality\n",
            "2023-05-15 14:11:29,778 - BERTopic - Clustered reduced embeddings\n",
            "2023-05-15 14:11:37,837 - BERTopic - Reduced number of topics from 834 to 16\n"
          ]
        },
        {
          "output_type": "stream",
          "name": "stdout",
          "text": [
            "Current coherence score: 0.17911506234836816\n",
            "Current best coherence score: 0.19249861728314993\n"
          ]
        }
      ]
    },
    {
      "cell_type": "code",
      "source": [
        "print(coherence_history)\n",
        "print(best_coherence)"
      ],
      "metadata": {
        "colab": {
          "base_uri": "https://localhost:8080/"
        },
        "outputId": "623a043b-d72c-446c-8e6b-1e97a08a4c7e",
        "id": "_K84wZB6raBw"
      },
      "execution_count": null,
      "outputs": [
        {
          "output_type": "stream",
          "name": "stdout",
          "text": [
            "{'50, 8, 10': 0.178003144285564, '50, 8, 15': 0.16601448356245999, '50, 12, 10': 0.17373220944808235, '50, 12, 15': 0.17005435255346724, '50, 16, 10': 0.18636712576040623, '50, 16, 15': 0.18962235073204198, '150, 8, 10': 0.17781875967274474, '150, 8, 15': 0.18476260431343694, '150, 12, 10': 0.18145078057826403, '150, 12, 15': 0.1881781306642566, '150, 16, 10': 0.18232459071560433, '150, 16, 15': 0.17801191637835465, '250, 8, 10': 0.1875604709203813, '250, 8, 15': 0.19249861728314993, '250, 12, 10': 0.17443090570715156, '250, 12, 15': 0.1847102639678944, '250, 16, 10': 0.17490914344800532, '250, 16, 15': 0.17911506234836816}\n",
            "0.19249861728314993\n"
          ]
        }
      ]
    },
    {
      "cell_type": "code",
      "source": [
        "record = pd.DataFrame.from_dict(coherence_history, orient='index', columns=['value'])\n",
        "record.index.name = 'min_topic_size - nr_topics - top_n_words'\n",
        "record.sort_values(by = 'value', ascending = False)"
      ],
      "metadata": {
        "colab": {
          "base_uri": "https://localhost:8080/",
          "height": 645
        },
        "id": "Cys18MEUwXLh",
        "outputId": "dd40ed67-773c-474b-c42e-82a50ccdd65e"
      },
      "execution_count": null,
      "outputs": [
        {
          "output_type": "execute_result",
          "data": {
            "text/plain": [
              "                                             value\n",
              "min_topic_size - nr_topics - top_n_words          \n",
              "250, 8, 15                                0.192499\n",
              "50, 16, 15                                0.189622\n",
              "150, 12, 15                               0.188178\n",
              "250, 8, 10                                0.187560\n",
              "50, 16, 10                                0.186367\n",
              "150, 8, 15                                0.184763\n",
              "250, 12, 15                               0.184710\n",
              "150, 16, 10                               0.182325\n",
              "150, 12, 10                               0.181451\n",
              "250, 16, 15                               0.179115\n",
              "150, 16, 15                               0.178012\n",
              "50, 8, 10                                 0.178003\n",
              "150, 8, 10                                0.177819\n",
              "250, 16, 10                               0.174909\n",
              "250, 12, 10                               0.174431\n",
              "50, 12, 10                                0.173732\n",
              "50, 12, 15                                0.170054\n",
              "50, 8, 15                                 0.166014"
            ],
            "text/html": [
              "\n",
              "  <div id=\"df-24b892a8-7a10-484f-90a7-b7b44549fded\">\n",
              "    <div class=\"colab-df-container\">\n",
              "      <div>\n",
              "<style scoped>\n",
              "    .dataframe tbody tr th:only-of-type {\n",
              "        vertical-align: middle;\n",
              "    }\n",
              "\n",
              "    .dataframe tbody tr th {\n",
              "        vertical-align: top;\n",
              "    }\n",
              "\n",
              "    .dataframe thead th {\n",
              "        text-align: right;\n",
              "    }\n",
              "</style>\n",
              "<table border=\"1\" class=\"dataframe\">\n",
              "  <thead>\n",
              "    <tr style=\"text-align: right;\">\n",
              "      <th></th>\n",
              "      <th>value</th>\n",
              "    </tr>\n",
              "    <tr>\n",
              "      <th>min_topic_size - nr_topics - top_n_words</th>\n",
              "      <th></th>\n",
              "    </tr>\n",
              "  </thead>\n",
              "  <tbody>\n",
              "    <tr>\n",
              "      <th>250, 8, 15</th>\n",
              "      <td>0.192499</td>\n",
              "    </tr>\n",
              "    <tr>\n",
              "      <th>50, 16, 15</th>\n",
              "      <td>0.189622</td>\n",
              "    </tr>\n",
              "    <tr>\n",
              "      <th>150, 12, 15</th>\n",
              "      <td>0.188178</td>\n",
              "    </tr>\n",
              "    <tr>\n",
              "      <th>250, 8, 10</th>\n",
              "      <td>0.187560</td>\n",
              "    </tr>\n",
              "    <tr>\n",
              "      <th>50, 16, 10</th>\n",
              "      <td>0.186367</td>\n",
              "    </tr>\n",
              "    <tr>\n",
              "      <th>150, 8, 15</th>\n",
              "      <td>0.184763</td>\n",
              "    </tr>\n",
              "    <tr>\n",
              "      <th>250, 12, 15</th>\n",
              "      <td>0.184710</td>\n",
              "    </tr>\n",
              "    <tr>\n",
              "      <th>150, 16, 10</th>\n",
              "      <td>0.182325</td>\n",
              "    </tr>\n",
              "    <tr>\n",
              "      <th>150, 12, 10</th>\n",
              "      <td>0.181451</td>\n",
              "    </tr>\n",
              "    <tr>\n",
              "      <th>250, 16, 15</th>\n",
              "      <td>0.179115</td>\n",
              "    </tr>\n",
              "    <tr>\n",
              "      <th>150, 16, 15</th>\n",
              "      <td>0.178012</td>\n",
              "    </tr>\n",
              "    <tr>\n",
              "      <th>50, 8, 10</th>\n",
              "      <td>0.178003</td>\n",
              "    </tr>\n",
              "    <tr>\n",
              "      <th>150, 8, 10</th>\n",
              "      <td>0.177819</td>\n",
              "    </tr>\n",
              "    <tr>\n",
              "      <th>250, 16, 10</th>\n",
              "      <td>0.174909</td>\n",
              "    </tr>\n",
              "    <tr>\n",
              "      <th>250, 12, 10</th>\n",
              "      <td>0.174431</td>\n",
              "    </tr>\n",
              "    <tr>\n",
              "      <th>50, 12, 10</th>\n",
              "      <td>0.173732</td>\n",
              "    </tr>\n",
              "    <tr>\n",
              "      <th>50, 12, 15</th>\n",
              "      <td>0.170054</td>\n",
              "    </tr>\n",
              "    <tr>\n",
              "      <th>50, 8, 15</th>\n",
              "      <td>0.166014</td>\n",
              "    </tr>\n",
              "  </tbody>\n",
              "</table>\n",
              "</div>\n",
              "      <button class=\"colab-df-convert\" onclick=\"convertToInteractive('df-24b892a8-7a10-484f-90a7-b7b44549fded')\"\n",
              "              title=\"Convert this dataframe to an interactive table.\"\n",
              "              style=\"display:none;\">\n",
              "        \n",
              "  <svg xmlns=\"http://www.w3.org/2000/svg\" height=\"24px\"viewBox=\"0 0 24 24\"\n",
              "       width=\"24px\">\n",
              "    <path d=\"M0 0h24v24H0V0z\" fill=\"none\"/>\n",
              "    <path d=\"M18.56 5.44l.94 2.06.94-2.06 2.06-.94-2.06-.94-.94-2.06-.94 2.06-2.06.94zm-11 1L8.5 8.5l.94-2.06 2.06-.94-2.06-.94L8.5 2.5l-.94 2.06-2.06.94zm10 10l.94 2.06.94-2.06 2.06-.94-2.06-.94-.94-2.06-.94 2.06-2.06.94z\"/><path d=\"M17.41 7.96l-1.37-1.37c-.4-.4-.92-.59-1.43-.59-.52 0-1.04.2-1.43.59L10.3 9.45l-7.72 7.72c-.78.78-.78 2.05 0 2.83L4 21.41c.39.39.9.59 1.41.59.51 0 1.02-.2 1.41-.59l7.78-7.78 2.81-2.81c.8-.78.8-2.07 0-2.86zM5.41 20L4 18.59l7.72-7.72 1.47 1.35L5.41 20z\"/>\n",
              "  </svg>\n",
              "      </button>\n",
              "      \n",
              "  <style>\n",
              "    .colab-df-container {\n",
              "      display:flex;\n",
              "      flex-wrap:wrap;\n",
              "      gap: 12px;\n",
              "    }\n",
              "\n",
              "    .colab-df-convert {\n",
              "      background-color: #E8F0FE;\n",
              "      border: none;\n",
              "      border-radius: 50%;\n",
              "      cursor: pointer;\n",
              "      display: none;\n",
              "      fill: #1967D2;\n",
              "      height: 32px;\n",
              "      padding: 0 0 0 0;\n",
              "      width: 32px;\n",
              "    }\n",
              "\n",
              "    .colab-df-convert:hover {\n",
              "      background-color: #E2EBFA;\n",
              "      box-shadow: 0px 1px 2px rgba(60, 64, 67, 0.3), 0px 1px 3px 1px rgba(60, 64, 67, 0.15);\n",
              "      fill: #174EA6;\n",
              "    }\n",
              "\n",
              "    [theme=dark] .colab-df-convert {\n",
              "      background-color: #3B4455;\n",
              "      fill: #D2E3FC;\n",
              "    }\n",
              "\n",
              "    [theme=dark] .colab-df-convert:hover {\n",
              "      background-color: #434B5C;\n",
              "      box-shadow: 0px 1px 3px 1px rgba(0, 0, 0, 0.15);\n",
              "      filter: drop-shadow(0px 1px 2px rgba(0, 0, 0, 0.3));\n",
              "      fill: #FFFFFF;\n",
              "    }\n",
              "  </style>\n",
              "\n",
              "      <script>\n",
              "        const buttonEl =\n",
              "          document.querySelector('#df-24b892a8-7a10-484f-90a7-b7b44549fded button.colab-df-convert');\n",
              "        buttonEl.style.display =\n",
              "          google.colab.kernel.accessAllowed ? 'block' : 'none';\n",
              "\n",
              "        async function convertToInteractive(key) {\n",
              "          const element = document.querySelector('#df-24b892a8-7a10-484f-90a7-b7b44549fded');\n",
              "          const dataTable =\n",
              "            await google.colab.kernel.invokeFunction('convertToInteractive',\n",
              "                                                     [key], {});\n",
              "          if (!dataTable) return;\n",
              "\n",
              "          const docLinkHtml = 'Like what you see? Visit the ' +\n",
              "            '<a target=\"_blank\" href=https://colab.research.google.com/notebooks/data_table.ipynb>data table notebook</a>'\n",
              "            + ' to learn more about interactive tables.';\n",
              "          element.innerHTML = '';\n",
              "          dataTable['output_type'] = 'display_data';\n",
              "          await google.colab.output.renderOutput(dataTable, element);\n",
              "          const docLink = document.createElement('div');\n",
              "          docLink.innerHTML = docLinkHtml;\n",
              "          element.appendChild(docLink);\n",
              "        }\n",
              "      </script>\n",
              "    </div>\n",
              "  </div>\n",
              "  "
            ]
          },
          "metadata": {},
          "execution_count": 62
        }
      ]
    },
    {
      "cell_type": "code",
      "execution_count": null,
      "metadata": {
        "id": "RM7iMMSbraBx"
      },
      "outputs": [],
      "source": [
        "best_model.save('chatgpt-topic-model')"
      ]
    },
    {
      "cell_type": "code",
      "source": [
        "umap_model = UMAP(n_components=5, n_neighbors=15, metric='cosine')\n",
        "hdbscan_model = HDBSCAN(min_cluster_size=10, metric='euclidean', prediction_data=True)\n",
        "\n",
        "best_model = BERTopic(language=\"english\", top_n_words=5,\n",
        "                        min_topic_size=50,\n",
        "                        nr_topics=15,\n",
        "                        calculate_probabilities=True,\n",
        "                        umap_model=umap_model,\n",
        "                        hdbscan_model=hdbscan_model,\n",
        "                        verbose=True)\n",
        "\n",
        "best_model.fit(df['Tweet'].values)"
      ],
      "metadata": {
        "colab": {
          "base_uri": "https://localhost:8080/",
          "height": 136,
          "referenced_widgets": [
            "f07930a4090a4da6a81ff74bb15d7ca9",
            "ad2c669374eb40c0abdadd424dcfa136",
            "c716b79f5f14471cab496692e91babc7",
            "7ab643bebd4f4906874704515004faf3",
            "16c02f302f9b46b2860f228bff642cee",
            "021abefce5b144e58bee58b02ddabc98",
            "50f522ad698b4b6988b4f16e81a96c1c",
            "9758b4aa6f104bcdbae5d250f0211099",
            "68242f6ecfe144158e5b179b0515a79e",
            "467d6b0b53dd48e4a6af5d0ea1aaf59c",
            "2ace350e71cd48f69a7fb91f4185c5d1"
          ]
        },
        "id": "-a8-WgB3gooR",
        "outputId": "055867b7-026d-49ee-9e5b-6cedc239834d"
      },
      "execution_count": null,
      "outputs": [
        {
          "output_type": "display_data",
          "data": {
            "text/plain": [
              "Batches:   0%|          | 0/3049 [00:00<?, ?it/s]"
            ],
            "application/vnd.jupyter.widget-view+json": {
              "version_major": 2,
              "version_minor": 0,
              "model_id": "f07930a4090a4da6a81ff74bb15d7ca9"
            }
          },
          "metadata": {}
        },
        {
          "output_type": "stream",
          "name": "stderr",
          "text": [
            "2023-05-15 13:07:19,314 - BERTopic - Transformed documents to Embeddings\n",
            "2023-05-15 13:07:37,895 - BERTopic - Reduced dimensionality\n",
            "2023-05-15 13:07:43,506 - BERTopic - Clustered reduced embeddings\n",
            "2023-05-15 13:07:48,775 - BERTopic - Reduced number of topics from 849 to 15\n"
          ]
        },
        {
          "output_type": "execute_result",
          "data": {
            "text/plain": [
              "<bertopic._bertopic.BERTopic at 0x7fc9c3ce8f40>"
            ]
          },
          "metadata": {},
          "execution_count": 41
        }
      ]
    },
    {
      "cell_type": "code",
      "source": [
        "# Reduce outliers using the `c-tf-idf` strategy\n",
        "topics, prob = best_model.transform(df['Tweet'].values)\n",
        "new_topics = best_model.reduce_outliers(df['Tweet'].values, topics, strategy=\"embeddings\")\n",
        "best_model.update_topics(df['Tweet'].values, topics=new_topics)"
      ],
      "metadata": {
        "colab": {
          "base_uri": "https://localhost:8080/",
          "height": 84,
          "referenced_widgets": [
            "c25b3d89333d4c368030a69c34d74b58",
            "38934e5560e64907bb11406c8c6a67c8",
            "c15c94d8053f4a1e9a3c0afefa3fa77f",
            "6dd0314554834746b9177c4b27b94d7f",
            "e4d9259ccffc4204bc71df2cb197bac2",
            "2d58490e2ae442b6845c57fdaaba3ac3",
            "c095b618fd8548709523c0734cf4289c",
            "3de0f0fe5d764988812b7d354158f773",
            "8aaab115c55244478db18ef0614974b6",
            "85da271458fe4f70b2f87c53ade4d01b",
            "aaab4134ba2e4a41bcedfc68713f4946"
          ]
        },
        "id": "9-LLI9awe83v",
        "outputId": "406b3c96-b69b-4dfc-bf3c-e45f4f7fcb7e"
      },
      "execution_count": null,
      "outputs": [
        {
          "output_type": "display_data",
          "data": {
            "text/plain": [
              "Batches:   0%|          | 0/3049 [00:00<?, ?it/s]"
            ],
            "application/vnd.jupyter.widget-view+json": {
              "version_major": 2,
              "version_minor": 0,
              "model_id": "c25b3d89333d4c368030a69c34d74b58"
            }
          },
          "metadata": {}
        },
        {
          "output_type": "stream",
          "name": "stderr",
          "text": [
            "2023-05-15 13:09:12,946 - BERTopic - Reduced dimensionality\n",
            "2023-05-15 13:09:13,253 - BERTopic - Predicted clusters\n"
          ]
        }
      ]
    },
    {
      "cell_type": "code",
      "source": [
        "freq = best_model.get_topic_info(); freq"
      ],
      "metadata": {
        "colab": {
          "base_uri": "https://localhost:8080/",
          "height": 300
        },
        "outputId": "b805ae2d-f07e-4c3d-880e-1e2537be8b2e",
        "id": "QMEn8ggKraBx"
      },
      "execution_count": null,
      "outputs": [
        {
          "output_type": "execute_result",
          "data": {
            "text/plain": [
              "   Topic  Count                                           Name\n",
              "0     -1      6  -1_thorough_socialist_film_directlyindirectly\n",
              "1      0  75623                           0_chat_gpt4_like_use\n",
              "2      1   4996             1_thank_congratulation_thanks_good\n",
              "3      2   3976                      2_use_math_answer_problem\n",
              "4      3   3594                    3_ask_question_asked_asking\n",
              "5      4   3704                         4_chat_say_dont_people\n",
              "6      5   2441                      5_2023_prompt_code_number\n",
              "7      6   3216                       6_like_human_would_world"
            ],
            "text/html": [
              "\n",
              "  <div id=\"df-ec9916b9-ee90-41ca-8a3c-5368fb0a14f3\">\n",
              "    <div class=\"colab-df-container\">\n",
              "      <div>\n",
              "<style scoped>\n",
              "    .dataframe tbody tr th:only-of-type {\n",
              "        vertical-align: middle;\n",
              "    }\n",
              "\n",
              "    .dataframe tbody tr th {\n",
              "        vertical-align: top;\n",
              "    }\n",
              "\n",
              "    .dataframe thead th {\n",
              "        text-align: right;\n",
              "    }\n",
              "</style>\n",
              "<table border=\"1\" class=\"dataframe\">\n",
              "  <thead>\n",
              "    <tr style=\"text-align: right;\">\n",
              "      <th></th>\n",
              "      <th>Topic</th>\n",
              "      <th>Count</th>\n",
              "      <th>Name</th>\n",
              "    </tr>\n",
              "  </thead>\n",
              "  <tbody>\n",
              "    <tr>\n",
              "      <th>0</th>\n",
              "      <td>-1</td>\n",
              "      <td>6</td>\n",
              "      <td>-1_thorough_socialist_film_directlyindirectly</td>\n",
              "    </tr>\n",
              "    <tr>\n",
              "      <th>1</th>\n",
              "      <td>0</td>\n",
              "      <td>75623</td>\n",
              "      <td>0_chat_gpt4_like_use</td>\n",
              "    </tr>\n",
              "    <tr>\n",
              "      <th>2</th>\n",
              "      <td>1</td>\n",
              "      <td>4996</td>\n",
              "      <td>1_thank_congratulation_thanks_good</td>\n",
              "    </tr>\n",
              "    <tr>\n",
              "      <th>3</th>\n",
              "      <td>2</td>\n",
              "      <td>3976</td>\n",
              "      <td>2_use_math_answer_problem</td>\n",
              "    </tr>\n",
              "    <tr>\n",
              "      <th>4</th>\n",
              "      <td>3</td>\n",
              "      <td>3594</td>\n",
              "      <td>3_ask_question_asked_asking</td>\n",
              "    </tr>\n",
              "    <tr>\n",
              "      <th>5</th>\n",
              "      <td>4</td>\n",
              "      <td>3704</td>\n",
              "      <td>4_chat_say_dont_people</td>\n",
              "    </tr>\n",
              "    <tr>\n",
              "      <th>6</th>\n",
              "      <td>5</td>\n",
              "      <td>2441</td>\n",
              "      <td>5_2023_prompt_code_number</td>\n",
              "    </tr>\n",
              "    <tr>\n",
              "      <th>7</th>\n",
              "      <td>6</td>\n",
              "      <td>3216</td>\n",
              "      <td>6_like_human_would_world</td>\n",
              "    </tr>\n",
              "  </tbody>\n",
              "</table>\n",
              "</div>\n",
              "      <button class=\"colab-df-convert\" onclick=\"convertToInteractive('df-ec9916b9-ee90-41ca-8a3c-5368fb0a14f3')\"\n",
              "              title=\"Convert this dataframe to an interactive table.\"\n",
              "              style=\"display:none;\">\n",
              "        \n",
              "  <svg xmlns=\"http://www.w3.org/2000/svg\" height=\"24px\"viewBox=\"0 0 24 24\"\n",
              "       width=\"24px\">\n",
              "    <path d=\"M0 0h24v24H0V0z\" fill=\"none\"/>\n",
              "    <path d=\"M18.56 5.44l.94 2.06.94-2.06 2.06-.94-2.06-.94-.94-2.06-.94 2.06-2.06.94zm-11 1L8.5 8.5l.94-2.06 2.06-.94-2.06-.94L8.5 2.5l-.94 2.06-2.06.94zm10 10l.94 2.06.94-2.06 2.06-.94-2.06-.94-.94-2.06-.94 2.06-2.06.94z\"/><path d=\"M17.41 7.96l-1.37-1.37c-.4-.4-.92-.59-1.43-.59-.52 0-1.04.2-1.43.59L10.3 9.45l-7.72 7.72c-.78.78-.78 2.05 0 2.83L4 21.41c.39.39.9.59 1.41.59.51 0 1.02-.2 1.41-.59l7.78-7.78 2.81-2.81c.8-.78.8-2.07 0-2.86zM5.41 20L4 18.59l7.72-7.72 1.47 1.35L5.41 20z\"/>\n",
              "  </svg>\n",
              "      </button>\n",
              "      \n",
              "  <style>\n",
              "    .colab-df-container {\n",
              "      display:flex;\n",
              "      flex-wrap:wrap;\n",
              "      gap: 12px;\n",
              "    }\n",
              "\n",
              "    .colab-df-convert {\n",
              "      background-color: #E8F0FE;\n",
              "      border: none;\n",
              "      border-radius: 50%;\n",
              "      cursor: pointer;\n",
              "      display: none;\n",
              "      fill: #1967D2;\n",
              "      height: 32px;\n",
              "      padding: 0 0 0 0;\n",
              "      width: 32px;\n",
              "    }\n",
              "\n",
              "    .colab-df-convert:hover {\n",
              "      background-color: #E2EBFA;\n",
              "      box-shadow: 0px 1px 2px rgba(60, 64, 67, 0.3), 0px 1px 3px 1px rgba(60, 64, 67, 0.15);\n",
              "      fill: #174EA6;\n",
              "    }\n",
              "\n",
              "    [theme=dark] .colab-df-convert {\n",
              "      background-color: #3B4455;\n",
              "      fill: #D2E3FC;\n",
              "    }\n",
              "\n",
              "    [theme=dark] .colab-df-convert:hover {\n",
              "      background-color: #434B5C;\n",
              "      box-shadow: 0px 1px 3px 1px rgba(0, 0, 0, 0.15);\n",
              "      filter: drop-shadow(0px 1px 2px rgba(0, 0, 0, 0.3));\n",
              "      fill: #FFFFFF;\n",
              "    }\n",
              "  </style>\n",
              "\n",
              "      <script>\n",
              "        const buttonEl =\n",
              "          document.querySelector('#df-ec9916b9-ee90-41ca-8a3c-5368fb0a14f3 button.colab-df-convert');\n",
              "        buttonEl.style.display =\n",
              "          google.colab.kernel.accessAllowed ? 'block' : 'none';\n",
              "\n",
              "        async function convertToInteractive(key) {\n",
              "          const element = document.querySelector('#df-ec9916b9-ee90-41ca-8a3c-5368fb0a14f3');\n",
              "          const dataTable =\n",
              "            await google.colab.kernel.invokeFunction('convertToInteractive',\n",
              "                                                     [key], {});\n",
              "          if (!dataTable) return;\n",
              "\n",
              "          const docLinkHtml = 'Like what you see? Visit the ' +\n",
              "            '<a target=\"_blank\" href=https://colab.research.google.com/notebooks/data_table.ipynb>data table notebook</a>'\n",
              "            + ' to learn more about interactive tables.';\n",
              "          element.innerHTML = '';\n",
              "          dataTable['output_type'] = 'display_data';\n",
              "          await google.colab.output.renderOutput(dataTable, element);\n",
              "          const docLink = document.createElement('div');\n",
              "          docLink.innerHTML = docLinkHtml;\n",
              "          element.appendChild(docLink);\n",
              "        }\n",
              "      </script>\n",
              "    </div>\n",
              "  </div>\n",
              "  "
            ]
          },
          "metadata": {},
          "execution_count": 20
        }
      ]
    },
    {
      "cell_type": "code",
      "source": [
        "### Menentukan Nilai Coherence dari Topik\n",
        "top_words = get_top_words(best_model.get_topics())\n",
        "print(calculate_coherence(w2v_model, top_words))"
      ],
      "metadata": {
        "colab": {
          "base_uri": "https://localhost:8080/"
        },
        "id": "nuo2qxz9zy1D",
        "outputId": "c4dc614f-ecb7-4457-b133-cf6d4188c6ac"
      },
      "execution_count": null,
      "outputs": [
        {
          "output_type": "stream",
          "name": "stdout",
          "text": [
            "0.19249861728314993\n"
          ]
        }
      ]
    },
    {
      "cell_type": "code",
      "source": [
        "fig = best_model.visualize_topics(); fig"
      ],
      "metadata": {
        "colab": {
          "base_uri": "https://localhost:8080/",
          "height": 667
        },
        "outputId": "3b4270dc-f8ee-45ce-d3da-41e5a8765d43",
        "id": "OgxxBx6lraBy"
      },
      "execution_count": null,
      "outputs": [
        {
          "output_type": "display_data",
          "data": {
            "text/html": [
              "<html>\n",
              "<head><meta charset=\"utf-8\" /></head>\n",
              "<body>\n",
              "    <div>            <script src=\"https://cdnjs.cloudflare.com/ajax/libs/mathjax/2.7.5/MathJax.js?config=TeX-AMS-MML_SVG\"></script><script type=\"text/javascript\">if (window.MathJax && window.MathJax.Hub && window.MathJax.Hub.Config) {window.MathJax.Hub.Config({SVG: {font: \"STIX-Web\"}});}</script>                <script type=\"text/javascript\">window.PlotlyConfig = {MathJaxConfig: 'local'};</script>\n",
              "        <script src=\"https://cdn.plot.ly/plotly-2.18.2.min.js\"></script>                <div id=\"585fc732-5b2b-4304-8d58-a6fe87b9e01a\" class=\"plotly-graph-div\" style=\"height:650px; width:650px;\"></div>            <script type=\"text/javascript\">                                    window.PLOTLYENV=window.PLOTLYENV || {};                                    if (document.getElementById(\"585fc732-5b2b-4304-8d58-a6fe87b9e01a\")) {                    Plotly.newPlot(                        \"585fc732-5b2b-4304-8d58-a6fe87b9e01a\",                        [{\"customdata\":[[0,\"chat | gpt4 | like | use | using\",75623],[1,\"thank | congratulation | thanks | good | love\",4996],[2,\"use | math | answer | problem | using\",3976],[3,\"ask | question | asked | asking | answer\",3594],[4,\"chat | say | dont | people | like\",3704],[5,\"2023 | prompt | code | number | new\",2441],[6,\"like | human | would | world | time\",3216]],\"hovertemplate\":\"<b>Topic %{customdata[0]}</b><br>%{customdata[1]}<br>Size: %{customdata[2]}\",\"legendgroup\":\"\",\"marker\":{\"color\":\"#B0BEC5\",\"size\":[75623,4996,3976,3594,3704,2441,3216],\"sizemode\":\"area\",\"sizeref\":47.264375,\"symbol\":\"circle\",\"line\":{\"color\":\"DarkSlateGrey\",\"width\":2}},\"mode\":\"markers\",\"name\":\"\",\"orientation\":\"v\",\"showlegend\":false,\"x\":[17.22639274597168,17.489295959472656,19.174354553222656,18.360374450683594,19.679563522338867,18.057157516479492,18.9986572265625],\"xaxis\":\"x\",\"y\":[8.81931209564209,8.213029861450195,10.452357292175293,10.07400894165039,8.886887550354004,8.420819282531738,9.667120933532715],\"yaxis\":\"y\",\"type\":\"scatter\"}],                        {\"template\":{\"data\":{\"barpolar\":[{\"marker\":{\"line\":{\"color\":\"white\",\"width\":0.5},\"pattern\":{\"fillmode\":\"overlay\",\"size\":10,\"solidity\":0.2}},\"type\":\"barpolar\"}],\"bar\":[{\"error_x\":{\"color\":\"rgb(36,36,36)\"},\"error_y\":{\"color\":\"rgb(36,36,36)\"},\"marker\":{\"line\":{\"color\":\"white\",\"width\":0.5},\"pattern\":{\"fillmode\":\"overlay\",\"size\":10,\"solidity\":0.2}},\"type\":\"bar\"}],\"carpet\":[{\"aaxis\":{\"endlinecolor\":\"rgb(36,36,36)\",\"gridcolor\":\"white\",\"linecolor\":\"white\",\"minorgridcolor\":\"white\",\"startlinecolor\":\"rgb(36,36,36)\"},\"baxis\":{\"endlinecolor\":\"rgb(36,36,36)\",\"gridcolor\":\"white\",\"linecolor\":\"white\",\"minorgridcolor\":\"white\",\"startlinecolor\":\"rgb(36,36,36)\"},\"type\":\"carpet\"}],\"choropleth\":[{\"colorbar\":{\"outlinewidth\":1,\"tickcolor\":\"rgb(36,36,36)\",\"ticks\":\"outside\"},\"type\":\"choropleth\"}],\"contourcarpet\":[{\"colorbar\":{\"outlinewidth\":1,\"tickcolor\":\"rgb(36,36,36)\",\"ticks\":\"outside\"},\"type\":\"contourcarpet\"}],\"contour\":[{\"colorbar\":{\"outlinewidth\":1,\"tickcolor\":\"rgb(36,36,36)\",\"ticks\":\"outside\"},\"colorscale\":[[0.0,\"#440154\"],[0.1111111111111111,\"#482878\"],[0.2222222222222222,\"#3e4989\"],[0.3333333333333333,\"#31688e\"],[0.4444444444444444,\"#26828e\"],[0.5555555555555556,\"#1f9e89\"],[0.6666666666666666,\"#35b779\"],[0.7777777777777778,\"#6ece58\"],[0.8888888888888888,\"#b5de2b\"],[1.0,\"#fde725\"]],\"type\":\"contour\"}],\"heatmapgl\":[{\"colorbar\":{\"outlinewidth\":1,\"tickcolor\":\"rgb(36,36,36)\",\"ticks\":\"outside\"},\"colorscale\":[[0.0,\"#440154\"],[0.1111111111111111,\"#482878\"],[0.2222222222222222,\"#3e4989\"],[0.3333333333333333,\"#31688e\"],[0.4444444444444444,\"#26828e\"],[0.5555555555555556,\"#1f9e89\"],[0.6666666666666666,\"#35b779\"],[0.7777777777777778,\"#6ece58\"],[0.8888888888888888,\"#b5de2b\"],[1.0,\"#fde725\"]],\"type\":\"heatmapgl\"}],\"heatmap\":[{\"colorbar\":{\"outlinewidth\":1,\"tickcolor\":\"rgb(36,36,36)\",\"ticks\":\"outside\"},\"colorscale\":[[0.0,\"#440154\"],[0.1111111111111111,\"#482878\"],[0.2222222222222222,\"#3e4989\"],[0.3333333333333333,\"#31688e\"],[0.4444444444444444,\"#26828e\"],[0.5555555555555556,\"#1f9e89\"],[0.6666666666666666,\"#35b779\"],[0.7777777777777778,\"#6ece58\"],[0.8888888888888888,\"#b5de2b\"],[1.0,\"#fde725\"]],\"type\":\"heatmap\"}],\"histogram2dcontour\":[{\"colorbar\":{\"outlinewidth\":1,\"tickcolor\":\"rgb(36,36,36)\",\"ticks\":\"outside\"},\"colorscale\":[[0.0,\"#440154\"],[0.1111111111111111,\"#482878\"],[0.2222222222222222,\"#3e4989\"],[0.3333333333333333,\"#31688e\"],[0.4444444444444444,\"#26828e\"],[0.5555555555555556,\"#1f9e89\"],[0.6666666666666666,\"#35b779\"],[0.7777777777777778,\"#6ece58\"],[0.8888888888888888,\"#b5de2b\"],[1.0,\"#fde725\"]],\"type\":\"histogram2dcontour\"}],\"histogram2d\":[{\"colorbar\":{\"outlinewidth\":1,\"tickcolor\":\"rgb(36,36,36)\",\"ticks\":\"outside\"},\"colorscale\":[[0.0,\"#440154\"],[0.1111111111111111,\"#482878\"],[0.2222222222222222,\"#3e4989\"],[0.3333333333333333,\"#31688e\"],[0.4444444444444444,\"#26828e\"],[0.5555555555555556,\"#1f9e89\"],[0.6666666666666666,\"#35b779\"],[0.7777777777777778,\"#6ece58\"],[0.8888888888888888,\"#b5de2b\"],[1.0,\"#fde725\"]],\"type\":\"histogram2d\"}],\"histogram\":[{\"marker\":{\"line\":{\"color\":\"white\",\"width\":0.6}},\"type\":\"histogram\"}],\"mesh3d\":[{\"colorbar\":{\"outlinewidth\":1,\"tickcolor\":\"rgb(36,36,36)\",\"ticks\":\"outside\"},\"type\":\"mesh3d\"}],\"parcoords\":[{\"line\":{\"colorbar\":{\"outlinewidth\":1,\"tickcolor\":\"rgb(36,36,36)\",\"ticks\":\"outside\"}},\"type\":\"parcoords\"}],\"pie\":[{\"automargin\":true,\"type\":\"pie\"}],\"scatter3d\":[{\"line\":{\"colorbar\":{\"outlinewidth\":1,\"tickcolor\":\"rgb(36,36,36)\",\"ticks\":\"outside\"}},\"marker\":{\"colorbar\":{\"outlinewidth\":1,\"tickcolor\":\"rgb(36,36,36)\",\"ticks\":\"outside\"}},\"type\":\"scatter3d\"}],\"scattercarpet\":[{\"marker\":{\"colorbar\":{\"outlinewidth\":1,\"tickcolor\":\"rgb(36,36,36)\",\"ticks\":\"outside\"}},\"type\":\"scattercarpet\"}],\"scattergeo\":[{\"marker\":{\"colorbar\":{\"outlinewidth\":1,\"tickcolor\":\"rgb(36,36,36)\",\"ticks\":\"outside\"}},\"type\":\"scattergeo\"}],\"scattergl\":[{\"marker\":{\"colorbar\":{\"outlinewidth\":1,\"tickcolor\":\"rgb(36,36,36)\",\"ticks\":\"outside\"}},\"type\":\"scattergl\"}],\"scattermapbox\":[{\"marker\":{\"colorbar\":{\"outlinewidth\":1,\"tickcolor\":\"rgb(36,36,36)\",\"ticks\":\"outside\"}},\"type\":\"scattermapbox\"}],\"scatterpolargl\":[{\"marker\":{\"colorbar\":{\"outlinewidth\":1,\"tickcolor\":\"rgb(36,36,36)\",\"ticks\":\"outside\"}},\"type\":\"scatterpolargl\"}],\"scatterpolar\":[{\"marker\":{\"colorbar\":{\"outlinewidth\":1,\"tickcolor\":\"rgb(36,36,36)\",\"ticks\":\"outside\"}},\"type\":\"scatterpolar\"}],\"scatter\":[{\"fillpattern\":{\"fillmode\":\"overlay\",\"size\":10,\"solidity\":0.2},\"type\":\"scatter\"}],\"scatterternary\":[{\"marker\":{\"colorbar\":{\"outlinewidth\":1,\"tickcolor\":\"rgb(36,36,36)\",\"ticks\":\"outside\"}},\"type\":\"scatterternary\"}],\"surface\":[{\"colorbar\":{\"outlinewidth\":1,\"tickcolor\":\"rgb(36,36,36)\",\"ticks\":\"outside\"},\"colorscale\":[[0.0,\"#440154\"],[0.1111111111111111,\"#482878\"],[0.2222222222222222,\"#3e4989\"],[0.3333333333333333,\"#31688e\"],[0.4444444444444444,\"#26828e\"],[0.5555555555555556,\"#1f9e89\"],[0.6666666666666666,\"#35b779\"],[0.7777777777777778,\"#6ece58\"],[0.8888888888888888,\"#b5de2b\"],[1.0,\"#fde725\"]],\"type\":\"surface\"}],\"table\":[{\"cells\":{\"fill\":{\"color\":\"rgb(237,237,237)\"},\"line\":{\"color\":\"white\"}},\"header\":{\"fill\":{\"color\":\"rgb(217,217,217)\"},\"line\":{\"color\":\"white\"}},\"type\":\"table\"}]},\"layout\":{\"annotationdefaults\":{\"arrowhead\":0,\"arrowwidth\":1},\"autotypenumbers\":\"strict\",\"coloraxis\":{\"colorbar\":{\"outlinewidth\":1,\"tickcolor\":\"rgb(36,36,36)\",\"ticks\":\"outside\"}},\"colorscale\":{\"diverging\":[[0.0,\"rgb(103,0,31)\"],[0.1,\"rgb(178,24,43)\"],[0.2,\"rgb(214,96,77)\"],[0.3,\"rgb(244,165,130)\"],[0.4,\"rgb(253,219,199)\"],[0.5,\"rgb(247,247,247)\"],[0.6,\"rgb(209,229,240)\"],[0.7,\"rgb(146,197,222)\"],[0.8,\"rgb(67,147,195)\"],[0.9,\"rgb(33,102,172)\"],[1.0,\"rgb(5,48,97)\"]],\"sequential\":[[0.0,\"#440154\"],[0.1111111111111111,\"#482878\"],[0.2222222222222222,\"#3e4989\"],[0.3333333333333333,\"#31688e\"],[0.4444444444444444,\"#26828e\"],[0.5555555555555556,\"#1f9e89\"],[0.6666666666666666,\"#35b779\"],[0.7777777777777778,\"#6ece58\"],[0.8888888888888888,\"#b5de2b\"],[1.0,\"#fde725\"]],\"sequentialminus\":[[0.0,\"#440154\"],[0.1111111111111111,\"#482878\"],[0.2222222222222222,\"#3e4989\"],[0.3333333333333333,\"#31688e\"],[0.4444444444444444,\"#26828e\"],[0.5555555555555556,\"#1f9e89\"],[0.6666666666666666,\"#35b779\"],[0.7777777777777778,\"#6ece58\"],[0.8888888888888888,\"#b5de2b\"],[1.0,\"#fde725\"]]},\"colorway\":[\"#1F77B4\",\"#FF7F0E\",\"#2CA02C\",\"#D62728\",\"#9467BD\",\"#8C564B\",\"#E377C2\",\"#7F7F7F\",\"#BCBD22\",\"#17BECF\"],\"font\":{\"color\":\"rgb(36,36,36)\"},\"geo\":{\"bgcolor\":\"white\",\"lakecolor\":\"white\",\"landcolor\":\"white\",\"showlakes\":true,\"showland\":true,\"subunitcolor\":\"white\"},\"hoverlabel\":{\"align\":\"left\"},\"hovermode\":\"closest\",\"mapbox\":{\"style\":\"light\"},\"paper_bgcolor\":\"white\",\"plot_bgcolor\":\"white\",\"polar\":{\"angularaxis\":{\"gridcolor\":\"rgb(232,232,232)\",\"linecolor\":\"rgb(36,36,36)\",\"showgrid\":false,\"showline\":true,\"ticks\":\"outside\"},\"bgcolor\":\"white\",\"radialaxis\":{\"gridcolor\":\"rgb(232,232,232)\",\"linecolor\":\"rgb(36,36,36)\",\"showgrid\":false,\"showline\":true,\"ticks\":\"outside\"}},\"scene\":{\"xaxis\":{\"backgroundcolor\":\"white\",\"gridcolor\":\"rgb(232,232,232)\",\"gridwidth\":2,\"linecolor\":\"rgb(36,36,36)\",\"showbackground\":true,\"showgrid\":false,\"showline\":true,\"ticks\":\"outside\",\"zeroline\":false,\"zerolinecolor\":\"rgb(36,36,36)\"},\"yaxis\":{\"backgroundcolor\":\"white\",\"gridcolor\":\"rgb(232,232,232)\",\"gridwidth\":2,\"linecolor\":\"rgb(36,36,36)\",\"showbackground\":true,\"showgrid\":false,\"showline\":true,\"ticks\":\"outside\",\"zeroline\":false,\"zerolinecolor\":\"rgb(36,36,36)\"},\"zaxis\":{\"backgroundcolor\":\"white\",\"gridcolor\":\"rgb(232,232,232)\",\"gridwidth\":2,\"linecolor\":\"rgb(36,36,36)\",\"showbackground\":true,\"showgrid\":false,\"showline\":true,\"ticks\":\"outside\",\"zeroline\":false,\"zerolinecolor\":\"rgb(36,36,36)\"}},\"shapedefaults\":{\"fillcolor\":\"black\",\"line\":{\"width\":0},\"opacity\":0.3},\"ternary\":{\"aaxis\":{\"gridcolor\":\"rgb(232,232,232)\",\"linecolor\":\"rgb(36,36,36)\",\"showgrid\":false,\"showline\":true,\"ticks\":\"outside\"},\"baxis\":{\"gridcolor\":\"rgb(232,232,232)\",\"linecolor\":\"rgb(36,36,36)\",\"showgrid\":false,\"showline\":true,\"ticks\":\"outside\"},\"bgcolor\":\"white\",\"caxis\":{\"gridcolor\":\"rgb(232,232,232)\",\"linecolor\":\"rgb(36,36,36)\",\"showgrid\":false,\"showline\":true,\"ticks\":\"outside\"}},\"title\":{\"x\":0.05},\"xaxis\":{\"automargin\":true,\"gridcolor\":\"rgb(232,232,232)\",\"linecolor\":\"rgb(36,36,36)\",\"showgrid\":false,\"showline\":true,\"ticks\":\"outside\",\"title\":{\"standoff\":15},\"zeroline\":false,\"zerolinecolor\":\"rgb(36,36,36)\"},\"yaxis\":{\"automargin\":true,\"gridcolor\":\"rgb(232,232,232)\",\"linecolor\":\"rgb(36,36,36)\",\"showgrid\":false,\"showline\":true,\"ticks\":\"outside\",\"title\":{\"standoff\":15},\"zeroline\":false,\"zerolinecolor\":\"rgb(36,36,36)\"}}},\"xaxis\":{\"anchor\":\"y\",\"domain\":[0.0,1.0],\"title\":{\"text\":\"\"},\"visible\":false,\"range\":[14.642433834075927,22.631498050689697]},\"yaxis\":{\"anchor\":\"x\",\"domain\":[0.0,1.0],\"title\":{\"text\":\"\"},\"visible\":false,\"range\":[6.981075382232666,12.020210886001587]},\"legend\":{\"tracegroupgap\":0,\"itemsizing\":\"constant\"},\"margin\":{\"t\":60},\"title\":{\"font\":{\"size\":22,\"color\":\"Black\"},\"text\":\"<b>Intertopic Distance Map</b>\",\"y\":0.95,\"x\":0.5,\"xanchor\":\"center\",\"yanchor\":\"top\"},\"hoverlabel\":{\"font\":{\"size\":16,\"family\":\"Rockwell\"},\"bgcolor\":\"white\"},\"width\":650,\"height\":650,\"sliders\":[{\"active\":0,\"pad\":{\"t\":50},\"steps\":[{\"args\":[{\"marker.color\":[[\"red\",\"#B0BEC5\",\"#B0BEC5\",\"#B0BEC5\",\"#B0BEC5\",\"#B0BEC5\",\"#B0BEC5\"]]}],\"label\":\"Topic 0\",\"method\":\"update\"},{\"args\":[{\"marker.color\":[[\"#B0BEC5\",\"red\",\"#B0BEC5\",\"#B0BEC5\",\"#B0BEC5\",\"#B0BEC5\",\"#B0BEC5\"]]}],\"label\":\"Topic 1\",\"method\":\"update\"},{\"args\":[{\"marker.color\":[[\"#B0BEC5\",\"#B0BEC5\",\"red\",\"#B0BEC5\",\"#B0BEC5\",\"#B0BEC5\",\"#B0BEC5\"]]}],\"label\":\"Topic 2\",\"method\":\"update\"},{\"args\":[{\"marker.color\":[[\"#B0BEC5\",\"#B0BEC5\",\"#B0BEC5\",\"red\",\"#B0BEC5\",\"#B0BEC5\",\"#B0BEC5\"]]}],\"label\":\"Topic 3\",\"method\":\"update\"},{\"args\":[{\"marker.color\":[[\"#B0BEC5\",\"#B0BEC5\",\"#B0BEC5\",\"#B0BEC5\",\"red\",\"#B0BEC5\",\"#B0BEC5\"]]}],\"label\":\"Topic 4\",\"method\":\"update\"},{\"args\":[{\"marker.color\":[[\"#B0BEC5\",\"#B0BEC5\",\"#B0BEC5\",\"#B0BEC5\",\"#B0BEC5\",\"red\",\"#B0BEC5\"]]}],\"label\":\"Topic 5\",\"method\":\"update\"},{\"args\":[{\"marker.color\":[[\"#B0BEC5\",\"#B0BEC5\",\"#B0BEC5\",\"#B0BEC5\",\"#B0BEC5\",\"#B0BEC5\",\"red\"]]}],\"label\":\"Topic 6\",\"method\":\"update\"}]}],\"shapes\":[{\"line\":{\"color\":\"#CFD8DC\",\"width\":2},\"type\":\"line\",\"x0\":18.636965942382812,\"x1\":18.636965942382812,\"y0\":6.981075382232666,\"y1\":12.020210886001587},{\"line\":{\"color\":\"#9E9E9E\",\"width\":2},\"type\":\"line\",\"x0\":14.642433834075927,\"x1\":22.631498050689697,\"y0\":9.500643134117126,\"y1\":9.500643134117126}],\"annotations\":[{\"showarrow\":false,\"text\":\"D1\",\"x\":14.642433834075927,\"y\":9.500643134117126,\"yshift\":10},{\"showarrow\":false,\"text\":\"D2\",\"x\":18.636965942382812,\"xshift\":10,\"y\":12.020210886001587}]},                        {\"responsive\": true}                    ).then(function(){\n",
              "                            \n",
              "var gd = document.getElementById('585fc732-5b2b-4304-8d58-a6fe87b9e01a');\n",
              "var x = new MutationObserver(function (mutations, observer) {{\n",
              "        var display = window.getComputedStyle(gd).display;\n",
              "        if (!display || display === 'none') {{\n",
              "            console.log([gd, 'removed!']);\n",
              "            Plotly.purge(gd);\n",
              "            observer.disconnect();\n",
              "        }}\n",
              "}});\n",
              "\n",
              "// Listen for the removal of the full notebook cells\n",
              "var notebookContainer = gd.closest('#notebook-container');\n",
              "if (notebookContainer) {{\n",
              "    x.observe(notebookContainer, {childList: true});\n",
              "}}\n",
              "\n",
              "// Listen for the clearing of the current output cell\n",
              "var outputEl = gd.closest('.output');\n",
              "if (outputEl) {{\n",
              "    x.observe(outputEl, {childList: true});\n",
              "}}\n",
              "\n",
              "                        })                };                            </script>        </div>\n",
              "</body>\n",
              "</html>"
            ]
          },
          "metadata": {}
        }
      ]
    },
    {
      "cell_type": "markdown",
      "source": [
        "# Visualisasi Akhir"
      ],
      "metadata": {
        "id": "4bQU-ZTSq3ex"
      }
    },
    {
      "cell_type": "code",
      "source": [
        "doc_info = topic_model.get_document_info(X_predict)\n",
        "topics = doc_info['Topic'].values\n",
        "top_words = get_top_words(topic_model.get_topics())"
      ],
      "metadata": {
        "id": "4PvwEotfJ5g7"
      },
      "execution_count": null,
      "outputs": []
    },
    {
      "cell_type": "code",
      "source": [
        "df_predict['topics'] = topics\n",
        "df_predict['top_words'] = df_predict['topics'].map(lambda row: top_words[row])\n",
        "df_predict"
      ],
      "metadata": {
        "colab": {
          "base_uri": "https://localhost:8080/",
          "height": 502
        },
        "id": "wu_QHl_77J3n",
        "outputId": "19d5deb7-5143-46c9-b036-1fcfa45db20c"
      },
      "execution_count": null,
      "outputs": [
        {
          "output_type": "execute_result",
          "data": {
            "text/plain": [
              "                                                  tweets  labels  topics  \\\n",
              "0                      ChatGPT is another woke machine.        0       0   \n",
              "1      of the Atlantic, or only near the Atla #推特账号 m...       0       0   \n",
              "2       This thread is saved to your Notion database....       2       0   \n",
              "3                             Prompt AI – ChatGPT #0018        0       0   \n",
              "4      Just had some interesting conversations with G...       1       0   \n",
              "...                                                  ...     ...     ...   \n",
              "98754   Sorry my phones on da blink n my dyslexic mes...       2       4   \n",
              "98755   If someone were to tell a future version of C...       0       3   \n",
              "98756  ChatGPT can talk to your AWS infrastructure fo...       0       0   \n",
              "98757  ChatGPT is not yet a human, but some humans ha...       0      13   \n",
              "98758   One hopes that it knows about non-binary logi...       2       5   \n",
              "\n",
              "                                               top_words  \n",
              "0      [chat, gpt4, google, like, use, chatgpt4, get,...  \n",
              "1      [chat, gpt4, google, like, use, chatgpt4, get,...  \n",
              "2      [chat, gpt4, google, like, use, chatgpt4, get,...  \n",
              "3      [chat, gpt4, google, like, use, chatgpt4, get,...  \n",
              "4      [chat, gpt4, google, like, use, chatgpt4, get,...  \n",
              "...                                                  ...  \n",
              "98754  [app, code, like, game, using, apps, new, use,...  \n",
              "98755  [domain, business, linkedin, website, marketin...  \n",
              "98756  [chat, gpt4, google, like, use, chatgpt4, get,...  \n",
              "98757  [human, like, asked, life, think, world, peopl...  \n",
              "98758  [apology, chat, asked, response, sorry, im, sa...  \n",
              "\n",
              "[97556 rows x 4 columns]"
            ],
            "text/html": [
              "\n",
              "  <div id=\"df-886945f2-ed62-41ff-a3ee-06fed45ffdab\">\n",
              "    <div class=\"colab-df-container\">\n",
              "      <div>\n",
              "<style scoped>\n",
              "    .dataframe tbody tr th:only-of-type {\n",
              "        vertical-align: middle;\n",
              "    }\n",
              "\n",
              "    .dataframe tbody tr th {\n",
              "        vertical-align: top;\n",
              "    }\n",
              "\n",
              "    .dataframe thead th {\n",
              "        text-align: right;\n",
              "    }\n",
              "</style>\n",
              "<table border=\"1\" class=\"dataframe\">\n",
              "  <thead>\n",
              "    <tr style=\"text-align: right;\">\n",
              "      <th></th>\n",
              "      <th>tweets</th>\n",
              "      <th>labels</th>\n",
              "      <th>topics</th>\n",
              "      <th>top_words</th>\n",
              "    </tr>\n",
              "  </thead>\n",
              "  <tbody>\n",
              "    <tr>\n",
              "      <th>0</th>\n",
              "      <td>ChatGPT is another woke machine.</td>\n",
              "      <td>0</td>\n",
              "      <td>0</td>\n",
              "      <td>[chat, gpt4, google, like, use, chatgpt4, get,...</td>\n",
              "    </tr>\n",
              "    <tr>\n",
              "      <th>1</th>\n",
              "      <td>of the Atlantic, or only near the Atla #推特账号 m...</td>\n",
              "      <td>0</td>\n",
              "      <td>0</td>\n",
              "      <td>[chat, gpt4, google, like, use, chatgpt4, get,...</td>\n",
              "    </tr>\n",
              "    <tr>\n",
              "      <th>2</th>\n",
              "      <td>This thread is saved to your Notion database....</td>\n",
              "      <td>2</td>\n",
              "      <td>0</td>\n",
              "      <td>[chat, gpt4, google, like, use, chatgpt4, get,...</td>\n",
              "    </tr>\n",
              "    <tr>\n",
              "      <th>3</th>\n",
              "      <td>Prompt AI – ChatGPT #0018</td>\n",
              "      <td>0</td>\n",
              "      <td>0</td>\n",
              "      <td>[chat, gpt4, google, like, use, chatgpt4, get,...</td>\n",
              "    </tr>\n",
              "    <tr>\n",
              "      <th>4</th>\n",
              "      <td>Just had some interesting conversations with G...</td>\n",
              "      <td>1</td>\n",
              "      <td>0</td>\n",
              "      <td>[chat, gpt4, google, like, use, chatgpt4, get,...</td>\n",
              "    </tr>\n",
              "    <tr>\n",
              "      <th>...</th>\n",
              "      <td>...</td>\n",
              "      <td>...</td>\n",
              "      <td>...</td>\n",
              "      <td>...</td>\n",
              "    </tr>\n",
              "    <tr>\n",
              "      <th>98754</th>\n",
              "      <td>Sorry my phones on da blink n my dyslexic mes...</td>\n",
              "      <td>2</td>\n",
              "      <td>4</td>\n",
              "      <td>[app, code, like, game, using, apps, new, use,...</td>\n",
              "    </tr>\n",
              "    <tr>\n",
              "      <th>98755</th>\n",
              "      <td>If someone were to tell a future version of C...</td>\n",
              "      <td>0</td>\n",
              "      <td>3</td>\n",
              "      <td>[domain, business, linkedin, website, marketin...</td>\n",
              "    </tr>\n",
              "    <tr>\n",
              "      <th>98756</th>\n",
              "      <td>ChatGPT can talk to your AWS infrastructure fo...</td>\n",
              "      <td>0</td>\n",
              "      <td>0</td>\n",
              "      <td>[chat, gpt4, google, like, use, chatgpt4, get,...</td>\n",
              "    </tr>\n",
              "    <tr>\n",
              "      <th>98757</th>\n",
              "      <td>ChatGPT is not yet a human, but some humans ha...</td>\n",
              "      <td>0</td>\n",
              "      <td>13</td>\n",
              "      <td>[human, like, asked, life, think, world, peopl...</td>\n",
              "    </tr>\n",
              "    <tr>\n",
              "      <th>98758</th>\n",
              "      <td>One hopes that it knows about non-binary logi...</td>\n",
              "      <td>2</td>\n",
              "      <td>5</td>\n",
              "      <td>[apology, chat, asked, response, sorry, im, sa...</td>\n",
              "    </tr>\n",
              "  </tbody>\n",
              "</table>\n",
              "<p>97556 rows × 4 columns</p>\n",
              "</div>\n",
              "      <button class=\"colab-df-convert\" onclick=\"convertToInteractive('df-886945f2-ed62-41ff-a3ee-06fed45ffdab')\"\n",
              "              title=\"Convert this dataframe to an interactive table.\"\n",
              "              style=\"display:none;\">\n",
              "        \n",
              "  <svg xmlns=\"http://www.w3.org/2000/svg\" height=\"24px\"viewBox=\"0 0 24 24\"\n",
              "       width=\"24px\">\n",
              "    <path d=\"M0 0h24v24H0V0z\" fill=\"none\"/>\n",
              "    <path d=\"M18.56 5.44l.94 2.06.94-2.06 2.06-.94-2.06-.94-.94-2.06-.94 2.06-2.06.94zm-11 1L8.5 8.5l.94-2.06 2.06-.94-2.06-.94L8.5 2.5l-.94 2.06-2.06.94zm10 10l.94 2.06.94-2.06 2.06-.94-2.06-.94-.94-2.06-.94 2.06-2.06.94z\"/><path d=\"M17.41 7.96l-1.37-1.37c-.4-.4-.92-.59-1.43-.59-.52 0-1.04.2-1.43.59L10.3 9.45l-7.72 7.72c-.78.78-.78 2.05 0 2.83L4 21.41c.39.39.9.59 1.41.59.51 0 1.02-.2 1.41-.59l7.78-7.78 2.81-2.81c.8-.78.8-2.07 0-2.86zM5.41 20L4 18.59l7.72-7.72 1.47 1.35L5.41 20z\"/>\n",
              "  </svg>\n",
              "      </button>\n",
              "      \n",
              "  <style>\n",
              "    .colab-df-container {\n",
              "      display:flex;\n",
              "      flex-wrap:wrap;\n",
              "      gap: 12px;\n",
              "    }\n",
              "\n",
              "    .colab-df-convert {\n",
              "      background-color: #E8F0FE;\n",
              "      border: none;\n",
              "      border-radius: 50%;\n",
              "      cursor: pointer;\n",
              "      display: none;\n",
              "      fill: #1967D2;\n",
              "      height: 32px;\n",
              "      padding: 0 0 0 0;\n",
              "      width: 32px;\n",
              "    }\n",
              "\n",
              "    .colab-df-convert:hover {\n",
              "      background-color: #E2EBFA;\n",
              "      box-shadow: 0px 1px 2px rgba(60, 64, 67, 0.3), 0px 1px 3px 1px rgba(60, 64, 67, 0.15);\n",
              "      fill: #174EA6;\n",
              "    }\n",
              "\n",
              "    [theme=dark] .colab-df-convert {\n",
              "      background-color: #3B4455;\n",
              "      fill: #D2E3FC;\n",
              "    }\n",
              "\n",
              "    [theme=dark] .colab-df-convert:hover {\n",
              "      background-color: #434B5C;\n",
              "      box-shadow: 0px 1px 3px 1px rgba(0, 0, 0, 0.15);\n",
              "      filter: drop-shadow(0px 1px 2px rgba(0, 0, 0, 0.3));\n",
              "      fill: #FFFFFF;\n",
              "    }\n",
              "  </style>\n",
              "\n",
              "      <script>\n",
              "        const buttonEl =\n",
              "          document.querySelector('#df-886945f2-ed62-41ff-a3ee-06fed45ffdab button.colab-df-convert');\n",
              "        buttonEl.style.display =\n",
              "          google.colab.kernel.accessAllowed ? 'block' : 'none';\n",
              "\n",
              "        async function convertToInteractive(key) {\n",
              "          const element = document.querySelector('#df-886945f2-ed62-41ff-a3ee-06fed45ffdab');\n",
              "          const dataTable =\n",
              "            await google.colab.kernel.invokeFunction('convertToInteractive',\n",
              "                                                     [key], {});\n",
              "          if (!dataTable) return;\n",
              "\n",
              "          const docLinkHtml = 'Like what you see? Visit the ' +\n",
              "            '<a target=\"_blank\" href=https://colab.research.google.com/notebooks/data_table.ipynb>data table notebook</a>'\n",
              "            + ' to learn more about interactive tables.';\n",
              "          element.innerHTML = '';\n",
              "          dataTable['output_type'] = 'display_data';\n",
              "          await google.colab.output.renderOutput(dataTable, element);\n",
              "          const docLink = document.createElement('div');\n",
              "          docLink.innerHTML = docLinkHtml;\n",
              "          element.appendChild(docLink);\n",
              "        }\n",
              "      </script>\n",
              "    </div>\n",
              "  </div>\n",
              "  "
            ]
          },
          "metadata": {},
          "execution_count": 65
        }
      ]
    },
    {
      "cell_type": "code",
      "source": [
        "df_predict['labels'] = df_predict['labels'].map({0: 'bad', 1: 'good', 2: 'neutral'})\n",
        "df_predict.head()"
      ],
      "metadata": {
        "colab": {
          "base_uri": "https://localhost:8080/",
          "height": 206
        },
        "id": "DVGPQkOn8PJm",
        "outputId": "90f56f60-7083-41d1-e562-ef6895747ff0"
      },
      "execution_count": null,
      "outputs": [
        {
          "output_type": "execute_result",
          "data": {
            "text/plain": [
              "                                              tweets   labels  topics  \\\n",
              "0                  ChatGPT is another woke machine.       bad       0   \n",
              "1  of the Atlantic, or only near the Atla #推特账号 m...      bad       0   \n",
              "2   This thread is saved to your Notion database....  neutral       0   \n",
              "3                         Prompt AI – ChatGPT #0018       bad       0   \n",
              "4  Just had some interesting conversations with G...     good       0   \n",
              "\n",
              "                                           top_words  \n",
              "0  ['chat', 'gpt4', 'google', 'like', 'use', 'cha...  \n",
              "1  ['chat', 'gpt4', 'google', 'like', 'use', 'cha...  \n",
              "2  ['chat', 'gpt4', 'google', 'like', 'use', 'cha...  \n",
              "3  ['chat', 'gpt4', 'google', 'like', 'use', 'cha...  \n",
              "4  ['chat', 'gpt4', 'google', 'like', 'use', 'cha...  "
            ],
            "text/html": [
              "\n",
              "  <div id=\"df-3031485d-87c7-4abc-b850-1f8aca08d86e\">\n",
              "    <div class=\"colab-df-container\">\n",
              "      <div>\n",
              "<style scoped>\n",
              "    .dataframe tbody tr th:only-of-type {\n",
              "        vertical-align: middle;\n",
              "    }\n",
              "\n",
              "    .dataframe tbody tr th {\n",
              "        vertical-align: top;\n",
              "    }\n",
              "\n",
              "    .dataframe thead th {\n",
              "        text-align: right;\n",
              "    }\n",
              "</style>\n",
              "<table border=\"1\" class=\"dataframe\">\n",
              "  <thead>\n",
              "    <tr style=\"text-align: right;\">\n",
              "      <th></th>\n",
              "      <th>tweets</th>\n",
              "      <th>labels</th>\n",
              "      <th>topics</th>\n",
              "      <th>top_words</th>\n",
              "    </tr>\n",
              "  </thead>\n",
              "  <tbody>\n",
              "    <tr>\n",
              "      <th>0</th>\n",
              "      <td>ChatGPT is another woke machine.</td>\n",
              "      <td>bad</td>\n",
              "      <td>0</td>\n",
              "      <td>['chat', 'gpt4', 'google', 'like', 'use', 'cha...</td>\n",
              "    </tr>\n",
              "    <tr>\n",
              "      <th>1</th>\n",
              "      <td>of the Atlantic, or only near the Atla #推特账号 m...</td>\n",
              "      <td>bad</td>\n",
              "      <td>0</td>\n",
              "      <td>['chat', 'gpt4', 'google', 'like', 'use', 'cha...</td>\n",
              "    </tr>\n",
              "    <tr>\n",
              "      <th>2</th>\n",
              "      <td>This thread is saved to your Notion database....</td>\n",
              "      <td>neutral</td>\n",
              "      <td>0</td>\n",
              "      <td>['chat', 'gpt4', 'google', 'like', 'use', 'cha...</td>\n",
              "    </tr>\n",
              "    <tr>\n",
              "      <th>3</th>\n",
              "      <td>Prompt AI – ChatGPT #0018</td>\n",
              "      <td>bad</td>\n",
              "      <td>0</td>\n",
              "      <td>['chat', 'gpt4', 'google', 'like', 'use', 'cha...</td>\n",
              "    </tr>\n",
              "    <tr>\n",
              "      <th>4</th>\n",
              "      <td>Just had some interesting conversations with G...</td>\n",
              "      <td>good</td>\n",
              "      <td>0</td>\n",
              "      <td>['chat', 'gpt4', 'google', 'like', 'use', 'cha...</td>\n",
              "    </tr>\n",
              "  </tbody>\n",
              "</table>\n",
              "</div>\n",
              "      <button class=\"colab-df-convert\" onclick=\"convertToInteractive('df-3031485d-87c7-4abc-b850-1f8aca08d86e')\"\n",
              "              title=\"Convert this dataframe to an interactive table.\"\n",
              "              style=\"display:none;\">\n",
              "        \n",
              "  <svg xmlns=\"http://www.w3.org/2000/svg\" height=\"24px\"viewBox=\"0 0 24 24\"\n",
              "       width=\"24px\">\n",
              "    <path d=\"M0 0h24v24H0V0z\" fill=\"none\"/>\n",
              "    <path d=\"M18.56 5.44l.94 2.06.94-2.06 2.06-.94-2.06-.94-.94-2.06-.94 2.06-2.06.94zm-11 1L8.5 8.5l.94-2.06 2.06-.94-2.06-.94L8.5 2.5l-.94 2.06-2.06.94zm10 10l.94 2.06.94-2.06 2.06-.94-2.06-.94-.94-2.06-.94 2.06-2.06.94z\"/><path d=\"M17.41 7.96l-1.37-1.37c-.4-.4-.92-.59-1.43-.59-.52 0-1.04.2-1.43.59L10.3 9.45l-7.72 7.72c-.78.78-.78 2.05 0 2.83L4 21.41c.39.39.9.59 1.41.59.51 0 1.02-.2 1.41-.59l7.78-7.78 2.81-2.81c.8-.78.8-2.07 0-2.86zM5.41 20L4 18.59l7.72-7.72 1.47 1.35L5.41 20z\"/>\n",
              "  </svg>\n",
              "      </button>\n",
              "      \n",
              "  <style>\n",
              "    .colab-df-container {\n",
              "      display:flex;\n",
              "      flex-wrap:wrap;\n",
              "      gap: 12px;\n",
              "    }\n",
              "\n",
              "    .colab-df-convert {\n",
              "      background-color: #E8F0FE;\n",
              "      border: none;\n",
              "      border-radius: 50%;\n",
              "      cursor: pointer;\n",
              "      display: none;\n",
              "      fill: #1967D2;\n",
              "      height: 32px;\n",
              "      padding: 0 0 0 0;\n",
              "      width: 32px;\n",
              "    }\n",
              "\n",
              "    .colab-df-convert:hover {\n",
              "      background-color: #E2EBFA;\n",
              "      box-shadow: 0px 1px 2px rgba(60, 64, 67, 0.3), 0px 1px 3px 1px rgba(60, 64, 67, 0.15);\n",
              "      fill: #174EA6;\n",
              "    }\n",
              "\n",
              "    [theme=dark] .colab-df-convert {\n",
              "      background-color: #3B4455;\n",
              "      fill: #D2E3FC;\n",
              "    }\n",
              "\n",
              "    [theme=dark] .colab-df-convert:hover {\n",
              "      background-color: #434B5C;\n",
              "      box-shadow: 0px 1px 3px 1px rgba(0, 0, 0, 0.15);\n",
              "      filter: drop-shadow(0px 1px 2px rgba(0, 0, 0, 0.3));\n",
              "      fill: #FFFFFF;\n",
              "    }\n",
              "  </style>\n",
              "\n",
              "      <script>\n",
              "        const buttonEl =\n",
              "          document.querySelector('#df-3031485d-87c7-4abc-b850-1f8aca08d86e button.colab-df-convert');\n",
              "        buttonEl.style.display =\n",
              "          google.colab.kernel.accessAllowed ? 'block' : 'none';\n",
              "\n",
              "        async function convertToInteractive(key) {\n",
              "          const element = document.querySelector('#df-3031485d-87c7-4abc-b850-1f8aca08d86e');\n",
              "          const dataTable =\n",
              "            await google.colab.kernel.invokeFunction('convertToInteractive',\n",
              "                                                     [key], {});\n",
              "          if (!dataTable) return;\n",
              "\n",
              "          const docLinkHtml = 'Like what you see? Visit the ' +\n",
              "            '<a target=\"_blank\" href=https://colab.research.google.com/notebooks/data_table.ipynb>data table notebook</a>'\n",
              "            + ' to learn more about interactive tables.';\n",
              "          element.innerHTML = '';\n",
              "          dataTable['output_type'] = 'display_data';\n",
              "          await google.colab.output.renderOutput(dataTable, element);\n",
              "          const docLink = document.createElement('div');\n",
              "          docLink.innerHTML = docLinkHtml;\n",
              "          element.appendChild(docLink);\n",
              "        }\n",
              "      </script>\n",
              "    </div>\n",
              "  </div>\n",
              "  "
            ]
          },
          "metadata": {},
          "execution_count": 7
        }
      ]
    },
    {
      "cell_type": "code",
      "source": [
        "df_predict = pd.read_csv('/content/drive/MyDrive/TK2/data_maret_final.csv')\n",
        "df_predict.head()"
      ],
      "metadata": {
        "colab": {
          "base_uri": "https://localhost:8080/",
          "height": 206
        },
        "id": "hotlt3wK8QCh",
        "outputId": "32f2c485-8218-40af-99ed-63c5e9c562f3"
      },
      "execution_count": null,
      "outputs": [
        {
          "output_type": "execute_result",
          "data": {
            "text/plain": [
              "                                              tweets   labels  topics  \\\n",
              "0                  ChatGPT is another woke machine.       bad       0   \n",
              "1  of the Atlantic, or only near the Atla #推特账号 m...      bad       0   \n",
              "2   This thread is saved to your Notion database....  neutral       0   \n",
              "3                         Prompt AI – ChatGPT #0018       bad       0   \n",
              "4  Just had some interesting conversations with G...     good       0   \n",
              "\n",
              "                                           top_words  \n",
              "0  ['chat', 'gpt4', 'google', 'like', 'use', 'cha...  \n",
              "1  ['chat', 'gpt4', 'google', 'like', 'use', 'cha...  \n",
              "2  ['chat', 'gpt4', 'google', 'like', 'use', 'cha...  \n",
              "3  ['chat', 'gpt4', 'google', 'like', 'use', 'cha...  \n",
              "4  ['chat', 'gpt4', 'google', 'like', 'use', 'cha...  "
            ],
            "text/html": [
              "\n",
              "  <div id=\"df-d54b5b0a-f8f4-4be1-895b-17a009645e0b\">\n",
              "    <div class=\"colab-df-container\">\n",
              "      <div>\n",
              "<style scoped>\n",
              "    .dataframe tbody tr th:only-of-type {\n",
              "        vertical-align: middle;\n",
              "    }\n",
              "\n",
              "    .dataframe tbody tr th {\n",
              "        vertical-align: top;\n",
              "    }\n",
              "\n",
              "    .dataframe thead th {\n",
              "        text-align: right;\n",
              "    }\n",
              "</style>\n",
              "<table border=\"1\" class=\"dataframe\">\n",
              "  <thead>\n",
              "    <tr style=\"text-align: right;\">\n",
              "      <th></th>\n",
              "      <th>tweets</th>\n",
              "      <th>labels</th>\n",
              "      <th>topics</th>\n",
              "      <th>top_words</th>\n",
              "    </tr>\n",
              "  </thead>\n",
              "  <tbody>\n",
              "    <tr>\n",
              "      <th>0</th>\n",
              "      <td>ChatGPT is another woke machine.</td>\n",
              "      <td>bad</td>\n",
              "      <td>0</td>\n",
              "      <td>['chat', 'gpt4', 'google', 'like', 'use', 'cha...</td>\n",
              "    </tr>\n",
              "    <tr>\n",
              "      <th>1</th>\n",
              "      <td>of the Atlantic, or only near the Atla #推特账号 m...</td>\n",
              "      <td>bad</td>\n",
              "      <td>0</td>\n",
              "      <td>['chat', 'gpt4', 'google', 'like', 'use', 'cha...</td>\n",
              "    </tr>\n",
              "    <tr>\n",
              "      <th>2</th>\n",
              "      <td>This thread is saved to your Notion database....</td>\n",
              "      <td>neutral</td>\n",
              "      <td>0</td>\n",
              "      <td>['chat', 'gpt4', 'google', 'like', 'use', 'cha...</td>\n",
              "    </tr>\n",
              "    <tr>\n",
              "      <th>3</th>\n",
              "      <td>Prompt AI – ChatGPT #0018</td>\n",
              "      <td>bad</td>\n",
              "      <td>0</td>\n",
              "      <td>['chat', 'gpt4', 'google', 'like', 'use', 'cha...</td>\n",
              "    </tr>\n",
              "    <tr>\n",
              "      <th>4</th>\n",
              "      <td>Just had some interesting conversations with G...</td>\n",
              "      <td>good</td>\n",
              "      <td>0</td>\n",
              "      <td>['chat', 'gpt4', 'google', 'like', 'use', 'cha...</td>\n",
              "    </tr>\n",
              "  </tbody>\n",
              "</table>\n",
              "</div>\n",
              "      <button class=\"colab-df-convert\" onclick=\"convertToInteractive('df-d54b5b0a-f8f4-4be1-895b-17a009645e0b')\"\n",
              "              title=\"Convert this dataframe to an interactive table.\"\n",
              "              style=\"display:none;\">\n",
              "        \n",
              "  <svg xmlns=\"http://www.w3.org/2000/svg\" height=\"24px\"viewBox=\"0 0 24 24\"\n",
              "       width=\"24px\">\n",
              "    <path d=\"M0 0h24v24H0V0z\" fill=\"none\"/>\n",
              "    <path d=\"M18.56 5.44l.94 2.06.94-2.06 2.06-.94-2.06-.94-.94-2.06-.94 2.06-2.06.94zm-11 1L8.5 8.5l.94-2.06 2.06-.94-2.06-.94L8.5 2.5l-.94 2.06-2.06.94zm10 10l.94 2.06.94-2.06 2.06-.94-2.06-.94-.94-2.06-.94 2.06-2.06.94z\"/><path d=\"M17.41 7.96l-1.37-1.37c-.4-.4-.92-.59-1.43-.59-.52 0-1.04.2-1.43.59L10.3 9.45l-7.72 7.72c-.78.78-.78 2.05 0 2.83L4 21.41c.39.39.9.59 1.41.59.51 0 1.02-.2 1.41-.59l7.78-7.78 2.81-2.81c.8-.78.8-2.07 0-2.86zM5.41 20L4 18.59l7.72-7.72 1.47 1.35L5.41 20z\"/>\n",
              "  </svg>\n",
              "      </button>\n",
              "      \n",
              "  <style>\n",
              "    .colab-df-container {\n",
              "      display:flex;\n",
              "      flex-wrap:wrap;\n",
              "      gap: 12px;\n",
              "    }\n",
              "\n",
              "    .colab-df-convert {\n",
              "      background-color: #E8F0FE;\n",
              "      border: none;\n",
              "      border-radius: 50%;\n",
              "      cursor: pointer;\n",
              "      display: none;\n",
              "      fill: #1967D2;\n",
              "      height: 32px;\n",
              "      padding: 0 0 0 0;\n",
              "      width: 32px;\n",
              "    }\n",
              "\n",
              "    .colab-df-convert:hover {\n",
              "      background-color: #E2EBFA;\n",
              "      box-shadow: 0px 1px 2px rgba(60, 64, 67, 0.3), 0px 1px 3px 1px rgba(60, 64, 67, 0.15);\n",
              "      fill: #174EA6;\n",
              "    }\n",
              "\n",
              "    [theme=dark] .colab-df-convert {\n",
              "      background-color: #3B4455;\n",
              "      fill: #D2E3FC;\n",
              "    }\n",
              "\n",
              "    [theme=dark] .colab-df-convert:hover {\n",
              "      background-color: #434B5C;\n",
              "      box-shadow: 0px 1px 3px 1px rgba(0, 0, 0, 0.15);\n",
              "      filter: drop-shadow(0px 1px 2px rgba(0, 0, 0, 0.3));\n",
              "      fill: #FFFFFF;\n",
              "    }\n",
              "  </style>\n",
              "\n",
              "      <script>\n",
              "        const buttonEl =\n",
              "          document.querySelector('#df-d54b5b0a-f8f4-4be1-895b-17a009645e0b button.colab-df-convert');\n",
              "        buttonEl.style.display =\n",
              "          google.colab.kernel.accessAllowed ? 'block' : 'none';\n",
              "\n",
              "        async function convertToInteractive(key) {\n",
              "          const element = document.querySelector('#df-d54b5b0a-f8f4-4be1-895b-17a009645e0b');\n",
              "          const dataTable =\n",
              "            await google.colab.kernel.invokeFunction('convertToInteractive',\n",
              "                                                     [key], {});\n",
              "          if (!dataTable) return;\n",
              "\n",
              "          const docLinkHtml = 'Like what you see? Visit the ' +\n",
              "            '<a target=\"_blank\" href=https://colab.research.google.com/notebooks/data_table.ipynb>data table notebook</a>'\n",
              "            + ' to learn more about interactive tables.';\n",
              "          element.innerHTML = '';\n",
              "          dataTable['output_type'] = 'display_data';\n",
              "          await google.colab.output.renderOutput(dataTable, element);\n",
              "          const docLink = document.createElement('div');\n",
              "          docLink.innerHTML = docLinkHtml;\n",
              "          element.appendChild(docLink);\n",
              "        }\n",
              "      </script>\n",
              "    </div>\n",
              "  </div>\n",
              "  "
            ]
          },
          "metadata": {},
          "execution_count": 3
        }
      ]
    },
    {
      "cell_type": "code",
      "source": [
        "df_plot = pd.DataFrame({'topics': df_predict.topics.unique()}).sort_values('topics').reset_index(drop=True)\n",
        "\n",
        "for i in range(df_plot.shape[0]):\n",
        "    sentiment_percent = df_predict.query(f'topics == {i}')['labels'].value_counts(normalize=True)\n",
        "    df_plot.loc[i, sentiment_percent.index] = sentiment_percent.values\n",
        "\n",
        "df_plot\n",
        "\n",
        "df_plot"
      ],
      "metadata": {
        "colab": {
          "base_uri": "https://localhost:8080/",
          "height": 645
        },
        "id": "ch5ge41S8WoE",
        "outputId": "265c7966-e56c-4ec8-9d25-25bafb4b8188"
      },
      "execution_count": null,
      "outputs": [
        {
          "output_type": "execute_result",
          "data": {
            "text/plain": [
              "    topics       bad      good   neutral\n",
              "0        0  0.519146  0.241300  0.239554\n",
              "1        1  0.238681  0.556736  0.204584\n",
              "2        2  0.507914  0.237896  0.254190\n",
              "3        3  0.437517  0.311741  0.250742\n",
              "4        4  0.442510  0.313802  0.243687\n",
              "5        5  0.609657  0.169284  0.221059\n",
              "6        6  0.495828  0.258023  0.246149\n",
              "7        7  0.458657  0.303180  0.238163\n",
              "8        8  0.436598  0.312073  0.251329\n",
              "9        9  0.483298  0.283404  0.233298\n",
              "10      10  0.626653  0.158698  0.214649\n",
              "11      11  0.299421  0.422663  0.277916\n",
              "12      12  0.408910  0.340966  0.250124\n",
              "13      13  0.463128  0.285714  0.251158\n",
              "14      14  0.543160  0.202769  0.254072\n",
              "15      15  0.533333  0.235238  0.231429\n",
              "16      16  0.543678  0.204598  0.251724\n",
              "17      17  0.426300  0.314373  0.259327\n",
              "18      18  0.567130  0.210648  0.222222"
            ],
            "text/html": [
              "\n",
              "  <div id=\"df-0ddac459-f830-4c9b-9d2f-c46bae193c1b\">\n",
              "    <div class=\"colab-df-container\">\n",
              "      <div>\n",
              "<style scoped>\n",
              "    .dataframe tbody tr th:only-of-type {\n",
              "        vertical-align: middle;\n",
              "    }\n",
              "\n",
              "    .dataframe tbody tr th {\n",
              "        vertical-align: top;\n",
              "    }\n",
              "\n",
              "    .dataframe thead th {\n",
              "        text-align: right;\n",
              "    }\n",
              "</style>\n",
              "<table border=\"1\" class=\"dataframe\">\n",
              "  <thead>\n",
              "    <tr style=\"text-align: right;\">\n",
              "      <th></th>\n",
              "      <th>topics</th>\n",
              "      <th>bad</th>\n",
              "      <th>good</th>\n",
              "      <th>neutral</th>\n",
              "    </tr>\n",
              "  </thead>\n",
              "  <tbody>\n",
              "    <tr>\n",
              "      <th>0</th>\n",
              "      <td>0</td>\n",
              "      <td>0.519146</td>\n",
              "      <td>0.241300</td>\n",
              "      <td>0.239554</td>\n",
              "    </tr>\n",
              "    <tr>\n",
              "      <th>1</th>\n",
              "      <td>1</td>\n",
              "      <td>0.238681</td>\n",
              "      <td>0.556736</td>\n",
              "      <td>0.204584</td>\n",
              "    </tr>\n",
              "    <tr>\n",
              "      <th>2</th>\n",
              "      <td>2</td>\n",
              "      <td>0.507914</td>\n",
              "      <td>0.237896</td>\n",
              "      <td>0.254190</td>\n",
              "    </tr>\n",
              "    <tr>\n",
              "      <th>3</th>\n",
              "      <td>3</td>\n",
              "      <td>0.437517</td>\n",
              "      <td>0.311741</td>\n",
              "      <td>0.250742</td>\n",
              "    </tr>\n",
              "    <tr>\n",
              "      <th>4</th>\n",
              "      <td>4</td>\n",
              "      <td>0.442510</td>\n",
              "      <td>0.313802</td>\n",
              "      <td>0.243687</td>\n",
              "    </tr>\n",
              "    <tr>\n",
              "      <th>5</th>\n",
              "      <td>5</td>\n",
              "      <td>0.609657</td>\n",
              "      <td>0.169284</td>\n",
              "      <td>0.221059</td>\n",
              "    </tr>\n",
              "    <tr>\n",
              "      <th>6</th>\n",
              "      <td>6</td>\n",
              "      <td>0.495828</td>\n",
              "      <td>0.258023</td>\n",
              "      <td>0.246149</td>\n",
              "    </tr>\n",
              "    <tr>\n",
              "      <th>7</th>\n",
              "      <td>7</td>\n",
              "      <td>0.458657</td>\n",
              "      <td>0.303180</td>\n",
              "      <td>0.238163</td>\n",
              "    </tr>\n",
              "    <tr>\n",
              "      <th>8</th>\n",
              "      <td>8</td>\n",
              "      <td>0.436598</td>\n",
              "      <td>0.312073</td>\n",
              "      <td>0.251329</td>\n",
              "    </tr>\n",
              "    <tr>\n",
              "      <th>9</th>\n",
              "      <td>9</td>\n",
              "      <td>0.483298</td>\n",
              "      <td>0.283404</td>\n",
              "      <td>0.233298</td>\n",
              "    </tr>\n",
              "    <tr>\n",
              "      <th>10</th>\n",
              "      <td>10</td>\n",
              "      <td>0.626653</td>\n",
              "      <td>0.158698</td>\n",
              "      <td>0.214649</td>\n",
              "    </tr>\n",
              "    <tr>\n",
              "      <th>11</th>\n",
              "      <td>11</td>\n",
              "      <td>0.299421</td>\n",
              "      <td>0.422663</td>\n",
              "      <td>0.277916</td>\n",
              "    </tr>\n",
              "    <tr>\n",
              "      <th>12</th>\n",
              "      <td>12</td>\n",
              "      <td>0.408910</td>\n",
              "      <td>0.340966</td>\n",
              "      <td>0.250124</td>\n",
              "    </tr>\n",
              "    <tr>\n",
              "      <th>13</th>\n",
              "      <td>13</td>\n",
              "      <td>0.463128</td>\n",
              "      <td>0.285714</td>\n",
              "      <td>0.251158</td>\n",
              "    </tr>\n",
              "    <tr>\n",
              "      <th>14</th>\n",
              "      <td>14</td>\n",
              "      <td>0.543160</td>\n",
              "      <td>0.202769</td>\n",
              "      <td>0.254072</td>\n",
              "    </tr>\n",
              "    <tr>\n",
              "      <th>15</th>\n",
              "      <td>15</td>\n",
              "      <td>0.533333</td>\n",
              "      <td>0.235238</td>\n",
              "      <td>0.231429</td>\n",
              "    </tr>\n",
              "    <tr>\n",
              "      <th>16</th>\n",
              "      <td>16</td>\n",
              "      <td>0.543678</td>\n",
              "      <td>0.204598</td>\n",
              "      <td>0.251724</td>\n",
              "    </tr>\n",
              "    <tr>\n",
              "      <th>17</th>\n",
              "      <td>17</td>\n",
              "      <td>0.426300</td>\n",
              "      <td>0.314373</td>\n",
              "      <td>0.259327</td>\n",
              "    </tr>\n",
              "    <tr>\n",
              "      <th>18</th>\n",
              "      <td>18</td>\n",
              "      <td>0.567130</td>\n",
              "      <td>0.210648</td>\n",
              "      <td>0.222222</td>\n",
              "    </tr>\n",
              "  </tbody>\n",
              "</table>\n",
              "</div>\n",
              "      <button class=\"colab-df-convert\" onclick=\"convertToInteractive('df-0ddac459-f830-4c9b-9d2f-c46bae193c1b')\"\n",
              "              title=\"Convert this dataframe to an interactive table.\"\n",
              "              style=\"display:none;\">\n",
              "        \n",
              "  <svg xmlns=\"http://www.w3.org/2000/svg\" height=\"24px\"viewBox=\"0 0 24 24\"\n",
              "       width=\"24px\">\n",
              "    <path d=\"M0 0h24v24H0V0z\" fill=\"none\"/>\n",
              "    <path d=\"M18.56 5.44l.94 2.06.94-2.06 2.06-.94-2.06-.94-.94-2.06-.94 2.06-2.06.94zm-11 1L8.5 8.5l.94-2.06 2.06-.94-2.06-.94L8.5 2.5l-.94 2.06-2.06.94zm10 10l.94 2.06.94-2.06 2.06-.94-2.06-.94-.94-2.06-.94 2.06-2.06.94z\"/><path d=\"M17.41 7.96l-1.37-1.37c-.4-.4-.92-.59-1.43-.59-.52 0-1.04.2-1.43.59L10.3 9.45l-7.72 7.72c-.78.78-.78 2.05 0 2.83L4 21.41c.39.39.9.59 1.41.59.51 0 1.02-.2 1.41-.59l7.78-7.78 2.81-2.81c.8-.78.8-2.07 0-2.86zM5.41 20L4 18.59l7.72-7.72 1.47 1.35L5.41 20z\"/>\n",
              "  </svg>\n",
              "      </button>\n",
              "      \n",
              "  <style>\n",
              "    .colab-df-container {\n",
              "      display:flex;\n",
              "      flex-wrap:wrap;\n",
              "      gap: 12px;\n",
              "    }\n",
              "\n",
              "    .colab-df-convert {\n",
              "      background-color: #E8F0FE;\n",
              "      border: none;\n",
              "      border-radius: 50%;\n",
              "      cursor: pointer;\n",
              "      display: none;\n",
              "      fill: #1967D2;\n",
              "      height: 32px;\n",
              "      padding: 0 0 0 0;\n",
              "      width: 32px;\n",
              "    }\n",
              "\n",
              "    .colab-df-convert:hover {\n",
              "      background-color: #E2EBFA;\n",
              "      box-shadow: 0px 1px 2px rgba(60, 64, 67, 0.3), 0px 1px 3px 1px rgba(60, 64, 67, 0.15);\n",
              "      fill: #174EA6;\n",
              "    }\n",
              "\n",
              "    [theme=dark] .colab-df-convert {\n",
              "      background-color: #3B4455;\n",
              "      fill: #D2E3FC;\n",
              "    }\n",
              "\n",
              "    [theme=dark] .colab-df-convert:hover {\n",
              "      background-color: #434B5C;\n",
              "      box-shadow: 0px 1px 3px 1px rgba(0, 0, 0, 0.15);\n",
              "      filter: drop-shadow(0px 1px 2px rgba(0, 0, 0, 0.3));\n",
              "      fill: #FFFFFF;\n",
              "    }\n",
              "  </style>\n",
              "\n",
              "      <script>\n",
              "        const buttonEl =\n",
              "          document.querySelector('#df-0ddac459-f830-4c9b-9d2f-c46bae193c1b button.colab-df-convert');\n",
              "        buttonEl.style.display =\n",
              "          google.colab.kernel.accessAllowed ? 'block' : 'none';\n",
              "\n",
              "        async function convertToInteractive(key) {\n",
              "          const element = document.querySelector('#df-0ddac459-f830-4c9b-9d2f-c46bae193c1b');\n",
              "          const dataTable =\n",
              "            await google.colab.kernel.invokeFunction('convertToInteractive',\n",
              "                                                     [key], {});\n",
              "          if (!dataTable) return;\n",
              "\n",
              "          const docLinkHtml = 'Like what you see? Visit the ' +\n",
              "            '<a target=\"_blank\" href=https://colab.research.google.com/notebooks/data_table.ipynb>data table notebook</a>'\n",
              "            + ' to learn more about interactive tables.';\n",
              "          element.innerHTML = '';\n",
              "          dataTable['output_type'] = 'display_data';\n",
              "          await google.colab.output.renderOutput(dataTable, element);\n",
              "          const docLink = document.createElement('div');\n",
              "          docLink.innerHTML = docLinkHtml;\n",
              "          element.appendChild(docLink);\n",
              "        }\n",
              "      </script>\n",
              "    </div>\n",
              "  </div>\n",
              "  "
            ]
          },
          "metadata": {},
          "execution_count": 31
        }
      ]
    },
    {
      "cell_type": "code",
      "source": [
        "df_plot.to_excel('plot.xlsx', index=False)"
      ],
      "metadata": {
        "id": "Bf2XYt2rGePx"
      },
      "execution_count": null,
      "outputs": []
    },
    {
      "cell_type": "code",
      "source": [
        "df_predict.to_csv('/content/drive/MyDrive/TK2/data_maret_final.csv', index=False)"
      ],
      "metadata": {
        "id": "CstuOXv48iUB"
      },
      "execution_count": null,
      "outputs": []
    },
    {
      "cell_type": "code",
      "source": [
        "### Menentukan Nilai Coherence dari Topik\n",
        "top_words = get_top_words(best_model.get_topics())\n",
        "print(calculate_coherence(w2v_model, top_words))"
      ],
      "metadata": {
        "colab": {
          "base_uri": "https://localhost:8080/"
        },
        "outputId": "937d7506-6073-4565-e043-4df9dd32f303",
        "id": "Q2pljQea82E6"
      },
      "execution_count": null,
      "outputs": [
        {
          "output_type": "stream",
          "name": "stdout",
          "text": [
            "0.1935972570500649\n"
          ]
        }
      ]
    }
  ]
}